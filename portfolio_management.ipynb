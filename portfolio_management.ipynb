{
 "cells": [
  {
   "cell_type": "code",
   "execution_count": 2,
   "metadata": {
    "collapsed": true
   },
   "outputs": [],
   "source": [
    "# import the libraries\n",
    "import numpy as np\n",
    "import pandas as pd\n",
    "import yfinance as yf\n",
    "import matplotlib as mpl\n",
    "import matplotlib.pyplot as plt\n",
    "import seaborn as sns\n",
    "import ta\n",
    "from tqdm import tqdm\n",
    "from scipy.optimize import minimize\n",
    "from hurst import compute_Hc\n",
    "import warnings\n",
    "warnings.filterwarnings(\"ignore\")"
   ]
  },
  {
   "cell_type": "code",
   "execution_count": 3,
   "outputs": [],
   "source": [
    "def rsi(value, neutral, window):\n",
    "\t\"\"\"\n",
    "\tInput:\n",
    "\t:param value: (type dataframe pandas): Entry values of the stock\n",
    "\t:param neutral:(float) Value of the neutrality, i.e No Action Zone\n",
    "\t:param window: (float) rolling period for RSI calculation\n",
    "\n",
    "\tOutput: The function gives the returns of RSI strategy\n",
    "\t:return:\n",
    "\t\"\"\"\n",
    "\t# Print error is no Adj Close column is not present\n",
    "\tif \"Adj Close\" not in value.columns:\n",
    "\t\tValueError(\"Error: No Adj Close column is present\")\n",
    "\n",
    "\tvalue['rsi'] = ta.momentum.RSIIndicator(value['Adj Close'], window=window).rsi()\n",
    "\n",
    "\t\"\"\"Long Buy signal\"\"\"\n",
    "\toverbuy = 70\n",
    "\tneutral_buy = 50 + neutral\n",
    "\n",
    "\t# Put nan values for te signal long columns\n",
    "\tvalue['signal_long'] = np.nan\n",
    "\tvalue['yesterday_rsi'] = value['rsi'].shift(1)\n",
    "\t# We need to define open long signal (Rsi yes>55 and RSI today>55)\n",
    "\tvalue.loc[(value['rsi'] > neutral_buy) & (value['yesterday_rsi'] < neutral_buy), 'signal_long'] = 1\n",
    "\t# open long signal for false positive (Rsi yes>55 and RSI today<55)\n",
    "\tvalue.loc[(value['rsi'] < neutral_buy) & (value['yesterday_rsi'] > neutral_buy), 'signal_long'] = 0\n",
    "\t# open long signal for overbuy (Rsi yes>70 and RSI today<70)\n",
    "\tvalue.loc[(value['rsi'] < overbuy) & (value['yesterday_rsi'] > overbuy), 'signal_long'] = 0\n",
    "\n",
    "\t\"\"\"Short Sell signal\"\"\"\n",
    "\toversell = 30\n",
    "\tneutral_sell = 50 - neutral\n",
    "\n",
    "\t# Put the values for the short signal columns\n",
    "\tvalue['signal_short'] = np.nan\n",
    "\tvalue['yesterday_rsi'] = value[\"rsi\"].shift(1)\n",
    "\t# We define the Open short signal (RSI yes>45 and RSI today<45)\n",
    "\tvalue.loc[(value['rsi'] < neutral_sell) & (value['yesterday_rsi'] > neutral_sell), 'signal_short'] = -1\n",
    "\n",
    "\t# We define the Close short signal(Rsi yes<45 and RSI today>45) False signal\n",
    "\tvalue.loc[(value['rsi'] > neutral_sell) & (value['yesterday_rsi'] < neutral_sell), 'signal_short'] = 0\n",
    "\n",
    "\t# We define the Close short signal (RSI yes<30 and RSI today>30) Oversell\n",
    "\tvalue.loc[(value['rsi'] > oversell) & (value['yesterday_rsi'] < oversell), 'signal_short'] = 0\n",
    "\n",
    "\t\"\"\"Compute the returns\"\"\"\n",
    "\t# Compute the percentage of the variation of the stock\n",
    "\tvalue['pct'] = value['Adj Close'].pct_change(1)\n",
    "\n",
    "\t# Calculate the position\n",
    "\tvalue['Position'] = (value['signal_short'].fillna(method='ffill') + value['signal_long'].fillna(method='ffill'))\n",
    "\n",
    "\t# Compute the returns\n",
    "\tvalue['return'] = value['pct'] * (value['Position'].shift(1))\n",
    "\n",
    "\treturn value['return']\n"
   ],
   "metadata": {
    "collapsed": false,
    "pycharm": {
     "name": "#%%\n"
    }
   }
  },
  {
   "cell_type": "code",
   "execution_count": 4,
   "outputs": [],
   "source": [
    "def beta_function(series):\n",
    "\tsp500 = yf.download('^GSPC')[['Adj Close']].pct_change(1)\n",
    "\tsp500.columns = ['SP500']\n",
    "\n",
    "\t# We concatenate the two dataframe\n",
    "\tvalue = pd.concat((series, sp500), axis=1)\n",
    "\n",
    "\t# We compute the beta\n",
    "\tbeta = np.cov(value[[series.name, \"SP500\"]].dropna().values,rowvar=False)[0][1] / np.var(value[\"SP500\"].dropna().values)\n",
    "\treturn beta\n"
   ],
   "metadata": {
    "collapsed": false,
    "pycharm": {
     "name": "#%%\n"
    }
   }
  },
  {
   "cell_type": "code",
   "execution_count": 5,
   "outputs": [],
   "source": [
    "def drawdown_function(series):\n",
    "\tcumulative_sum = series.dropna().cumsum() + 1  # multiplication coefficient\n",
    "\t# compute the max of the cumulative_sum\n",
    "\t# (1,3,1,1,7,1,2,) -> (1,3,3,3,7,7,7)\n",
    "\trunning_max = np.maximum.accumulate(cumulative_sum)\n",
    "\tdrawdowned = cumulative_sum / running_max - 1\n",
    "\treturn drawdowned\n"
   ],
   "metadata": {
    "collapsed": false,
    "pycharm": {
     "name": "#%%\n"
    }
   }
  },
  {
   "cell_type": "code",
   "execution_count": 42,
   "outputs": [],
   "source": [
    "def BackTest(serie):\n",
    "\n",
    "  # Import the benchmarcl\n",
    "  sp500 = yf.download(\"^GSPC\")[\"Adj Close\"].pct_change(1)\n",
    "  sp500.columns = [\"SP500\"]\n",
    "\n",
    "  val = pd.concat((serie, sp500), axis=1).dropna()\n",
    "\n",
    "  # Compute the drawdown\n",
    "  drawdown = drawdown_function(serie)\n",
    "  max_drawdown = -np.min(drawdown)\n",
    "\n",
    "  # Put a subplots\n",
    "  fig, (cum, dra) = plt.subplots(1,2, figsize=(15,6))\n",
    "\n",
    "  # Put a Suptitle\n",
    "  fig.suptitle(\"Backtesting\", size=20)\n",
    "\n",
    "  # Put the cumsum\n",
    "  cum.plot(serie.cumsum(), color=\"#39B3C7\")\n",
    "  cum.plot(val[\"Adj Close\"].cumsum(), color=\"#B85A0F\")\n",
    "  cum.legend([\"Portfolio\", \"SP500\"])\n",
    "  # Set individual title\n",
    "  cum.set_title(\"Cumulative Return\", size=13)\n",
    "\n",
    "  # Put the drawdown\n",
    "  dra.fill_between(drawdown.index,0,drawdown, color=\"#C73954\", alpha=0.65)\n",
    "\n",
    "  # Set individual title\n",
    "  dra.set_title(\"Drawdown\", size=13)\n",
    "\n",
    "  # Plot the graph\n",
    "  plt.show()\n",
    "\n",
    "  # Compute the sortino\n",
    "  sortino = np.sqrt(252)*serie.mean()/serie.loc[serie<0].std()\n",
    "\n",
    "  # Compute the beta\n",
    "  beta = np.cov(val,rowvar=False)[0][1] /np.var(val[\"Adj Close\"].dropna())\n",
    "\n",
    "  # Compute the alpha\n",
    "  alpha = 252*serie.mean() - 252*beta*serie.mean()\n",
    "\n",
    "  # Print the statistics\n",
    "  print(f\"Sortino: {np.round(sortino,3)}\")\n",
    "  print(f\"Beta: {np.round(beta,3)}\")\n",
    "  print(f\"Alpha: {np.round(alpha,3)}\")\n",
    "  print(f\"MaxDrawdown: {np.round(max_drawdown*100,3)} %\")\n"
   ],
   "metadata": {
    "collapsed": false,
    "pycharm": {
     "name": "#%%\n"
    }
   }
  },
  {
   "cell_type": "code",
   "execution_count": 7,
   "outputs": [],
   "source": [
    "def optimization(data):\n",
    "\t# Statistical approach for Parameter\n",
    "\t# We list for the possible values of neutral and window\n",
    "\tneutral_values = [i*2 for i in range(10)]\n",
    "\twindow_values = [i*2 for i in range(1,11)]\n",
    "\n",
    "\t# Set some dataset\n",
    "\tstart_train,end_train = \"2017-01-01\",'2019-01-01'\n",
    "\tstart_test,end_test = '2019-01-01','2020-01-01'\n",
    "\tstart_valid,end_valid = '2020-01-01','2021-01-01'\n",
    "\n",
    "\t# Initialize the list\n",
    "\tresult = []\n",
    "\n",
    "\tfor i in range(len(neutral_values)):\n",
    "\t\tfor j in range(len(window_values)):\n",
    "\t\t\t# Compute the return\n",
    "\t\t\treturn_train = rsi(data.loc[start_train:end_train],neutral_values[i],window_values[j])\n",
    "\t\t\treturn_test = rsi(data.loc[start_test:end_test],neutral_values[i],window_values[j])\n",
    "\n",
    "\t\t\t# Compute the sortino\n",
    "\t\t\tsortino_train = np.sqrt(252) * return_train.mean() / (return_train[return_train<0].std() + 0.00001)\n",
    "\t\t\tsortino_test = np.sqrt(252) * return_test.mean() / (return_test[return_test<0].std() + 0.00001)\n",
    "\n",
    "\t\t\tvalues = [neutral_values[i],window_values[j],sortino_train,sortino_test]\n",
    "\t\t\tresult.append(values)\n",
    "\n",
    "\tdataframe = pd.DataFrame(result,columns=[\"Neutral\",\"Window\",\"Sortino_train\",\"Sortino_test\"])\n",
    "\tordered_data = dataframe.sort_values(by=[\"Sortino_train\"],ascending=False)\n",
    "\tfor i in range(len(dataframe)):\n",
    "\t\t# Take the best\n",
    "\t\tbest = ordered_data.iloc[0+i:1+i,:]\n",
    "\n",
    "\t\t# Extract the sortino\n",
    "\t\tsortino_train = best[\"Sortino_train\"].values[0]\n",
    "\t\tsortino_test = best[\"Sortino_test\"].values[0]\n",
    "\n",
    "\t\t# Take best neutral and window\n",
    "\t\tbest_neutral = best[\"Neutral\"].values[0]\n",
    "\t\tbest_window = best[\"Window\"].values[0]\n",
    "\n",
    "\t\t# If the best is found, we stop the loop\n",
    "\t\tif sortino_test > 0.5 and sortino_train > 0.5:\n",
    "\t\t\tbreak\n",
    "\t\telse:\n",
    "\t\t\tbest_neutral = 0\n",
    "\t\t\tbest_window = 0\n",
    "\t\t\tsortino_train = 0\n",
    "\t\t\tsortino_test = 0\n",
    "\treturn [best_neutral,best_window,sortino_train,sortino_test]"
   ],
   "metadata": {
    "collapsed": false,
    "pycharm": {
     "name": "#%%\n"
    }
   }
  },
  {
   "cell_type": "code",
   "execution_count": 8,
   "outputs": [
    {
     "name": "stderr",
     "output_type": "stream",
     "text": [
      "  0%|          | 0/152 [00:00<?, ?it/s]"
     ]
    },
    {
     "name": "stdout",
     "output_type": "stream",
     "text": [
      "[*********************100%***********************]  1 of 1 completed\n"
     ]
    },
    {
     "name": "stderr",
     "output_type": "stream",
     "text": [
      "  1%|          | 1/152 [00:21<54:54, 21.82s/it]"
     ]
    },
    {
     "name": "stdout",
     "output_type": "stream",
     "text": [
      "[*********************100%***********************]  1 of 1 completed\n"
     ]
    },
    {
     "name": "stderr",
     "output_type": "stream",
     "text": [
      "  1%|▏         | 2/152 [00:27<31:28, 12.59s/it]"
     ]
    },
    {
     "name": "stdout",
     "output_type": "stream",
     "text": [
      "[*********************100%***********************]  1 of 1 completed\n"
     ]
    },
    {
     "name": "stderr",
     "output_type": "stream",
     "text": [
      "  2%|▏         | 3/152 [00:53<45:35, 18.36s/it]"
     ]
    },
    {
     "name": "stdout",
     "output_type": "stream",
     "text": [
      "[*********************100%***********************]  1 of 1 completed\n"
     ]
    },
    {
     "name": "stderr",
     "output_type": "stream",
     "text": [
      "  3%|▎         | 4/152 [01:01<35:48, 14.52s/it]"
     ]
    },
    {
     "name": "stdout",
     "output_type": "stream",
     "text": [
      "[*********************100%***********************]  1 of 1 completed\n"
     ]
    },
    {
     "name": "stderr",
     "output_type": "stream",
     "text": [
      "  3%|▎         | 5/152 [01:07<27:55, 11.40s/it]"
     ]
    },
    {
     "name": "stdout",
     "output_type": "stream",
     "text": [
      "[*********************100%***********************]  1 of 1 completed\n"
     ]
    },
    {
     "name": "stderr",
     "output_type": "stream",
     "text": [
      "  4%|▍         | 6/152 [01:24<32:11, 13.23s/it]"
     ]
    },
    {
     "name": "stdout",
     "output_type": "stream",
     "text": [
      "[*********************100%***********************]  1 of 1 completed\n"
     ]
    },
    {
     "name": "stderr",
     "output_type": "stream",
     "text": [
      "  5%|▍         | 7/152 [01:30<26:25, 10.94s/it]"
     ]
    },
    {
     "name": "stdout",
     "output_type": "stream",
     "text": [
      "[*********************100%***********************]  1 of 1 completed\n"
     ]
    },
    {
     "name": "stderr",
     "output_type": "stream",
     "text": [
      "  5%|▌         | 8/152 [01:51<33:47, 14.08s/it]"
     ]
    },
    {
     "name": "stdout",
     "output_type": "stream",
     "text": [
      "[*********************100%***********************]  1 of 1 completed\n"
     ]
    },
    {
     "name": "stderr",
     "output_type": "stream",
     "text": [
      "  6%|▌         | 9/152 [01:57<27:45, 11.65s/it]"
     ]
    },
    {
     "name": "stdout",
     "output_type": "stream",
     "text": [
      "[*********************100%***********************]  1 of 1 completed\n"
     ]
    },
    {
     "name": "stderr",
     "output_type": "stream",
     "text": [
      "  7%|▋         | 10/152 [02:04<23:38,  9.99s/it]"
     ]
    },
    {
     "name": "stdout",
     "output_type": "stream",
     "text": [
      "[*********************100%***********************]  1 of 1 completed\n"
     ]
    },
    {
     "name": "stderr",
     "output_type": "stream",
     "text": [
      "  7%|▋         | 11/152 [02:14<23:52, 10.16s/it]"
     ]
    },
    {
     "name": "stdout",
     "output_type": "stream",
     "text": [
      "[*********************100%***********************]  1 of 1 completed\n"
     ]
    },
    {
     "name": "stderr",
     "output_type": "stream",
     "text": [
      "  8%|▊         | 12/152 [02:22<21:47,  9.34s/it]"
     ]
    },
    {
     "name": "stdout",
     "output_type": "stream",
     "text": [
      "[*********************100%***********************]  1 of 1 completed\n"
     ]
    },
    {
     "name": "stderr",
     "output_type": "stream",
     "text": [
      "  9%|▊         | 13/152 [02:29<20:03,  8.66s/it]"
     ]
    },
    {
     "name": "stdout",
     "output_type": "stream",
     "text": [
      "[*********************100%***********************]  1 of 1 completed\n"
     ]
    },
    {
     "name": "stderr",
     "output_type": "stream",
     "text": [
      "  9%|▉         | 14/152 [02:35<18:04,  7.86s/it]"
     ]
    },
    {
     "name": "stdout",
     "output_type": "stream",
     "text": [
      "[*********************100%***********************]  1 of 1 completed\n"
     ]
    },
    {
     "name": "stderr",
     "output_type": "stream",
     "text": [
      " 10%|▉         | 15/152 [02:45<19:33,  8.56s/it]"
     ]
    },
    {
     "name": "stdout",
     "output_type": "stream",
     "text": [
      "[*********************100%***********************]  1 of 1 completed\n"
     ]
    },
    {
     "name": "stderr",
     "output_type": "stream",
     "text": [
      " 11%|█         | 16/152 [02:52<18:11,  8.02s/it]"
     ]
    },
    {
     "name": "stdout",
     "output_type": "stream",
     "text": [
      "[*********************100%***********************]  1 of 1 completed\n"
     ]
    },
    {
     "name": "stderr",
     "output_type": "stream",
     "text": [
      " 11%|█         | 17/152 [03:01<18:39,  8.29s/it]"
     ]
    },
    {
     "name": "stdout",
     "output_type": "stream",
     "text": [
      "[*********************100%***********************]  1 of 1 completed\n"
     ]
    },
    {
     "name": "stderr",
     "output_type": "stream",
     "text": [
      " 12%|█▏        | 18/152 [03:11<19:40,  8.81s/it]"
     ]
    },
    {
     "name": "stdout",
     "output_type": "stream",
     "text": [
      "[*********************100%***********************]  1 of 1 completed\n"
     ]
    },
    {
     "name": "stderr",
     "output_type": "stream",
     "text": [
      " 12%|█▎        | 19/152 [03:17<18:01,  8.13s/it]"
     ]
    },
    {
     "name": "stdout",
     "output_type": "stream",
     "text": [
      "[*********************100%***********************]  1 of 1 completed\n"
     ]
    },
    {
     "name": "stderr",
     "output_type": "stream",
     "text": [
      " 13%|█▎        | 20/152 [03:23<16:28,  7.49s/it]"
     ]
    },
    {
     "name": "stdout",
     "output_type": "stream",
     "text": [
      "[*********************100%***********************]  1 of 1 completed\n"
     ]
    },
    {
     "name": "stderr",
     "output_type": "stream",
     "text": [
      " 14%|█▍        | 21/152 [03:41<23:16, 10.66s/it]"
     ]
    },
    {
     "name": "stdout",
     "output_type": "stream",
     "text": [
      "[*********************100%***********************]  1 of 1 completed\n"
     ]
    },
    {
     "name": "stderr",
     "output_type": "stream",
     "text": [
      " 14%|█▍        | 22/152 [03:49<21:06,  9.74s/it]"
     ]
    },
    {
     "name": "stdout",
     "output_type": "stream",
     "text": [
      "[*********************100%***********************]  1 of 1 completed\n"
     ]
    },
    {
     "name": "stderr",
     "output_type": "stream",
     "text": [
      " 15%|█▌        | 23/152 [04:00<22:00, 10.24s/it]"
     ]
    },
    {
     "name": "stdout",
     "output_type": "stream",
     "text": [
      "[*********************100%***********************]  1 of 1 completed\n"
     ]
    },
    {
     "name": "stderr",
     "output_type": "stream",
     "text": [
      " 16%|█▌        | 24/152 [04:08<20:28,  9.60s/it]"
     ]
    },
    {
     "name": "stdout",
     "output_type": "stream",
     "text": [
      "[*********************100%***********************]  1 of 1 completed\n"
     ]
    },
    {
     "name": "stderr",
     "output_type": "stream",
     "text": [
      " 16%|█▋        | 25/152 [04:18<20:33,  9.71s/it]"
     ]
    },
    {
     "name": "stdout",
     "output_type": "stream",
     "text": [
      "[*********************100%***********************]  1 of 1 completed\n"
     ]
    },
    {
     "name": "stderr",
     "output_type": "stream",
     "text": [
      " 17%|█▋        | 26/152 [04:26<19:18,  9.20s/it]"
     ]
    },
    {
     "name": "stdout",
     "output_type": "stream",
     "text": [
      "[*********************100%***********************]  1 of 1 completed\n"
     ]
    },
    {
     "name": "stderr",
     "output_type": "stream",
     "text": [
      " 18%|█▊        | 27/152 [04:35<19:11,  9.21s/it]"
     ]
    },
    {
     "name": "stdout",
     "output_type": "stream",
     "text": [
      "[*********************100%***********************]  1 of 1 completed\n"
     ]
    },
    {
     "name": "stderr",
     "output_type": "stream",
     "text": [
      " 18%|█▊        | 28/152 [04:43<18:03,  8.74s/it]"
     ]
    },
    {
     "name": "stdout",
     "output_type": "stream",
     "text": [
      "[*********************100%***********************]  1 of 1 completed\n"
     ]
    },
    {
     "name": "stderr",
     "output_type": "stream",
     "text": [
      " 19%|█▉        | 29/152 [04:52<17:52,  8.72s/it]"
     ]
    },
    {
     "name": "stdout",
     "output_type": "stream",
     "text": [
      "[*********************100%***********************]  1 of 1 completed\n"
     ]
    },
    {
     "name": "stderr",
     "output_type": "stream",
     "text": [
      " 20%|█▉        | 30/152 [04:58<16:22,  8.05s/it]"
     ]
    },
    {
     "name": "stdout",
     "output_type": "stream",
     "text": [
      "[*********************100%***********************]  1 of 1 completed\n"
     ]
    },
    {
     "name": "stderr",
     "output_type": "stream",
     "text": [
      " 20%|██        | 31/152 [05:06<16:18,  8.09s/it]"
     ]
    },
    {
     "name": "stdout",
     "output_type": "stream",
     "text": [
      "[*********************100%***********************]  1 of 1 completed\n"
     ]
    },
    {
     "name": "stderr",
     "output_type": "stream",
     "text": [
      " 21%|██        | 32/152 [05:14<15:56,  7.97s/it]"
     ]
    },
    {
     "name": "stdout",
     "output_type": "stream",
     "text": [
      "[*********************100%***********************]  1 of 1 completed\n"
     ]
    },
    {
     "name": "stderr",
     "output_type": "stream",
     "text": [
      " 22%|██▏       | 33/152 [05:20<14:48,  7.47s/it]"
     ]
    },
    {
     "name": "stdout",
     "output_type": "stream",
     "text": [
      "[*********************100%***********************]  1 of 1 completed\n"
     ]
    },
    {
     "name": "stderr",
     "output_type": "stream",
     "text": [
      " 22%|██▏       | 34/152 [05:28<14:50,  7.55s/it]"
     ]
    },
    {
     "name": "stdout",
     "output_type": "stream",
     "text": [
      "[*********************100%***********************]  1 of 1 completed\n"
     ]
    },
    {
     "name": "stderr",
     "output_type": "stream",
     "text": [
      " 23%|██▎       | 35/152 [05:36<15:07,  7.76s/it]"
     ]
    },
    {
     "name": "stdout",
     "output_type": "stream",
     "text": [
      "[*********************100%***********************]  1 of 1 completed\n"
     ]
    },
    {
     "name": "stderr",
     "output_type": "stream",
     "text": [
      " 24%|██▎       | 36/152 [05:44<15:02,  7.78s/it]"
     ]
    },
    {
     "name": "stdout",
     "output_type": "stream",
     "text": [
      "[*********************100%***********************]  1 of 1 completed\n"
     ]
    },
    {
     "name": "stderr",
     "output_type": "stream",
     "text": [
      " 24%|██▍       | 37/152 [05:50<13:49,  7.21s/it]"
     ]
    },
    {
     "name": "stdout",
     "output_type": "stream",
     "text": [
      "[*********************100%***********************]  1 of 1 completed\n"
     ]
    },
    {
     "name": "stderr",
     "output_type": "stream",
     "text": [
      " 25%|██▌       | 38/152 [05:56<13:09,  6.93s/it]"
     ]
    },
    {
     "name": "stdout",
     "output_type": "stream",
     "text": [
      "[*********************100%***********************]  1 of 1 completed\n"
     ]
    },
    {
     "name": "stderr",
     "output_type": "stream",
     "text": [
      " 26%|██▌       | 39/152 [06:08<15:33,  8.26s/it]"
     ]
    },
    {
     "name": "stdout",
     "output_type": "stream",
     "text": [
      "[*********************100%***********************]  1 of 1 completed\n"
     ]
    },
    {
     "name": "stderr",
     "output_type": "stream",
     "text": [
      " 26%|██▋       | 40/152 [06:20<17:22,  9.31s/it]"
     ]
    },
    {
     "name": "stdout",
     "output_type": "stream",
     "text": [
      "[*********************100%***********************]  1 of 1 completed\n"
     ]
    },
    {
     "name": "stderr",
     "output_type": "stream",
     "text": [
      " 27%|██▋       | 41/152 [06:28<16:47,  9.07s/it]"
     ]
    },
    {
     "name": "stdout",
     "output_type": "stream",
     "text": [
      "[*********************100%***********************]  1 of 1 completed\n"
     ]
    },
    {
     "name": "stderr",
     "output_type": "stream",
     "text": [
      " 28%|██▊       | 42/152 [06:37<16:40,  9.10s/it]"
     ]
    },
    {
     "name": "stdout",
     "output_type": "stream",
     "text": [
      "[*********************100%***********************]  1 of 1 completed\n"
     ]
    },
    {
     "name": "stderr",
     "output_type": "stream",
     "text": [
      " 28%|██▊       | 43/152 [06:45<15:47,  8.69s/it]"
     ]
    },
    {
     "name": "stdout",
     "output_type": "stream",
     "text": [
      "[*********************100%***********************]  1 of 1 completed\n"
     ]
    },
    {
     "name": "stderr",
     "output_type": "stream",
     "text": [
      " 29%|██▉       | 44/152 [06:51<14:13,  7.90s/it]"
     ]
    },
    {
     "name": "stdout",
     "output_type": "stream",
     "text": [
      "[*********************100%***********************]  1 of 1 completed\n"
     ]
    },
    {
     "name": "stderr",
     "output_type": "stream",
     "text": [
      " 30%|██▉       | 45/152 [06:57<12:49,  7.19s/it]"
     ]
    },
    {
     "name": "stdout",
     "output_type": "stream",
     "text": [
      "[*********************100%***********************]  1 of 1 completed\n"
     ]
    },
    {
     "name": "stderr",
     "output_type": "stream",
     "text": [
      " 30%|███       | 46/152 [07:02<11:41,  6.61s/it]"
     ]
    },
    {
     "name": "stdout",
     "output_type": "stream",
     "text": [
      "[*********************100%***********************]  1 of 1 completed\n"
     ]
    },
    {
     "name": "stderr",
     "output_type": "stream",
     "text": [
      " 31%|███       | 47/152 [07:09<11:39,  6.66s/it]"
     ]
    },
    {
     "name": "stdout",
     "output_type": "stream",
     "text": [
      "[*********************100%***********************]  1 of 1 completed\n"
     ]
    },
    {
     "name": "stderr",
     "output_type": "stream",
     "text": [
      " 32%|███▏      | 48/152 [07:14<10:44,  6.20s/it]"
     ]
    },
    {
     "name": "stdout",
     "output_type": "stream",
     "text": [
      "[*********************100%***********************]  1 of 1 completed\n"
     ]
    },
    {
     "name": "stderr",
     "output_type": "stream",
     "text": [
      " 32%|███▏      | 49/152 [07:20<10:29,  6.11s/it]"
     ]
    },
    {
     "name": "stdout",
     "output_type": "stream",
     "text": [
      "[*********************100%***********************]  1 of 1 completed\n"
     ]
    },
    {
     "name": "stderr",
     "output_type": "stream",
     "text": [
      " 33%|███▎      | 50/152 [07:30<12:21,  7.27s/it]"
     ]
    },
    {
     "name": "stdout",
     "output_type": "stream",
     "text": [
      "[*********************100%***********************]  1 of 1 completed\n"
     ]
    },
    {
     "name": "stderr",
     "output_type": "stream",
     "text": [
      " 34%|███▎      | 51/152 [07:38<12:54,  7.67s/it]"
     ]
    },
    {
     "name": "stdout",
     "output_type": "stream",
     "text": [
      "[*********************100%***********************]  1 of 1 completed\n"
     ]
    },
    {
     "name": "stderr",
     "output_type": "stream",
     "text": [
      " 34%|███▍      | 52/152 [07:48<13:51,  8.31s/it]"
     ]
    },
    {
     "name": "stdout",
     "output_type": "stream",
     "text": [
      "[*********************100%***********************]  1 of 1 completed\n"
     ]
    },
    {
     "name": "stderr",
     "output_type": "stream",
     "text": [
      " 35%|███▍      | 53/152 [07:57<13:55,  8.44s/it]"
     ]
    },
    {
     "name": "stdout",
     "output_type": "stream",
     "text": [
      "[*********************100%***********************]  1 of 1 completed\n"
     ]
    },
    {
     "name": "stderr",
     "output_type": "stream",
     "text": [
      " 36%|███▌      | 54/152 [08:15<18:37, 11.40s/it]"
     ]
    },
    {
     "name": "stdout",
     "output_type": "stream",
     "text": [
      "[*********************100%***********************]  1 of 1 completed\n"
     ]
    },
    {
     "name": "stderr",
     "output_type": "stream",
     "text": [
      " 36%|███▌      | 55/152 [08:27<18:30, 11.45s/it]"
     ]
    },
    {
     "name": "stdout",
     "output_type": "stream",
     "text": [
      "[*********************100%***********************]  1 of 1 completed\n"
     ]
    },
    {
     "name": "stderr",
     "output_type": "stream",
     "text": [
      " 37%|███▋      | 56/152 [08:35<16:52, 10.55s/it]"
     ]
    },
    {
     "name": "stdout",
     "output_type": "stream",
     "text": [
      "[*********************100%***********************]  1 of 1 completed\n"
     ]
    },
    {
     "name": "stderr",
     "output_type": "stream",
     "text": [
      " 38%|███▊      | 57/152 [08:42<15:05,  9.53s/it]"
     ]
    },
    {
     "name": "stdout",
     "output_type": "stream",
     "text": [
      "[*********************100%***********************]  1 of 1 completed\n"
     ]
    },
    {
     "name": "stderr",
     "output_type": "stream",
     "text": [
      " 38%|███▊      | 58/152 [08:50<14:07,  9.01s/it]"
     ]
    },
    {
     "name": "stdout",
     "output_type": "stream",
     "text": [
      "[*********************100%***********************]  1 of 1 completed\n"
     ]
    },
    {
     "name": "stderr",
     "output_type": "stream",
     "text": [
      " 39%|███▉      | 59/152 [09:03<15:47, 10.19s/it]"
     ]
    },
    {
     "name": "stdout",
     "output_type": "stream",
     "text": [
      "[*********************100%***********************]  1 of 1 completed\n"
     ]
    },
    {
     "name": "stderr",
     "output_type": "stream",
     "text": [
      " 39%|███▉      | 60/152 [09:12<14:57,  9.75s/it]"
     ]
    },
    {
     "name": "stdout",
     "output_type": "stream",
     "text": [
      "[*********************100%***********************]  1 of 1 completed\n"
     ]
    },
    {
     "name": "stderr",
     "output_type": "stream",
     "text": [
      " 40%|████      | 61/152 [09:19<13:44,  9.06s/it]"
     ]
    },
    {
     "name": "stdout",
     "output_type": "stream",
     "text": [
      "[*********************100%***********************]  1 of 1 completed\n"
     ]
    },
    {
     "name": "stderr",
     "output_type": "stream",
     "text": [
      " 41%|████      | 62/152 [09:28<13:33,  9.04s/it]"
     ]
    },
    {
     "name": "stdout",
     "output_type": "stream",
     "text": [
      "[*********************100%***********************]  1 of 1 completed\n"
     ]
    },
    {
     "name": "stderr",
     "output_type": "stream",
     "text": [
      " 41%|████▏     | 63/152 [09:47<17:43, 11.95s/it]"
     ]
    },
    {
     "name": "stdout",
     "output_type": "stream",
     "text": [
      "[*********************100%***********************]  1 of 1 completed\n"
     ]
    },
    {
     "name": "stderr",
     "output_type": "stream",
     "text": [
      " 42%|████▏     | 64/152 [09:54<15:32, 10.59s/it]"
     ]
    },
    {
     "name": "stdout",
     "output_type": "stream",
     "text": [
      "[*********************100%***********************]  1 of 1 completed\n"
     ]
    },
    {
     "name": "stderr",
     "output_type": "stream",
     "text": [
      " 43%|████▎     | 65/152 [10:06<15:42, 10.83s/it]"
     ]
    },
    {
     "name": "stdout",
     "output_type": "stream",
     "text": [
      "[*********************100%***********************]  1 of 1 completed\n"
     ]
    },
    {
     "name": "stderr",
     "output_type": "stream",
     "text": [
      " 43%|████▎     | 66/152 [10:12<13:30,  9.42s/it]"
     ]
    },
    {
     "name": "stdout",
     "output_type": "stream",
     "text": [
      "[*********************100%***********************]  1 of 1 completed\n"
     ]
    },
    {
     "name": "stderr",
     "output_type": "stream",
     "text": [
      " 44%|████▍     | 67/152 [10:23<14:09, 10.00s/it]"
     ]
    },
    {
     "name": "stdout",
     "output_type": "stream",
     "text": [
      "[*********************100%***********************]  1 of 1 completed\n"
     ]
    },
    {
     "name": "stderr",
     "output_type": "stream",
     "text": [
      " 45%|████▍     | 68/152 [10:31<13:05,  9.36s/it]"
     ]
    },
    {
     "name": "stdout",
     "output_type": "stream",
     "text": [
      "[*********************100%***********************]  1 of 1 completed\n"
     ]
    },
    {
     "name": "stderr",
     "output_type": "stream",
     "text": [
      " 45%|████▌     | 69/152 [10:50<17:04, 12.34s/it]"
     ]
    },
    {
     "name": "stdout",
     "output_type": "stream",
     "text": [
      "[*********************100%***********************]  1 of 1 completed\n"
     ]
    },
    {
     "name": "stderr",
     "output_type": "stream",
     "text": [
      " 46%|████▌     | 70/152 [10:58<15:07, 11.07s/it]"
     ]
    },
    {
     "name": "stdout",
     "output_type": "stream",
     "text": [
      "[*********************100%***********************]  1 of 1 completed\n"
     ]
    },
    {
     "name": "stderr",
     "output_type": "stream",
     "text": [
      " 47%|████▋     | 71/152 [11:06<13:28,  9.98s/it]"
     ]
    },
    {
     "name": "stdout",
     "output_type": "stream",
     "text": [
      "[*********************100%***********************]  1 of 1 completed\n"
     ]
    },
    {
     "name": "stderr",
     "output_type": "stream",
     "text": [
      " 47%|████▋     | 72/152 [11:12<11:46,  8.83s/it]"
     ]
    },
    {
     "name": "stdout",
     "output_type": "stream",
     "text": [
      "[*********************100%***********************]  1 of 1 completed\n"
     ]
    },
    {
     "name": "stderr",
     "output_type": "stream",
     "text": [
      " 48%|████▊     | 73/152 [11:21<11:32,  8.77s/it]"
     ]
    },
    {
     "name": "stdout",
     "output_type": "stream",
     "text": [
      "[*********************100%***********************]  1 of 1 completed\n"
     ]
    },
    {
     "name": "stderr",
     "output_type": "stream",
     "text": [
      " 49%|████▊     | 74/152 [11:30<11:27,  8.82s/it]"
     ]
    },
    {
     "name": "stdout",
     "output_type": "stream",
     "text": [
      "[*********************100%***********************]  1 of 1 completed\n"
     ]
    },
    {
     "name": "stderr",
     "output_type": "stream",
     "text": [
      " 49%|████▉     | 75/152 [11:38<11:06,  8.65s/it]"
     ]
    },
    {
     "name": "stdout",
     "output_type": "stream",
     "text": [
      "[*********************100%***********************]  1 of 1 completed\n"
     ]
    },
    {
     "name": "stderr",
     "output_type": "stream",
     "text": [
      " 50%|█████     | 76/152 [11:50<12:08,  9.59s/it]"
     ]
    },
    {
     "name": "stdout",
     "output_type": "stream",
     "text": [
      "[*********************100%***********************]  1 of 1 completed\n"
     ]
    },
    {
     "name": "stderr",
     "output_type": "stream",
     "text": [
      " 51%|█████     | 77/152 [11:58<11:39,  9.33s/it]"
     ]
    },
    {
     "name": "stdout",
     "output_type": "stream",
     "text": [
      "[*********************100%***********************]  1 of 1 completed\n"
     ]
    },
    {
     "name": "stderr",
     "output_type": "stream",
     "text": [
      " 51%|█████▏    | 78/152 [12:05<10:41,  8.66s/it]"
     ]
    },
    {
     "name": "stdout",
     "output_type": "stream",
     "text": [
      "[*********************100%***********************]  1 of 1 completed\n"
     ]
    },
    {
     "name": "stderr",
     "output_type": "stream",
     "text": [
      " 52%|█████▏    | 79/152 [12:16<11:19,  9.30s/it]"
     ]
    },
    {
     "name": "stdout",
     "output_type": "stream",
     "text": [
      "[*********************100%***********************]  1 of 1 completed\n"
     ]
    },
    {
     "name": "stderr",
     "output_type": "stream",
     "text": [
      " 53%|█████▎    | 80/152 [12:24<10:36,  8.84s/it]"
     ]
    },
    {
     "name": "stdout",
     "output_type": "stream",
     "text": [
      "[*********************100%***********************]  1 of 1 completed\n"
     ]
    },
    {
     "name": "stderr",
     "output_type": "stream",
     "text": [
      " 53%|█████▎    | 81/152 [12:32<09:59,  8.44s/it]"
     ]
    },
    {
     "name": "stdout",
     "output_type": "stream",
     "text": [
      "[*********************100%***********************]  1 of 1 completed\n"
     ]
    },
    {
     "name": "stderr",
     "output_type": "stream",
     "text": [
      " 54%|█████▍    | 82/152 [12:39<09:38,  8.26s/it]"
     ]
    },
    {
     "name": "stdout",
     "output_type": "stream",
     "text": [
      "[*********************100%***********************]  1 of 1 completed\n"
     ]
    },
    {
     "name": "stderr",
     "output_type": "stream",
     "text": [
      " 55%|█████▍    | 83/152 [12:46<09:06,  7.92s/it]"
     ]
    },
    {
     "name": "stdout",
     "output_type": "stream",
     "text": [
      "[*********************100%***********************]  1 of 1 completed\n"
     ]
    },
    {
     "name": "stderr",
     "output_type": "stream",
     "text": [
      " 55%|█████▌    | 84/152 [13:15<15:49, 13.96s/it]"
     ]
    },
    {
     "name": "stdout",
     "output_type": "stream",
     "text": [
      "[*********************100%***********************]  1 of 1 completed\n"
     ]
    },
    {
     "name": "stderr",
     "output_type": "stream",
     "text": [
      " 56%|█████▌    | 85/152 [13:22<13:20, 11.95s/it]"
     ]
    },
    {
     "name": "stdout",
     "output_type": "stream",
     "text": [
      "[*********************100%***********************]  1 of 1 completed\n"
     ]
    },
    {
     "name": "stderr",
     "output_type": "stream",
     "text": [
      " 57%|█████▋    | 86/152 [13:31<12:19, 11.21s/it]"
     ]
    },
    {
     "name": "stdout",
     "output_type": "stream",
     "text": [
      "[*********************100%***********************]  1 of 1 completed\n"
     ]
    },
    {
     "name": "stderr",
     "output_type": "stream",
     "text": [
      " 57%|█████▋    | 87/152 [13:39<11:06, 10.25s/it]"
     ]
    },
    {
     "name": "stdout",
     "output_type": "stream",
     "text": [
      "[*********************100%***********************]  1 of 1 completed\n"
     ]
    },
    {
     "name": "stderr",
     "output_type": "stream",
     "text": [
      " 58%|█████▊    | 88/152 [13:45<09:33,  8.96s/it]"
     ]
    },
    {
     "name": "stdout",
     "output_type": "stream",
     "text": [
      "[*********************100%***********************]  1 of 1 completed\n"
     ]
    },
    {
     "name": "stderr",
     "output_type": "stream",
     "text": [
      " 59%|█████▊    | 89/152 [13:51<08:16,  7.89s/it]"
     ]
    },
    {
     "name": "stdout",
     "output_type": "stream",
     "text": [
      "[*********************100%***********************]  1 of 1 completed\n"
     ]
    },
    {
     "name": "stderr",
     "output_type": "stream",
     "text": [
      " 59%|█████▉    | 90/152 [13:58<07:58,  7.73s/it]"
     ]
    },
    {
     "name": "stdout",
     "output_type": "stream",
     "text": [
      "[*********************100%***********************]  1 of 1 completed\n"
     ]
    },
    {
     "name": "stderr",
     "output_type": "stream",
     "text": [
      " 60%|█████▉    | 91/152 [14:04<07:25,  7.31s/it]"
     ]
    },
    {
     "name": "stdout",
     "output_type": "stream",
     "text": [
      "[*********************100%***********************]  1 of 1 completed\n"
     ]
    },
    {
     "name": "stderr",
     "output_type": "stream",
     "text": [
      " 61%|██████    | 92/152 [14:12<07:30,  7.52s/it]"
     ]
    },
    {
     "name": "stdout",
     "output_type": "stream",
     "text": [
      "[*********************100%***********************]  1 of 1 completed\n"
     ]
    },
    {
     "name": "stderr",
     "output_type": "stream",
     "text": [
      " 61%|██████    | 93/152 [14:21<07:51,  7.99s/it]"
     ]
    },
    {
     "name": "stdout",
     "output_type": "stream",
     "text": [
      "[*********************100%***********************]  1 of 1 completed\n"
     ]
    },
    {
     "name": "stderr",
     "output_type": "stream",
     "text": [
      " 62%|██████▏   | 94/152 [14:28<07:18,  7.57s/it]"
     ]
    },
    {
     "name": "stdout",
     "output_type": "stream",
     "text": [
      "[*********************100%***********************]  1 of 1 completed\n"
     ]
    },
    {
     "name": "stderr",
     "output_type": "stream",
     "text": [
      " 62%|██████▎   | 95/152 [14:37<07:30,  7.91s/it]"
     ]
    },
    {
     "name": "stdout",
     "output_type": "stream",
     "text": [
      "[*********************100%***********************]  1 of 1 completed\n"
     ]
    },
    {
     "name": "stderr",
     "output_type": "stream",
     "text": [
      " 63%|██████▎   | 96/152 [14:47<08:00,  8.57s/it]"
     ]
    },
    {
     "name": "stdout",
     "output_type": "stream",
     "text": [
      "[*********************100%***********************]  1 of 1 completed\n"
     ]
    },
    {
     "name": "stderr",
     "output_type": "stream",
     "text": [
      " 64%|██████▍   | 97/152 [14:53<07:20,  8.01s/it]"
     ]
    },
    {
     "name": "stdout",
     "output_type": "stream",
     "text": [
      "[*********************100%***********************]  1 of 1 completed\n"
     ]
    },
    {
     "name": "stderr",
     "output_type": "stream",
     "text": [
      " 64%|██████▍   | 98/152 [15:01<07:01,  7.80s/it]"
     ]
    },
    {
     "name": "stdout",
     "output_type": "stream",
     "text": [
      "[*********************100%***********************]  1 of 1 completed\n"
     ]
    },
    {
     "name": "stderr",
     "output_type": "stream",
     "text": [
      " 65%|██████▌   | 99/152 [15:11<07:36,  8.62s/it]"
     ]
    },
    {
     "name": "stdout",
     "output_type": "stream",
     "text": [
      "[*********************100%***********************]  1 of 1 completed\n"
     ]
    },
    {
     "name": "stderr",
     "output_type": "stream",
     "text": [
      " 66%|██████▌   | 100/152 [15:19<07:13,  8.33s/it]"
     ]
    },
    {
     "name": "stdout",
     "output_type": "stream",
     "text": [
      "[*********************100%***********************]  1 of 1 completed\n"
     ]
    },
    {
     "name": "stderr",
     "output_type": "stream",
     "text": [
      " 66%|██████▋   | 101/152 [15:29<07:35,  8.92s/it]"
     ]
    },
    {
     "name": "stdout",
     "output_type": "stream",
     "text": [
      "[*********************100%***********************]  1 of 1 completed\n"
     ]
    },
    {
     "name": "stderr",
     "output_type": "stream",
     "text": [
      " 67%|██████▋   | 102/152 [15:37<07:12,  8.65s/it]"
     ]
    },
    {
     "name": "stdout",
     "output_type": "stream",
     "text": [
      "[*********************100%***********************]  1 of 1 completed\n"
     ]
    },
    {
     "name": "stderr",
     "output_type": "stream",
     "text": [
      " 68%|██████▊   | 103/152 [15:46<07:02,  8.62s/it]"
     ]
    },
    {
     "name": "stdout",
     "output_type": "stream",
     "text": [
      "[*********************100%***********************]  1 of 1 completed\n"
     ]
    },
    {
     "name": "stderr",
     "output_type": "stream",
     "text": [
      " 68%|██████▊   | 104/152 [15:53<06:31,  8.15s/it]"
     ]
    },
    {
     "name": "stdout",
     "output_type": "stream",
     "text": [
      "[*********************100%***********************]  1 of 1 completed\n"
     ]
    },
    {
     "name": "stderr",
     "output_type": "stream",
     "text": [
      " 69%|██████▉   | 105/152 [16:02<06:29,  8.28s/it]"
     ]
    },
    {
     "name": "stdout",
     "output_type": "stream",
     "text": [
      "[*********************100%***********************]  1 of 1 completed\n"
     ]
    },
    {
     "name": "stderr",
     "output_type": "stream",
     "text": [
      " 70%|██████▉   | 106/152 [16:10<06:27,  8.42s/it]"
     ]
    },
    {
     "name": "stdout",
     "output_type": "stream",
     "text": [
      "[*********************100%***********************]  1 of 1 completed\n"
     ]
    },
    {
     "name": "stderr",
     "output_type": "stream",
     "text": [
      " 70%|███████   | 107/152 [16:18<06:15,  8.34s/it]"
     ]
    },
    {
     "name": "stdout",
     "output_type": "stream",
     "text": [
      "[*********************100%***********************]  1 of 1 completed\n"
     ]
    },
    {
     "name": "stderr",
     "output_type": "stream",
     "text": [
      " 71%|███████   | 108/152 [16:28<06:21,  8.67s/it]"
     ]
    },
    {
     "name": "stdout",
     "output_type": "stream",
     "text": [
      "[*********************100%***********************]  1 of 1 completed\n"
     ]
    },
    {
     "name": "stderr",
     "output_type": "stream",
     "text": [
      " 72%|███████▏  | 109/152 [16:37<06:20,  8.85s/it]"
     ]
    },
    {
     "name": "stdout",
     "output_type": "stream",
     "text": [
      "[*********************100%***********************]  1 of 1 completed\n"
     ]
    },
    {
     "name": "stderr",
     "output_type": "stream",
     "text": [
      " 72%|███████▏  | 110/152 [16:47<06:19,  9.04s/it]"
     ]
    },
    {
     "name": "stdout",
     "output_type": "stream",
     "text": [
      "[*********************100%***********************]  1 of 1 completed\n"
     ]
    },
    {
     "name": "stderr",
     "output_type": "stream",
     "text": [
      " 73%|███████▎  | 111/152 [17:00<07:03, 10.33s/it]"
     ]
    },
    {
     "name": "stdout",
     "output_type": "stream",
     "text": [
      "[*********************100%***********************]  1 of 1 completed\n"
     ]
    },
    {
     "name": "stderr",
     "output_type": "stream",
     "text": [
      " 74%|███████▎  | 112/152 [17:07<06:17,  9.44s/it]"
     ]
    },
    {
     "name": "stdout",
     "output_type": "stream",
     "text": [
      "[*********************100%***********************]  1 of 1 completed\n"
     ]
    },
    {
     "name": "stderr",
     "output_type": "stream",
     "text": [
      " 74%|███████▍  | 113/152 [17:16<05:55,  9.12s/it]"
     ]
    },
    {
     "name": "stdout",
     "output_type": "stream",
     "text": [
      "[*********************100%***********************]  1 of 1 completed\n"
     ]
    },
    {
     "name": "stderr",
     "output_type": "stream",
     "text": [
      " 75%|███████▌  | 114/152 [17:23<05:31,  8.72s/it]"
     ]
    },
    {
     "name": "stdout",
     "output_type": "stream",
     "text": [
      "[*********************100%***********************]  1 of 1 completed\n"
     ]
    },
    {
     "name": "stderr",
     "output_type": "stream",
     "text": [
      " 76%|███████▌  | 115/152 [17:32<05:24,  8.76s/it]"
     ]
    },
    {
     "name": "stdout",
     "output_type": "stream",
     "text": [
      "[*********************100%***********************]  1 of 1 completed\n"
     ]
    },
    {
     "name": "stderr",
     "output_type": "stream",
     "text": [
      " 76%|███████▋  | 116/152 [17:40<05:01,  8.36s/it]"
     ]
    },
    {
     "name": "stdout",
     "output_type": "stream",
     "text": [
      "[*********************100%***********************]  1 of 1 completed\n"
     ]
    },
    {
     "name": "stderr",
     "output_type": "stream",
     "text": [
      " 77%|███████▋  | 117/152 [17:47<04:43,  8.09s/it]"
     ]
    },
    {
     "name": "stdout",
     "output_type": "stream",
     "text": [
      "[*********************100%***********************]  1 of 1 completed\n"
     ]
    },
    {
     "name": "stderr",
     "output_type": "stream",
     "text": [
      " 78%|███████▊  | 118/152 [17:55<04:36,  8.15s/it]"
     ]
    },
    {
     "name": "stdout",
     "output_type": "stream",
     "text": [
      "[*********************100%***********************]  1 of 1 completed\n"
     ]
    },
    {
     "name": "stderr",
     "output_type": "stream",
     "text": [
      " 78%|███████▊  | 119/152 [18:03<04:19,  7.86s/it]"
     ]
    },
    {
     "name": "stdout",
     "output_type": "stream",
     "text": [
      "[*********************100%***********************]  1 of 1 completed\n"
     ]
    },
    {
     "name": "stderr",
     "output_type": "stream",
     "text": [
      " 79%|███████▉  | 120/152 [18:13<04:39,  8.74s/it]"
     ]
    },
    {
     "name": "stdout",
     "output_type": "stream",
     "text": [
      "[*********************100%***********************]  1 of 1 completed\n"
     ]
    },
    {
     "name": "stderr",
     "output_type": "stream",
     "text": [
      " 80%|███████▉  | 121/152 [18:19<04:01,  7.78s/it]"
     ]
    },
    {
     "name": "stdout",
     "output_type": "stream",
     "text": [
      "[*********************100%***********************]  1 of 1 completed\n"
     ]
    },
    {
     "name": "stderr",
     "output_type": "stream",
     "text": [
      " 80%|████████  | 122/152 [18:26<03:47,  7.59s/it]"
     ]
    },
    {
     "name": "stdout",
     "output_type": "stream",
     "text": [
      "[*********************100%***********************]  1 of 1 completed\n"
     ]
    },
    {
     "name": "stderr",
     "output_type": "stream",
     "text": [
      " 81%|████████  | 123/152 [18:34<03:46,  7.80s/it]"
     ]
    },
    {
     "name": "stdout",
     "output_type": "stream",
     "text": [
      "[*********************100%***********************]  1 of 1 completed\n"
     ]
    },
    {
     "name": "stderr",
     "output_type": "stream",
     "text": [
      " 82%|████████▏ | 124/152 [18:43<03:46,  8.08s/it]"
     ]
    },
    {
     "name": "stdout",
     "output_type": "stream",
     "text": [
      "[*********************100%***********************]  1 of 1 completed\n"
     ]
    },
    {
     "name": "stderr",
     "output_type": "stream",
     "text": [
      " 82%|████████▏ | 125/152 [18:51<03:35,  7.98s/it]"
     ]
    },
    {
     "name": "stdout",
     "output_type": "stream",
     "text": [
      "[*********************100%***********************]  1 of 1 completed\n"
     ]
    },
    {
     "name": "stderr",
     "output_type": "stream",
     "text": [
      " 83%|████████▎ | 126/152 [19:00<03:37,  8.36s/it]"
     ]
    },
    {
     "name": "stdout",
     "output_type": "stream",
     "text": [
      "[*********************100%***********************]  1 of 1 completed\n"
     ]
    },
    {
     "name": "stderr",
     "output_type": "stream",
     "text": [
      " 84%|████████▎ | 127/152 [19:09<03:35,  8.63s/it]"
     ]
    },
    {
     "name": "stdout",
     "output_type": "stream",
     "text": [
      "[*********************100%***********************]  1 of 1 completed\n",
      "\n",
      "1 Failed download:\n",
      "- ALXN: No data found, symbol may be delisted\n"
     ]
    },
    {
     "name": "stderr",
     "output_type": "stream",
     "text": [
      " 84%|████████▍ | 128/152 [19:15<03:04,  7.67s/it]"
     ]
    },
    {
     "name": "stdout",
     "output_type": "stream",
     "text": [
      "[*********************100%***********************]  1 of 1 completed\n"
     ]
    },
    {
     "name": "stderr",
     "output_type": "stream",
     "text": [
      " 85%|████████▍ | 129/152 [19:24<03:05,  8.08s/it]"
     ]
    },
    {
     "name": "stdout",
     "output_type": "stream",
     "text": [
      "[*********************100%***********************]  1 of 1 completed\n"
     ]
    },
    {
     "name": "stderr",
     "output_type": "stream",
     "text": [
      " 86%|████████▌ | 130/152 [19:32<02:56,  8.04s/it]"
     ]
    },
    {
     "name": "stdout",
     "output_type": "stream",
     "text": [
      "[*********************100%***********************]  1 of 1 completed\n"
     ]
    },
    {
     "name": "stderr",
     "output_type": "stream",
     "text": [
      " 86%|████████▌ | 131/152 [19:40<02:48,  8.03s/it]"
     ]
    },
    {
     "name": "stdout",
     "output_type": "stream",
     "text": [
      "[*********************100%***********************]  1 of 1 completed\n"
     ]
    },
    {
     "name": "stderr",
     "output_type": "stream",
     "text": [
      " 87%|████████▋ | 132/152 [19:49<02:45,  8.27s/it]"
     ]
    },
    {
     "name": "stdout",
     "output_type": "stream",
     "text": [
      "[*********************100%***********************]  1 of 1 completed\n"
     ]
    },
    {
     "name": "stderr",
     "output_type": "stream",
     "text": [
      " 88%|████████▊ | 133/152 [19:57<02:35,  8.18s/it]"
     ]
    },
    {
     "name": "stdout",
     "output_type": "stream",
     "text": [
      "[*********************100%***********************]  1 of 1 completed\n"
     ]
    },
    {
     "name": "stderr",
     "output_type": "stream",
     "text": [
      " 88%|████████▊ | 134/152 [20:03<02:19,  7.73s/it]"
     ]
    },
    {
     "name": "stdout",
     "output_type": "stream",
     "text": [
      "[*********************100%***********************]  1 of 1 completed\n"
     ]
    },
    {
     "name": "stderr",
     "output_type": "stream",
     "text": [
      " 89%|████████▉ | 135/152 [20:10<02:05,  7.37s/it]"
     ]
    },
    {
     "name": "stdout",
     "output_type": "stream",
     "text": [
      "[*********************100%***********************]  1 of 1 completed\n"
     ]
    },
    {
     "name": "stderr",
     "output_type": "stream",
     "text": [
      " 89%|████████▉ | 136/152 [20:18<02:01,  7.59s/it]"
     ]
    },
    {
     "name": "stdout",
     "output_type": "stream",
     "text": [
      "[*********************100%***********************]  1 of 1 completed\n"
     ]
    },
    {
     "name": "stderr",
     "output_type": "stream",
     "text": [
      " 90%|█████████ | 137/152 [20:26<01:57,  7.86s/it]"
     ]
    },
    {
     "name": "stdout",
     "output_type": "stream",
     "text": [
      "[*********************100%***********************]  1 of 1 completed\n"
     ]
    },
    {
     "name": "stderr",
     "output_type": "stream",
     "text": [
      " 91%|█████████ | 138/152 [20:34<01:47,  7.66s/it]"
     ]
    },
    {
     "name": "stdout",
     "output_type": "stream",
     "text": [
      "[*********************100%***********************]  1 of 1 completed\n"
     ]
    },
    {
     "name": "stderr",
     "output_type": "stream",
     "text": [
      " 91%|█████████▏| 139/152 [20:42<01:41,  7.82s/it]"
     ]
    },
    {
     "name": "stdout",
     "output_type": "stream",
     "text": [
      "[*********************100%***********************]  1 of 1 completed\n"
     ]
    },
    {
     "name": "stderr",
     "output_type": "stream",
     "text": [
      " 92%|█████████▏| 140/152 [20:50<01:36,  8.01s/it]"
     ]
    },
    {
     "name": "stdout",
     "output_type": "stream",
     "text": [
      "[*********************100%***********************]  1 of 1 completed\n"
     ]
    },
    {
     "name": "stderr",
     "output_type": "stream",
     "text": [
      " 93%|█████████▎| 141/152 [20:59<01:29,  8.15s/it]"
     ]
    },
    {
     "name": "stdout",
     "output_type": "stream",
     "text": [
      "[*********************100%***********************]  1 of 1 completed\n"
     ]
    },
    {
     "name": "stderr",
     "output_type": "stream",
     "text": [
      " 93%|█████████▎| 142/152 [21:08<01:24,  8.42s/it]"
     ]
    },
    {
     "name": "stdout",
     "output_type": "stream",
     "text": [
      "[*********************100%***********************]  1 of 1 completed\n",
      "\n",
      "1 Failed download:\n",
      "- MXIM: No data found, symbol may be delisted\n"
     ]
    },
    {
     "name": "stderr",
     "output_type": "stream",
     "text": [
      " 94%|█████████▍| 143/152 [21:13<01:06,  7.40s/it]"
     ]
    },
    {
     "name": "stdout",
     "output_type": "stream",
     "text": [
      "[*********************100%***********************]  1 of 1 completed\n"
     ]
    },
    {
     "name": "stderr",
     "output_type": "stream",
     "text": [
      " 95%|█████████▍| 144/152 [21:22<01:03,  7.92s/it]"
     ]
    },
    {
     "name": "stdout",
     "output_type": "stream",
     "text": [
      "[*********************100%***********************]  1 of 1 completed\n"
     ]
    },
    {
     "name": "stderr",
     "output_type": "stream",
     "text": [
      " 95%|█████████▌| 145/152 [21:30<00:55,  7.92s/it]"
     ]
    },
    {
     "name": "stdout",
     "output_type": "stream",
     "text": [
      "[*********************100%***********************]  1 of 1 completed\n"
     ]
    },
    {
     "name": "stderr",
     "output_type": "stream",
     "text": [
      " 96%|█████████▌| 146/152 [21:36<00:43,  7.27s/it]"
     ]
    },
    {
     "name": "stdout",
     "output_type": "stream",
     "text": [
      "[*********************100%***********************]  1 of 1 completed\n"
     ]
    },
    {
     "name": "stderr",
     "output_type": "stream",
     "text": [
      " 97%|█████████▋| 147/152 [21:42<00:34,  6.89s/it]"
     ]
    },
    {
     "name": "stdout",
     "output_type": "stream",
     "text": [
      "[*********************100%***********************]  1 of 1 completed\n"
     ]
    },
    {
     "name": "stderr",
     "output_type": "stream",
     "text": [
      " 97%|█████████▋| 148/152 [21:49<00:27,  6.94s/it]"
     ]
    },
    {
     "name": "stdout",
     "output_type": "stream",
     "text": [
      "[*********************100%***********************]  1 of 1 completed\n"
     ]
    },
    {
     "name": "stderr",
     "output_type": "stream",
     "text": [
      " 98%|█████████▊| 149/152 [21:57<00:21,  7.24s/it]"
     ]
    },
    {
     "name": "stdout",
     "output_type": "stream",
     "text": [
      "[*********************100%***********************]  1 of 1 completed\n"
     ]
    },
    {
     "name": "stderr",
     "output_type": "stream",
     "text": [
      " 99%|█████████▊| 150/152 [22:04<00:14,  7.25s/it]"
     ]
    },
    {
     "name": "stdout",
     "output_type": "stream",
     "text": [
      "[*********************100%***********************]  1 of 1 completed\n"
     ]
    },
    {
     "name": "stderr",
     "output_type": "stream",
     "text": [
      " 99%|█████████▉| 151/152 [22:11<00:07,  7.08s/it]"
     ]
    },
    {
     "name": "stdout",
     "output_type": "stream",
     "text": [
      "[*********************100%***********************]  1 of 1 completed\n"
     ]
    },
    {
     "name": "stderr",
     "output_type": "stream",
     "text": [
      "100%|██████████| 152/152 [22:17<00:00,  8.80s/it]\n"
     ]
    }
   ],
   "source": [
    "assets = pd.read_csv('Names.csv')[\"Symbol\"]\n",
    "\n",
    "result = []\n",
    "col = []\n",
    "\n",
    "# Compute the best parameter for each asset\n",
    "for i in tqdm(assets):\n",
    "\ttry:\n",
    "\t\tarr = yf.download(i)\n",
    "\t\t# We find the optimal parameter\n",
    "\t\tresult.append(optimization(arr))\n",
    "\t\tcol.append(i)\n",
    "\texcept:\n",
    "\t\tpass"
   ],
   "metadata": {
    "collapsed": false,
    "pycharm": {
     "name": "#%%\n"
    }
   }
  },
  {
   "cell_type": "code",
   "execution_count": 16,
   "outputs": [
    {
     "ename": "IndexError",
     "evalue": "string index out of range",
     "output_type": "error",
     "traceback": [
      "\u001B[1;31m---------------------------------------------------------------------------\u001B[0m",
      "\u001B[1;31mIndexError\u001B[0m                                Traceback (most recent call last)",
      "\u001B[1;32m~\\AppData\\Local\\Temp/ipykernel_12812/690014531.py\u001B[0m in \u001B[0;36m<module>\u001B[1;34m\u001B[0m\n\u001B[0;32m      1\u001B[0m \u001B[1;31m# Add asset columns to each list of result\u001B[0m\u001B[1;33m\u001B[0m\u001B[1;33m\u001B[0m\u001B[1;33m\u001B[0m\u001B[0m\n\u001B[0;32m      2\u001B[0m \u001B[1;32mfor\u001B[0m \u001B[0mi\u001B[0m \u001B[1;32min\u001B[0m \u001B[0mrange\u001B[0m\u001B[1;33m(\u001B[0m\u001B[0mlen\u001B[0m\u001B[1;33m(\u001B[0m\u001B[0mresult\u001B[0m\u001B[1;33m)\u001B[0m\u001B[1;33m)\u001B[0m\u001B[1;33m:\u001B[0m\u001B[1;33m\u001B[0m\u001B[1;33m\u001B[0m\u001B[0m\n\u001B[1;32m----> 3\u001B[1;33m         \u001B[0mresult\u001B[0m\u001B[1;33m[\u001B[0m\u001B[0mi\u001B[0m\u001B[1;33m]\u001B[0m\u001B[1;33m.\u001B[0m\u001B[0mappend\u001B[0m\u001B[1;33m(\u001B[0m\u001B[0mcol\u001B[0m\u001B[1;33m[\u001B[0m\u001B[0mi\u001B[0m\u001B[1;33m]\u001B[0m\u001B[1;33m)\u001B[0m\u001B[1;33m\u001B[0m\u001B[1;33m\u001B[0m\u001B[0m\n\u001B[0m\u001B[0;32m      4\u001B[0m \u001B[1;33m\u001B[0m\u001B[0m\n\u001B[0;32m      5\u001B[0m \u001B[1;31m# Convert list into dataframe\u001B[0m\u001B[1;33m\u001B[0m\u001B[1;33m\u001B[0m\u001B[1;33m\u001B[0m\u001B[0m\n",
      "\u001B[1;31mIndexError\u001B[0m: string index out of range"
     ]
    }
   ],
   "source": [
    "# Add asset columns to each list of result\n",
    "for i in range(len(result)):\n",
    "\tresult[i].append(col[i])\n",
    "\n",
    "# Convert list into dataframe\n",
    "\n",
    "res = pd.DataFrame(result,columns=[\"Neutral\",\"Window\",\"Sortino_train\",\"Sortino_test\",\"Asset\"])\n",
    "\n",
    "# Index by asset\n",
    "res = res.set_index(\"Asset\")\n",
    "\n",
    "# Order the dataframe in descending order\n",
    "values = res.sort_values(by=\"Sortino_train\",ascending=False)\n",
    "values = values.iloc[1:,:]\n",
    "values.head()\n",
    "\n",
    "\n",
    "\n",
    "\n"
   ],
   "metadata": {
    "collapsed": false,
    "pycharm": {
     "name": "#%%\n"
    }
   }
  },
  {
   "cell_type": "code",
   "execution_count": 18,
   "outputs": [
    {
     "data": {
      "text/plain": "           Neutral  Window  Sortino_train  Sortino_test\nAsset                                                  \nXRP-USD         10       2       4.218000      0.509452\nBSV-USD          4       2       4.165631      2.001604\nADA-USD          8       6       4.094578      0.707319\nDOGE-USD        16       2       3.582058      0.502433\nMIOTA-USD       12       2       3.254906      0.529570\n...            ...     ...            ...           ...\nAVGO             0       0       0.000000      0.000000\nPEP              0       0       0.000000      0.000000\nCMCSA            0       0       0.000000      0.000000\nINTC             0       0       0.000000      0.000000\nFOX              0       0       0.000000      0.000000\n\n[151 rows x 4 columns]",
      "text/html": "<div>\n<style scoped>\n    .dataframe tbody tr th:only-of-type {\n        vertical-align: middle;\n    }\n\n    .dataframe tbody tr th {\n        vertical-align: top;\n    }\n\n    .dataframe thead th {\n        text-align: right;\n    }\n</style>\n<table border=\"1\" class=\"dataframe\">\n  <thead>\n    <tr style=\"text-align: right;\">\n      <th></th>\n      <th>Neutral</th>\n      <th>Window</th>\n      <th>Sortino_train</th>\n      <th>Sortino_test</th>\n    </tr>\n    <tr>\n      <th>Asset</th>\n      <th></th>\n      <th></th>\n      <th></th>\n      <th></th>\n    </tr>\n  </thead>\n  <tbody>\n    <tr>\n      <th>XRP-USD</th>\n      <td>10</td>\n      <td>2</td>\n      <td>4.218000</td>\n      <td>0.509452</td>\n    </tr>\n    <tr>\n      <th>BSV-USD</th>\n      <td>4</td>\n      <td>2</td>\n      <td>4.165631</td>\n      <td>2.001604</td>\n    </tr>\n    <tr>\n      <th>ADA-USD</th>\n      <td>8</td>\n      <td>6</td>\n      <td>4.094578</td>\n      <td>0.707319</td>\n    </tr>\n    <tr>\n      <th>DOGE-USD</th>\n      <td>16</td>\n      <td>2</td>\n      <td>3.582058</td>\n      <td>0.502433</td>\n    </tr>\n    <tr>\n      <th>MIOTA-USD</th>\n      <td>12</td>\n      <td>2</td>\n      <td>3.254906</td>\n      <td>0.529570</td>\n    </tr>\n    <tr>\n      <th>...</th>\n      <td>...</td>\n      <td>...</td>\n      <td>...</td>\n      <td>...</td>\n    </tr>\n    <tr>\n      <th>AVGO</th>\n      <td>0</td>\n      <td>0</td>\n      <td>0.000000</td>\n      <td>0.000000</td>\n    </tr>\n    <tr>\n      <th>PEP</th>\n      <td>0</td>\n      <td>0</td>\n      <td>0.000000</td>\n      <td>0.000000</td>\n    </tr>\n    <tr>\n      <th>CMCSA</th>\n      <td>0</td>\n      <td>0</td>\n      <td>0.000000</td>\n      <td>0.000000</td>\n    </tr>\n    <tr>\n      <th>INTC</th>\n      <td>0</td>\n      <td>0</td>\n      <td>0.000000</td>\n      <td>0.000000</td>\n    </tr>\n    <tr>\n      <th>FOX</th>\n      <td>0</td>\n      <td>0</td>\n      <td>0.000000</td>\n      <td>0.000000</td>\n    </tr>\n  </tbody>\n</table>\n<p>151 rows × 4 columns</p>\n</div>"
     },
     "execution_count": 18,
     "metadata": {},
     "output_type": "execute_result"
    }
   ],
   "source": [
    "values"
   ],
   "metadata": {
    "collapsed": false,
    "pycharm": {
     "name": "#%%\n"
    }
   }
  },
  {
   "cell_type": "code",
   "execution_count": 39,
   "outputs": [
    {
     "name": "stdout",
     "output_type": "stream",
     "text": [
      "[*********************100%***********************]  1 of 1 completed\n",
      "Empty DataFrame\n",
      "Columns: []\n",
      "Index: []\n",
      "[*********************100%***********************]  1 of 1 completed\n",
      "             XRP-USD\n",
      "Date                \n",
      "2017-11-09       NaN\n",
      "2017-11-10       NaN\n",
      "2017-11-11       NaN\n",
      "2017-11-12       NaN\n",
      "2017-11-13       NaN\n",
      "...              ...\n",
      "2018-12-28 -0.104613\n",
      "2018-12-29 -0.025474\n",
      "2018-12-30  0.000000\n",
      "2018-12-31 -0.000000\n",
      "2019-01-01 -0.034207\n",
      "\n",
      "[419 rows x 1 columns]\n",
      "[*********************100%***********************]  1 of 1 completed\n",
      "             XRP-USD   BSV-USD\n",
      "Date                          \n",
      "2017-11-09       NaN       NaN\n",
      "2017-11-10       NaN       NaN\n",
      "2017-11-11       NaN       NaN\n",
      "2017-11-12       NaN       NaN\n",
      "2017-11-13       NaN       NaN\n",
      "...              ...       ...\n",
      "2018-12-28 -0.104613 -0.103256\n",
      "2018-12-29 -0.025474 -0.044937\n",
      "2018-12-30  0.000000  0.009701\n",
      "2018-12-31 -0.000000  0.040696\n",
      "2019-01-01 -0.034207 -0.084585\n",
      "\n",
      "[419 rows x 2 columns]\n",
      "[*********************100%***********************]  1 of 1 completed\n",
      "             XRP-USD   BSV-USD   ADA-USD\n",
      "Date                                    \n",
      "2017-11-09       NaN       NaN       NaN\n",
      "2017-11-10       NaN       NaN       NaN\n",
      "2017-11-11       NaN       NaN       NaN\n",
      "2017-11-12       NaN       NaN       NaN\n",
      "2017-11-13       NaN       NaN       NaN\n",
      "...              ...       ...       ...\n",
      "2018-12-28 -0.104613 -0.103256 -0.133120\n",
      "2018-12-29 -0.025474 -0.044937 -0.008456\n",
      "2018-12-30  0.000000  0.009701  0.000000\n",
      "2018-12-31 -0.000000  0.040696 -0.051225\n",
      "2019-01-01 -0.034207 -0.084585  0.000000\n",
      "\n",
      "[419 rows x 3 columns]\n",
      "[*********************100%***********************]  1 of 1 completed\n",
      "             XRP-USD   BSV-USD   ADA-USD  DOGE-USD\n",
      "Date                                              \n",
      "2017-11-09       NaN       NaN       NaN       NaN\n",
      "2017-11-10       NaN       NaN       NaN       NaN\n",
      "2017-11-11       NaN       NaN       NaN       NaN\n",
      "2017-11-12       NaN       NaN       NaN       NaN\n",
      "2017-11-13       NaN       NaN       NaN       NaN\n",
      "...              ...       ...       ...       ...\n",
      "2018-12-28 -0.104613 -0.103256 -0.133120 -0.029611\n",
      "2018-12-29 -0.025474 -0.044937 -0.008456 -0.000000\n",
      "2018-12-30  0.000000  0.009701  0.000000 -0.000000\n",
      "2018-12-31 -0.000000  0.040696 -0.051225  0.008872\n",
      "2019-01-01 -0.034207 -0.084585  0.000000 -0.019608\n",
      "\n",
      "[419 rows x 4 columns]\n",
      "[*********************100%***********************]  1 of 1 completed\n",
      "             XRP-USD   BSV-USD   ADA-USD  DOGE-USD  MIOTA-USD\n",
      "Date                                                         \n",
      "2017-11-09       NaN       NaN       NaN       NaN        NaN\n",
      "2017-11-10       NaN       NaN       NaN       NaN        NaN\n",
      "2017-11-11       NaN       NaN       NaN       NaN        NaN\n",
      "2017-11-12       NaN       NaN       NaN       NaN  -0.045192\n",
      "2017-11-13       NaN       NaN       NaN       NaN  -0.000000\n",
      "...              ...       ...       ...       ...        ...\n",
      "2018-12-28 -0.104613 -0.103256 -0.133120 -0.029611  -0.151788\n",
      "2018-12-29 -0.025474 -0.044937 -0.008456 -0.000000  -0.030854\n",
      "2018-12-30  0.000000  0.009701  0.000000 -0.000000   0.000000\n",
      "2018-12-31 -0.000000  0.040696 -0.051225  0.008872  -0.011760\n",
      "2019-01-01 -0.034207 -0.084585  0.000000 -0.019608   0.000000\n",
      "\n",
      "[419 rows x 5 columns]\n",
      "[*********************100%***********************]  1 of 1 completed\n",
      "             XRP-USD   BSV-USD   ADA-USD  DOGE-USD  MIOTA-USD   TRX-USD\n",
      "Date                                                                   \n",
      "2017-11-09       NaN       NaN       NaN       NaN        NaN       NaN\n",
      "2017-11-10       NaN       NaN       NaN       NaN        NaN       NaN\n",
      "2017-11-11       NaN       NaN       NaN       NaN        NaN       NaN\n",
      "2017-11-12       NaN       NaN       NaN       NaN  -0.045192       NaN\n",
      "2017-11-13       NaN       NaN       NaN       NaN  -0.000000       NaN\n",
      "...              ...       ...       ...       ...        ...       ...\n",
      "2018-12-28 -0.104613 -0.103256 -0.133120 -0.029611  -0.151788 -0.128732\n",
      "2018-12-29 -0.025474 -0.044937 -0.008456 -0.000000  -0.030854 -0.041403\n",
      "2018-12-30  0.000000  0.009701  0.000000 -0.000000   0.000000 -0.000000\n",
      "2018-12-31 -0.000000  0.040696 -0.051225  0.008872  -0.011760 -0.000000\n",
      "2019-01-01 -0.034207 -0.084585  0.000000 -0.019608   0.000000 -0.039042\n",
      "\n",
      "[419 rows x 6 columns]\n",
      "[*********************100%***********************]  1 of 1 completed\n",
      "             XRP-USD   BSV-USD   ADA-USD  DOGE-USD  MIOTA-USD   TRX-USD  \\\n",
      "Date                                                                      \n",
      "2017-11-09       NaN       NaN       NaN       NaN        NaN       NaN   \n",
      "2017-11-10       NaN       NaN       NaN       NaN        NaN       NaN   \n",
      "2017-11-11       NaN       NaN       NaN       NaN        NaN       NaN   \n",
      "2017-11-12       NaN       NaN       NaN       NaN  -0.045192       NaN   \n",
      "2017-11-13       NaN       NaN       NaN       NaN  -0.000000       NaN   \n",
      "...              ...       ...       ...       ...        ...       ...   \n",
      "2018-12-28 -0.104613 -0.103256 -0.133120 -0.029611  -0.151788 -0.128732   \n",
      "2018-12-29 -0.025474 -0.044937 -0.008456 -0.000000  -0.030854 -0.041403   \n",
      "2018-12-30  0.000000  0.009701  0.000000 -0.000000   0.000000 -0.000000   \n",
      "2018-12-31 -0.000000  0.040696 -0.051225  0.008872  -0.011760 -0.000000   \n",
      "2019-01-01 -0.034207 -0.084585  0.000000 -0.019608   0.000000 -0.039042   \n",
      "\n",
      "            BCH-USD  \n",
      "Date                 \n",
      "2017-11-09      NaN  \n",
      "2017-11-10      NaN  \n",
      "2017-11-11      NaN  \n",
      "2017-11-12      NaN  \n",
      "2017-11-13      NaN  \n",
      "...             ...  \n",
      "2018-12-28      0.0  \n",
      "2018-12-29     -0.0  \n",
      "2018-12-30     -0.0  \n",
      "2018-12-31     -0.0  \n",
      "2019-01-01      0.0  \n",
      "\n",
      "[419 rows x 7 columns]\n",
      "[*********************100%***********************]  1 of 1 completed\n",
      "             XRP-USD   BSV-USD   ADA-USD  DOGE-USD  MIOTA-USD   TRX-USD  \\\n",
      "Date                                                                      \n",
      "2017-11-09       NaN       NaN       NaN       NaN        NaN       NaN   \n",
      "2017-11-10       NaN       NaN       NaN       NaN        NaN       NaN   \n",
      "2017-11-11       NaN       NaN       NaN       NaN        NaN       NaN   \n",
      "2017-11-12       NaN       NaN       NaN       NaN  -0.045192       NaN   \n",
      "2017-11-13       NaN       NaN       NaN       NaN  -0.000000       NaN   \n",
      "...              ...       ...       ...       ...        ...       ...   \n",
      "2018-12-28 -0.104613 -0.103256 -0.133120 -0.029611  -0.151788 -0.128732   \n",
      "2018-12-29 -0.025474 -0.044937 -0.008456 -0.000000  -0.030854 -0.041403   \n",
      "2018-12-30  0.000000  0.009701  0.000000 -0.000000   0.000000 -0.000000   \n",
      "2018-12-31 -0.000000  0.040696 -0.051225  0.008872  -0.011760 -0.000000   \n",
      "2019-01-01 -0.034207 -0.084585  0.000000 -0.019608   0.000000 -0.039042   \n",
      "\n",
      "            BCH-USD   XLM-USD  \n",
      "Date                           \n",
      "2017-11-09      NaN       NaN  \n",
      "2017-11-10      NaN       NaN  \n",
      "2017-11-11      NaN       NaN  \n",
      "2017-11-12      NaN       NaN  \n",
      "2017-11-13      NaN       NaN  \n",
      "...             ...       ...  \n",
      "2018-12-28      0.0 -0.098628  \n",
      "2018-12-29     -0.0 -0.000000  \n",
      "2018-12-30     -0.0 -0.000000  \n",
      "2018-12-31     -0.0 -0.000000  \n",
      "2019-01-01      0.0  0.000000  \n",
      "\n",
      "[419 rows x 8 columns]\n",
      "[*********************100%***********************]  1 of 1 completed\n",
      "             XRP-USD   BSV-USD   ADA-USD  DOGE-USD  MIOTA-USD   TRX-USD  \\\n",
      "Date                                                                      \n",
      "2017-11-09       NaN       NaN       NaN       NaN        NaN       NaN   \n",
      "2017-11-10       NaN       NaN       NaN       NaN        NaN       NaN   \n",
      "2017-11-11       NaN       NaN       NaN       NaN        NaN       NaN   \n",
      "2017-11-12       NaN       NaN       NaN       NaN  -0.045192       NaN   \n",
      "2017-11-13       NaN       NaN       NaN       NaN  -0.000000       NaN   \n",
      "...              ...       ...       ...       ...        ...       ...   \n",
      "2018-12-28 -0.104613 -0.103256 -0.133120 -0.029611  -0.151788 -0.128732   \n",
      "2018-12-29 -0.025474 -0.044937 -0.008456 -0.000000  -0.030854 -0.041403   \n",
      "2018-12-30  0.000000  0.009701  0.000000 -0.000000   0.000000 -0.000000   \n",
      "2018-12-31 -0.000000  0.040696 -0.051225  0.008872  -0.011760 -0.000000   \n",
      "2019-01-01 -0.034207 -0.084585  0.000000 -0.019608   0.000000 -0.039042   \n",
      "\n",
      "            BCH-USD   XLM-USD   ETH-USD  \n",
      "Date                                     \n",
      "2017-11-09      NaN       NaN       NaN  \n",
      "2017-11-10      NaN       NaN       NaN  \n",
      "2017-11-11      NaN       NaN       NaN  \n",
      "2017-11-12      NaN       NaN       NaN  \n",
      "2017-11-13      NaN       NaN       NaN  \n",
      "...             ...       ...       ...  \n",
      "2018-12-28      0.0 -0.098628  0.180750  \n",
      "2018-12-29     -0.0 -0.000000  0.002698  \n",
      "2018-12-30     -0.0 -0.000000  0.013340  \n",
      "2018-12-31     -0.0 -0.000000 -0.046412  \n",
      "2019-01-01      0.0  0.000000  0.055869  \n",
      "\n",
      "[419 rows x 9 columns]\n",
      "[*********************100%***********************]  1 of 1 completed\n",
      "             XRP-USD   BSV-USD   ADA-USD  DOGE-USD  MIOTA-USD   TRX-USD  \\\n",
      "Date                                                                      \n",
      "2017-11-09       NaN       NaN       NaN       NaN        NaN       NaN   \n",
      "2017-11-10       NaN       NaN       NaN       NaN        NaN       NaN   \n",
      "2017-11-11       NaN       NaN       NaN       NaN        NaN       NaN   \n",
      "2017-11-12       NaN       NaN       NaN       NaN  -0.045192       NaN   \n",
      "2017-11-13       NaN       NaN       NaN       NaN  -0.000000       NaN   \n",
      "...              ...       ...       ...       ...        ...       ...   \n",
      "2018-12-28 -0.104613 -0.103256 -0.133120 -0.029611  -0.151788 -0.128732   \n",
      "2018-12-29 -0.025474 -0.044937 -0.008456 -0.000000  -0.030854 -0.041403   \n",
      "2018-12-30  0.000000  0.009701  0.000000 -0.000000   0.000000 -0.000000   \n",
      "2018-12-31 -0.000000  0.040696 -0.051225  0.008872  -0.011760 -0.000000   \n",
      "2019-01-01 -0.034207 -0.084585  0.000000 -0.019608   0.000000 -0.039042   \n",
      "\n",
      "            BCH-USD   XLM-USD   ETH-USD      ALGN  \n",
      "Date                                               \n",
      "2017-11-09      NaN       NaN       NaN -0.012305  \n",
      "2017-11-10      NaN       NaN       NaN -0.000681  \n",
      "2017-11-11      NaN       NaN       NaN       NaN  \n",
      "2017-11-12      NaN       NaN       NaN       NaN  \n",
      "2017-11-13      NaN       NaN       NaN  0.017117  \n",
      "...             ...       ...       ...       ...  \n",
      "2018-12-28      0.0 -0.098628  0.180750 -0.014385  \n",
      "2018-12-29     -0.0 -0.000000  0.002698       NaN  \n",
      "2018-12-30     -0.0 -0.000000  0.013340       NaN  \n",
      "2018-12-31     -0.0 -0.000000 -0.046412  0.000000  \n",
      "2019-01-01      0.0  0.000000  0.055869       NaN  \n",
      "\n",
      "[419 rows x 10 columns]\n",
      "[*********************100%***********************]  1 of 1 completed\n",
      "             XRP-USD   BSV-USD   ADA-USD  DOGE-USD  MIOTA-USD   TRX-USD  \\\n",
      "Date                                                                      \n",
      "2017-11-09       NaN       NaN       NaN       NaN        NaN       NaN   \n",
      "2017-11-10       NaN       NaN       NaN       NaN        NaN       NaN   \n",
      "2017-11-11       NaN       NaN       NaN       NaN        NaN       NaN   \n",
      "2017-11-12       NaN       NaN       NaN       NaN  -0.045192       NaN   \n",
      "2017-11-13       NaN       NaN       NaN       NaN  -0.000000       NaN   \n",
      "...              ...       ...       ...       ...        ...       ...   \n",
      "2018-12-28 -0.104613 -0.103256 -0.133120 -0.029611  -0.151788 -0.128732   \n",
      "2018-12-29 -0.025474 -0.044937 -0.008456 -0.000000  -0.030854 -0.041403   \n",
      "2018-12-30  0.000000  0.009701  0.000000 -0.000000   0.000000 -0.000000   \n",
      "2018-12-31 -0.000000  0.040696 -0.051225  0.008872  -0.011760 -0.000000   \n",
      "2019-01-01 -0.034207 -0.084585  0.000000 -0.019608   0.000000 -0.039042   \n",
      "\n",
      "            BCH-USD   XLM-USD   ETH-USD      ALGN      NTES  \n",
      "Date                                                         \n",
      "2017-11-09      NaN       NaN       NaN -0.012305 -0.004201  \n",
      "2017-11-10      NaN       NaN       NaN -0.000681 -0.031931  \n",
      "2017-11-11      NaN       NaN       NaN       NaN       NaN  \n",
      "2017-11-12      NaN       NaN       NaN       NaN       NaN  \n",
      "2017-11-13      NaN       NaN       NaN  0.017117  0.002344  \n",
      "...             ...       ...       ...       ...       ...  \n",
      "2018-12-28      0.0 -0.098628  0.180750 -0.014385 -0.000000  \n",
      "2018-12-29     -0.0 -0.000000  0.002698       NaN       NaN  \n",
      "2018-12-30     -0.0 -0.000000  0.013340       NaN       NaN  \n",
      "2018-12-31     -0.0 -0.000000 -0.046412  0.000000  0.006500  \n",
      "2019-01-01      0.0  0.000000  0.055869       NaN       NaN  \n",
      "\n",
      "[419 rows x 11 columns]\n",
      "[*********************100%***********************]  1 of 1 completed\n",
      "             XRP-USD   BSV-USD   ADA-USD  DOGE-USD  MIOTA-USD   TRX-USD  \\\n",
      "Date                                                                      \n",
      "2017-11-09       NaN       NaN       NaN       NaN        NaN       NaN   \n",
      "2017-11-10       NaN       NaN       NaN       NaN        NaN       NaN   \n",
      "2017-11-11       NaN       NaN       NaN       NaN        NaN       NaN   \n",
      "2017-11-12       NaN       NaN       NaN       NaN  -0.045192       NaN   \n",
      "2017-11-13       NaN       NaN       NaN       NaN  -0.000000       NaN   \n",
      "...              ...       ...       ...       ...        ...       ...   \n",
      "2018-12-28 -0.104613 -0.103256 -0.133120 -0.029611  -0.151788 -0.128732   \n",
      "2018-12-29 -0.025474 -0.044937 -0.008456 -0.000000  -0.030854 -0.041403   \n",
      "2018-12-30  0.000000  0.009701  0.000000 -0.000000   0.000000 -0.000000   \n",
      "2018-12-31 -0.000000  0.040696 -0.051225  0.008872  -0.011760 -0.000000   \n",
      "2019-01-01 -0.034207 -0.084585  0.000000 -0.019608   0.000000 -0.039042   \n",
      "\n",
      "            BCH-USD   XLM-USD   ETH-USD      ALGN      NTES  USDMYR=X  \n",
      "Date                                                                   \n",
      "2017-11-09      NaN       NaN       NaN -0.012305 -0.004201 -0.000000  \n",
      "2017-11-10      NaN       NaN       NaN -0.000681 -0.031931  0.003448  \n",
      "2017-11-11      NaN       NaN       NaN       NaN       NaN       NaN  \n",
      "2017-11-12      NaN       NaN       NaN       NaN       NaN       NaN  \n",
      "2017-11-13      NaN       NaN       NaN  0.017117  0.002344  0.000358  \n",
      "...             ...       ...       ...       ...       ...       ...  \n",
      "2018-12-28      0.0 -0.098628  0.180750 -0.014385 -0.000000 -0.000000  \n",
      "2018-12-29     -0.0 -0.000000  0.002698       NaN       NaN       NaN  \n",
      "2018-12-30     -0.0 -0.000000  0.013340       NaN       NaN       NaN  \n",
      "2018-12-31     -0.0 -0.000000 -0.046412  0.000000  0.006500 -0.000000  \n",
      "2019-01-01      0.0  0.000000  0.055869       NaN       NaN  0.005059  \n",
      "\n",
      "[419 rows x 12 columns]\n",
      "[*********************100%***********************]  1 of 1 completed\n",
      "             XRP-USD   BSV-USD   ADA-USD  DOGE-USD  MIOTA-USD   TRX-USD  \\\n",
      "Date                                                                      \n",
      "2017-11-09       NaN       NaN       NaN       NaN        NaN       NaN   \n",
      "2017-11-10       NaN       NaN       NaN       NaN        NaN       NaN   \n",
      "2017-11-11       NaN       NaN       NaN       NaN        NaN       NaN   \n",
      "2017-11-12       NaN       NaN       NaN       NaN  -0.045192       NaN   \n",
      "2017-11-13       NaN       NaN       NaN       NaN  -0.000000       NaN   \n",
      "...              ...       ...       ...       ...        ...       ...   \n",
      "2018-12-28 -0.104613 -0.103256 -0.133120 -0.029611  -0.151788 -0.128732   \n",
      "2018-12-29 -0.025474 -0.044937 -0.008456 -0.000000  -0.030854 -0.041403   \n",
      "2018-12-30  0.000000  0.009701  0.000000 -0.000000   0.000000 -0.000000   \n",
      "2018-12-31 -0.000000  0.040696 -0.051225  0.008872  -0.011760 -0.000000   \n",
      "2019-01-01 -0.034207 -0.084585  0.000000 -0.019608   0.000000 -0.039042   \n",
      "\n",
      "            BCH-USD   XLM-USD   ETH-USD      ALGN      NTES  USDMYR=X  \\\n",
      "Date                                                                    \n",
      "2017-11-09      NaN       NaN       NaN -0.012305 -0.004201 -0.000000   \n",
      "2017-11-10      NaN       NaN       NaN -0.000681 -0.031931  0.003448   \n",
      "2017-11-11      NaN       NaN       NaN       NaN       NaN       NaN   \n",
      "2017-11-12      NaN       NaN       NaN       NaN       NaN       NaN   \n",
      "2017-11-13      NaN       NaN       NaN  0.017117  0.002344  0.000358   \n",
      "...             ...       ...       ...       ...       ...       ...   \n",
      "2018-12-28      0.0 -0.098628  0.180750 -0.014385 -0.000000 -0.000000   \n",
      "2018-12-29     -0.0 -0.000000  0.002698       NaN       NaN       NaN   \n",
      "2018-12-30     -0.0 -0.000000  0.013340       NaN       NaN       NaN   \n",
      "2018-12-31     -0.0 -0.000000 -0.046412  0.000000  0.006500 -0.000000   \n",
      "2019-01-01      0.0  0.000000  0.055869       NaN       NaN  0.005059   \n",
      "\n",
      "                BIDU  \n",
      "Date                  \n",
      "2017-11-09  0.004644  \n",
      "2017-11-10  0.011081  \n",
      "2017-11-11       NaN  \n",
      "2017-11-12       NaN  \n",
      "2017-11-13  0.000126  \n",
      "...              ...  \n",
      "2018-12-28  0.000000  \n",
      "2018-12-29       NaN  \n",
      "2018-12-30       NaN  \n",
      "2018-12-31 -0.000000  \n",
      "2019-01-01       NaN  \n",
      "\n",
      "[419 rows x 13 columns]\n",
      "[*********************100%***********************]  1 of 1 completed\n",
      "             XRP-USD   BSV-USD   ADA-USD  DOGE-USD  MIOTA-USD   TRX-USD  \\\n",
      "Date                                                                      \n",
      "2017-11-09       NaN       NaN       NaN       NaN        NaN       NaN   \n",
      "2017-11-10       NaN       NaN       NaN       NaN        NaN       NaN   \n",
      "2017-11-11       NaN       NaN       NaN       NaN        NaN       NaN   \n",
      "2017-11-12       NaN       NaN       NaN       NaN  -0.045192       NaN   \n",
      "2017-11-13       NaN       NaN       NaN       NaN  -0.000000       NaN   \n",
      "...              ...       ...       ...       ...        ...       ...   \n",
      "2018-12-28 -0.104613 -0.103256 -0.133120 -0.029611  -0.151788 -0.128732   \n",
      "2018-12-29 -0.025474 -0.044937 -0.008456 -0.000000  -0.030854 -0.041403   \n",
      "2018-12-30  0.000000  0.009701  0.000000 -0.000000   0.000000 -0.000000   \n",
      "2018-12-31 -0.000000  0.040696 -0.051225  0.008872  -0.011760 -0.000000   \n",
      "2019-01-01 -0.034207 -0.084585  0.000000 -0.019608   0.000000 -0.039042   \n",
      "\n",
      "            BCH-USD   XLM-USD   ETH-USD      ALGN      NTES  USDMYR=X  \\\n",
      "Date                                                                    \n",
      "2017-11-09      NaN       NaN       NaN -0.012305 -0.004201 -0.000000   \n",
      "2017-11-10      NaN       NaN       NaN -0.000681 -0.031931  0.003448   \n",
      "2017-11-11      NaN       NaN       NaN       NaN       NaN       NaN   \n",
      "2017-11-12      NaN       NaN       NaN       NaN       NaN       NaN   \n",
      "2017-11-13      NaN       NaN       NaN  0.017117  0.002344  0.000358   \n",
      "...             ...       ...       ...       ...       ...       ...   \n",
      "2018-12-28      0.0 -0.098628  0.180750 -0.014385 -0.000000 -0.000000   \n",
      "2018-12-29     -0.0 -0.000000  0.002698       NaN       NaN       NaN   \n",
      "2018-12-30     -0.0 -0.000000  0.013340       NaN       NaN       NaN   \n",
      "2018-12-31     -0.0 -0.000000 -0.046412  0.000000  0.006500 -0.000000   \n",
      "2019-01-01      0.0  0.000000  0.055869       NaN       NaN  0.005059   \n",
      "\n",
      "                BIDU   NEO-USD  \n",
      "Date                            \n",
      "2017-11-09  0.004644       NaN  \n",
      "2017-11-10  0.011081       NaN  \n",
      "2017-11-11       NaN       NaN  \n",
      "2017-11-12       NaN       NaN  \n",
      "2017-11-13  0.000126       NaN  \n",
      "...              ...       ...  \n",
      "2018-12-28  0.000000 -0.145461  \n",
      "2018-12-29       NaN -0.000937  \n",
      "2018-12-30       NaN  0.018686  \n",
      "2018-12-31 -0.000000 -0.072005  \n",
      "2019-01-01       NaN -0.044073  \n",
      "\n",
      "[419 rows x 14 columns]\n"
     ]
    },
    {
     "data": {
      "text/plain": "             XRP-USD   BSV-USD   ADA-USD  DOGE-USD  MIOTA-USD   TRX-USD  \\\nDate                                                                      \n2018-11-16 -0.000000 -0.312309  0.037644 -0.000000   0.023106  0.009436   \n2018-11-19 -0.063288  0.321119  0.150753 -0.000000   0.138887  0.161600   \n2018-11-20  0.090847  0.297469  0.148435  0.067825   0.149407  0.124280   \n2018-11-21 -0.029731 -0.001678 -0.067066 -0.086069  -0.098548 -0.064094   \n2018-11-23 -0.000000 -0.263817  0.019049 -0.000000  -0.026810 -0.000000   \n\n             BCH-USD   XLM-USD   ETH-USD  ALGN      NTES  USDMYR=X      BIDU  \\\nDate                                                                           \n2018-11-16  0.077139 -0.000000  0.031133   0.0  0.008730 -0.001073 -0.007749   \n2018-11-19  0.127629 -0.000000  0.157522  -0.0 -0.000557  0.000119 -0.000000   \n2018-11-20  0.336107  0.139115  0.126268   0.0 -0.027778 -0.000716  0.030641   \n2018-11-21 -0.054756 -0.054324 -0.048811   0.0 -0.029894  0.000358 -0.036455   \n2018-11-23  0.019114  0.035070  0.026913   0.0 -0.033522  0.000000 -0.000000   \n\n             NEO-USD   BTC-USD  \nDate                            \n2018-11-16  0.023338  0.012833  \n2018-11-19 -0.000000 -0.000000  \n2018-11-20 -0.000000  0.086138  \n2018-11-21  0.000000 -0.033761  \n2018-11-23  0.000000  0.004313  ",
      "text/html": "<div>\n<style scoped>\n    .dataframe tbody tr th:only-of-type {\n        vertical-align: middle;\n    }\n\n    .dataframe tbody tr th {\n        vertical-align: top;\n    }\n\n    .dataframe thead th {\n        text-align: right;\n    }\n</style>\n<table border=\"1\" class=\"dataframe\">\n  <thead>\n    <tr style=\"text-align: right;\">\n      <th></th>\n      <th>XRP-USD</th>\n      <th>BSV-USD</th>\n      <th>ADA-USD</th>\n      <th>DOGE-USD</th>\n      <th>MIOTA-USD</th>\n      <th>TRX-USD</th>\n      <th>BCH-USD</th>\n      <th>XLM-USD</th>\n      <th>ETH-USD</th>\n      <th>ALGN</th>\n      <th>NTES</th>\n      <th>USDMYR=X</th>\n      <th>BIDU</th>\n      <th>NEO-USD</th>\n      <th>BTC-USD</th>\n    </tr>\n    <tr>\n      <th>Date</th>\n      <th></th>\n      <th></th>\n      <th></th>\n      <th></th>\n      <th></th>\n      <th></th>\n      <th></th>\n      <th></th>\n      <th></th>\n      <th></th>\n      <th></th>\n      <th></th>\n      <th></th>\n      <th></th>\n      <th></th>\n    </tr>\n  </thead>\n  <tbody>\n    <tr>\n      <th>2018-11-16</th>\n      <td>-0.000000</td>\n      <td>-0.312309</td>\n      <td>0.037644</td>\n      <td>-0.000000</td>\n      <td>0.023106</td>\n      <td>0.009436</td>\n      <td>0.077139</td>\n      <td>-0.000000</td>\n      <td>0.031133</td>\n      <td>0.0</td>\n      <td>0.008730</td>\n      <td>-0.001073</td>\n      <td>-0.007749</td>\n      <td>0.023338</td>\n      <td>0.012833</td>\n    </tr>\n    <tr>\n      <th>2018-11-19</th>\n      <td>-0.063288</td>\n      <td>0.321119</td>\n      <td>0.150753</td>\n      <td>-0.000000</td>\n      <td>0.138887</td>\n      <td>0.161600</td>\n      <td>0.127629</td>\n      <td>-0.000000</td>\n      <td>0.157522</td>\n      <td>-0.0</td>\n      <td>-0.000557</td>\n      <td>0.000119</td>\n      <td>-0.000000</td>\n      <td>-0.000000</td>\n      <td>-0.000000</td>\n    </tr>\n    <tr>\n      <th>2018-11-20</th>\n      <td>0.090847</td>\n      <td>0.297469</td>\n      <td>0.148435</td>\n      <td>0.067825</td>\n      <td>0.149407</td>\n      <td>0.124280</td>\n      <td>0.336107</td>\n      <td>0.139115</td>\n      <td>0.126268</td>\n      <td>0.0</td>\n      <td>-0.027778</td>\n      <td>-0.000716</td>\n      <td>0.030641</td>\n      <td>-0.000000</td>\n      <td>0.086138</td>\n    </tr>\n    <tr>\n      <th>2018-11-21</th>\n      <td>-0.029731</td>\n      <td>-0.001678</td>\n      <td>-0.067066</td>\n      <td>-0.086069</td>\n      <td>-0.098548</td>\n      <td>-0.064094</td>\n      <td>-0.054756</td>\n      <td>-0.054324</td>\n      <td>-0.048811</td>\n      <td>0.0</td>\n      <td>-0.029894</td>\n      <td>0.000358</td>\n      <td>-0.036455</td>\n      <td>0.000000</td>\n      <td>-0.033761</td>\n    </tr>\n    <tr>\n      <th>2018-11-23</th>\n      <td>-0.000000</td>\n      <td>-0.263817</td>\n      <td>0.019049</td>\n      <td>-0.000000</td>\n      <td>-0.026810</td>\n      <td>-0.000000</td>\n      <td>0.019114</td>\n      <td>0.035070</td>\n      <td>0.026913</td>\n      <td>0.0</td>\n      <td>-0.033522</td>\n      <td>0.000000</td>\n      <td>-0.000000</td>\n      <td>0.000000</td>\n      <td>0.004313</td>\n    </tr>\n  </tbody>\n</table>\n</div>"
     },
     "execution_count": 39,
     "metadata": {},
     "output_type": "execute_result"
    }
   ],
   "source": [
    "# Set the borders\n",
    "start_train,end_train = \"2017-01-01\",'2019-01-01'\n",
    "start_test,end_test = '2019-01-01','2020-01-01'\n",
    "start_valid,end_valid = '2020-01-01','2021-01-01'\n",
    "\n",
    "# Create a dataframe to put the strategies in the portfolio\n",
    "strategies = pd.DataFrame()\n",
    "for col in values.index[:15]:\n",
    "\tdata = yf.download(col)\n",
    "\tbest_neutral = values.loc[col][\"Neutral\"]\n",
    "\tbest_window = values.loc[col][\"Window\"]\n",
    "\tprint(strategies)\n",
    "\tstrategies[f\"{col}\"] = rsi(data.loc[start_train:end_train],best_neutral,best_window)\n",
    "strategies.dropna().head()"
   ],
   "metadata": {
    "collapsed": false,
    "pycharm": {
     "name": "#%%\n"
    }
   }
  },
  {
   "cell_type": "code",
   "execution_count": 45,
   "outputs": [
    {
     "data": {
      "text/plain": "array([0.267, 0.   , 0.   , 0.153, 0.   , 0.   , 0.575, 0.   , 0.   ,\n       0.   , 0.   , 0.   , 0.005, 0.   , 0.   ])"
     },
     "execution_count": 45,
     "metadata": {},
     "output_type": "execute_result"
    }
   ],
   "source": [
    "def sortino_cretiria(weights,returns):\n",
    "\tpf_return = returns.values.dot(weights)\n",
    "\tmu = np.mean(pf_return)\n",
    "\tsigma = np.std(pf_return[pf_return<0])\n",
    "\tsortino = -mu/sigma\n",
    "\treturn sortino\n",
    "\n",
    "num = strategies.shape[1]\n",
    "\n",
    "# Initalize the weights\n",
    "x0 = np.zeros(num)+(1/num)\n",
    "\n",
    "# Optimization constraints\n",
    "cons = ({'type':'eq','fun':lambda x:sum(abs(x))-1})\n",
    "\n",
    "# Put th bounds\n",
    "bound = [(0,1) for i in range(0,num)]\n",
    "\n",
    "# Run the optimization of sortino\n",
    "res_sortino = minimize(sortino_cretiria,x0,method=\"SLSQP\",args=(strategies.loc[start_train:end_test].dropna()),bounds=bound,constraints=cons,options={'disp':False})\n",
    "\n",
    "\n",
    "X_SR = res_sortino.x\n",
    "np.round(X_SR,3)"
   ],
   "metadata": {
    "collapsed": false,
    "pycharm": {
     "name": "#%%\n"
    }
   }
  },
  {
   "cell_type": "code",
   "execution_count": 46,
   "outputs": [
    {
     "data": {
      "text/plain": "Series([], dtype: float64)"
     },
     "execution_count": 46,
     "metadata": {},
     "output_type": "execute_result"
    }
   ],
   "source": [
    "sr = np.multiply(strategies.loc[start_valid:end_valid],X_SR).sum(axis=1)\n",
    "sr"
   ],
   "metadata": {
    "collapsed": false,
    "pycharm": {
     "name": "#%%\n"
    }
   }
  },
  {
   "cell_type": "code",
   "execution_count": null,
   "outputs": [],
   "source": [],
   "metadata": {
    "collapsed": false,
    "pycharm": {
     "name": "#%%\n"
    }
   }
  }
 ],
 "metadata": {
  "kernelspec": {
   "name": "pycharm-c97baf35",
   "language": "python",
   "display_name": "PyCharm (Py_Trade)"
  },
  "language_info": {
   "codemirror_mode": {
    "name": "ipython",
    "version": 2
   },
   "file_extension": ".py",
   "mimetype": "text/x-python",
   "name": "python",
   "nbconvert_exporter": "python",
   "pygments_lexer": "ipython2",
   "version": "2.7.6"
  }
 },
 "nbformat": 4,
 "nbformat_minor": 0
}