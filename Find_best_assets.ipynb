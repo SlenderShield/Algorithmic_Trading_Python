{
  "cells": [
    {
      "cell_type": "markdown",
      "metadata": {
        "id": "QHQ3VoMgQUM9"
      },
      "source": [
        "# Find best assets\n",
        "The objective will be to define whether certain asset classes are more or less suitable for the strategy we propose.We will study several classes: assets, cryptos, currencies. Then we will study different characteristics like Hurst exponent, volatility, beta.\n",
        "\n",
        "### Content\n",
        "* All computations\n",
        "* What assets classes is the best?\n",
        "* Other optimal criterions"
      ]
    },
    {
      "cell_type": "code",
      "execution_count": null,
      "metadata": {
        "id": "qBzEe_-zRHvf"
      },
      "outputs": [],
      "source": [
        "import matplotlib as mpl\n",
        "import matplotlib.pyplot as plt\n",
        "\n",
        "from matplotlib import cycler\n",
        "colors = cycler('color',\n",
        "                ['#669FEE', '#66EE91', '#9988DD',\n",
        "                 '#EECC55', '#88BB44', '#FFBBBB'])\n",
        "plt.rc('figure', facecolor='#313233')\n",
        "plt.rc('axes', facecolor=\"#313233\", edgecolor='none',\n",
        "       axisbelow=True, grid=True, prop_cycle=colors,\n",
        "       labelcolor='gray')\n",
        "plt.rc('grid', color='474A4A', linestyle='solid')\n",
        "plt.rc('xtick', color='gray')\n",
        "plt.rc('ytick', direction='out', color='gray')\n",
        "plt.rc('legend', facecolor=\"#313233\", edgecolor=\"#313233\")\n",
        "plt.rc(\"text\", color=\"#C9C9C9\")\n",
        "plt.rc('figure', facecolor='#313233')"
      ]
    },
    {
      "cell_type": "code",
      "execution_count": null,
      "metadata": {
        "id": "ml712LmuhQzm"
      },
      "outputs": [],
      "source": [
        "import numpy as np\n",
        "import pandas as pd\n",
        "\n",
        "import yfinance as yf\n",
        "from hurst import compute_Hc\n",
        "import seaborn as sns\n",
        "\n",
        "import ta\n",
        "import warnings\n",
        "from tqdm import tqdm"
      ]
    },
    {
      "cell_type": "markdown",
      "metadata": {
        "id": "RIsA-trYhSyq"
      },
      "source": [
        "### Functions"
      ]
    },
    {
      "cell_type": "code",
      "execution_count": null,
      "metadata": {
        "id": "LiuZcyx6kef7"
      },
      "outputs": [],
      "source": [
        "def rsi(val,neutral, window):\n",
        "  \"\"\" \n",
        "        ------------------------------------------------------------------------------\n",
        "        | Output: The function gives the returns of rsi strategy                     |\n",
        "        ------------------------------------------------------------------------------\n",
        "        | Inputs: -val (type dataframe pandas): Entry values of the stock            |\n",
        "        |         -neutral (float): Value of neutrality, i.e. no action zone         |\n",
        "        |         -window (float): rolling period for rsi                            |\n",
        "        ------------------------------------------------------------------------------\n",
        "  \"\"\"\n",
        "\n",
        "  # Print Error if there is no column Adj Close in the dataframe\n",
        "  if \"Adj Close\" not in val.columns:\n",
        "    ValueError(\"We need have a columns name Adj Close because all computation are about this column\")\n",
        "  \n",
        "  val[\"rsi\"] = ta.momentum.rsiIndicator(f[\"Adj Close\"], window=window).rsi()\n",
        "\n",
        "\n",
        "  \n",
        "  \"\"\" Long buy Signal \"\"\"\n",
        "  # We put threshold\n",
        "  overbuy = 70\n",
        "  neutral_buy = 50 + neutral\n",
        "\n",
        "  # Put nan values for the signal long columns\n",
        "  val[\"signal_long\"] = np.nan\n",
        "  val[\"yersteday_rsi\"] = f[\"rsi\"].shift(1)\n",
        "  # We need define the Open Long signal (rsi yersteday<55 and rsi today>55)\n",
        "  val.loc[(val[\"rsi\"]>neutral_buy) & (val[\"yersteday_rsi\"]<neutral_buy), \"signal_long\"] = 1\n",
        "\n",
        "  # We need define the Close Long signal (rsi yersteday>55 and rsi today<55) False signal\n",
        "  val.loc[(val[\"rsi\"]<neutral_buy)&(val[\"yersteday_rsi\"]>neutral_buy), \"signal_long\"] = 0\n",
        "\n",
        "  # We need define the Close Long signal (rsi yersteday>70 and rsi today<70) Over buy signal\n",
        "  val.loc[(val[\"rsi\"]<overbuy)&(val[\"yersteday_rsi\"]>overbuy), \"signal_long\"] = 0\n",
        "\n",
        "\n",
        "\n",
        "  \"\"\"Short sell signal \"\"\"\n",
        "  # We put threshold\n",
        "  oversell = 30\n",
        "  neutral_buy = 50 - neutral\n",
        "\n",
        "  # Put nan values for the signal short columns\n",
        "  val[\"signal_short\"] = np.nan\n",
        "  val[\"yersteday_rsi\"] = val[\"rsi\"].shift(1)\n",
        "  # We need define the Open Short signal (rsi yersteday>45 and rsi today<45)\n",
        "  val.loc[(val[\"rsi\"]<neutral_buy) & (val[\"yersteday_rsi\"]>neutral_buy), \"signal_short\"] = -1\n",
        "\n",
        "  # We need define the Close Short signal (rsi yersteday<45 and rsi today>45) False signal\n",
        "  val.loc[(val[\"rsi\"]>neutral_buy)&(val[\"yersteday_rsi\"]<neutral_buy), \"signal_short\"] = 0\n",
        "\n",
        "  # We need define the Close Short signal (rsi yersteday<30 and rsi today>30) Over sell signal\n",
        "  val.loc[(val[\"rsi\"]>oversell)&(val[\"yersteday_rsi\"]<oversell), \"signal_short\"] = 0\n",
        "\n",
        "\n",
        "  \"\"\" Compute the returns \"\"\"\n",
        "  # Compute the percentage of variation of the asset\n",
        "  val[\"pct\"] = val[\"Adj Close\"].pct_change(1)\n",
        "\n",
        "  # Compute the positions\n",
        "  val[\"Position\"] = (val[\"signal_short\"].fillna(method=\"ffill\")+ val[\"signal_long\"].fillna(method=\"ffill\"))\n",
        "\n",
        "  # Compute the return of the strategy\n",
        "  val[\"return\"] = val[\"pct\"]*(val[\"Position\"].shift(1))\n",
        "\n",
        "  return val[\"return\"]"
      ]
    },
    {
      "cell_type": "code",
      "execution_count": null,
      "metadata": {
        "id": "gm60wRC8lMeW"
      },
      "outputs": [],
      "source": [
        "def beta_function(serie):\n",
        "\n",
        "  # Get SP500 data\n",
        "  sp500 = yf.download(\"^GSPC\")[[\"Adj Close\"]].pct_change(1)\n",
        "\n",
        "  # Change column name\n",
        "  sp500.columns = [\"SP500\"]\n",
        "\n",
        "  # Concatenate\n",
        "  g = pd.concat((serie,sp500), axis=1)\n",
        "\n",
        "  # Compute the beta\n",
        "  beta = np.cov(g[[serie.name, \"SP500\"]].dropna().values,rowvar=False)[0][1] / np.var(g[\"SP500\"].dropna().values)\n",
        "  return beta\n"
      ]
    },
    {
      "cell_type": "code",
      "execution_count": null,
      "metadata": {
        "id": "yiAvGOEmnHYD"
      },
      "outputs": [],
      "source": [
        "def drawdown_function(serie):\n",
        "\n",
        "  # We compute Cumsum of the returns\n",
        "  cum = serie.dropna().cumsum()+1\n",
        "\n",
        "  # We compute max of the cumsum on the period (accumulate max)\n",
        "  running_max = np.maximum.accumulate(cum)\n",
        "\n",
        "  # We compute drawdown\n",
        "  drawdown  = cum/running_max - 1 \n",
        "  return drawdown"
      ]
    },
    {
      "cell_type": "code",
      "execution_count": null,
      "metadata": {
        "id": "ygJr-dDQheqC"
      },
      "outputs": [],
      "source": [
        "def BackTest(serie):\n",
        "\n",
        "  # Import the benchmark\n",
        "  sp500 = yf.download(\"^GSPC\")[\"Adj Close\"].pct_change(1)\n",
        "  \n",
        "  # Change the name\n",
        "  sp500.name = \"SP500\"\n",
        "\n",
        "  # Concat the returns and the sp500\n",
        "  val = pd.concat((return_serie,sp500), axis=1).dropna()\n",
        "  \n",
        "  # Compute the drawdown\n",
        "  drawdown = drawdown_function(serie)\n",
        "  \n",
        "  # Compute max drawdown\n",
        "  max_drawdown = -np.min(drawdown)\n",
        "\n",
        "\n",
        "\n",
        "\n",
        "  # Put a subplots\n",
        "  fig, (cum, dra) = plt.subplots(1,2, figsize=(15,6))\n",
        "  \n",
        "  # Put a Suptitle\n",
        "  fig.suptitle(\"Backtesting\", size=20)\n",
        "\n",
        "  # Returns cumsum chart\n",
        "  cum.plot(serie.cumsum(), color=\"#39B3C7\")\n",
        "\n",
        "  # SP500 cumsum chart\n",
        "  cum.plot(val[\"SP500\"].cumsum(), color=\"#B85A0F\")\n",
        "\n",
        "  # Put a legend\n",
        "  cum.legend([\"Portfolio\", \"SP500\"])\n",
        "  \n",
        "  # Set individual title\n",
        "  cum.set_title(\"Cumulative Return\", size=13)\n",
        "\n",
        "  # Put the drawdown\n",
        "  dra.fill_between(drawdown.index,0,drawdown, color=\"#C73954\", alpha=0.65)\n",
        "\n",
        "  # Set individual title\n",
        "  dra.set_title(\"Drawdown\", size=13)\n",
        "\n",
        "  # Plot the graph\n",
        "  plt.show()\n",
        "\n",
        "\n",
        "\n",
        "\n",
        "  # Compute the sortino\n",
        "  sortino = np.sqrt(252) * serie.mean()/serie.loc[serie<0].std()\n",
        "\n",
        "  # Compute the beta\n",
        "  beta = np.cov(val[[\"return\", \"SP500\"]].values,rowvar=False)[0][1] / np.var(val[\"SP500\"].values)\n",
        "\n",
        "  # Compute the alpha\n",
        "  alpha = 252*serie.mean() - 252*beta*serie.mean()\n",
        "\n",
        "  # Print the statistics\n",
        "  print(f\"Sortino: {np.round(sortino,3)}\")\n",
        "  print(f\"Beta: {np.round(beta,3)}\")\n",
        "  print(f\"Alpha: {np.round(alpha,3)}\")\n",
        "  print(f\"MaxDrawdown: {np.round(max_drawdown*100,3)} %\")"
      ]
    },
    {
      "cell_type": "markdown",
      "metadata": {
        "id": "vzWgHL7mWlIF"
      },
      "source": [
        "# Section1:  Computations"
      ]
    },
    {
      "cell_type": "markdown",
      "metadata": {
        "id": "LhaSaOYnWxMy"
      },
      "source": [
        "### Whats Hurst Exponent?\n",
        "\n",
        "The Hurst exponent is a statistic that helps to understand the behavior of a TimeSeries.\n",
        "\n",
        "* 0.5<Hurst <1: Trending movement\n",
        "* 0.5 = Hurst: Random walk\n",
        "* 0<Hurst<0.5: Antipersitent movement"
      ]
    },
    {
      "cell_type": "code",
      "execution_count": null,
      "metadata": {
        "colab": {
          "base_uri": "https://localhost:8080/"
        },
        "id": "-R2OgIWUXdX2",
        "outputId": "f99e13da-3570-42c5-ff80-ccd32c05f4df"
      },
      "outputs": [],
      "source": [
        "# Trending\n",
        "# Compute Hurst Exponent\n",
        "arr = np.linspace(0,300,150)+100\n",
        "hurst = compute_Hc(arr)[0]\n",
        "\n",
        "# Show the results\n",
        "plt.plot(arr)\n",
        "plt.title(f\"{hurst}\")\n",
        "plt.show()"
      ]
    },
    {
      "cell_type": "code",
      "execution_count": null,
      "metadata": {
        "colab": {
          "base_uri": "https://localhost:8080/"
        },
        "id": "AzevbGaIZISs",
        "outputId": "3b75c90c-dcb7-4475-e59a-bf8a4cedaff8"
      },
      "outputs": [],
      "source": [
        "# Antipersistent\n",
        "# Compute Hurst Exponent\n",
        "arr = np.cos(np.linspace(0,300,150))\n",
        "hurst = compute_Hc(arr)[0]\n",
        "\n",
        "# Show the results\n",
        "plt.plot(arr)\n",
        "plt.title(f\"{hurst}\")\n",
        "plt.show()"
      ]
    },
    {
      "cell_type": "code",
      "execution_count": null,
      "metadata": {
        "colab": {
          "base_uri": "https://localhost:8080/"
        },
        "id": "PZwclZHqYQoN",
        "outputId": "f80daabe-1825-47e5-c06d-184684b0cca0"
      },
      "outputs": [],
      "source": [
        "# Random\n",
        "# Compute Hurst Exponent\n",
        "np.random.seed(56)\n",
        "arr = np.cumsum(np.random.randn(150))\n",
        "hurst = compute_Hc(arr)[0]\n",
        "\n",
        "# Show the results\n",
        "plt.plot(arr)\n",
        "plt.title(f\"{hurst}\")\n",
        "plt.show()"
      ]
    },
    {
      "cell_type": "markdown",
      "metadata": {
        "id": "P_XLRuxRjpfQ"
      },
      "source": [
        "### Computations"
      ]
    },
    {
      "cell_type": "code",
      "execution_count": null,
      "metadata": {
        "colab": {
          "base_uri": "https://localhost:8080/",
          "height": 1000
        },
        "id": "5mcv0flaZKik",
        "outputId": "cd6236ba-36f9-4d3c-f169-5cfd2e6e0604"
      },
      "outputs": [],
      "source": [
        "# We dowload Names.csv because it contains many yahoo ticler\n",
        "assets = pd.read_csv(\"/content/Names.csv\")[\"Symbol\"]\n",
        "\n",
        "# Initialize our lists\n",
        "Statistics = []\n",
        "col = []\n",
        "\n",
        "for fin in tqdm(assets):\n",
        "\n",
        "  # We put try for the asset which have less than 100 values\n",
        "  try:\n",
        "    print(fin)\n",
        "    \n",
        "    # We download data for each asset\n",
        "    f = yf.download(fin).dropna()\n",
        "\n",
        "    # Create a list to put the following statistics\n",
        "    statistics = list()\n",
        "\n",
        "    # Compute the Hurst\n",
        "    statistics.append(compute_Hc(f[\"Adj Close\"])[0])\n",
        "\n",
        "    # Compute the volatility\n",
        "    statistics.append(np.sqrt(252)*f[\"Adj Close\"].pct_change(1).dropna().std())\n",
        "\n",
        "    # Compute the beta\n",
        "    statistics.append(beta_function(f[\"Adj Close\"].pct_change(1).dropna()))\n",
        "\n",
        "    # Compute strat return\n",
        "    statistics.append(rsi(f,5,14).mean()*252)\n",
        "\n",
        "    # Put statistics list in Statistics to have a list of lists\n",
        "    Statistics.append(statistics)\n",
        "    \n",
        "    # Put column name in the list because some columns dont have 100 values\n",
        "    col.append(fin)\n",
        "  \n",
        "  # If the assets has not 100 values we pass to the next\n",
        "  except:\n",
        "    pass\n",
        "\n",
        "\n",
        "# We create dataframe with all the previous statistics\n",
        "resume = pd.DataFrame(Statistics, columns=[\"Hurst\", \"Volatility\", \"Beta\", \"Sum strategy Returns\"], index=col)\n",
        "resume"
      ]
    },
    {
      "cell_type": "code",
      "execution_count": null,
      "metadata": {
        "colab": {
          "base_uri": "https://localhost:8080/",
          "height": 450
        },
        "id": "PeQcV_tskh9Z",
        "outputId": "914e5663-69a1-4300-8da3-03c3fc032c26"
      },
      "outputs": [],
      "source": [
        "# We extract classe of the actif \n",
        "clustering = pd.read_csv(\"/content/Names.csv\", index_col=\"Symbol\")\n",
        "del clustering[\"Unnamed: 0\"]\n",
        "clustering"
      ]
    },
    {
      "cell_type": "code",
      "execution_count": null,
      "metadata": {
        "id": "0Yu37ydymnUB"
      },
      "outputs": [],
      "source": [
        "# Concat resume clustering to have the classe of the assets\n",
        "g = pd.concat((resume,clustering), axis=1).dropna()"
      ]
    },
    {
      "cell_type": "markdown",
      "metadata": {
        "id": "2eamKXsDr9eh"
      },
      "source": [
        "# Section 2: What assets classes is the best?"
      ]
    },
    {
      "cell_type": "code",
      "execution_count": null,
      "metadata": {
        "colab": {
          "base_uri": "https://localhost:8080/"
        },
        "id": "g-AOD_-Ingm7",
        "outputId": "7d76c6df-4c1b-407f-c145-f3b2b5f5ae43"
      },
      "outputs": [],
      "source": [
        "# We are going to plot the density of the strategy returns by the classe of the assets\n",
        "\n",
        "\n",
        "# Plot the densities\n",
        "sns.displot(data=g, x=\"Sum strategy Returns\", kind=\"kde\", hue=\"dummy\")\n",
        "\n",
        "# Limit the axis\n",
        "plt.xlim((-1.15,1.15))\n",
        "\n",
        "# plot the graph\n",
        "plt.show()"
      ]
    },
    {
      "cell_type": "code",
      "execution_count": null,
      "metadata": {
        "colab": {
          "base_uri": "https://localhost:8080/"
        },
        "id": "wrav3rDkoX6r",
        "outputId": "387b9508-f52f-4e50-95de-9c26066ee328"
      },
      "outputs": [],
      "source": [
        "# Describe by currency\n",
        "g.loc[g[\"dummy\"]==\"Currency\"].describe()"
      ]
    },
    {
      "cell_type": "code",
      "execution_count": null,
      "metadata": {
        "colab": {
          "base_uri": "https://localhost:8080/"
        },
        "id": "ZanpPiSPsEWi",
        "outputId": "53f2b62d-b5dc-4cc7-a2d4-e167ce947026"
      },
      "outputs": [],
      "source": [
        "# Describe by Crypto\n",
        "g.loc[g[\"dummy\"]==\"Crypto\"].describe()"
      ]
    },
    {
      "cell_type": "code",
      "execution_count": null,
      "metadata": {
        "colab": {
          "base_uri": "https://localhost:8080/"
        },
        "id": "155dLcjqsJBa",
        "outputId": "bdcad766-a592-41d7-f8c0-b6dca103bd4a"
      },
      "outputs": [],
      "source": [
        "# Describe by asset\n",
        "g.loc[g[\"dummy\"]==\"Asset\"].describe()"
      ]
    },
    {
      "cell_type": "markdown",
      "metadata": {
        "id": "zrrvUpcftwZ7"
      },
      "source": [
        "# Section 3: Other optimal criterions"
      ]
    },
    {
      "cell_type": "code",
      "execution_count": null,
      "metadata": {
        "colab": {
          "base_uri": "https://localhost:8080/"
        },
        "id": "6WGu9uL-sKcx",
        "outputId": "fbd78f6c-d66d-4e92-d0a6-a6a05add5252"
      },
      "outputs": [],
      "source": [
        "g.describe()"
      ]
    },
    {
      "cell_type": "code",
      "execution_count": null,
      "metadata": {
        "colab": {
          "base_uri": "https://localhost:8080/"
        },
        "id": "w2_H76S_uelR",
        "outputId": "ae61efb4-10fb-4407-eea5-278343b2cc6b"
      },
      "outputs": [],
      "source": [
        "# We are going to plot the density of the strategy returns by the HURST\n",
        "g[\"Hurst_dum\"] = \"Low\"\n",
        "g.loc[g[\"Hurst\"]>0.56, \"Hurst_dum\"] = \"High\"\n",
        "\n",
        "# Plot the densities\n",
        "sns.displot(data=g, x=\"Sum strategy Returns\", kind=\"kde\", hue=\"Hurst_dum\")\n",
        "\n",
        "# Limit the axis\n",
        "plt.xlim((-1.15,1.15))\n",
        "\n",
        "# plot the graph\n",
        "plt.show()"
      ]
    },
    {
      "cell_type": "code",
      "execution_count": null,
      "metadata": {
        "colab": {
          "base_uri": "https://localhost:8080/"
        },
        "id": "jgnxc8NbvF-X",
        "outputId": "8dc45252-eded-430d-a566-1736f8a68ceb"
      },
      "outputs": [],
      "source": [
        "# We are going to plot the density of the strategy returns by the classe of the assets\n",
        "g[\"Volatility_dum\"] = \"Low\"\n",
        "g.loc[g[\"Volatility\"]>0.52,\"Volatility_dum\"] = \"High\"\n",
        "# Plot the densities\n",
        "sns.displot(data=g, x=\"Sum strategy Returns\", kind=\"kde\", hue=\"Volatility_dum\")\n",
        "\n",
        "# Limit the axis\n",
        "plt.xlim((-1.15,1.15))\n",
        "\n",
        "# plot the graph\n",
        "plt.show()"
      ]
    },
    {
      "cell_type": "code",
      "execution_count": null,
      "metadata": {
        "colab": {
          "base_uri": "https://localhost:8080/"
        },
        "id": "NTRpKg0Dv1In",
        "outputId": "5cf9ca8e-6d8e-4817-c5fa-eff2f5ed78a7"
      },
      "outputs": [],
      "source": [
        "# We are going to plot the density of the strategy returns by the classe of the assets\n",
        "g[\"Beta_dum\"] = \"Low\"\n",
        "g.loc[g[\"Beta\"]>1,\"Beta_dum\"] = \"High\"\n",
        "# Plot the densities\n",
        "sns.displot(data=g, x=\"Sum strategy Returns\", kind=\"kde\", hue=\"Beta_dum\")\n",
        "\n",
        "# Limit the axis\n",
        "plt.xlim((-1.15,1.15))\n",
        "\n",
        "# plot the graph\n",
        "plt.show()"
      ]
    }
  ],
  "metadata": {
    "colab": {
      "collapsed_sections": [],
      "name": "Find_best_assets1.ipynb",
      "provenance": []
    },
    "kernelspec": {
      "display_name": "Python 3",
      "name": "python3"
    },
    "language_info": {
      "name": "python"
    }
  },
  "nbformat": 4,
  "nbformat_minor": 0
}
