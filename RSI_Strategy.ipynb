{
 "cells": [
  {
   "cell_type": "code",
   "execution_count": 1,
   "metadata": {
    "collapsed": true
   },
   "outputs": [],
   "source": [
    "# importing the dependencies modules\n",
    "import numpy as np\n",
    "import pandas as pd\n",
    "import yfinance as yf\n",
    "import matplotlib as mpl\n",
    "import matplotlib.pyplot as plt\n",
    "import seaborn as sns\n",
    "import ta \n",
    "from tqdm import tqdm\n",
    "from scipy.optimize import minimize\n",
    "import warnings\n",
    "warnings.filterwarnings(\"ignore\")"
   ]
  },
  {
   "cell_type": "code",
   "execution_count": 2,
   "metadata": {
    "collapsed": false,
    "pycharm": {
     "name": "#%%\n"
    }
   },
   "outputs": [],
   "source": [
    "# The code will allow you to switch between the dark and light mode in graphs\n",
    "\n",
    "from matplotlib import cycler\n",
    "colors = cycler('color',['#669FEE','#66EE91','#9988DD','#EECC55','#88BB44','#FFBBBB'])\n",
    "plt.rc('figure',facecolor='#313233')\n",
    "plt.rc('axes',facecolor='#313233',edgecolor='None',axisbelow=True,grid=True,prop_cycle=colors,labelcolor='gray')\n",
    "\n",
    "plt.rc('grid',color='#47a4a4') #, linestlye='solid')\n",
    "plt.rc('xtick',color='gray')\n",
    "plt.rc('ytick',direction='out',color='gray')\n",
    "plt.rc('legend',facecolor='#313233',edgecolor='#313233')\n",
    "plt.rc('text',color='#c9c9c9')"
   ]
  },
  {
   "cell_type": "code",
   "execution_count": 3,
   "metadata": {},
   "outputs": [
    {
     "name": "stdout",
     "output_type": "stream",
     "text": [
      "[*********************100%***********************]  1 of 1 completed\n"
     ]
    }
   ],
   "source": [
    "# import the data\n",
    "data = yf.download('GOOG')"
   ]
  },
  {
   "cell_type": "code",
   "execution_count": null,
   "metadata": {},
   "outputs": [],
   "source": [
    "# compute the RSI\n",
    "# the RSI is a momentum indicator\n",
    "# if the RSI is above 70, it is considered overbought\n",
    "# if the RSI is below 30, it is considered oversold\n",
    "\n",
    "data['rsi'] = ta.momentum.RSIIndicator(data['Adj Close'],window=14).rsi()"
   ]
  },
  {
   "cell_type": "code",
   "execution_count": null,
   "metadata": {},
   "outputs": [],
   "source": [
    "# Plot the RSI with overbought and oversold regions\n",
    "\n",
    "# Adapt the size of the graph\n",
    "plt.figure(figsize=(15,8))\n",
    "\n",
    "# view the RSI\n",
    "plt.plot(data['rsi'].loc['2010'])\n",
    "\n",
    "# view the overbought through a horizontal line(i.e RSI > 70)\n",
    "plt.axhline(70,color='red')\n",
    "\n",
    "# view the oversold through a horizontal line(i.e RSI < 30)\n",
    "plt.axhline(30,color='#CE5757')\n",
    "\n",
    "# Title of the graph\n",
    "plt.title('Relative Strength Index(RSI) with Threshold')\n",
    "\n",
    "# legend of the graph\n",
    "plt.legend(['RSI','Overbought','Oversold'])\n",
    "\n",
    "# show the graph\n",
    "plt.show()\n"
   ]
  },
  {
   "cell_type": "code",
   "execution_count": null,
   "metadata": {},
   "outputs": [],
   "source": [
    "# Plot the RSI with Long Buy and Long Sell regions\n",
    "# Adapt the size of the graph\n",
    "plt.figure(figsize=(15,8))\n",
    "\n",
    "# view the RSI\n",
    "plt.plot(data['rsi'].loc['2021'])\n",
    "# view the overbought through a horizontal line(i.e RSI > 70)\n",
    "plt.fill_between(data['rsi'].loc['2021'].index,55,70 ,color='#57CE95', alpha=0.5)\n",
    "\n",
    "# view the oversold through a horizontal line(i.e RSI < 30)\n",
    "plt.fill_between(data['rsi'].loc['2021'].index, 45, 30, color=\"#CE5757\", alpha=0.5)\n",
    "\n",
    "# Title of the graph\n",
    "plt.title('Relative Strength Index(RSI) with Zone of Long Buy and Long Sell')\n",
    "\n",
    "# legend of the graph\n",
    "plt.legend(['RSI','Long Buy Zone','Long Sell Zone'])\n",
    "\n",
    "# show the graph\n",
    "plt.show()"
   ]
  },
  {
   "cell_type": "code",
   "execution_count": 13,
   "outputs": [],
   "source": [
    "# We define the strategy to take a long buy or short sell\n",
    "# We define a threshold\n",
    "overbuy = 70\n",
    "neutral_buy = 55\n",
    "\n",
    "# Put nan values for the signal long columns\n",
    "data['signal_long'] = np.nan\n",
    "data['yesterday_rsi'] = data['rsi'].shift(1)\n",
    "\n",
    "# we define a Open long signal(RSI yes<55 and RSI today>55)\n",
    "data.loc[(data['rsi'] > neutral_buy ) & (data['yesterday_rsi']< neutral_buy),\"signal_long\"] = 1\n",
    "# We define a Close long signal(RSI yes>55 and RSI today<55) False signal\n",
    "data.loc[(data['rsi'] < neutral_buy ) & (data['yesterday_rsi'] > neutral_buy),\"signal_long\"] = 0\n",
    "\n",
    "# We need to define the Close Long signal(Rsi yes>70 and RSI today<70) Over buy signal\n",
    "data.loc[(data['rsi'] < overbuy ) & (data['yesterday_rsi'] > overbuy),'signal_long'] = 0"
   ],
   "metadata": {
    "collapsed": false,
    "pycharm": {
     "name": "#%%\n"
    }
   }
  },
  {
   "cell_type": "code",
   "execution_count": 15,
   "outputs": [
    {
     "data": {
      "text/plain": "                  Open        High         Low       Close   Adj Close  \\\nDate                                                                     \n2006-01-03  210.471100  217.021545  208.329132  216.802368  216.802368   \n2006-01-04  221.121185  223.641739  219.053925  221.788681  221.788681   \n2006-01-05  222.167267  224.931900  219.925659  224.777481  224.777481   \n2006-01-06  227.581970  234.371521  225.773743  231.960556  231.960556   \n2006-01-09  232.334152  235.816101  229.609375  232.578247  232.578247   \n...                ...         ...         ...         ...         ...   \n2006-12-22  227.895798  228.463669  225.519699  226.939377  226.939377   \n2006-12-26  227.407623  228.877106  226.446228  227.910736  227.910736   \n2006-12-27  229.141129  233.166031  228.692810  233.141129  233.141129   \n2006-12-28  232.687836  233.415100  230.261917  230.416336  230.416336   \n2006-12-29  230.187195  231.367783  229.071381  229.380234  229.380234   \n\n              Volume        rsi  signal_long  yesterday_rsi  signal_short  \\\nDate                                                                        \n2006-01-03  26340763  62.432096          1.0      50.570310           NaN   \n2006-01-04  30687394  66.665455          NaN      62.432096           NaN   \n2006-01-05  21697624  68.925777          NaN      66.665455           NaN   \n2006-01-06  35646914  73.565074          NaN      68.925777           NaN   \n2006-01-09  25679694  73.925580          NaN      73.565074           NaN   \n...              ...        ...          ...            ...           ...   \n2006-12-22   8006498  34.608906          NaN      34.930821           NaN   \n2006-12-26   4164150  36.588319          NaN      34.608906           NaN   \n2006-12-27   8494721  46.057050          NaN      36.588319           0.0   \n2006-12-28   6255761  42.496935          NaN      46.057050          -1.0   \n2006-12-29   5137585  41.193032          NaN      42.496935           NaN   \n\n                 pct  Position    return  \nDate                                      \n2006-01-03  0.049101       0.0  0.000000  \n2006-01-04  0.022999       0.0  0.000000  \n2006-01-05  0.013476       0.0  0.000000  \n2006-01-06  0.031956       0.0  0.000000  \n2006-01-09  0.002663       0.0  0.000000  \n...              ...       ...       ...  \n2006-12-22 -0.001359      -1.0  0.001359  \n2006-12-26  0.004280      -1.0 -0.004280  \n2006-12-27  0.022949       0.0 -0.022949  \n2006-12-28 -0.011687      -1.0 -0.000000  \n2006-12-29 -0.004497      -1.0  0.004497  \n\n[251 rows x 13 columns]",
      "text/html": "<div>\n<style scoped>\n    .dataframe tbody tr th:only-of-type {\n        vertical-align: middle;\n    }\n\n    .dataframe tbody tr th {\n        vertical-align: top;\n    }\n\n    .dataframe thead th {\n        text-align: right;\n    }\n</style>\n<table border=\"1\" class=\"dataframe\">\n  <thead>\n    <tr style=\"text-align: right;\">\n      <th></th>\n      <th>Open</th>\n      <th>High</th>\n      <th>Low</th>\n      <th>Close</th>\n      <th>Adj Close</th>\n      <th>Volume</th>\n      <th>rsi</th>\n      <th>signal_long</th>\n      <th>yesterday_rsi</th>\n      <th>signal_short</th>\n      <th>pct</th>\n      <th>Position</th>\n      <th>return</th>\n    </tr>\n    <tr>\n      <th>Date</th>\n      <th></th>\n      <th></th>\n      <th></th>\n      <th></th>\n      <th></th>\n      <th></th>\n      <th></th>\n      <th></th>\n      <th></th>\n      <th></th>\n      <th></th>\n      <th></th>\n      <th></th>\n    </tr>\n  </thead>\n  <tbody>\n    <tr>\n      <th>2006-01-03</th>\n      <td>210.471100</td>\n      <td>217.021545</td>\n      <td>208.329132</td>\n      <td>216.802368</td>\n      <td>216.802368</td>\n      <td>26340763</td>\n      <td>62.432096</td>\n      <td>1.0</td>\n      <td>50.570310</td>\n      <td>NaN</td>\n      <td>0.049101</td>\n      <td>0.0</td>\n      <td>0.000000</td>\n    </tr>\n    <tr>\n      <th>2006-01-04</th>\n      <td>221.121185</td>\n      <td>223.641739</td>\n      <td>219.053925</td>\n      <td>221.788681</td>\n      <td>221.788681</td>\n      <td>30687394</td>\n      <td>66.665455</td>\n      <td>NaN</td>\n      <td>62.432096</td>\n      <td>NaN</td>\n      <td>0.022999</td>\n      <td>0.0</td>\n      <td>0.000000</td>\n    </tr>\n    <tr>\n      <th>2006-01-05</th>\n      <td>222.167267</td>\n      <td>224.931900</td>\n      <td>219.925659</td>\n      <td>224.777481</td>\n      <td>224.777481</td>\n      <td>21697624</td>\n      <td>68.925777</td>\n      <td>NaN</td>\n      <td>66.665455</td>\n      <td>NaN</td>\n      <td>0.013476</td>\n      <td>0.0</td>\n      <td>0.000000</td>\n    </tr>\n    <tr>\n      <th>2006-01-06</th>\n      <td>227.581970</td>\n      <td>234.371521</td>\n      <td>225.773743</td>\n      <td>231.960556</td>\n      <td>231.960556</td>\n      <td>35646914</td>\n      <td>73.565074</td>\n      <td>NaN</td>\n      <td>68.925777</td>\n      <td>NaN</td>\n      <td>0.031956</td>\n      <td>0.0</td>\n      <td>0.000000</td>\n    </tr>\n    <tr>\n      <th>2006-01-09</th>\n      <td>232.334152</td>\n      <td>235.816101</td>\n      <td>229.609375</td>\n      <td>232.578247</td>\n      <td>232.578247</td>\n      <td>25679694</td>\n      <td>73.925580</td>\n      <td>NaN</td>\n      <td>73.565074</td>\n      <td>NaN</td>\n      <td>0.002663</td>\n      <td>0.0</td>\n      <td>0.000000</td>\n    </tr>\n    <tr>\n      <th>...</th>\n      <td>...</td>\n      <td>...</td>\n      <td>...</td>\n      <td>...</td>\n      <td>...</td>\n      <td>...</td>\n      <td>...</td>\n      <td>...</td>\n      <td>...</td>\n      <td>...</td>\n      <td>...</td>\n      <td>...</td>\n      <td>...</td>\n    </tr>\n    <tr>\n      <th>2006-12-22</th>\n      <td>227.895798</td>\n      <td>228.463669</td>\n      <td>225.519699</td>\n      <td>226.939377</td>\n      <td>226.939377</td>\n      <td>8006498</td>\n      <td>34.608906</td>\n      <td>NaN</td>\n      <td>34.930821</td>\n      <td>NaN</td>\n      <td>-0.001359</td>\n      <td>-1.0</td>\n      <td>0.001359</td>\n    </tr>\n    <tr>\n      <th>2006-12-26</th>\n      <td>227.407623</td>\n      <td>228.877106</td>\n      <td>226.446228</td>\n      <td>227.910736</td>\n      <td>227.910736</td>\n      <td>4164150</td>\n      <td>36.588319</td>\n      <td>NaN</td>\n      <td>34.608906</td>\n      <td>NaN</td>\n      <td>0.004280</td>\n      <td>-1.0</td>\n      <td>-0.004280</td>\n    </tr>\n    <tr>\n      <th>2006-12-27</th>\n      <td>229.141129</td>\n      <td>233.166031</td>\n      <td>228.692810</td>\n      <td>233.141129</td>\n      <td>233.141129</td>\n      <td>8494721</td>\n      <td>46.057050</td>\n      <td>NaN</td>\n      <td>36.588319</td>\n      <td>0.0</td>\n      <td>0.022949</td>\n      <td>0.0</td>\n      <td>-0.022949</td>\n    </tr>\n    <tr>\n      <th>2006-12-28</th>\n      <td>232.687836</td>\n      <td>233.415100</td>\n      <td>230.261917</td>\n      <td>230.416336</td>\n      <td>230.416336</td>\n      <td>6255761</td>\n      <td>42.496935</td>\n      <td>NaN</td>\n      <td>46.057050</td>\n      <td>-1.0</td>\n      <td>-0.011687</td>\n      <td>-1.0</td>\n      <td>-0.000000</td>\n    </tr>\n    <tr>\n      <th>2006-12-29</th>\n      <td>230.187195</td>\n      <td>231.367783</td>\n      <td>229.071381</td>\n      <td>229.380234</td>\n      <td>229.380234</td>\n      <td>5137585</td>\n      <td>41.193032</td>\n      <td>NaN</td>\n      <td>42.496935</td>\n      <td>NaN</td>\n      <td>-0.004497</td>\n      <td>-1.0</td>\n      <td>0.004497</td>\n    </tr>\n  </tbody>\n</table>\n<p>251 rows × 13 columns</p>\n</div>"
     },
     "execution_count": 15,
     "metadata": {},
     "output_type": "execute_result"
    }
   ],
   "source": [
    "data['2006']"
   ],
   "metadata": {
    "collapsed": false,
    "pycharm": {
     "name": "#%%\n"
    }
   }
  },
  {
   "cell_type": "code",
   "execution_count": null,
   "outputs": [],
   "source": [
    "# We plot all the signals\n",
    "\n",
    "# Select all the signals in a index list to plot\n",
    "index_open = data.loc[data[\"signal_long\"] ==1].loc[\"2010\"].index\n",
    "index_close = data.loc[data[\"signal_long\"] ==0].loc[\"2010\"].index\n",
    "\n",
    "# Adapt the size of the graph\n",
    "plt.figure(figsize=(15,8))\n",
    "# plot the points of the open long signal\n",
    "plt.scatter(data.loc[index_open]['rsi'].index,data.loc[index_open]['rsi'].loc['2010'],color=\"#57CE95\",marker=\"^\")\n",
    "\n",
    "# plot the points of the close long signal\n",
    "plt.scatter(data.loc[index_close]['rsi'].index,data.loc[index_close]['rsi'].loc['2010'],color=\"#669FEE\",marker=\"o\")\n",
    "\n",
    "# Plot the RSI\n",
    "plt.plot(data['rsi'].loc['2010'].index, data['rsi'].loc['2010'], alpha=0.35)\n",
    "\n",
    "# Show the graph\n",
    "plt.show()"
   ],
   "metadata": {
    "collapsed": false,
    "pycharm": {
     "name": "#%%\n"
    }
   }
  },
  {
   "cell_type": "code",
   "execution_count": null,
   "outputs": [],
   "source": [
    "# We define the strategy to take a short sell\n",
    "# We define a threshold\n",
    "oversell = 30\n",
    "neutral_sell = 45\n",
    "\n",
    "# Put nan values for the signal short columns\n",
    "data['signal_long'] = np.nan\n",
    "data['yesterday_rsi'] = data['rsi'].shift(1)\n",
    "\n",
    "# We need to define the Open short signal(Rsi yes>45 and RSI today<45)\n",
    "data.loc[(data['rsi']<neutral_sell) & (data['yesterday_rsi']>neutral_sell),'signal_short'] = -1\n",
    "\n",
    "# We need to define the Close short signal(Rsi yes<4530 and RSI today>45) False signal\n",
    "data.loc[(data['rsi']>neutral_sell) & (data['yesterday_rsi']<neutral_sell),'signal_short'] = 0\n",
    "\n",
    "# We need to define the Close short signal(Rsi yes<4530 and RSI today>45) False signal\n",
    "data.loc[(data['rsi']>oversell) & (data['yesterday_rsi']<oversell),'signal_short'] = 0\n",
    "data"
   ],
   "metadata": {
    "collapsed": false,
    "pycharm": {
     "name": "#%%\n"
    }
   }
  },
  {
   "cell_type": "code",
   "execution_count": null,
   "outputs": [],
   "source": [
    "# We plot all the signals\n",
    "# Select all the signals in a index list to plot\n",
    "index_open = data.loc[data[\"signal_short\"] ==-1].loc[\"2010\"].index\n",
    "index_close = data.loc[data[\"signal_short\"] ==0].loc[\"2010\"].index\n",
    "\n",
    "# Adapt the size of the graph\n",
    "plt.figure(figsize=(15,8))\n",
    "# plot the points of the open long signal\n",
    "plt.scatter(data.loc[index_open]['rsi'].index,data.loc[index_open]['rsi'].loc['2010'],color=\"#CE5757\",marker=\"v\")\n",
    "\n",
    "# plot the points of the close long signal\n",
    "plt.scatter(data.loc[index_close]['rsi'].index,data.loc[index_close]['rsi'].loc['2010'],color=\"#669FEE\",marker=\"o\")\n",
    "\n",
    "# Plot the RSI\n",
    "plt.plot(data['rsi'].loc['2010'].index, data['rsi'].loc['2010'], alpha=0.35)\n",
    "\n",
    "# Show the graph\n",
    "plt.show()\n",
    "data['2010']"
   ],
   "metadata": {
    "collapsed": false,
    "pycharm": {
     "name": "#%%\n"
    }
   }
  },
  {
   "cell_type": "code",
   "execution_count": null,
   "outputs": [],
   "source": [
    "data['Position'] = (data['signal_short'].fillna(method='ffill') + data['signal_long'].fillna(method='ffill'))\n",
    "data.dropna(thresh=10)\n",
    "data"
   ],
   "metadata": {
    "collapsed": false,
    "pycharm": {
     "name": "#%%\n"
    }
   }
  },
  {
   "cell_type": "code",
   "execution_count": null,
   "outputs": [],
   "source": [
    "# We plot all the signals\n",
    "\n",
    "year = '2010'\n",
    "idx_long = data.loc[data['Position']==1].loc[year].index\n",
    "idx_short = data.loc[data['Position']==-1].loc[year].index\n",
    "\n",
    "plt.figure(figsize=(15,8))\n",
    "\n",
    "# Plot the points of short signal\n",
    "plt.scatter(data.loc[idx_short]['Adj Close'].index, data.loc[idx_short]['Adj Close'].loc[year],color='#CE5757',marker='v')\n",
    "\n",
    "# Plot the points of long signal\n",
    "plt.scatter(data.loc[idx_long]['Adj Close'].index, data.loc[idx_long]['Adj Close'].loc[year],color='#57CE95',marker='^')\n",
    "\n",
    "# Plot the Google stock price to meet the completion\n",
    "plt.plot(data['Adj Close'].loc[year].index,data['Adj Close'].loc[year],alpha=0.35)\n",
    "\n",
    "# Plot the graph\n",
    "plt.show()\n"
   ],
   "metadata": {
    "collapsed": false,
    "pycharm": {
     "name": "#%%\n"
    }
   }
  },
  {
   "cell_type": "code",
   "execution_count": null,
   "outputs": [],
   "source": [
    "# Compute % Variations\n",
    "data['pct'] = data['Adj Close'].pct_change(1)\n",
    "\n",
    "# Compute teh return of the strategy\n",
    "\n",
    "data['return'] = data['pct']*(data['Position'].shift(1))\n",
    "data['return'].loc['2010'].cumsum().plot(figsize=(15,8))"
   ],
   "metadata": {
    "collapsed": false,
    "pycharm": {
     "name": "#%%\n"
    }
   }
  },
  {
   "cell_type": "code",
   "execution_count": 16,
   "outputs": [],
   "source": [
    "# Function to do RSI strategy\n",
    "def rsi(val,neutral,window):\n",
    "    \"\"\"\n",
    "\n",
    "    Input:\n",
    "    :param val: (type dataframe pandas): Entry values of the stock\n",
    "    :param neutral:(float) Value of the neutrality, i.e No Action Zone\n",
    "    :param window: (float) rolling period for RSI calculation\n",
    "\n",
    "    Output: The function gives the returns of RSI strategy\n",
    "    :return:\n",
    "    \"\"\"\n",
    "    # Print error is no Adj Close column is not present\n",
    "    if \"Adj Close\" not in val.columns:\n",
    "        ValueError(\"Error: No Adj Close column is present\")\n",
    "\n",
    "    val['rsi'] = ta.momentum.RSIIndicator(val['Adj Close'], window=window).rsi()\n",
    "\n",
    "    \"\"\"Long Buy signal\"\"\"\n",
    "    overbuy = 70\n",
    "    neutral_buy = 50 + neutral\n",
    "\n",
    "    # Put nan values for te signal long columns\n",
    "    val['signal_long'] = np.nan\n",
    "    val['yesterday_rsi'] = val['rsi'].shift(1)\n",
    "    # We need to define open long signal (Rsi yes>55 and RSI today>55)\n",
    "    val.loc[(val['rsi']> neutral_buy) & (val['yesterday_rsi'] <neutral_buy),'signal_long'] = 1\n",
    "    # open long signal for false positive (Rsi yes>55 and RSI today<55)\n",
    "    val.loc[(val['rsi']< neutral_buy) & (val['yesterday_rsi'] >neutral_buy),'signal_long'] = 0\n",
    "    # open long signal for overbuy (Rsi yes>70 and RSI today<70)\n",
    "    val.loc[(val['rsi']< overbuy) & (val['yesterday_rsi'] >overbuy),'signal_long'] = 0\n",
    "\n",
    "    \"\"\"Short Sell signal\"\"\"\n",
    "    oversell = 30\n",
    "    neutral_sell = 50 - neutral\n",
    "\n",
    "    # Put the values for the short signal columns\n",
    "    val['signal_short'] = np.nan\n",
    "\n",
    "    # We define the Open short signal (RSI yes>45 and RSI today<45)\n",
    "    val.loc[(val['rsi']<neutral_sell) & (val['yesterday_rsi']>neutral_sell),'signal_short'] = -1\n",
    "\n",
    "    # We define the Close short signal(Rsi yes<45 and RSI today>45) False signal\n",
    "    val.loc[(val['rsi']>neutral_sell) & (val['yesterday_rsi']<neutral_sell),'signal_short'] = 0\n",
    "\n",
    "    # We define the Close short signal (RSI yes<30 and RSI today>30) Oversell\n",
    "    val.loc[(val['rsi']>oversell) & (val['yesterday_rsi']<oversell),'signal_short'] = 0\n",
    "\n",
    "    \"\"\"Compute the returns\"\"\"\n",
    "    # Compute the percentage of the variation of the stock\n",
    "    val['pct'] = val['Adj Close'].pct_change(1)\n",
    "\n",
    "    # Calculate the position\n",
    "    val['Position'] = (val['signal_short'].fillna(method='ffill') + val['signal_long'].fillna(method='ffill'))\n",
    "\n",
    "    # Compute the returns\n",
    "    val['return'] = val['pct']*(val['Position'].shift(1))\n",
    "\n",
    "    return val['return']"
   ],
   "metadata": {
    "collapsed": false,
    "pycharm": {
     "name": "#%%\n"
    }
   }
  },
  {
   "cell_type": "code",
   "execution_count": 18,
   "outputs": [
    {
     "data": {
      "text/plain": "<AxesSubplot:xlabel='Date'>"
     },
     "execution_count": 18,
     "metadata": {},
     "output_type": "execute_result"
    },
    {
     "data": {
      "text/plain": "<Figure size 1080x576 with 1 Axes>",
      "image/png": "[encoded data removed]"
     },
     "metadata": {},
     "output_type": "display_data"
    }
   ],
   "source": [
    "# test\n",
    "returns= rsi(data['2010'],5,14)\n",
    "returns.cumsum().plot(figsize=(15,8))"
   ],
   "metadata": {
    "collapsed": false,
    "pycharm": {
     "name": "#%%\n"
    }
   }
  },
  {
   "cell_type": "code",
   "execution_count": null,
   "outputs": [],
   "source": [],
   "metadata": {
    "collapsed": false,
    "pycharm": {
     "name": "#%%\n"
    }
   }
  }
 ],
 "metadata": {
  "interpreter": {
   "hash": "238cdf440e51fe3a064d2a66929c7a468bcf48e00865a1560f70a1f7b76ed452"
  },
  "kernelspec": {
   "name": "pycharm-c97baf35",
   "language": "python",
   "display_name": "PyCharm (Py_Trade)"
  },
  "language_info": {
   "codemirror_mode": {
    "name": "ipython",
    "version": 3
   },
   "file_extension": ".py",
   "mimetype": "text/x-python",
   "name": "python",
   "nbconvert_exporter": "python",
   "pygments_lexer": "ipython3",
   "version": "3.8.12"
  }
 },
 "nbformat": 4,
 "nbformat_minor": 0
}