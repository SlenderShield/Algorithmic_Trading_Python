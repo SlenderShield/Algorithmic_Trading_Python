{
 "cells": [
  {
   "cell_type": "markdown",
   "metadata": {
    "id": "dXWVcWhJr5EQ"
   },
   "source": [
    "# Strategy  with RSI\n",
    "The strategy will be created using the RSI indicator (detailed description in the next box).\n",
    "\n",
    "### Content\n",
    "* Explanation and computation of the RSI\n",
    "* Do a strategy with the RSI\n",
    "* Automate the strategy"
   ]
  },
  {
   "cell_type": "code",
   "execution_count": null,
   "metadata": {
    "id": "tugEGelg9dEg"
   },
   "outputs": [],
   "source": [
    "# import library\n",
    "import numpy as np\n",
    "import yfinance as yf\n",
    "import ta\n",
    "import warnings\n",
    "warnings.filterwarnings(\"ignore\")\n"
   ]
  },
  {
   "cell_type": "code",
   "execution_count": null,
   "metadata": {
    "id": "XKCd6BVN9wVN"
   },
   "outputs": [],
   "source": [
    "# The code here will allow you to switch your graphics to dark mode for those who choose to code in dark mode\n",
    "\n",
    "import matplotlib.pyplot as plt\n",
    "from matplotlib import cycler\n",
    "colors = cycler('color',\n",
    "                ['#669FEE', '#66EE91', '#9988DD',\n",
    "                 '#EECC55', '#88BB44', '#FFBBBB'])\n",
    "plt.rc('figure', facecolor='#313233')\n",
    "plt.rc('axes', facecolor=\"#313233\", edgecolor='none',\n",
    "       axisbelow=True, grid=True, prop_cycle=colors,\n",
    "       labelcolor='gray')\n",
    "plt.rc('grid', color='474A4A', linestyle='solid')\n",
    "plt.rc('xtick', color='gray')\n",
    "plt.rc('ytick', direction='out', color='gray')\n",
    "plt.rc('legend', facecolor=\"#313233\", edgecolor=\"#313233\")\n",
    "plt.rc(\"text\", color=\"#C9C9C9\")"
   ]
  },
  {
   "cell_type": "markdown",
   "metadata": {
    "id": "OGMaOxKN8fIj"
   },
   "source": [
    "# Section 1: Explanation and computation of the RSI"
   ]
  },
  {
   "cell_type": "markdown",
   "metadata": {
    "id": "OcdzVKiB8ud_"
   },
   "source": [
    "### Explanation\n",
    "The RSI (Relative Strength Index) will allow you to understand the strength of a trend and identify the end of a trend. The RSI value will vary from 0 to 100.\n",
    "\n",
    "* If the RSI is around the 70 level, it is assumed that the instrument is overbought. This is a situation where prices have risen sharply, and the movement is likely to weaken.\n",
    "* If the RSI is around the 30 level, this is a technical signal that the instrument may be oversold. In this case, it is a situation where prices have fallen sharply, and the movement may now lose strength.\n",
    "* If the indicator oscillates horizontally around the 50 level, it means that the market is lacking a trend. The 50 level is the middle line that separates the bullish and bearish territories of the indicator...\n",
    "\n",
    "It should be taken into account that the RSI is an indicator of the oscillator family, so it will work a little less well in markets with less volatility, such as the stock market.\n",
    "\n",
    "\n"
   ]
  },
  {
   "cell_type": "code",
   "execution_count": null,
   "metadata": {
    "colab": {
     "base_uri": "https://localhost:8080/"
    },
    "id": "h1JJCj3d8g5n",
    "outputId": "67e63086-fa6e-4c69-ee70-e7d66c1b1982"
   },
   "outputs": [],
   "source": [
    "# Import the data\n",
    "data_set = yf.download(\"GOOG\")"
   ]
  },
  {
   "cell_type": "code",
   "execution_count": null,
   "metadata": {
    "colab": {
     "base_uri": "https://localhost:8080/"
    },
    "id": "-XXbHGPV84VI",
    "outputId": "c1b9843f-60ec-4184-90e9-1fb7485cf121"
   },
   "outputs": [],
   "source": [
    "# Compute the rsi\n",
    "data_set[\"rsi\"] = ta.momentum.RSIIndicator(data_set[\"Adj Close\"], window=14).rsi()\n",
    "data_set"
   ]
  },
  {
   "cell_type": "code",
   "execution_count": null,
   "metadata": {
    "colab": {
     "base_uri": "https://localhost:8080/"
    },
    "id": "CDLJ1aQy9UY_",
    "outputId": "ebed9811-cd15-40e9-b5fa-150571f97193"
   },
   "outputs": [],
   "source": [
    "\n",
    "# Plot the RSI with overbuy and oversell threshold\n",
    "\n",
    "# Adapt the size of the graph\n",
    "plt.figure(figsize=(15,6))\n",
    "\n",
    "# View the RSI\n",
    "plt.plot(data_set[\"rsi\"].loc[\"2010\"])\n",
    "\n",
    "# View horizontal line for Overbuy threshold (RSI=70)\n",
    "plt.axhline(70, color=\"#57CE95\")\n",
    "\n",
    "# View horizontal line for Oversell threshold (RSI=30)\n",
    "plt.axhline(30, color=\"#CE5757\")\n",
    "\n",
    "# Put a title\n",
    "plt.title(\"RSI with thresholds\")\n",
    "\n",
    "# Put a legend\n",
    "plt.legend([\"RSI\", \"Overbuy threshold\", \"Oversell threshold\"])\n",
    "\n",
    "# Show the graph\n",
    "plt.show()"
   ]
  },
  {
   "cell_type": "markdown",
   "metadata": {
    "id": "WWKAhkaW_hdd"
   },
   "source": [
    "# Section 2: Do a strategy with the RSI"
   ]
  },
  {
   "cell_type": "code",
   "execution_count": null,
   "metadata": {
    "colab": {
     "base_uri": "https://localhost:8080/",
     "height": 390
    },
    "id": "ANbatWwX9bRM",
    "outputId": "5f5d61b3-cddf-4ee9-a007-ab6b1c787376"
   },
   "outputs": [],
   "source": [
    "# Plot the RSI with the Long buy zone and Short sell zone\n",
    "\n",
    "# Adapt the size of the graph\n",
    "plt.figure(figsize=(15,6))\n",
    "\n",
    "# View the RSI\n",
    "plt.plot(data_set[\"rsi\"].loc[\"2010\"])\n",
    "\n",
    "# View horizontal line for Overbuy threshold (RSI=70)\n",
    "plt.fill_between(data_set[\"rsi\"].loc[\"2010\"].index, 55,\n",
    "                 70, 55 < 70, color=\"#57CE95\",\n",
    "                 alpha=0.5)\n",
    "\n",
    "# View horizontal line for Oversell threshold (RSI=30)\n",
    "plt.fill_between(data_set[\"rsi\"].loc[\"2010\"].index, 45,\n",
    "                 30, 30 < 45, color=\"#CE5757\",\n",
    "                 alpha=0.5)\n",
    "# Put a title\n",
    "plt.title(\"RSI with zone of long buy and short sell\")\n",
    "\n",
    "# Put a legend\n",
    "plt.legend([\"RSI\", \"Long buy zone\", \"Short sell zone\"])\n",
    "\n",
    "# Show the graph\n",
    "plt.show()"
   ]
  },
  {
   "cell_type": "code",
   "execution_count": null,
   "metadata": {
    "id": "iWPzzOcAB7xq"
   },
   "outputs": [],
   "source": [
    "# We define when the strategy must take a long buy or a short sell\n",
    "\n",
    "# We need define the Open Long signal and Close Long signal\n",
    "\n",
    "# We put threshold\n",
    "overbuy = 70\n",
    "neutral_buy = 55\n",
    "\n",
    "# Put nan values for the signal long columns\n",
    "data_set[\"signal_long\"] = np.nan\n",
    "data_set[\"yersteday_rsi\"] = data_set[\"rsi\"].shift(1)\n",
    "# We need define the Open Long signal (RSI yersteday<55 and RSI today>55)\n",
    "data_set.loc[(data_set[\"rsi\"] > neutral_buy) & (data_set[\"yersteday_rsi\"] < neutral_buy), \"signal_long\"] = 1\n",
    "\n",
    "# We need define the Close Long signal (RSI yersteday>55 and RSI today<55) False signal\n",
    "data_set.loc[(data_set[\"rsi\"] < neutral_buy) & (data_set[\"yersteday_rsi\"] > neutral_buy), \"signal_long\"] = 0\n",
    "\n",
    "# We need define the Close Long signal (RSI yersteday>70 and RSI today<70) Over buy signal\n",
    "data_set.loc[(data_set[\"rsi\"] < overbuy) & (data_set[\"yersteday_rsi\"] > overbuy), \"signal_long\"] = 0\n"
   ]
  },
  {
   "cell_type": "code",
   "execution_count": null,
   "metadata": {
    "colab": {
     "base_uri": "https://localhost:8080/",
     "height": 374
    },
    "id": "7reXdFbtFBzM",
    "outputId": "2ebbd164-0196-4d17-8a5b-65595586faa3"
   },
   "outputs": [],
   "source": [
    "# We plot all the signla to be sure that they be correct\n",
    "\n",
    "# Select all signal in a index list to plot only this points\n",
    "idx_open = data_set.loc[data_set[\"signal_long\"] == 1].loc[\"2010\"].index\n",
    "idx_close = data_set.loc[data_set[\"signal_long\"] == 0].loc[\"2010\"].index\n",
    "\n",
    "\n",
    "# Adapt the size of the graph\n",
    "plt.figure(figsize=(15,6))\n",
    "\n",
    "# Plot the points of the open long signal in green\n",
    "plt.scatter(data_set.loc[idx_open][\"rsi\"].index, data_set.loc[idx_open][\"rsi\"].loc[\"2010\"], color=\"#57CE95\", marker=\"^\")\n",
    "\n",
    "# Plot the points of the close long signal in blue\n",
    "plt.scatter(data_set.loc[idx_close][\"rsi\"].index, data_set.loc[idx_close][\"rsi\"].loc[\"2010\"], color=\"#669FEE\", marker=\"o\")\n",
    "\n",
    "# Plot the rsi to be sure that the conditions are completed\n",
    "plt.plot(data_set[\"rsi\"].loc[\"2010\"].index, data_set[\"rsi\"].loc[\"2010\"], alpha=0.35)\n",
    "\n",
    "# Show the graph\n",
    "plt.show() "
   ]
  },
  {
   "cell_type": "code",
   "execution_count": null,
   "metadata": {
    "id": "e0ChOcWhFbpG"
   },
   "outputs": [],
   "source": [
    "# We define when the strategy must take a long buy or a short sell\n",
    "\n",
    "# ******************************************************************************\n",
    "# We need define the Open Short signal and Close Short signal\n",
    "\n",
    "# We put threshold\n",
    "oversell = 30\n",
    "neutral_buy = 45\n",
    "\n",
    "# Put nan values for the signal short columns\n",
    "data_set[\"signal_short\"] = np.nan\n",
    "data_set[\"yersteday_rsi\"] = data_set[\"rsi\"].shift(1)\n",
    "# We need define the Open short signal (RSI yersteday>45 and RSI today<45)\n",
    "data_set.loc[(data_set[\"rsi\"] < neutral_buy) & (data_set[\"yersteday_rsi\"] > neutral_buy), \"signal_short\"] = -1\n",
    "\n",
    "# We need define the Close short signal (RSI yersteday<45 and RSI today>45) False signal\n",
    "data_set.loc[(data_set[\"rsi\"] > neutral_buy) & (data_set[\"yersteday_rsi\"] < neutral_buy), \"signal_short\"] = 0\n",
    "\n",
    "# We need define the Close short signal (RSI yersteday<30 and RSI today>30) Over sell signal\n",
    "data_set.loc[(data_set[\"rsi\"] > oversell) & (data_set[\"yersteday_rsi\"] < oversell), \"signal_short\"] = 0"
   ]
  },
  {
   "cell_type": "code",
   "execution_count": null,
   "metadata": {
    "colab": {
     "base_uri": "https://localhost:8080/",
     "height": 374
    },
    "id": "wzKU8tXWGJO1",
    "outputId": "0309d924-6537-4f3a-efeb-487ca24e6558"
   },
   "outputs": [],
   "source": [
    "# We plot all the signal to be sure that they be correct\n",
    "\n",
    "idx_open = data_set.loc[data_set[\"signal_short\"] == -1].loc[\"2010\"].index\n",
    "idx_close = data_set.loc[data_set[\"signal_short\"] == 0].loc[\"2010\"].index\n",
    "\n",
    "# Adapt the size of the graph\n",
    "plt.figure(figsize=(15,6))\n",
    "\n",
    "# Plot the points of the open short signal in red\n",
    "plt.scatter(data_set.loc[idx_open][\"rsi\"].index, data_set.loc[idx_open][\"rsi\"].loc[\"2010\"], color=\"#CE5757\", marker=\"v\")\n",
    "\n",
    "# Plot the points of the close short signal in blue\n",
    "plt.scatter(data_set.loc[idx_close][\"rsi\"].index, data_set.loc[idx_close][\"rsi\"].loc[\"2010\"], color=\"#669FEE\", marker=\"o\")\n",
    "\n",
    "# Plot the rsi to be sure that the conditions are completed\n",
    "plt.plot(data_set[\"rsi\"].loc[\"2010\"].index, data_set[\"rsi\"].loc[\"2010\"], alpha=0.35)\n",
    "\n",
    "# Show the graph\n",
    "plt.show()"
   ]
  },
  {
   "cell_type": "code",
   "execution_count": null,
   "metadata": {
    "id": "r1IYLBYMtLus"
   },
   "outputs": [],
   "source": [
    "data_set[\"Position\"] = (data_set[\"signal_short\"].fillna(method=\"ffill\") + data_set[\"signal_long\"].fillna(method=\"ffill\"))"
   ]
  },
  {
   "cell_type": "code",
   "execution_count": null,
   "metadata": {
    "colab": {
     "base_uri": "https://localhost:8080/",
     "height": 374
    },
    "id": "ypclMptrLQ-s",
    "outputId": "385f1ce5-d432-4e90-be7e-dbc4e1e43174"
   },
   "outputs": [],
   "source": [
    "# We plot all the signal to be sure that they be correct\n",
    "year = \"2010\"\n",
    "idx_long = data_set.loc[data_set[\"Position\"] == 1].loc[year].index\n",
    "idx_short = data_set.loc[data_set[\"Position\"] == -1].loc[year].index\n",
    "\n",
    "# Adapt the size of the graph\n",
    "plt.figure(figsize=(15,6))\n",
    "\n",
    "# Plot the points of the short signal in red\n",
    "plt.scatter(data_set.loc[idx_short][\"Adj Close\"].index, data_set.loc[idx_short][\"Adj Close\"].loc[year], color=\"#CE5757\", marker=\"v\")\n",
    "\n",
    "# Plot the points of the long signal in green\n",
    "plt.scatter(data_set.loc[idx_long][\"Adj Close\"].index, data_set.loc[idx_long][\"Adj Close\"].loc[year], color=\"#57CE95\", marker=\"^\")\n",
    "\n",
    "# Plot the rsi to be sure that the conditions are completed\n",
    "plt.plot(data_set[\"Adj Close\"].loc[year].index, data_set[\"Adj Close\"].loc[year], alpha=0.35)\n",
    "\n",
    "# Show the graph\n",
    "plt.show()"
   ]
  },
  {
   "cell_type": "code",
   "execution_count": null,
   "metadata": {
    "colab": {
     "base_uri": "https://localhost:8080/",
     "height": 392
    },
    "id": "g3q7vgVNczdn",
    "outputId": "d70b4fe8-bda8-4e26-aff3-f99f45be7760"
   },
   "outputs": [],
   "source": [
    "# Compute the percentage of variation of the asset\n",
    "data_set[\"pct\"] = data_set[\"Adj Close\"].pct_change(1)\n",
    "\n",
    "# Compute the return of the strategy\n",
    "data_set[\"return\"] = data_set[\"pct\"] * (data_set[\"Position\"].shift(1))\n",
    "\n",
    "data_set[\"return\"].loc[\"2010\"].cumsum().plot(figsize=(15, 6))"
   ]
  },
  {
   "cell_type": "markdown",
   "metadata": {
    "id": "3QL5TNaJYP3n"
   },
   "source": [
    "# Create a function to do the RSI strategy later\n"
   ]
  },
  {
   "cell_type": "code",
   "execution_count": null,
   "metadata": {
    "id": "JkFv5E1uYQbO"
   },
   "outputs": [],
   "source": [
    "def rsi(val,neutral, window):\n",
    "  \"\"\" \n",
    "        ------------------------------------------------------------------------------\n",
    "        | Output: The function gives the returns of RSI strategy                     |\n",
    "        ------------------------------------------------------------------------------\n",
    "        | Inputs: -val (type dataframe pandas): Entry values of the stock            |\n",
    "        |         -neutral (float): Value of neutrality, i.e. no action zone         |\n",
    "        |         -window (float): rolling period for RSI                            |\n",
    "        ------------------------------------------------------------------------------\n",
    "  \"\"\"\n",
    "\n",
    "  # Print Error if there is no column Adj Close in the dataframe\n",
    "  if \"Adj Close\" not in val.columns:\n",
    "    ValueError(\"We need have a columns name Adj Close because all computation are about this column\")\n",
    "  \n",
    "  val[\"rsi\"] = ta.momentum.RSIIndicator(data_set[\"Adj Close\"], window=window).rsi()\n",
    "\n",
    "\n",
    "  \n",
    "  \"\"\" Long buy Signal \"\"\"\n",
    "  # We put threshold\n",
    "  overbuy = 70\n",
    "  neutral_buy = 50 + neutral\n",
    "\n",
    "  # Put nan values for the signal long columns\n",
    "  val[\"signal_long\"] = np.nan\n",
    "  val[\"yersteday_rsi\"] = data_set[\"rsi\"].shift(1)\n",
    "  # We need define the Open Long signal (RSI yersteday<55 and RSI today>55)\n",
    "  val.loc[(val[\"rsi\"]>neutral_buy) & (val[\"yersteday_rsi\"]<neutral_buy), \"signal_long\"] = 1\n",
    "\n",
    "  # We need define the Close Long signal (RSI yersteday>55 and RSI today<55) False signal\n",
    "  val.loc[(val[\"rsi\"]<neutral_buy)&(val[\"yersteday_rsi\"]>neutral_buy), \"signal_long\"] = 0\n",
    "\n",
    "  # We need define the Close Long signal (RSI yersteday>70 and RSI today<70) Over buy signal\n",
    "  val.loc[(val[\"rsi\"]<overbuy)&(val[\"yersteday_rsi\"]>overbuy), \"signal_long\"] = 0\n",
    "\n",
    "\n",
    "\n",
    "  \"\"\"Short sell signal \"\"\"\n",
    "  # We put threshold\n",
    "  oversell = 30\n",
    "  neutral_buy = 50 - neutral\n",
    "\n",
    "  # Put nan values for the signal short columns\n",
    "  val[\"signal_short\"] = np.nan\n",
    "  val[\"yesterday_rsi\"] = val[\"rsi\"].shift(1)\n",
    "  # We need define the Open Short signal (RSI yersteday>45 and RSI today<45)\n",
    "  val.loc[(val[\"rsi\"]<neutral_buy) & (val[\"yersteday_rsi\"]>neutral_buy), \"signal_short\"] = -1\n",
    "\n",
    "  # We need define the Close Short signal (RSI yersteday<45 and RSI today>45) False signal\n",
    "  val.loc[(val[\"rsi\"]>neutral_buy)&(val[\"yersteday_rsi\"]<neutral_buy), \"signal_short\"] = 0\n",
    "\n",
    "  # We need define the Close Short signal (RSI yersteday<30 and RSI today>30) Over sell signal\n",
    "  val.loc[(val[\"rsi\"]>oversell)&(val[\"yersteday_rsi\"]<oversell), \"signal_short\"] = 0\n",
    "\n",
    "\n",
    "  \"\"\" Compute the returns \"\"\"\n",
    "  # Compute the percentage of variation of the asset\n",
    "  val[\"pct\"] = val[\"Adj Close\"].pct_change(1)\n",
    "\n",
    "  # Compute the positions\n",
    "  val[\"Position\"] = (val[\"signal_short\"].fillna(method=\"ffill\")+ val[\"signal_long\"].fillna(method=\"ffill\"))\n",
    "\n",
    "  # Compute the return of the strategy\n",
    "  val[\"return\"] = val[\"pct\"]*(val[\"Position\"].shift(1))\n",
    "\n",
    "  return val[\"return\"]"
   ]
  },
  {
   "cell_type": "code",
   "execution_count": null,
   "metadata": {
    "colab": {
     "base_uri": "https://localhost:8080/",
     "height": 392
    },
    "id": "2zpUD3P8Y1Z_",
    "outputId": "1445950d-1060-4039-85c2-abd46de059fd"
   },
   "outputs": [],
   "source": [
    "rsi(data_set.loc[\"2010\"], 5, 14).cumsum().plot(figsize=(15, 6))"
   ]
  }
 ],
 "metadata": {
  "colab": {
   "collapsed_sections": [
    "dXWVcWhJr5EQ",
    "OcdzVKiB8ud_",
    "3QL5TNaJYP3n"
   ],
   "name": "RSI_Strategies.ipynb",
   "provenance": []
  },
  "kernelspec": {
   "display_name": "Python 3",
   "name": "python3"
  },
  "language_info": {
   "name": "python"
  }
 },
 "nbformat": 4,
 "nbformat_minor": 0
}
