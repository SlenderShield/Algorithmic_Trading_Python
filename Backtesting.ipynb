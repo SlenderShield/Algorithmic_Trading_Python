{
  "cells": [
    {
      "cell_type": "markdown",
      "metadata": {
        "id": "c0gX2s9FqJ6H"
      },
      "source": [
        "# Back Testing\n",
        "Back Testing is an essential part of trading. Indeed, it is important to understand the behavior of your strategy in the past to be able to consider those of future.\n",
        "### Content\n",
        "\n",
        "* Sortino, Beta, Alpha creation\n",
        "* Drawdown function\n",
        "* Creating BackTest function for later use in the program."
      ]
    },
    {
      "cell_type": "code",
      "execution_count": null,
      "metadata": {
        "id": "TflLwK15qGcx"
      },
      "outputs": [],
      "source": [
        "import matplotlib as mpl\n",
        "import matplotlib.pyplot as plt\n",
        "import numpy as np\n",
        "import ta\n",
        "import yfinance as yf\n",
        "import pandas as pd\n",
        "import warnings\n",
        "warnings.filterwarnings(\"ignore\")\n",
        "from matplotlib import cycler\n",
        "\n",
        "colors = cycler('color',\n",
        "                ['#669FEE', '#66EE91', '#9988DD',\n",
        "                 '#EECC55', '#88BB44', '#FFBBBB'])\n",
        "plt.rc('figure', facecolor='#313233')\n",
        "plt.rc('axes', facecolor=\"#313233\", edgecolor='none',\n",
        "       axisbelow=True, grid=True, prop_cycle=colors,\n",
        "       labelcolor='gray')\n",
        "plt.rc('grid', color='474A4A', linestyle='solid')\n",
        "plt.rc('xtick', color='gray')\n",
        "plt.rc('ytick', direction='out', color='gray')\n",
        "plt.rc('legend', facecolor=\"#313233\", edgecolor=\"#313233\")\n",
        "plt.rc(\"text\", color=\"#C9C9C9\")\n",
        "plt.rc('figure', facecolor='#313233')"
      ]
    },
    {
      "cell_type": "markdown",
      "metadata": {
        "id": "L1c5xbr7tLtP"
      },
      "source": [
        "### Function"
      ]
    },
    {
      "cell_type": "code",
      "execution_count": null,
      "metadata": {
        "id": "tFktNrSytNfH"
      },
      "outputs": [],
      "source": [
        "def rsi(val,neutral, window):\n",
        "  \"\"\" \n",
        "        ------------------------------------------------------------------------------\n",
        "        | Output: The function gives the returns of rsi strategy                     |\n",
        "        ------------------------------------------------------------------------------\n",
        "        | Inputs: -val (type dataframe pandas): Entry values of the stock            |\n",
        "        |         -neutral (float): Value of neutrality, i.e. no action zone         |\n",
        "        |         -window (float): rolling period for rsi                            |\n",
        "        ------------------------------------------------------------------------------\n",
        "  \"\"\"\n",
        "\n",
        "  # Print Error if there is no column Adj Close in the dataframe\n",
        "  if \"Adj Close\" not in val.columns:\n",
        "    ValueError(\"We need have a columns name Adj Close because all computation are about this column\")\n",
        "  \n",
        "  val[\"rsi\"] = ta.momentum.rsiIndicator(f[\"Adj Close\"], window=window).rsi()\n",
        "\n",
        "\n",
        "  \n",
        "  \"\"\" Long buy Signal \"\"\"\n",
        "  # We put threshold\n",
        "  overbuy = 70\n",
        "  neutral_buy = 50 + neutral\n",
        "\n",
        "  # Put nan values for the signal long columns\n",
        "  val[\"signal_long\"] = np.nan\n",
        "  val[\"yersteday_rsi\"] = f[\"rsi\"].shift(1)\n",
        "  # We need define the Open Long signal (rsi yersteday<55 and rsi today>55)\n",
        "  val.loc[(val[\"rsi\"]>neutral_buy) & (val[\"yersteday_rsi\"]<neutral_buy), \"signal_long\"] = 1\n",
        "\n",
        "  # We need define the Close Long signal (rsi yersteday>55 and rsi today<55) False signal\n",
        "  val.loc[(val[\"rsi\"]<neutral_buy)&(val[\"yersteday_rsi\"]>neutral_buy), \"signal_long\"] = 0\n",
        "\n",
        "  # We need define the Close Long signal (rsi yersteday>70 and rsi today<70) Over buy signal\n",
        "  val.loc[(val[\"rsi\"]<overbuy)&(val[\"yersteday_rsi\"]>overbuy), \"signal_long\"] = 0\n",
        "\n",
        "\n",
        "\n",
        "  \"\"\"Short sell signal \"\"\"\n",
        "  # We put threshold\n",
        "  oversell = 30\n",
        "  neutral_buy = 50 - neutral\n",
        "\n",
        "  # Put nan values for the signal short columns\n",
        "  val[\"signal_short\"] = np.nan\n",
        "  val[\"yersteday_rsi\"] = val[\"rsi\"].shift(1)\n",
        "  # We need define the Open Short signal (rsi yersteday>45 and rsi today<45)\n",
        "  val.loc[(val[\"rsi\"]<neutral_buy) & (val[\"yersteday_rsi\"]>neutral_buy), \"signal_short\"] = -1\n",
        "\n",
        "  # We need define the Close Short signal (rsi yersteday<45 and rsi today>45) False signal\n",
        "  val.loc[(val[\"rsi\"]>neutral_buy)&(val[\"yersteday_rsi\"]<neutral_buy), \"signal_short\"] = 0\n",
        "\n",
        "  # We need define the Close Short signal (rsi yersteday<30 and rsi today>30) Over sell signal\n",
        "  val.loc[(val[\"rsi\"]>oversell)&(val[\"yersteday_rsi\"]<oversell), \"signal_short\"] = 0\n",
        "\n",
        "\n",
        "  \"\"\" Compute the returns \"\"\"\n",
        "  # Compute the percentage of variation of the asset\n",
        "  val[\"pct\"] = val[\"Adj Close\"].pct_change(1)\n",
        "\n",
        "  # Compute the positions\n",
        "  val[\"Position\"] = (val[\"signal_short\"].fillna(method=\"ffill\")+ val[\"signal_long\"].fillna(method=\"ffill\"))\n",
        "\n",
        "  # Compute the return of the strategy\n",
        "  val[\"return\"] = val[\"pct\"]*(val[\"Position\"].shift(1))\n",
        "\n",
        "  return val[\"return\"]"
      ]
    },
    {
      "cell_type": "markdown",
      "metadata": {
        "id": "hKMvnPIwslSn"
      },
      "source": [
        "# Section 1: Sortino, Beta and Alpha creation"
      ]
    },
    {
      "cell_type": "markdown",
      "metadata": {
        "id": "MvSQJefks3OP"
      },
      "source": [
        "### Sortino\n",
        "Similar to the sharpe ratio, the sortino ratio also has the same interpretation. \n",
        "However, the calculation differs. Sortino ratios do indeed only take into account the volatility of the negative gains because this is what we fear and not the bullish gains that make us money. <br>\n",
        " <br>\n",
        "<p align=\"center\">\n",
        "$Sortino = \\frac{\\mu }{\\sigma_{down}}$\n",
        "<p> <br>\n",
        "\n",
        "*   SortinoRatio < 0 : Not profitable investissement because you gains is negative.\n",
        "*   SortinoRatio < 1 : Profitable investissement but the risk of the investissement is higher than the returns.\n",
        "*   SortinoRatio > 1: Very good investissement because the risk is lower than the returns.\n"
      ]
    },
    {
      "cell_type": "code",
      "execution_count": null,
      "metadata": {
        "colab": {
          "base_uri": "https://localhost:8080/"
        },
        "id": "m1Fuei6Ssmrk",
        "outputId": "013d11a3-ccbd-4802-d2d8-5e77a5ed4442"
      },
      "outputs": [],
      "source": [
        "# Prepare the datas\n",
        "f = yf.download(\"GOOG\", end=\"2021-01-01\")\n",
        "return_serie = rsi(f,5, 14)\n",
        "\n",
        "# Compute the sortino\n",
        "sortino = np.sqrt(252) * return_serie.mean()/return_serie[return_serie<0].std()\n",
        "print(f\"Sortino: {np.round(sortino,3)}\")"
      ]
    },
    {
      "cell_type": "markdown",
      "metadata": {
        "id": "S2WSR_5vIAgR"
      },
      "source": [
        "### Beta\n",
        "The beta is a statistic that indicates the relationship between the variations of our portfolio and those of the market which is represented by an index (for example SP500). <br>\n",
        "\n",
        "<p align=\"center\">\n",
        "$Beta = \\frac{Cov(r_{M},r_{PF}) }{Var(r_{M})}$\n",
        "<p> <br>\n",
        "\n",
        "\n",
        "\n",
        "*   abs(Beta) < 1: It is good because it means that your portfolio have a less variation than the index. (If beta=0.9 this means that if the index varies of 1 the portfolio varies by 0.9)\n",
        "*   abs(Beta) > 1: It is not a good thing because it means that your portfolio have a higher variation than the index. (If beta=1.1 this means that if the index varies of 1 the portfolio varies by 1.1)\n",
        "\n",
        "**abs(-x) = x = abs(x) (abs gives only the value of the variable not the sign)*\n"
      ]
    },
    {
      "cell_type": "code",
      "execution_count": null,
      "metadata": {
        "colab": {
          "base_uri": "https://localhost:8080/"
        },
        "id": "-lUE91pbHhwv",
        "outputId": "346013be-e671-4ca6-ea7b-8f585263acbf"
      },
      "outputs": [],
      "source": [
        "# We need compute the covariance between the marlet and the portfolio \n",
        "sp500 = yf.download(\"^GSPC\")[\"Adj Close\"].pct_change(1)\n",
        "sp500.name = \"SP500\"\n",
        "\n",
        "# We conacate them to do the covariances\n",
        "val = pd.concat((return_serie,sp500), axis=1).dropna()\n",
        "\n",
        "# We compute beta \n",
        "beta = np.cov(val[[\"return\", \"SP500\"]].values,rowvar=False)[0][1] / np.var(val[\"SP500\"].values)\n",
        "print(f\" Beta: {np.round(beta,3)}\")"
      ]
    },
    {
      "cell_type": "markdown",
      "metadata": {
        "id": "ecanIMv7KEg3"
      },
      "source": [
        "### **Alpha**\n",
        "Alpha is a statistic that indicates whether the portfolio outperforms the market in terms of risk return. <br>\n",
        "\n",
        "<p align=\"center\">\n",
        "$Alpha = r_{PF} - \\beta*(r_{PF} - r_{f}) - r_{f}$\n",
        "<p> <br>\n",
        "\n",
        "\n",
        "*   alpha > 0: The portfolio outperforms the market in terms of risk return\n",
        "*   alpha < 0: The portfolio underperforms the market in terms of risk return\n"
      ]
    },
    {
      "cell_type": "code",
      "execution_count": null,
      "metadata": {
        "colab": {
          "base_uri": "https://localhost:8080/"
        },
        "id": "U3m9gBHCInQT",
        "outputId": "f4ebf310-be9c-4d0a-c152-9a49a6832484"
      },
      "outputs": [],
      "source": [
        "# We compute alpha\n",
        "alpha = 252*return_serie.mean() - 252*beta*return_serie.mean()\n",
        "print(f\"Alpha: {np.round(alpha,5)}\")"
      ]
    },
    {
      "cell_type": "markdown",
      "metadata": {
        "id": "jLkdFSptKhTk"
      },
      "source": [
        "# Section 2: Drawdown\n",
        "\n",
        "The drawdown is a measure of the risk of the strategy. An interesting statistic to know the performance of the algorithm is the maximum drawdown. Indeed, it represents the maximum loss of a strategy over a period of time which allows you to understand if the strategy is risky and thus choose it according to your level of risk aversion."
      ]
    },
    {
      "cell_type": "code",
      "execution_count": null,
      "metadata": {
        "id": "SYIRBGgEKUPD"
      },
      "outputs": [],
      "source": [
        "def drawdown_function(serie):\n",
        "\n",
        "  # We compute Cumsum of the returns\n",
        "  cum = serie.dropna().cumsum()+1\n",
        "\n",
        "  # We compute max of the cumsum on the period (accumulate max)\n",
        "  running_max = np.maximum.accumulate(cum)\n",
        "\n",
        "  # We compute drawdown\n",
        "  drawdown  = cum/running_max - 1 \n",
        "  return drawdown"
      ]
    },
    {
      "cell_type": "code",
      "execution_count": null,
      "metadata": {
        "colab": {
          "base_uri": "https://localhost:8080/"
        },
        "id": "AVF7wHtoLA9l",
        "outputId": "bd9fe19f-5bd0-439e-fd1d-d4bcbaeb67f8"
      },
      "outputs": [],
      "source": [
        "# We compute drawdown\n",
        "drawdown = drawdown_function(return_serie)\n",
        "\n",
        "# Adapt figure size\n",
        "plt.figure(figsize=(15,6))\n",
        "\n",
        "# Plot the drawdown\n",
        "plt.fill_between(drawdown.index, drawdown, 0,\n",
        "                drawdown<0, color=\"#CE5757\", alpha=0.65)\n",
        "\n",
        "# Put a title\n",
        "plt.title(f\"Drawdown\")\n",
        "plt.show()\n"
      ]
    },
    {
      "cell_type": "code",
      "execution_count": null,
      "metadata": {
        "colab": {
          "base_uri": "https://localhost:8080/"
        },
        "id": "82ms70tbMQvx",
        "outputId": "65345764-9308-4ef1-b9b3-2ef12ee3bb3a"
      },
      "outputs": [],
      "source": [
        "# Computation Max drawdown\n",
        "max_drawdown =  -np.min(drawdown)*100\n",
        "print(f\"Max drawdown: {np.round(max_drawdown,1)} %\")"
      ]
    },
    {
      "cell_type": "markdown",
      "metadata": {
        "id": "pY-8oU31MiNr"
      },
      "source": [
        "# Section 3: Create function BackTest to evaluate the strategy in the later sections"
      ]
    },
    {
      "cell_type": "code",
      "execution_count": null,
      "metadata": {
        "colab": {
          "base_uri": "https://localhost:8080/"
        },
        "id": "62IR-tyILvXa",
        "outputId": "75a3047d-1bd8-4a75-fe17-941496a8055c"
      },
      "outputs": [],
      "source": [
        "def BackTest(serie):\n",
        "\n",
        "  # Import the benchmark\n",
        "  sp500 = yf.download(\"^GSPC\")[\"Adj Close\"].pct_change(1)\n",
        "  \n",
        "  # Change the name\n",
        "  sp500.name = \"SP500\"\n",
        "\n",
        "  # Concat the returns and the sp500\n",
        "  val = pd.concat((return_serie,sp500), axis=1).dropna()\n",
        "  \n",
        "  # Compute the drawdown\n",
        "  drawdown = drawdown_function(serie)\n",
        "  \n",
        "  # Compute max drawdown\n",
        "  max_drawdown = -np.min(drawdown)\n",
        "\n",
        "\n",
        "\n",
        "\n",
        "  # Put a subplots\n",
        "  fig, (cum, dra) = plt.subplots(1,2, figsize=(15,6))\n",
        "  \n",
        "  # Put a Suptitle\n",
        "  fig.suptitle(\"Backtesting\", size=20)\n",
        "\n",
        "  # Returns cumsum chart\n",
        "  cum.plot(serie.cumsum(), color=\"#39B3C7\")\n",
        "\n",
        "  # SP500 cumsum chart\n",
        "  cum.plot(val[\"SP500\"].cumsum(), color=\"#B85A0F\")\n",
        "\n",
        "  # Put a legend\n",
        "  cum.legend([\"Portfolio\", \"SP500\"])\n",
        "  \n",
        "  # Set individual title\n",
        "  cum.set_title(\"Cumulative Return\", size=13)\n",
        "\n",
        "  # Put the drawdown\n",
        "  dra.fill_between(drawdown.index,0,drawdown, color=\"#C73954\", alpha=0.65)\n",
        "\n",
        "  # Set individual title\n",
        "  dra.set_title(\"Drawdown\", size=13)\n",
        "\n",
        "  # Plot the graph\n",
        "  plt.show()\n",
        "\n",
        "\n",
        "\n",
        "\n",
        "  # Compute the sortino\n",
        "  sortino = np.sqrt(252) * serie.mean()/serie.loc[serie<0].std()\n",
        "\n",
        "  # Compute the beta\n",
        "  beta = np.cov(val[[\"return\", \"SP500\"]].values,rowvar=False)[0][1] / np.var(val[\"SP500\"].values)\n",
        "\n",
        "  # Compute the alpha\n",
        "  alpha = 252*serie.mean() - 252*beta*serie.mean()\n",
        "\n",
        "  # Print the statistics\n",
        "  print(f\"Sortino: {np.round(sortino,3)}\")\n",
        "  print(f\"Beta: {np.round(beta,3)}\")\n",
        "  print(f\"Alpha: {np.round(alpha,3)}\")\n",
        "  print(f\"MaxDrawdown: {np.round(max_drawdown*100,3)} %\")\n",
        "BackTest(return_serie)"
      ]
    },
    {
      "cell_type": "code",
      "execution_count": null,
      "metadata": {
        "id": "bHe7jTPBsbIa"
      },
      "outputs": [],
      "source": []
    }
  ],
  "metadata": {
    "colab": {
      "name": "BT1.ipynb",
      "provenance": []
    },
    "kernelspec": {
      "display_name": "Python 3",
      "name": "python3"
    },
    "language_info": {
      "name": "python"
    }
  },
  "nbformat": 4,
  "nbformat_minor": 0
}
