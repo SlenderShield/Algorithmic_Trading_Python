{
 "cells": [
  {
   "cell_type": "code",
   "execution_count": 1,
   "metadata": {
    "collapsed": true
   },
   "outputs": [],
   "source": [
    "# importing the dependencies modules\n",
    "import numpy as np\n",
    "import pandas as pd\n",
    "import yfinance as yf\n",
    "import matplotlib as mpl\n",
    "import matplotlib.pyplot as plt\n",
    "import seaborn as sns\n",
    "import ta\n",
    "from tqdm import tqdm\n",
    "from scipy.optimize import minimize\n",
    "from hurst import compute_Hc\n",
    "import warnings\n",
    "warnings.filterwarnings(\"ignore\")"
   ]
  },
  {
   "cell_type": "code",
   "execution_count": 2,
   "metadata": {
    "collapsed": false,
    "pycharm": {
     "name": "#%%\n"
    }
   },
   "outputs": [],
   "source": [
    "# The code will allow you to switch between the dark and light mode in graphs\n",
    "\n",
    "from matplotlib import cycler\n",
    "colors = cycler('color',['#669FEE','#66EE91','#9988DD','#EECC55','#88BB44','#FFBBBB'])\n",
    "plt.rc('figure',facecolor='#313233')\n",
    "plt.rc('axes',facecolor='#313233',edgecolor='None',axisbelow=True,grid=True,prop_cycle=colors,labelcolor='gray')\n",
    "\n",
    "plt.rc('grid',color='#47a4a4') #, linestlye='solid')\n",
    "plt.rc('xtick',color='gray')\n",
    "plt.rc('ytick',direction='out',color='gray')\n",
    "plt.rc('legend',facecolor='#313233',edgecolor='#313233')\n",
    "plt.rc('text',color='#c9c9c9')"
   ]
  },
  {
   "cell_type": "code",
   "execution_count": 3,
   "metadata": {
    "collapsed": false,
    "pycharm": {
     "name": "#%%\n"
    }
   },
   "outputs": [],
   "source": [
    "def rsi(value, neutral, window):\n",
    "\t\"\"\"\n",
    "\n",
    "\tInput:\n",
    "\t:param value: (type dataframe pandas): Entry values of the stock\n",
    "\t:param neutral:(float) Value of the neutrality, i.e No Action Zone\n",
    "\t:param window: (float) rolling period for RSI calculation\n",
    "\n",
    "\tOutput: The function gives the returns of RSI strategy\n",
    "\t:return:\n",
    "\t\"\"\"\n",
    "\t# Print error is no Adj Close column is not present\n",
    "\tif \"Adj Close\" not in value.columns:\n",
    "\t\tValueError(\"Error: No Adj Close column is present\")\n",
    "\n",
    "\tvalue['rsi'] = ta.momentum.RSIIndicator(value['Adj Close'], window=window).rsi()\n",
    "\n",
    "\t\"\"\"Long Buy signal\"\"\"\n",
    "\toverbuy = 70\n",
    "\tneutral_buy = 50 + neutral\n",
    "\n",
    "\t# Put nan values for te signal long columns\n",
    "\tvalue['signal_long'] = np.nan\n",
    "\tvalue['yesterday_rsi'] = value['rsi'].shift(1)\n",
    "\t# We need to define open long signal (Rsi yes>55 and RSI today>55)\n",
    "\tvalue.loc[(value['rsi'] > neutral_buy) & (value['yesterday_rsi'] < neutral_buy), 'signal_long'] = 1\n",
    "\t# open long signal for false positive (Rsi yes>55 and RSI today<55)\n",
    "\tvalue.loc[(value['rsi'] < neutral_buy) & (value['yesterday_rsi'] > neutral_buy), 'signal_long'] = 0\n",
    "\t# open long signal for overbuy (Rsi yes>70 and RSI today<70)\n",
    "\tvalue.loc[(value['rsi'] < overbuy) & (value['yesterday_rsi'] > overbuy), 'signal_long'] = 0\n",
    "\n",
    "\t\"\"\"Short Sell signal\"\"\"\n",
    "\toversell = 30\n",
    "\tneutral_sell = 50 - neutral\n",
    "\n",
    "\t# Put the values for the short signal columns\n",
    "\tvalue['signal_short'] = np.nan\n",
    "\n",
    "\t# We define the Open short signal (RSI yes>45 and RSI today<45)\n",
    "\tvalue.loc[(value['rsi'] < neutral_sell) & (value['yesterday_rsi'] > neutral_sell), 'signal_short'] = -1\n",
    "\n",
    "\t# We define the Close short signal(Rsi yes<45 and RSI today>45) False signal\n",
    "\tvalue.loc[(value['rsi'] > neutral_sell) & (value['yesterday_rsi'] < neutral_sell), 'signal_short'] = 0\n",
    "\n",
    "\t# We define the Close short signal (RSI yes<30 and RSI today>30) Oversell\n",
    "\tvalue.loc[(value['rsi'] > oversell) & (value['yesterday_rsi'] < oversell), 'signal_short'] = 0\n",
    "\n",
    "\t\"\"\"Compute the returns\"\"\"\n",
    "\t# Compute the percentage of the variation of the stock\n",
    "\tvalue['pct'] = value['Adj Close'].pct_change(1)\n",
    "\n",
    "\t# Calculate the position\n",
    "\tvalue['Position'] = (value['signal_short'].fillna(method='ffill') + value['signal_long'].fillna(method='ffill'))\n",
    "\n",
    "\t# Compute the returns\n",
    "\tvalue['return'] = value['pct'] * (value['Position'].shift(1))\n",
    "\n",
    "\treturn value['return']"
   ]
  },
  {
   "cell_type": "code",
   "execution_count": 4,
   "metadata": {},
   "outputs": [],
   "source": [
    "def beta_function(series):\n",
    "\tsp500 = yf.download('^GSPC')[['Adj Close']].pct_change(1)\n",
    "\tsp500.columns = ['SP500']\n",
    "\n",
    "\t# We concatenate the two dataframe\n",
    "\tvalue = pd.concat((series, sp500), axis=1)\n",
    "\n",
    "\t# We compute the beta\n",
    "\tbeta = np.cov(value[[series.name, \"SP500\"]].dropna().values,rowvar=False)[0][1] / np.var(value[\"SP500\"].dropna().values)\n",
    "\treturn beta\n"
   ]
  },
  {
   "cell_type": "code",
   "execution_count": 5,
   "metadata": {},
   "outputs": [],
   "source": [
    "\n",
    "def drawdown_function(series):\n",
    "\tcumulative_sum = series.dropna().cumsum() + 1  # multiplication coefficient\n",
    "\t# compute the max of the cumulative_sum\n",
    "\t# (1,3,1,1,7,1,2,) -> (1,3,3,3,7,7,7)\n",
    "\trunning_max = np.maximum.accumulate(cumulative_sum)\n",
    "\tdrawdowned = cumulative_sum / running_max - 1\n",
    "\treturn drawdowned\n"
   ]
  },
  {
   "cell_type": "code",
   "execution_count": 6,
   "metadata": {},
   "outputs": [],
   "source": [
    "\n",
    "def backTest(series):\n",
    "\t# Import the Bechmark\n",
    "\tsp500 = yf.download('^GSPC')['Adj Close'].pct_change(1)\n",
    "\tsp500.name = 'SP500'\n",
    "\n",
    "\t# We concatenate the two dataframe\n",
    "\tvalue = pd.concat((series, sp500), axis=1).dropna()\n",
    "\n",
    "\t# compute the drawdown and max drawdown\n",
    "\tdrawdown = drawdown_function(series)\n",
    "\tmax_drawdown = -np.min(drawdown)\n",
    "\n",
    "\t\"\"\"Plot the Graph\"\"\"\n",
    "\tfig, (cum, draw) = plt.subplots(1, 2, figsize=(20, 6))\n",
    "\tfig.suptitle(\"Backtesting\", size=20)\n",
    "\n",
    "\tcum.plot(series.cumsum(), color='#39B3C7')\n",
    "\tcum.plot(value['SP500'].cumsum(), color='#B85A0F')\n",
    "\n",
    "\tcum.legend([\"Portfolio\", \"Benchmark\"])\n",
    "\tcum.set_title(\"Cumulative Returns\", size=13)\n",
    "\tcum.set_ylabel(\"Cumulative Return in %\", size=13)\n",
    "\n",
    "\t# Plot the drawdown\n",
    "\tdraw.fill_between(drawdown.index, 0, drawdown * 100, color='#C73954', alpha=0.65)\n",
    "\n",
    "\tdraw.set_title(\"Drawdown\", size=15)\n",
    "\tdraw.set_ylabel(\"Drawdown in %\", size=13)\n",
    "\n",
    "\t# plot the graph\n",
    "\tplt.show()\n",
    "\n",
    "\t\"\"\"Compute the statistics\"\"\"\n",
    "\t# compute the sortino\n",
    "\tsortino = np.sqrt(252) * series.mean() / series.loc[series < 0].std()\n",
    "\n",
    "\t# compute the beta\n",
    "\tbeta = np.cov(value[['return', 'SP500']].values, rowvar=False)[0][1] / np.var(value['SP500'].values)\n",
    "\n",
    "\t# compute the alpha\n",
    "\talpha = 252 * (series.mean() - beta * series.mean())\n",
    "\n",
    "\t# Print the statistics\n",
    "\n",
    "\tprint(f'Sortino: {np.round(sortino, 3)}')\n",
    "\tprint(f'Beta: {np.round(beta, 3)}')\n",
    "\tprint(f'Alpha: {np.round(alpha, 3)}')\n",
    "\tprint(f'MaxDrawdown: {np.round(max_drawdown, 3)}')"
   ]
  },
  {
   "cell_type": "code",
   "execution_count": null,
   "metadata": {
    "collapsed": false,
    "pycharm": {
     "name": "#%%\n"
    }
   },
   "outputs": [],
   "source": [
    "# Hurst Exponent\n",
    "# It is a statistics that helps in understanding the TimeSeries\n",
    "# 0.5<Hurst<1 -> Trending movement; 0.5 = Hurst -> Random Walk; 0<Hurst<0.5 -> Anti-persistent movement\n",
    "\n",
    "# compute Hurst Exponent\n",
    "array = np.linspace(0, 300, 150) + 100\n",
    "hurst = compute_Hc(array)\n",
    "hurst[0]\n",
    "plt.plot(array)\n",
    "plt.title(f\"{'%.2f' %hurst[0]}\")\n",
    "plt.show()"
   ]
  },
  {
   "cell_type": "code",
   "execution_count": null,
   "metadata": {
    "collapsed": false,
    "pycharm": {
     "name": "#%%\n"
    }
   },
   "outputs": [],
   "source": [
    "# Anti-persistent\n",
    "array = np.cos(np.linspace(0,300,150))\n",
    "hurst = compute_Hc(array)\n",
    "hurst[0]\n",
    "plt.plot(array)\n",
    "plt.title(f\"{'%.2f' %hurst[0]}\")\n",
    "plt.show()"
   ]
  },
  {
   "cell_type": "code",
   "execution_count": null,
   "metadata": {
    "collapsed": false,
    "pycharm": {
     "name": "#%%\n"
    }
   },
   "outputs": [],
   "source": [
    "# Random Walk\n",
    "np.random.seed(56)\n",
    "array = np.cumsum(np.random.rand(150))\n",
    "hurst = compute_Hc(array)[0]\n",
    "plt.plot(array)\n",
    "plt.title(f\"{'%.2f' %hurst}\")\n",
    "plt.show()"
   ]
  },
  {
   "cell_type": "code",
   "execution_count": null,
   "metadata": {
    "collapsed": false,
    "pycharm": {
     "name": "#%%\n"
    }
   },
   "outputs": [],
   "source": [
    "# using Names CSV file find the best asset\n",
    "asset = pd.read_csv('Names.csv')['Symbol']\n",
    "\n",
    "# Initialize the list\n",
    "Statistics = []\n",
    "col = []\n",
    "\n",
    "for fin in tqdm(asset):\n",
    "\t# check using yfinance\n",
    "\ttry:\n",
    "\t\tprint(fin)\n",
    "\n",
    "\t\t# Download the data of fin\n",
    "\t\tdataa = yf.download(fin).dropna()\n",
    "\t\t# Create a list of the statistics\n",
    "\t\tstatistics = list()\n",
    "\t\tstatistics.append(compute_Hc(dataa['Adj Close'])[0])  # Hurst Exponent\n",
    "\t\tstatistics.append(np.sqrt(252) * dataa['Adj Close'].pct_change(1).dropna().std())  # volatility\n",
    "\n",
    "\t\tstatistics.append(beta_function(dataa[\"Adj Close\"].pct_change(1).dropna()))  # beta\n",
    "\n",
    "\t\tstatistics.append(rsi(dataa, 5, 14).mean() * 252)  # RSI\n",
    "\t\tStatistics.append(statistics)\n",
    "\t\tcol.append(fin)\n",
    "\texcept Exception as e:\n",
    "\t\tpass\n",
    "\n",
    "# Create dataframe with all statistics\n",
    "dataframe = pd.DataFrame(Statistics, columns=['Hurst', 'Volatility', 'Beta', 'RSI'], index=col)\n",
    "print(col, Statistics)\n",
    "dataframe\n"
   ]
  },
  {
   "cell_type": "code",
   "execution_count": null,
   "metadata": {
    "collapsed": false,
    "pycharm": {
     "name": "#%%\n"
    }
   },
   "outputs": [],
   "source": [
    "# Extract the class of the asset\n",
    "cluster = pd.read_csv('Names.csv',index_col='Symbol')\n",
    "del cluster['Unnamed: 0']\n",
    "cluster"
   ]
  },
  {
   "cell_type": "code",
   "execution_count": 13,
   "metadata": {
    "collapsed": false,
    "pycharm": {
     "name": "#%%\n"
    }
   },
   "outputs": [
    {
     "data": {
      "text/plain": "             dummy     Hurst  Volatility      Beta       RSI\nEURUSD=X  Currency  0.438500    0.116933  0.127516 -0.025937\nEURGBP=X  Currency  0.514215    0.082665 -0.033917 -0.026768\nEURCHF=X  Currency  0.540969    0.078649  0.095291 -0.009352\nEURCAD=X  Currency  0.453388    0.092137 -0.085868 -0.022970\nEURCNY=X  Currency  0.459657    0.130269  0.070252 -0.118299\n...            ...       ...         ...       ...       ...\nTCOM         Asset  0.525706    0.505835  1.699411  0.034896\nINCY         Asset  0.507495    0.658131  1.956862  0.138341\nCHKP         Asset  0.487696    0.520497  1.757701 -0.030784\nFOXA         Asset  0.520203    0.385882  1.878745 -0.085540\nFOX          Asset  0.507694    0.373561  1.936297 -0.105745\n\n[150 rows x 5 columns]",
      "text/html": "<div>\n<style scoped>\n    .dataframe tbody tr th:only-of-type {\n        vertical-align: middle;\n    }\n\n    .dataframe tbody tr th {\n        vertical-align: top;\n    }\n\n    .dataframe thead th {\n        text-align: right;\n    }\n</style>\n<table border=\"1\" class=\"dataframe\">\n  <thead>\n    <tr style=\"text-align: right;\">\n      <th></th>\n      <th>dummy</th>\n      <th>Hurst</th>\n      <th>Volatility</th>\n      <th>Beta</th>\n      <th>RSI</th>\n    </tr>\n  </thead>\n  <tbody>\n    <tr>\n      <th>EURUSD=X</th>\n      <td>Currency</td>\n      <td>0.438500</td>\n      <td>0.116933</td>\n      <td>0.127516</td>\n      <td>-0.025937</td>\n    </tr>\n    <tr>\n      <th>EURGBP=X</th>\n      <td>Currency</td>\n      <td>0.514215</td>\n      <td>0.082665</td>\n      <td>-0.033917</td>\n      <td>-0.026768</td>\n    </tr>\n    <tr>\n      <th>EURCHF=X</th>\n      <td>Currency</td>\n      <td>0.540969</td>\n      <td>0.078649</td>\n      <td>0.095291</td>\n      <td>-0.009352</td>\n    </tr>\n    <tr>\n      <th>EURCAD=X</th>\n      <td>Currency</td>\n      <td>0.453388</td>\n      <td>0.092137</td>\n      <td>-0.085868</td>\n      <td>-0.022970</td>\n    </tr>\n    <tr>\n      <th>EURCNY=X</th>\n      <td>Currency</td>\n      <td>0.459657</td>\n      <td>0.130269</td>\n      <td>0.070252</td>\n      <td>-0.118299</td>\n    </tr>\n    <tr>\n      <th>...</th>\n      <td>...</td>\n      <td>...</td>\n      <td>...</td>\n      <td>...</td>\n      <td>...</td>\n    </tr>\n    <tr>\n      <th>TCOM</th>\n      <td>Asset</td>\n      <td>0.525706</td>\n      <td>0.505835</td>\n      <td>1.699411</td>\n      <td>0.034896</td>\n    </tr>\n    <tr>\n      <th>INCY</th>\n      <td>Asset</td>\n      <td>0.507495</td>\n      <td>0.658131</td>\n      <td>1.956862</td>\n      <td>0.138341</td>\n    </tr>\n    <tr>\n      <th>CHKP</th>\n      <td>Asset</td>\n      <td>0.487696</td>\n      <td>0.520497</td>\n      <td>1.757701</td>\n      <td>-0.030784</td>\n    </tr>\n    <tr>\n      <th>FOXA</th>\n      <td>Asset</td>\n      <td>0.520203</td>\n      <td>0.385882</td>\n      <td>1.878745</td>\n      <td>-0.085540</td>\n    </tr>\n    <tr>\n      <th>FOX</th>\n      <td>Asset</td>\n      <td>0.507694</td>\n      <td>0.373561</td>\n      <td>1.936297</td>\n      <td>-0.105745</td>\n    </tr>\n  </tbody>\n</table>\n<p>150 rows × 5 columns</p>\n</div>"
     },
     "execution_count": 13,
     "metadata": {},
     "output_type": "execute_result"
    }
   ],
   "source": [
    "# Concat the type of asset and the statistics\n",
    "dataframe = pd.concat([cluster,dataframe],axis=1).dropna()\n",
    "dataframe"
   ]
  },
  {
   "cell_type": "code",
   "execution_count": 14,
   "outputs": [
    {
     "data": {
      "text/plain": "<Figure size 441x360 with 1 Axes>",
      "image/png": "[encoded data removed]"
     },
     "metadata": {},
     "output_type": "display_data"
    }
   ],
   "source": [
    "# Plot density distribution of the assest returns\n",
    "# Plot the densities\n",
    "sns.displot(data=dataframe, x=\"RSI\",kind='kde', hue=\"dummy\")\n",
    "\n",
    "# limit the axis\n",
    "plt.xlim((-1.15,1.15))\n",
    "plt.show()"
   ],
   "metadata": {
    "collapsed": false,
    "pycharm": {
     "name": "#%%\n"
    }
   }
  },
  {
   "cell_type": "code",
   "execution_count": 15,
   "outputs": [
    {
     "data": {
      "text/plain": "           Hurst  Volatility       Beta        RSI\ncount  25.000000   25.000000  25.000000  25.000000\nmean    0.504295    0.100109   0.011365  -0.030522\nstd     0.051169    0.035844   0.192818   0.042271\nmin     0.393977    0.010854  -0.419845  -0.146629\n25%     0.470308    0.082422  -0.085868  -0.026996\n50%     0.497768    0.095109  -0.000292  -0.024278\n75%     0.540969    0.125406   0.113765  -0.007186\nmax     0.643444    0.173963   0.474216   0.022010",
      "text/html": "<div>\n<style scoped>\n    .dataframe tbody tr th:only-of-type {\n        vertical-align: middle;\n    }\n\n    .dataframe tbody tr th {\n        vertical-align: top;\n    }\n\n    .dataframe thead th {\n        text-align: right;\n    }\n</style>\n<table border=\"1\" class=\"dataframe\">\n  <thead>\n    <tr style=\"text-align: right;\">\n      <th></th>\n      <th>Hurst</th>\n      <th>Volatility</th>\n      <th>Beta</th>\n      <th>RSI</th>\n    </tr>\n  </thead>\n  <tbody>\n    <tr>\n      <th>count</th>\n      <td>25.000000</td>\n      <td>25.000000</td>\n      <td>25.000000</td>\n      <td>25.000000</td>\n    </tr>\n    <tr>\n      <th>mean</th>\n      <td>0.504295</td>\n      <td>0.100109</td>\n      <td>0.011365</td>\n      <td>-0.030522</td>\n    </tr>\n    <tr>\n      <th>std</th>\n      <td>0.051169</td>\n      <td>0.035844</td>\n      <td>0.192818</td>\n      <td>0.042271</td>\n    </tr>\n    <tr>\n      <th>min</th>\n      <td>0.393977</td>\n      <td>0.010854</td>\n      <td>-0.419845</td>\n      <td>-0.146629</td>\n    </tr>\n    <tr>\n      <th>25%</th>\n      <td>0.470308</td>\n      <td>0.082422</td>\n      <td>-0.085868</td>\n      <td>-0.026996</td>\n    </tr>\n    <tr>\n      <th>50%</th>\n      <td>0.497768</td>\n      <td>0.095109</td>\n      <td>-0.000292</td>\n      <td>-0.024278</td>\n    </tr>\n    <tr>\n      <th>75%</th>\n      <td>0.540969</td>\n      <td>0.125406</td>\n      <td>0.113765</td>\n      <td>-0.007186</td>\n    </tr>\n    <tr>\n      <th>max</th>\n      <td>0.643444</td>\n      <td>0.173963</td>\n      <td>0.474216</td>\n      <td>0.022010</td>\n    </tr>\n  </tbody>\n</table>\n</div>"
     },
     "execution_count": 15,
     "metadata": {},
     "output_type": "execute_result"
    }
   ],
   "source": [
    "# Describe the curreny\n",
    "dataframe.loc[dataframe[\"dummy\"] == 'Currency'].describe()"
   ],
   "metadata": {
    "collapsed": false,
    "pycharm": {
     "name": "#%%\n"
    }
   }
  },
  {
   "cell_type": "code",
   "execution_count": 16,
   "outputs": [
    {
     "data": {
      "text/plain": "           Hurst  Volatility       Beta        RSI\ncount  25.000000   25.000000  25.000000  25.000000\nmean    0.515312    1.486256   1.440187   0.386728\nstd     0.045054    1.509386   0.729137   0.494755\nmin     0.397829    0.069460  -0.126839  -1.236964\n25%     0.495470    1.111830   0.998796   0.254347\n50%     0.519745    1.259839   1.437132   0.463731\n75%     0.545410    1.410942   2.026728   0.718609\nmax     0.610451    8.391751   2.483677   1.078928",
      "text/html": "<div>\n<style scoped>\n    .dataframe tbody tr th:only-of-type {\n        vertical-align: middle;\n    }\n\n    .dataframe tbody tr th {\n        vertical-align: top;\n    }\n\n    .dataframe thead th {\n        text-align: right;\n    }\n</style>\n<table border=\"1\" class=\"dataframe\">\n  <thead>\n    <tr style=\"text-align: right;\">\n      <th></th>\n      <th>Hurst</th>\n      <th>Volatility</th>\n      <th>Beta</th>\n      <th>RSI</th>\n    </tr>\n  </thead>\n  <tbody>\n    <tr>\n      <th>count</th>\n      <td>25.000000</td>\n      <td>25.000000</td>\n      <td>25.000000</td>\n      <td>25.000000</td>\n    </tr>\n    <tr>\n      <th>mean</th>\n      <td>0.515312</td>\n      <td>1.486256</td>\n      <td>1.440187</td>\n      <td>0.386728</td>\n    </tr>\n    <tr>\n      <th>std</th>\n      <td>0.045054</td>\n      <td>1.509386</td>\n      <td>0.729137</td>\n      <td>0.494755</td>\n    </tr>\n    <tr>\n      <th>min</th>\n      <td>0.397829</td>\n      <td>0.069460</td>\n      <td>-0.126839</td>\n      <td>-1.236964</td>\n    </tr>\n    <tr>\n      <th>25%</th>\n      <td>0.495470</td>\n      <td>1.111830</td>\n      <td>0.998796</td>\n      <td>0.254347</td>\n    </tr>\n    <tr>\n      <th>50%</th>\n      <td>0.519745</td>\n      <td>1.259839</td>\n      <td>1.437132</td>\n      <td>0.463731</td>\n    </tr>\n    <tr>\n      <th>75%</th>\n      <td>0.545410</td>\n      <td>1.410942</td>\n      <td>2.026728</td>\n      <td>0.718609</td>\n    </tr>\n    <tr>\n      <th>max</th>\n      <td>0.610451</td>\n      <td>8.391751</td>\n      <td>2.483677</td>\n      <td>1.078928</td>\n    </tr>\n  </tbody>\n</table>\n</div>"
     },
     "execution_count": 16,
     "metadata": {},
     "output_type": "execute_result"
    }
   ],
   "source": [
    "# Describe the crypto\n",
    "dataframe.loc[dataframe[\"dummy\"] == 'Crypto'].describe()"
   ],
   "metadata": {
    "collapsed": false,
    "pycharm": {
     "name": "#%%\n"
    }
   }
  },
  {
   "cell_type": "code",
   "execution_count": 17,
   "outputs": [
    {
     "data": {
      "text/plain": "            Hurst  Volatility        Beta         RSI\ncount  100.000000  100.000000  100.000000  100.000000\nmean     0.562984    0.459591    1.512126   -0.001026\nstd      0.036391    0.137277    0.420539    0.121979\nmin      0.487696    0.207839    0.223730   -0.556468\n25%      0.536771    0.356901    1.246996   -0.065282\n50%      0.563526    0.464766    1.542833   -0.009821\n75%      0.588892    0.557690    1.797937    0.055734\nmax      0.650227    0.827222    2.528624    0.446306",
      "text/html": "<div>\n<style scoped>\n    .dataframe tbody tr th:only-of-type {\n        vertical-align: middle;\n    }\n\n    .dataframe tbody tr th {\n        vertical-align: top;\n    }\n\n    .dataframe thead th {\n        text-align: right;\n    }\n</style>\n<table border=\"1\" class=\"dataframe\">\n  <thead>\n    <tr style=\"text-align: right;\">\n      <th></th>\n      <th>Hurst</th>\n      <th>Volatility</th>\n      <th>Beta</th>\n      <th>RSI</th>\n    </tr>\n  </thead>\n  <tbody>\n    <tr>\n      <th>count</th>\n      <td>100.000000</td>\n      <td>100.000000</td>\n      <td>100.000000</td>\n      <td>100.000000</td>\n    </tr>\n    <tr>\n      <th>mean</th>\n      <td>0.562984</td>\n      <td>0.459591</td>\n      <td>1.512126</td>\n      <td>-0.001026</td>\n    </tr>\n    <tr>\n      <th>std</th>\n      <td>0.036391</td>\n      <td>0.137277</td>\n      <td>0.420539</td>\n      <td>0.121979</td>\n    </tr>\n    <tr>\n      <th>min</th>\n      <td>0.487696</td>\n      <td>0.207839</td>\n      <td>0.223730</td>\n      <td>-0.556468</td>\n    </tr>\n    <tr>\n      <th>25%</th>\n      <td>0.536771</td>\n      <td>0.356901</td>\n      <td>1.246996</td>\n      <td>-0.065282</td>\n    </tr>\n    <tr>\n      <th>50%</th>\n      <td>0.563526</td>\n      <td>0.464766</td>\n      <td>1.542833</td>\n      <td>-0.009821</td>\n    </tr>\n    <tr>\n      <th>75%</th>\n      <td>0.588892</td>\n      <td>0.557690</td>\n      <td>1.797937</td>\n      <td>0.055734</td>\n    </tr>\n    <tr>\n      <th>max</th>\n      <td>0.650227</td>\n      <td>0.827222</td>\n      <td>2.528624</td>\n      <td>0.446306</td>\n    </tr>\n  </tbody>\n</table>\n</div>"
     },
     "execution_count": 17,
     "metadata": {},
     "output_type": "execute_result"
    }
   ],
   "source": [
    "# Describe the assest\n",
    "dataframe.loc[dataframe[\"dummy\"] == 'Asset'].describe()"
   ],
   "metadata": {
    "collapsed": false,
    "pycharm": {
     "name": "#%%\n"
    }
   }
  },
  {
   "cell_type": "code",
   "execution_count": 18,
   "outputs": [
    {
     "data": {
      "text/plain": "            Hurst  Volatility        Beta         RSI\ncount  150.000000  150.000000  150.000000  150.000000\nmean     0.545257    0.570788    1.250009    0.058683\nstd      0.047660    0.752184    0.720229    0.267181\nmin      0.393977    0.010854   -0.419845   -1.236964\n25%      0.514740    0.289001    0.902128   -0.052326\n50%      0.546463    0.455081    1.430436   -0.008886\n75%      0.578635    0.583667    1.764134    0.086745\nmax      0.650227    8.391751    2.528624    1.078928",
      "text/html": "<div>\n<style scoped>\n    .dataframe tbody tr th:only-of-type {\n        vertical-align: middle;\n    }\n\n    .dataframe tbody tr th {\n        vertical-align: top;\n    }\n\n    .dataframe thead th {\n        text-align: right;\n    }\n</style>\n<table border=\"1\" class=\"dataframe\">\n  <thead>\n    <tr style=\"text-align: right;\">\n      <th></th>\n      <th>Hurst</th>\n      <th>Volatility</th>\n      <th>Beta</th>\n      <th>RSI</th>\n    </tr>\n  </thead>\n  <tbody>\n    <tr>\n      <th>count</th>\n      <td>150.000000</td>\n      <td>150.000000</td>\n      <td>150.000000</td>\n      <td>150.000000</td>\n    </tr>\n    <tr>\n      <th>mean</th>\n      <td>0.545257</td>\n      <td>0.570788</td>\n      <td>1.250009</td>\n      <td>0.058683</td>\n    </tr>\n    <tr>\n      <th>std</th>\n      <td>0.047660</td>\n      <td>0.752184</td>\n      <td>0.720229</td>\n      <td>0.267181</td>\n    </tr>\n    <tr>\n      <th>min</th>\n      <td>0.393977</td>\n      <td>0.010854</td>\n      <td>-0.419845</td>\n      <td>-1.236964</td>\n    </tr>\n    <tr>\n      <th>25%</th>\n      <td>0.514740</td>\n      <td>0.289001</td>\n      <td>0.902128</td>\n      <td>-0.052326</td>\n    </tr>\n    <tr>\n      <th>50%</th>\n      <td>0.546463</td>\n      <td>0.455081</td>\n      <td>1.430436</td>\n      <td>-0.008886</td>\n    </tr>\n    <tr>\n      <th>75%</th>\n      <td>0.578635</td>\n      <td>0.583667</td>\n      <td>1.764134</td>\n      <td>0.086745</td>\n    </tr>\n    <tr>\n      <th>max</th>\n      <td>0.650227</td>\n      <td>8.391751</td>\n      <td>2.528624</td>\n      <td>1.078928</td>\n    </tr>\n  </tbody>\n</table>\n</div>"
     },
     "execution_count": 18,
     "metadata": {},
     "output_type": "execute_result"
    }
   ],
   "source": [
    "dataframe.describe()"
   ],
   "metadata": {
    "collapsed": false,
    "pycharm": {
     "name": "#%%\n"
    }
   }
  },
  {
   "cell_type": "code",
   "execution_count": 19,
   "outputs": [
    {
     "data": {
      "text/plain": "<Figure size 419.125x360 with 1 Axes>",
      "image/png": "[encoded data removed]"
     },
     "metadata": {},
     "output_type": "display_data"
    }
   ],
   "source": [
    "# We are going to plot density of startegy returns by Hurst\n",
    "dataframe['Hurst_den'] = \"Low\"\n",
    "dataframe.loc[dataframe['Hurst']>0.55, 'Hurst_den'] = \"High\"\n",
    "\n",
    "# Plot the density\n",
    "sns.displot(data=dataframe, x=\"RSI\", kind='kde', hue=\"Hurst_den\")\n",
    "# limit and plot the graph\n",
    "plt.xlim(-1.15,1.15)\n",
    "plt.show()"
   ],
   "metadata": {
    "collapsed": false,
    "pycharm": {
     "name": "#%%\n"
    }
   }
  },
  {
   "cell_type": "code",
   "execution_count": 20,
   "outputs": [
    {
     "data": {
      "text/plain": "<Figure size 419.125x360 with 1 Axes>",
      "image/png": "[encoded data removed]"
     },
     "metadata": {},
     "output_type": "display_data"
    }
   ],
   "source": [
    "# We are going to plot density of startegy returns by Volatility\n",
    "dataframe['vol_den'] = \"Low\"\n",
    "dataframe.loc[dataframe['Volatility']>0.57, 'vol_den'] = \"High\"\n",
    "\n",
    "# Plot the density\n",
    "sns.displot(data=dataframe, x=\"RSI\", kind='kde', hue=\"vol_den\")\n",
    "# limit and plot the graph\n",
    "plt.xlim(-1.15,1.15)\n",
    "plt.show()"
   ],
   "metadata": {
    "collapsed": false,
    "pycharm": {
     "name": "#%%\n"
    }
   }
  },
  {
   "cell_type": "code",
   "execution_count": 21,
   "outputs": [
    {
     "data": {
      "text/plain": "<Figure size 419.125x360 with 1 Axes>",
      "image/png": "[encoded data removed]"
     },
     "metadata": {},
     "output_type": "display_data"
    }
   ],
   "source": [
    "# We are going to plot density of startegy returns by class of asset\n",
    "dataframe['beta_den'] = \"Low\"\n",
    "dataframe.loc[dataframe['Beta']>1, 'beta_den'] = \"High\"\n",
    "\n",
    "# Plot the density\n",
    "sns.displot(data=dataframe, x=\"RSI\", kind='kde', hue=\"beta_den\")\n",
    "# limit and plot the graph\n",
    "plt.xlim((-1.15,1.15))\n",
    "plt.show()"
   ],
   "metadata": {
    "collapsed": false,
    "pycharm": {
     "name": "#%%\n"
    }
   }
  },
  {
   "cell_type": "code",
   "execution_count": 23,
   "outputs": [],
   "source": [],
   "metadata": {
    "collapsed": false,
    "pycharm": {
     "name": "#%%\n"
    }
   }
  },
  {
   "cell_type": "code",
   "execution_count": 7,
   "outputs": [],
   "source": [
    "# using Names CSV file find the best asset\n",
    "def best_asset():\n",
    "\tasset = pd.read_csv('Names.csv')['Symbol']\n",
    "\n",
    "\t# Initialize the list\n",
    "\tStatistics = []\n",
    "\tcol = []\n",
    "\n",
    "\tfor fin in tqdm(asset):\n",
    "\t\t# check using yfinance\n",
    "\t\ttry:\n",
    "\t\t\tprint(fin)\n",
    "\n",
    "\t\t\t# Download the data of fin\n",
    "\t\t\tdataa = yf.download(fin).dropna()\n",
    "\t\t\t# Create a list of the statistics\n",
    "\t\t\tstatistics = list()\n",
    "\t\t\tstatistics.append(compute_Hc(dataa['Adj Close'])[0])  # Hurst Exponent\n",
    "\t\t\tstatistics.append(np.sqrt(252) * dataa['Adj Close'].pct_change(1).dropna().std())  # volatility\n",
    "\n",
    "\t\t\tstatistics.append(beta_function(dataa[\"Adj Close\"].pct_change(1).dropna()))  # beta\n",
    "\n",
    "\t\t\tstatistics.append(rsi(dataa, 5, 14).mean() * 252)  # RSI\n",
    "\t\t\tStatistics.append(statistics)\n",
    "\t\t\tcol.append(fin)\n",
    "\t\texcept Exception as e:\n",
    "\t\t\tpass\n",
    "\n",
    "\t# Create dataframe with all statistics\n",
    "\tdataframe = pd.DataFrame(Statistics, columns=['Hurst', 'Volatility', 'Beta', 'RSI'], index=col)\n",
    "\tcluster = pd.read_csv('Names.csv',index_col='Symbol')\n",
    "\tdel cluster['Unnamed: 0']\n",
    "\t# Concat the type of asset and the statistics\n",
    "\tdataframe = pd.concat([cluster,dataframe],axis=1).dropna()\n",
    "\t# Plot the densities\n",
    "\tsns.displot(data=dataframe, x=\"RSI\",kind='kde', hue=\"dummy\")\n",
    "\n",
    "\t# limit the axis\n",
    "\tplt.xlim((-1.15,1.15))\n",
    "\tplt.show()\n",
    "\tprint(\"Density of startegy returns by Hurst\")\n",
    "\t# We are going to plot density of startegy returns by Hurst\n",
    "\tdataframe['Hurst_den'] = \"Low\"\n",
    "\tdataframe.loc[dataframe['Hurst']>0.55, 'Hurst_den'] = \"High\"\n",
    "\t# Plot the density\n",
    "\tsns.displot(data=dataframe, x=\"RSI\", kind='kde', hue=\"Hurst_den\")\n",
    "\t# limit and plot the graph\n",
    "\tplt.xlim(-1.15,1.15)\n",
    "\tplt.show()\n",
    "\n",
    "\tprint(\"Density of startegy returns by Volatility\")\n",
    "\t# We are going to plot density of startegy returns by Volatility\n",
    "\tdataframe['vol_den'] = \"Low\"\n",
    "\tdataframe.loc[dataframe['Volatility']>0.57, 'vol_den'] = \"High\"\n",
    "\t# Plot the density\n",
    "\tsns.displot(data=dataframe, x=\"RSI\", kind='kde', hue=\"vol_den\")\n",
    "\t# limit and plot the graph\n",
    "\tplt.xlim(-1.15,1.15)\n",
    "\tplt.show()\n",
    "\n",
    "\tprint(\"Density of strategy returns by beta of Assest\")\n",
    "\t# We are going to plot density of startegy returns by class of asset\n",
    "\tdataframe['beta_den'] = \"Low\"\n",
    "\tdataframe.loc[dataframe['Beta']>1, 'beta_den'] = \"High\"\n",
    "\t# Plot the density\n",
    "\tsns.displot(data=dataframe, x=\"RSI\", kind='kde', hue=\"beta_den\")\n",
    "\t# limit and plot the graph\n",
    "\tplt.xlim((-1.15,1.15))\n",
    "\tplt.show()"
   ],
   "metadata": {
    "collapsed": false,
    "pycharm": {
     "name": "#%%\n"
    }
   }
  },
  {
   "cell_type": "code",
   "execution_count": 5,
   "outputs": [
    {
     "ename": "NameError",
     "evalue": "name 'pd' is not defined",
     "output_type": "error",
     "traceback": [
      "\u001B[1;31m---------------------------------------------------------------------------\u001B[0m",
      "\u001B[1;31mNameError\u001B[0m                                 Traceback (most recent call last)",
      "\u001B[1;32m~\\AppData\\Local\\Temp/ipykernel_756/1617426422.py\u001B[0m in \u001B[0;36m<module>\u001B[1;34m\u001B[0m\n\u001B[1;32m----> 1\u001B[1;33m \u001B[0mbest_asset\u001B[0m\u001B[1;33m(\u001B[0m\u001B[1;33m)\u001B[0m\u001B[1;33m\u001B[0m\u001B[1;33m\u001B[0m\u001B[0m\n\u001B[0m",
      "\u001B[1;32m~\\AppData\\Local\\Temp/ipykernel_756/2945378757.py\u001B[0m in \u001B[0;36mbest_asset\u001B[1;34m()\u001B[0m\n\u001B[0;32m      1\u001B[0m \u001B[1;31m# using Names CSV file find the best asset\u001B[0m\u001B[1;33m\u001B[0m\u001B[1;33m\u001B[0m\u001B[1;33m\u001B[0m\u001B[0m\n\u001B[0;32m      2\u001B[0m \u001B[1;32mdef\u001B[0m \u001B[0mbest_asset\u001B[0m\u001B[1;33m(\u001B[0m\u001B[1;33m)\u001B[0m\u001B[1;33m:\u001B[0m\u001B[1;33m\u001B[0m\u001B[1;33m\u001B[0m\u001B[0m\n\u001B[1;32m----> 3\u001B[1;33m         \u001B[0masset\u001B[0m \u001B[1;33m=\u001B[0m \u001B[0mpd\u001B[0m\u001B[1;33m.\u001B[0m\u001B[0mread_csv\u001B[0m\u001B[1;33m(\u001B[0m\u001B[1;34m'Names.csv'\u001B[0m\u001B[1;33m)\u001B[0m\u001B[1;33m[\u001B[0m\u001B[1;34m'Symbol'\u001B[0m\u001B[1;33m]\u001B[0m\u001B[1;33m\u001B[0m\u001B[1;33m\u001B[0m\u001B[0m\n\u001B[0m\u001B[0;32m      4\u001B[0m \u001B[1;33m\u001B[0m\u001B[0m\n\u001B[0;32m      5\u001B[0m         \u001B[1;31m# Initialize the list\u001B[0m\u001B[1;33m\u001B[0m\u001B[1;33m\u001B[0m\u001B[1;33m\u001B[0m\u001B[0m\n",
      "\u001B[1;31mNameError\u001B[0m: name 'pd' is not defined"
     ]
    }
   ],
   "source": [],
   "metadata": {
    "collapsed": false,
    "pycharm": {
     "name": "#%%\n"
    }
   }
  },
  {
   "cell_type": "code",
   "execution_count": null,
   "outputs": [],
   "source": [],
   "metadata": {
    "collapsed": false,
    "pycharm": {
     "name": "#%%\n"
    }
   }
  }
 ],
 "metadata": {
  "interpreter": {
   "hash": "8f30a824af870028011f0a6b0fcefc355cd23e22cf652a45bd87478a8047d7a0"
  },
  "kernelspec": {
   "name": "pycharm-c97baf35",
   "language": "python",
   "display_name": "PyCharm (Py_Trade)"
  },
  "language_info": {
   "codemirror_mode": {
    "name": "ipython",
    "version": 3
   },
   "file_extension": ".py",
   "mimetype": "text/x-python",
   "name": "python",
   "nbconvert_exporter": "python",
   "pygments_lexer": "ipython3",
   "version": "3.8.12"
  }
 },
 "nbformat": 4,
 "nbformat_minor": 0
}