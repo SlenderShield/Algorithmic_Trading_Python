{
 "cells": [
  {
   "cell_type": "code",
   "execution_count": 1,
   "metadata": {
    "collapsed": true
   },
   "outputs": [],
   "source": [
    "# importing the dependencies modules\n",
    "import numpy as np\n",
    "import pandas as pd\n",
    "import yfinance as yf\n",
    "import matplotlib as mpl\n",
    "import matplotlib.pyplot as plt\n",
    "import seaborn as sns\n",
    "import ta\n",
    "from tqdm import tqdm\n",
    "from scipy.optimize import minimize\n",
    "from hurst import compute_Hc\n",
    "import warnings\n",
    "warnings.filterwarnings(\"ignore\")"
   ]
  },
  {
   "cell_type": "code",
   "execution_count": 2,
   "metadata": {
    "collapsed": false,
    "pycharm": {
     "name": "#%%\n"
    }
   },
   "outputs": [],
   "source": [
    "# The code will allow you to switch between the dark and light mode in graphs\n",
    "\n",
    "from matplotlib import cycler\n",
    "colors = cycler('color',['#669FEE','#66EE91','#9988DD','#EECC55','#88BB44','#FFBBBB'])\n",
    "plt.rc('figure',facecolor='#313233')\n",
    "plt.rc('axes',facecolor='#313233',edgecolor='None',axisbelow=True,grid=True,prop_cycle=colors,labelcolor='gray')\n",
    "\n",
    "plt.rc('grid',color='#47a4a4') #, linestlye='solid')\n",
    "plt.rc('xtick',color='gray')\n",
    "plt.rc('ytick',direction='out',color='gray')\n",
    "plt.rc('legend',facecolor='#313233',edgecolor='#313233')\n",
    "plt.rc('text',color='#c9c9c9')"
   ]
  },
  {
   "cell_type": "code",
   "execution_count": 3,
   "metadata": {
    "collapsed": false,
    "pycharm": {
     "name": "#%%\n"
    }
   },
   "outputs": [],
   "source": [
    "def rsi(value, neutral, window):\n",
    "\t\"\"\"\n",
    "\n",
    "\tInput:\n",
    "\t:param value: (type dataframe pandas): Entry values of the stock\n",
    "\t:param neutral:(float) Value of the neutrality, i.e No Action Zone\n",
    "\t:param window: (float) rolling period for RSI calculation\n",
    "\n",
    "\tOutput: The function gives the returns of RSI strategy\n",
    "\t:return:\n",
    "\t\"\"\"\n",
    "\t# Print error is no Adj Close column is not present\n",
    "\tif \"Adj Close\" not in value.columns:\n",
    "\t\tValueError(\"Error: No Adj Close column is present\")\n",
    "\n",
    "\tvalue['rsi'] = ta.momentum.RSIIndicator(value['Adj Close'], window=window).rsi()\n",
    "\n",
    "\t\"\"\"Long Buy signal\"\"\"\n",
    "\toverbuy = 70\n",
    "\tneutral_buy = 50 + neutral\n",
    "\n",
    "\t# Put nan values for te signal long columns\n",
    "\tvalue['signal_long'] = np.nan\n",
    "\tvalue['yesterday_rsi'] = value['rsi'].shift(1)\n",
    "\t# We need to define open long signal (Rsi yes>55 and RSI today>55)\n",
    "\tvalue.loc[(value['rsi'] > neutral_buy) & (value['yesterday_rsi'] < neutral_buy), 'signal_long'] = 1\n",
    "\t# open long signal for false positive (Rsi yes>55 and RSI today<55)\n",
    "\tvalue.loc[(value['rsi'] < neutral_buy) & (value['yesterday_rsi'] > neutral_buy), 'signal_long'] = 0\n",
    "\t# open long signal for overbuy (Rsi yes>70 and RSI today<70)\n",
    "\tvalue.loc[(value['rsi'] < overbuy) & (value['yesterday_rsi'] > overbuy), 'signal_long'] = 0\n",
    "\n",
    "\t\"\"\"Short Sell signal\"\"\"\n",
    "\toversell = 30\n",
    "\tneutral_sell = 50 - neutral\n",
    "\n",
    "\t# Put the values for the short signal columns\n",
    "\tvalue['signal_short'] = np.nan\n",
    "\n",
    "\t# We define the Open short signal (RSI yes>45 and RSI today<45)\n",
    "\tvalue.loc[(value['rsi'] < neutral_sell) & (value['yesterday_rsi'] > neutral_sell), 'signal_short'] = -1\n",
    "\n",
    "\t# We define the Close short signal(Rsi yes<45 and RSI today>45) False signal\n",
    "\tvalue.loc[(value['rsi'] > neutral_sell) & (value['yesterday_rsi'] < neutral_sell), 'signal_short'] = 0\n",
    "\n",
    "\t# We define the Close short signal (RSI yes<30 and RSI today>30) Oversell\n",
    "\tvalue.loc[(value['rsi'] < oversell) & (value['yesterday_rsi'] > oversell), 'signal_short'] = 0\n",
    "\n",
    "\t\"\"\"Compute the returns\"\"\"\n",
    "\t# Compute the percentage of the variation of the stock\n",
    "\tvalue['pct'] = value['Adj Close'].pct_change(1)\n",
    "\n",
    "\t# Calculate the position\n",
    "\tvalue['Position'] = (value['signal_short'].fillna(method='ffill') + value['signal_long'].fillna(method='ffill'))\n",
    "\n",
    "\t# Compute the returns\n",
    "\tvalue['return'] = value['pct'] * (value['Position'].shift(1))\n",
    "\n",
    "\treturn value['return']"
   ]
  },
  {
   "cell_type": "code",
   "execution_count": 4,
   "metadata": {},
   "outputs": [],
   "source": [
    "def beta_function(series):\n",
    "\tsp500 = yf.download('^GSPC')[['Adj Close']].pct_change(1)\n",
    "\tsp500.columns = ['SP500']\n",
    "\n",
    "\t# We concatenate the two dataframe\n",
    "\tvalue = pd.concat((series, sp500), axis=1)\n",
    "\n",
    "\t# We compute the beta\n",
    "\tbeta = np.cov(value[[series.name, \"SP500\"]].dropna().values,rowvar=False)[0][1] / np.var(value[\"SP500\"].dropna().values)\n",
    "\treturn beta\n"
   ]
  },
  {
   "cell_type": "code",
   "execution_count": 5,
   "metadata": {},
   "outputs": [],
   "source": [
    "\n",
    "def drawdown_function(series):\n",
    "\tcumulative_sum = series.dropna().cumsum() + 1  # multiplication coefficient\n",
    "\t# compute the max of the cumulative_sum\n",
    "\t# (1,3,1,1,7,1,2,) -> (1,3,3,3,7,7,7)\n",
    "\trunning_max = np.maximum.accumulate(cumulative_sum)\n",
    "\tdrawdowned = cumulative_sum / running_max - 1\n",
    "\treturn drawdowned\n"
   ]
  },
  {
   "cell_type": "code",
   "execution_count": 6,
   "metadata": {},
   "outputs": [],
   "source": [
    "\n",
    "def backTest(series):\n",
    "\t# Import the Bechmark\n",
    "\tsp500 = yf.download('^GSPC')['Adj Close'].pct_change(1)\n",
    "\tsp500.name = 'SP500'\n",
    "\n",
    "\t# We concatenate the two dataframe\n",
    "\tvalue = pd.concat((return_series, sp500), axis=1).dropna()\n",
    "\n",
    "\t# compute the drawdown and max drawdown\n",
    "\tdrawdown = drawdown_function(series)\n",
    "\tmax_drawdown = -np.min(drawdown)\n",
    "\n",
    "\t\"\"\"Plot the Graph\"\"\"\n",
    "\tfig, (cum, draw) = plt.subplots(1, 2, figsize=(20, 6))\n",
    "\tfig.suptitle(\"Backtesting\", size=20)\n",
    "\n",
    "\tcum.plot(series.cumsum(), color='#39B3C7')\n",
    "\tcum.plot(value['SP500'].cumsum(), color='#B85A0F')\n",
    "\n",
    "\tcum.legend([\"Portfolio\", \"Benchmark\"])\n",
    "\tcum.set_title(\"Cumulative Returns\", size=13)\n",
    "\tcum.set_ylabel(\"Cumulative Return in %\", size=13)\n",
    "\n",
    "\t# Plot the drawdown\n",
    "\tdraw.fill_between(drawdown.index, 0, drawdown * 100, color='#C73954', alpha=0.65)\n",
    "\n",
    "\tdraw.set_title(\"Drawdown\", size=15)\n",
    "\tdraw.set_ylabel(\"Drawdown in %\", size=13)\n",
    "\n",
    "\t# plot the graph\n",
    "\tplt.show()\n",
    "\n",
    "\t\"\"\"Compute the statistics\"\"\"\n",
    "\t# compute the sortino\n",
    "\tsortino = np.sqrt(252) * series.mean() / series.loc[series < 0].std()\n",
    "\n",
    "\t# compute the beta\n",
    "\tbeta = np.cov(value[['return', 'SP500']].values, rowvar=False)[0][1] / np.var(value['SP500'].values)\n",
    "\n",
    "\t# compute the alpha\n",
    "\talpha = 252 * (series.mean() - beta * series.mean())\n",
    "\n",
    "\t# Print the statistics\n",
    "\n",
    "\tprint(f'Sortino: {np.round(sortino, 3)}')\n",
    "\tprint(f'Beta: {np.round(beta, 3)}')\n",
    "\tprint(f'Alpha: {np.round(alpha, 3)}')\n",
    "\tprint(f'MaxDrawdown: {np.round(max_drawdown, 3)}')"
   ]
  },
  {
   "cell_type": "code",
   "execution_count": 7,
   "metadata": {
    "collapsed": false,
    "pycharm": {
     "name": "#%%\n"
    }
   },
   "outputs": [
    {
     "data": {
      "text/plain": "<Figure size 432x288 with 1 Axes>",
      "image/png": "[encoded data removed]"
     },
     "metadata": {},
     "output_type": "display_data"
    }
   ],
   "source": [
    "# Hurst Exponent\n",
    "# It is a statistics that helps in understanding the TimeSeries\n",
    "# 0.5<Hurst<1 -> Trending movement; 0.5 = Hurst -> Random Walk; 0<Hurst<0.5 -> Anti-persistent movement\n",
    "\n",
    "# compute Hurst Exponent\n",
    "array = np.linspace(0, 300, 150) + 100\n",
    "hurst = compute_Hc(array)\n",
    "hurst[0]\n",
    "plt.plot(array)\n",
    "plt.title(f\"{'%.2f' %hurst[0]}\")\n",
    "plt.show()"
   ]
  },
  {
   "cell_type": "code",
   "execution_count": 8,
   "metadata": {
    "collapsed": false,
    "pycharm": {
     "name": "#%%\n"
    }
   },
   "outputs": [
    {
     "data": {
      "text/plain": "<Figure size 432x288 with 1 Axes>",
      "image/png": "[encoded data removed]"
     },
     "metadata": {},
     "output_type": "display_data"
    }
   ],
   "source": [
    "# Anti-persistent\n",
    "array = np.cos(np.linspace(0,300,150))\n",
    "hurst = compute_Hc(array)\n",
    "hurst[0]\n",
    "plt.plot(array)\n",
    "plt.title(f\"{'%.2f' %hurst[0]}\")\n",
    "plt.show()"
   ]
  },
  {
   "cell_type": "code",
   "execution_count": 9,
   "metadata": {
    "collapsed": false,
    "pycharm": {
     "name": "#%%\n"
    }
   },
   "outputs": [
    {
     "data": {
      "text/plain": "<Figure size 432x288 with 1 Axes>",
      "image/png": "[encoded data removed]"
     },
     "metadata": {},
     "output_type": "display_data"
    }
   ],
   "source": [
    "# Random Walk\n",
    "np.random.seed(56)\n",
    "array = np.cumsum(np.random.rand(150))\n",
    "hurst = compute_Hc(array)[0]\n",
    "plt.plot(array)\n",
    "plt.title(f\"{'%.2f' %hurst}\")\n",
    "plt.show()"
   ]
  },
  {
   "cell_type": "code",
   "execution_count": 10,
   "metadata": {
    "collapsed": false,
    "pycharm": {
     "name": "#%%\n"
    }
   },
   "outputs": [
    {
     "name": "stderr",
     "output_type": "stream",
     "text": [
      "  0%|          | 0/152 [00:00<?, ?it/s]"
     ]
    },
    {
     "name": "stdout",
     "output_type": "stream",
     "text": [
      "EURUSD=X\n",
      "[*********************100%***********************]  1 of 1 completed\n",
      "[*********************100%***********************]  1 of 1 completed"
     ]
    },
    {
     "name": "stderr",
     "output_type": "stream",
     "text": [
      "  1%|          | 1/152 [00:03<09:23,  3.73s/it]"
     ]
    },
    {
     "name": "stdout",
     "output_type": "stream",
     "text": [
      "\n",
      "EURGBP=X\n",
      "[*********************100%***********************]  1 of 1 completed\n",
      "[*********************100%***********************]  1 of 1 completed"
     ]
    },
    {
     "name": "stderr",
     "output_type": "stream",
     "text": [
      "  1%|▏         | 2/152 [00:07<09:07,  3.65s/it]"
     ]
    },
    {
     "name": "stdout",
     "output_type": "stream",
     "text": [
      "\n",
      "EURCHF=X\n",
      "[*********************100%***********************]  1 of 1 completed\n",
      "[*********************100%***********************]  1 of 1 completed"
     ]
    },
    {
     "name": "stderr",
     "output_type": "stream",
     "text": [
      "  2%|▏         | 3/152 [00:10<08:42,  3.51s/it]"
     ]
    },
    {
     "name": "stdout",
     "output_type": "stream",
     "text": [
      "\n",
      "EURCAD=X\n",
      "[*********************100%***********************]  1 of 1 completed\n",
      "[*********************100%***********************]  1 of 1 completed"
     ]
    },
    {
     "name": "stderr",
     "output_type": "stream",
     "text": [
      "  3%|▎         | 4/152 [00:13<08:16,  3.36s/it]"
     ]
    },
    {
     "name": "stdout",
     "output_type": "stream",
     "text": [
      "\n",
      "EURCNY=X\n",
      "[*********************100%***********************]  1 of 1 completed\n",
      "[*********************100%***********************]  1 of 1 completed"
     ]
    },
    {
     "name": "stderr",
     "output_type": "stream",
     "text": [
      "  3%|▎         | 5/152 [00:17<08:15,  3.37s/it]"
     ]
    },
    {
     "name": "stdout",
     "output_type": "stream",
     "text": [
      "\n",
      "EURJPY=X\n",
      "[*********************100%***********************]  1 of 1 completed\n",
      "[*********************100%***********************]  1 of 1 completed"
     ]
    },
    {
     "name": "stderr",
     "output_type": "stream",
     "text": [
      "  4%|▍         | 6/152 [00:20<08:28,  3.48s/it]"
     ]
    },
    {
     "name": "stdout",
     "output_type": "stream",
     "text": [
      "\n",
      "EURSEK=X\n",
      "[*********************100%***********************]  1 of 1 completed\n",
      "[*********************100%***********************]  1 of 1 completed"
     ]
    },
    {
     "name": "stderr",
     "output_type": "stream",
     "text": [
      "  5%|▍         | 7/152 [00:24<08:52,  3.68s/it]"
     ]
    },
    {
     "name": "stdout",
     "output_type": "stream",
     "text": [
      "\n",
      "EURHUF=X\n",
      "[*********************100%***********************]  1 of 1 completed\n",
      "[*********************100%***********************]  1 of 1 completed"
     ]
    },
    {
     "name": "stderr",
     "output_type": "stream",
     "text": [
      "  5%|▌         | 8/152 [00:28<08:48,  3.67s/it]"
     ]
    },
    {
     "name": "stdout",
     "output_type": "stream",
     "text": [
      "\n",
      "GBPUSD=X\n",
      "[*********************100%***********************]  1 of 1 completed\n",
      "[*********************100%***********************]  1 of 1 completed"
     ]
    },
    {
     "name": "stderr",
     "output_type": "stream",
     "text": [
      "  6%|▌         | 9/152 [00:32<08:42,  3.65s/it]"
     ]
    },
    {
     "name": "stdout",
     "output_type": "stream",
     "text": [
      "\n",
      "GBPCNY=X\n",
      "[*********************100%***********************]  1 of 1 completed\n",
      "[*********************100%***********************]  1 of 1 completed"
     ]
    },
    {
     "name": "stderr",
     "output_type": "stream",
     "text": [
      "  7%|▋         | 10/152 [00:35<08:27,  3.57s/it]"
     ]
    },
    {
     "name": "stdout",
     "output_type": "stream",
     "text": [
      "\n",
      "GBPJPY=X\n",
      "[*********************100%***********************]  1 of 1 completed\n",
      "[*********************100%***********************]  1 of 1 completed"
     ]
    },
    {
     "name": "stderr",
     "output_type": "stream",
     "text": [
      "  7%|▋         | 11/152 [00:38<08:07,  3.46s/it]"
     ]
    },
    {
     "name": "stdout",
     "output_type": "stream",
     "text": [
      "\n",
      "USDCHF=X\n",
      "[*********************100%***********************]  1 of 1 completed\n",
      "[*********************100%***********************]  1 of 1 completed"
     ]
    },
    {
     "name": "stderr",
     "output_type": "stream",
     "text": [
      "  8%|▊         | 12/152 [00:42<07:57,  3.41s/it]"
     ]
    },
    {
     "name": "stdout",
     "output_type": "stream",
     "text": [
      "\n",
      "USDCAD=X\n",
      "[*********************100%***********************]  1 of 1 completed\n",
      "[*********************100%***********************]  1 of 1 completed"
     ]
    },
    {
     "name": "stderr",
     "output_type": "stream",
     "text": [
      "  9%|▊         | 13/152 [00:45<07:42,  3.33s/it]"
     ]
    },
    {
     "name": "stdout",
     "output_type": "stream",
     "text": [
      "\n",
      "USDCNY=X\n",
      "[*********************100%***********************]  1 of 1 completed\n",
      "[*********************100%***********************]  1 of 1 completed"
     ]
    },
    {
     "name": "stderr",
     "output_type": "stream",
     "text": [
      "  9%|▉         | 14/152 [00:48<07:45,  3.38s/it]"
     ]
    },
    {
     "name": "stdout",
     "output_type": "stream",
     "text": [
      "\n",
      "USDHKD=X\n",
      "[*********************100%***********************]  1 of 1 completed\n",
      "[*********************100%***********************]  1 of 1 completed"
     ]
    },
    {
     "name": "stderr",
     "output_type": "stream",
     "text": [
      " 10%|▉         | 15/152 [00:52<08:00,  3.51s/it]"
     ]
    },
    {
     "name": "stdout",
     "output_type": "stream",
     "text": [
      "\n",
      "USDSGD=X\n",
      "[*********************100%***********************]  1 of 1 completed\n",
      "[*********************100%***********************]  1 of 1 completed"
     ]
    },
    {
     "name": "stderr",
     "output_type": "stream",
     "text": [
      " 11%|█         | 16/152 [00:55<07:46,  3.43s/it]"
     ]
    },
    {
     "name": "stdout",
     "output_type": "stream",
     "text": [
      "\n",
      "USDINR=X\n",
      "[*********************100%***********************]  1 of 1 completed\n",
      "[*********************100%***********************]  1 of 1 completed"
     ]
    },
    {
     "name": "stderr",
     "output_type": "stream",
     "text": [
      " 11%|█         | 17/152 [00:59<07:56,  3.53s/it]"
     ]
    },
    {
     "name": "stdout",
     "output_type": "stream",
     "text": [
      "\n",
      "USDMXN=X\n",
      "[*********************100%***********************]  1 of 1 completed\n",
      "[*********************100%***********************]  1 of 1 completed"
     ]
    },
    {
     "name": "stderr",
     "output_type": "stream",
     "text": [
      " 12%|█▏        | 18/152 [01:03<07:56,  3.55s/it]"
     ]
    },
    {
     "name": "stdout",
     "output_type": "stream",
     "text": [
      "\n",
      "USDPHP=X\n",
      "[*********************100%***********************]  1 of 1 completed\n",
      "[*********************100%***********************]  1 of 1 completed"
     ]
    },
    {
     "name": "stderr",
     "output_type": "stream",
     "text": [
      " 12%|█▎        | 19/152 [01:06<07:51,  3.54s/it]"
     ]
    },
    {
     "name": "stdout",
     "output_type": "stream",
     "text": [
      "\n",
      "USDTHB=X\n",
      "[*********************100%***********************]  1 of 1 completed\n",
      "[*********************100%***********************]  1 of 1 completed"
     ]
    },
    {
     "name": "stderr",
     "output_type": "stream",
     "text": [
      " 13%|█▎        | 20/152 [01:10<08:03,  3.66s/it]"
     ]
    },
    {
     "name": "stdout",
     "output_type": "stream",
     "text": [
      "\n",
      "USDMYR=X\n",
      "[*********************100%***********************]  1 of 1 completed\n",
      "[*********************100%***********************]  1 of 1 completed"
     ]
    },
    {
     "name": "stderr",
     "output_type": "stream",
     "text": [
      " 14%|█▍        | 21/152 [01:14<08:05,  3.71s/it]"
     ]
    },
    {
     "name": "stdout",
     "output_type": "stream",
     "text": [
      "\n",
      "USDZAR=X\n",
      "[*********************100%***********************]  1 of 1 completed\n",
      "[*********************100%***********************]  1 of 1 completed"
     ]
    },
    {
     "name": "stderr",
     "output_type": "stream",
     "text": [
      " 14%|█▍        | 22/152 [01:17<07:40,  3.54s/it]"
     ]
    },
    {
     "name": "stdout",
     "output_type": "stream",
     "text": [
      "\n",
      "USDJPY=X\n",
      "[*********************100%***********************]  1 of 1 completed\n",
      "[*********************100%***********************]  1 of 1 completed"
     ]
    },
    {
     "name": "stderr",
     "output_type": "stream",
     "text": [
      " 15%|█▌        | 23/152 [01:20<07:27,  3.47s/it]"
     ]
    },
    {
     "name": "stdout",
     "output_type": "stream",
     "text": [
      "\n",
      "AUDJPY=X\n",
      "[*********************100%***********************]  1 of 1 completed\n",
      "[*********************100%***********************]  1 of 1 completed"
     ]
    },
    {
     "name": "stderr",
     "output_type": "stream",
     "text": [
      " 16%|█▌        | 24/152 [01:24<07:17,  3.42s/it]"
     ]
    },
    {
     "name": "stdout",
     "output_type": "stream",
     "text": [
      "\n",
      "NZDUSD=X\n",
      "[*********************100%***********************]  1 of 1 completed\n",
      "[*********************100%***********************]  1 of 1 completed"
     ]
    },
    {
     "name": "stderr",
     "output_type": "stream",
     "text": [
      " 16%|█▋        | 25/152 [01:27<07:10,  3.39s/it]"
     ]
    },
    {
     "name": "stdout",
     "output_type": "stream",
     "text": [
      "\n",
      "BTC-USD\n",
      "[*********************100%***********************]  1 of 1 completed\n",
      "[*********************100%***********************]  1 of 1 completed"
     ]
    },
    {
     "name": "stderr",
     "output_type": "stream",
     "text": [
      " 17%|█▋        | 26/152 [01:30<06:54,  3.29s/it]"
     ]
    },
    {
     "name": "stdout",
     "output_type": "stream",
     "text": [
      "\n",
      "ETH-USD\n",
      "[*********************100%***********************]  1 of 1 completed\n",
      "[*********************100%***********************]  1 of 1 completed"
     ]
    },
    {
     "name": "stderr",
     "output_type": "stream",
     "text": [
      " 18%|█▊        | 27/152 [01:33<06:47,  3.26s/it]"
     ]
    },
    {
     "name": "stdout",
     "output_type": "stream",
     "text": [
      "\n",
      "BNB-USD\n",
      "[*********************100%***********************]  1 of 1 completed\n",
      "[*********************100%***********************]  1 of 1 completed"
     ]
    },
    {
     "name": "stderr",
     "output_type": "stream",
     "text": [
      " 18%|█▊        | 28/152 [01:36<06:31,  3.16s/it]"
     ]
    },
    {
     "name": "stdout",
     "output_type": "stream",
     "text": [
      "\n",
      "USDT-USD\n",
      "[*********************100%***********************]  1 of 1 completed\n",
      "[*********************100%***********************]  1 of 1 completed"
     ]
    },
    {
     "name": "stderr",
     "output_type": "stream",
     "text": [
      " 19%|█▉        | 29/152 [01:39<06:30,  3.17s/it]"
     ]
    },
    {
     "name": "stdout",
     "output_type": "stream",
     "text": [
      "\n",
      "XRP-USD\n",
      "[*********************100%***********************]  1 of 1 completed\n",
      "[*********************100%***********************]  1 of 1 completed"
     ]
    },
    {
     "name": "stderr",
     "output_type": "stream",
     "text": [
      " 20%|█▉        | 30/152 [01:43<06:36,  3.25s/it]"
     ]
    },
    {
     "name": "stdout",
     "output_type": "stream",
     "text": [
      "\n",
      "ADA-USD\n",
      "[*********************100%***********************]  1 of 1 completed\n",
      "[*********************100%***********************]  1 of 1 completed"
     ]
    },
    {
     "name": "stderr",
     "output_type": "stream",
     "text": [
      " 20%|██        | 31/152 [01:46<06:31,  3.23s/it]"
     ]
    },
    {
     "name": "stdout",
     "output_type": "stream",
     "text": [
      "\n",
      "DOGE-USD\n",
      "[*********************100%***********************]  1 of 1 completed\n",
      "[*********************100%***********************]  1 of 1 completed"
     ]
    },
    {
     "name": "stderr",
     "output_type": "stream",
     "text": [
      " 21%|██        | 32/152 [01:49<06:23,  3.19s/it]"
     ]
    },
    {
     "name": "stdout",
     "output_type": "stream",
     "text": [
      "\n",
      "DOT1-USD\n",
      "[*********************100%***********************]  1 of 1 completed\n",
      "[*********************100%***********************]  1 of 1 completed"
     ]
    },
    {
     "name": "stderr",
     "output_type": "stream",
     "text": [
      " 22%|██▏       | 33/152 [01:53<06:32,  3.29s/it]"
     ]
    },
    {
     "name": "stdout",
     "output_type": "stream",
     "text": [
      "\n",
      "UNI3-USD\n",
      "[*********************100%***********************]  1 of 1 completed\n",
      "[*********************100%***********************]  1 of 1 completed"
     ]
    },
    {
     "name": "stderr",
     "output_type": "stream",
     "text": [
      " 22%|██▏       | 34/152 [01:56<06:30,  3.31s/it]"
     ]
    },
    {
     "name": "stdout",
     "output_type": "stream",
     "text": [
      "\n",
      "LTC-USD\n",
      "[*********************100%***********************]  1 of 1 completed\n",
      "[*********************100%***********************]  1 of 1 completed"
     ]
    },
    {
     "name": "stderr",
     "output_type": "stream",
     "text": [
      " 23%|██▎       | 35/152 [01:59<06:27,  3.31s/it]"
     ]
    },
    {
     "name": "stdout",
     "output_type": "stream",
     "text": [
      "\n",
      "BCH-USD\n",
      "[*********************100%***********************]  1 of 1 completed\n",
      "[*********************100%***********************]  1 of 1 completed"
     ]
    },
    {
     "name": "stderr",
     "output_type": "stream",
     "text": [
      " 24%|██▎       | 36/152 [02:02<06:18,  3.26s/it]"
     ]
    },
    {
     "name": "stdout",
     "output_type": "stream",
     "text": [
      "\n",
      "LINK-USD\n",
      "[*********************100%***********************]  1 of 1 completed\n",
      "[*********************100%***********************]  1 of 1 completed"
     ]
    },
    {
     "name": "stderr",
     "output_type": "stream",
     "text": [
      " 24%|██▍       | 37/152 [02:06<06:27,  3.37s/it]"
     ]
    },
    {
     "name": "stdout",
     "output_type": "stream",
     "text": [
      "\n",
      "VET-USD\n",
      "[*********************100%***********************]  1 of 1 completed\n",
      "[*********************100%***********************]  1 of 1 completed"
     ]
    },
    {
     "name": "stderr",
     "output_type": "stream",
     "text": [
      " 25%|██▌       | 38/152 [02:09<06:20,  3.34s/it]"
     ]
    },
    {
     "name": "stdout",
     "output_type": "stream",
     "text": [
      "\n",
      "USDC-USD\n",
      "[*********************100%***********************]  1 of 1 completed\n",
      "[*********************100%***********************]  1 of 1 completed"
     ]
    },
    {
     "name": "stderr",
     "output_type": "stream",
     "text": [
      " 26%|██▌       | 39/152 [02:13<06:23,  3.39s/it]"
     ]
    },
    {
     "name": "stdout",
     "output_type": "stream",
     "text": [
      "\n",
      "SOL1-USD\n",
      "[*********************100%***********************]  1 of 1 completed\n",
      "[*********************100%***********************]  1 of 1 completed"
     ]
    },
    {
     "name": "stderr",
     "output_type": "stream",
     "text": [
      " 26%|██▋       | 40/152 [02:16<06:22,  3.42s/it]"
     ]
    },
    {
     "name": "stdout",
     "output_type": "stream",
     "text": [
      "\n",
      "XLM-USD\n",
      "[*********************100%***********************]  1 of 1 completed\n",
      "[*********************100%***********************]  1 of 1 completed"
     ]
    },
    {
     "name": "stderr",
     "output_type": "stream",
     "text": [
      " 27%|██▋       | 41/152 [02:20<06:28,  3.50s/it]"
     ]
    },
    {
     "name": "stdout",
     "output_type": "stream",
     "text": [
      "\n",
      "FIL-USD\n",
      "[*********************100%***********************]  1 of 1 completed\n",
      "[*********************100%***********************]  1 of 1 completed"
     ]
    },
    {
     "name": "stderr",
     "output_type": "stream",
     "text": [
      " 28%|██▊       | 42/152 [02:23<06:22,  3.48s/it]"
     ]
    },
    {
     "name": "stdout",
     "output_type": "stream",
     "text": [
      "\n",
      "THETA-USD\n",
      "[*********************100%***********************]  1 of 1 completed\n",
      "[*********************100%***********************]  1 of 1 completed"
     ]
    },
    {
     "name": "stderr",
     "output_type": "stream",
     "text": [
      " 28%|██▊       | 43/152 [02:29<07:33,  4.16s/it]"
     ]
    },
    {
     "name": "stdout",
     "output_type": "stream",
     "text": [
      "\n",
      "TRX-USD\n",
      "[*********************100%***********************]  1 of 1 completed\n",
      "[*********************100%***********************]  1 of 1 completed"
     ]
    },
    {
     "name": "stderr",
     "output_type": "stream",
     "text": [
      " 29%|██▉       | 44/152 [02:33<07:27,  4.15s/it]"
     ]
    },
    {
     "name": "stdout",
     "output_type": "stream",
     "text": [
      "\n",
      "XMR-USD\n",
      "[*********************100%***********************]  1 of 1 completed\n",
      "[*********************100%***********************]  1 of 1 completed"
     ]
    },
    {
     "name": "stderr",
     "output_type": "stream",
     "text": [
      " 30%|██▉       | 45/152 [02:37<07:10,  4.02s/it]"
     ]
    },
    {
     "name": "stdout",
     "output_type": "stream",
     "text": [
      "\n",
      "LUNA1-USD\n",
      "[*********************100%***********************]  1 of 1 completed\n",
      "[*********************100%***********************]  1 of 1 completed"
     ]
    },
    {
     "name": "stderr",
     "output_type": "stream",
     "text": [
      " 30%|███       | 46/152 [02:40<06:46,  3.83s/it]"
     ]
    },
    {
     "name": "stdout",
     "output_type": "stream",
     "text": [
      "\n",
      "NEO-USD\n",
      "[*********************100%***********************]  1 of 1 completed\n",
      "[*********************100%***********************]  1 of 1 completed\n"
     ]
    },
    {
     "name": "stderr",
     "output_type": "stream",
     "text": [
      " 31%|███       | 47/152 [02:44<06:47,  3.88s/it]"
     ]
    },
    {
     "name": "stdout",
     "output_type": "stream",
     "text": [
      "EOS-USD\n",
      "[*********************100%***********************]  1 of 1 completed\n",
      "[*********************100%***********************]  1 of 1 completed"
     ]
    },
    {
     "name": "stderr",
     "output_type": "stream",
     "text": [
      " 32%|███▏      | 48/152 [02:49<06:54,  3.98s/it]"
     ]
    },
    {
     "name": "stdout",
     "output_type": "stream",
     "text": [
      "\n",
      "MIOTA-USD\n",
      "[*********************100%***********************]  1 of 1 completed\n",
      "[*********************100%***********************]  1 of 1 completed"
     ]
    },
    {
     "name": "stderr",
     "output_type": "stream",
     "text": [
      " 32%|███▏      | 49/152 [02:53<06:56,  4.05s/it]"
     ]
    },
    {
     "name": "stdout",
     "output_type": "stream",
     "text": [
      "\n",
      "BSV-USD\n",
      "[*********************100%***********************]  1 of 1 completed\n",
      "[*********************100%***********************]  1 of 1 completed"
     ]
    },
    {
     "name": "stderr",
     "output_type": "stream",
     "text": [
      " 33%|███▎      | 50/152 [02:56<06:31,  3.84s/it]"
     ]
    },
    {
     "name": "stdout",
     "output_type": "stream",
     "text": [
      "\n",
      "AAPL\n",
      "[*********************100%***********************]  1 of 1 completed\n",
      "[*********************100%***********************]  1 of 1 completed"
     ]
    },
    {
     "name": "stderr",
     "output_type": "stream",
     "text": [
      " 34%|███▎      | 51/152 [03:00<06:40,  3.97s/it]"
     ]
    },
    {
     "name": "stdout",
     "output_type": "stream",
     "text": [
      "\n",
      "MSFT\n",
      "[*********************100%***********************]  1 of 1 completed\n",
      "[*********************100%***********************]  1 of 1 completed"
     ]
    },
    {
     "name": "stderr",
     "output_type": "stream",
     "text": [
      " 34%|███▍      | 52/152 [03:04<06:36,  3.96s/it]"
     ]
    },
    {
     "name": "stdout",
     "output_type": "stream",
     "text": [
      "\n",
      "AMZN\n",
      "[*********************100%***********************]  1 of 1 completed\n",
      "[*********************100%***********************]  1 of 1 completed"
     ]
    },
    {
     "name": "stderr",
     "output_type": "stream",
     "text": [
      " 35%|███▍      | 53/152 [03:08<06:24,  3.88s/it]"
     ]
    },
    {
     "name": "stdout",
     "output_type": "stream",
     "text": [
      "\n",
      "TSLA\n",
      "[*********************100%***********************]  1 of 1 completed\n",
      "[*********************100%***********************]  1 of 1 completed"
     ]
    },
    {
     "name": "stderr",
     "output_type": "stream",
     "text": [
      " 36%|███▌      | 54/152 [03:11<06:02,  3.70s/it]"
     ]
    },
    {
     "name": "stdout",
     "output_type": "stream",
     "text": [
      "\n",
      "FB\n",
      "[*********************100%***********************]  1 of 1 completed\n",
      "[*********************100%***********************]  1 of 1 completed"
     ]
    },
    {
     "name": "stderr",
     "output_type": "stream",
     "text": [
      " 36%|███▌      | 55/152 [03:15<05:41,  3.52s/it]"
     ]
    },
    {
     "name": "stdout",
     "output_type": "stream",
     "text": [
      "\n",
      "GOOG\n",
      "[*********************100%***********************]  1 of 1 completed\n",
      "[*********************100%***********************]  1 of 1 completed\n"
     ]
    },
    {
     "name": "stderr",
     "output_type": "stream",
     "text": [
      " 37%|███▋      | 56/152 [03:19<06:00,  3.76s/it]"
     ]
    },
    {
     "name": "stdout",
     "output_type": "stream",
     "text": [
      "GOOGL\n",
      "[*********************100%***********************]  1 of 1 completed\n",
      "[*********************100%***********************]  1 of 1 completed"
     ]
    },
    {
     "name": "stderr",
     "output_type": "stream",
     "text": [
      " 38%|███▊      | 57/152 [03:24<06:29,  4.10s/it]"
     ]
    },
    {
     "name": "stdout",
     "output_type": "stream",
     "text": [
      "\n",
      "NVDA\n",
      "[*********************100%***********************]  1 of 1 completed\n",
      "[*********************100%***********************]  1 of 1 completed"
     ]
    },
    {
     "name": "stderr",
     "output_type": "stream",
     "text": [
      " 38%|███▊      | 58/152 [03:28<06:43,  4.29s/it]"
     ]
    },
    {
     "name": "stdout",
     "output_type": "stream",
     "text": [
      "\n",
      "PYPL\n",
      "[*********************100%***********************]  1 of 1 completed\n",
      "[*********************100%***********************]  1 of 1 completed"
     ]
    },
    {
     "name": "stderr",
     "output_type": "stream",
     "text": [
      " 39%|███▉      | 59/152 [03:32<06:09,  3.97s/it]"
     ]
    },
    {
     "name": "stdout",
     "output_type": "stream",
     "text": [
      "\n",
      "INTC\n",
      "[*********************100%***********************]  1 of 1 completed\n",
      "[*********************100%***********************]  1 of 1 completed"
     ]
    },
    {
     "name": "stderr",
     "output_type": "stream",
     "text": [
      " 39%|███▉      | 60/152 [03:36<06:06,  3.98s/it]"
     ]
    },
    {
     "name": "stdout",
     "output_type": "stream",
     "text": [
      "\n",
      "CMCSA\n",
      "[*********************100%***********************]  1 of 1 completed\n",
      "[*********************100%***********************]  1 of 1 completed"
     ]
    },
    {
     "name": "stderr",
     "output_type": "stream",
     "text": [
      " 40%|████      | 61/152 [03:39<05:55,  3.91s/it]"
     ]
    },
    {
     "name": "stdout",
     "output_type": "stream",
     "text": [
      "\n",
      "NFLX\n",
      "[*********************100%***********************]  1 of 1 completed\n",
      "[*********************100%***********************]  1 of 1 completed"
     ]
    },
    {
     "name": "stderr",
     "output_type": "stream",
     "text": [
      " 41%|████      | 62/152 [03:44<06:05,  4.06s/it]"
     ]
    },
    {
     "name": "stdout",
     "output_type": "stream",
     "text": [
      "\n",
      "ADBE\n",
      "[*********************100%***********************]  1 of 1 completed\n",
      "[*********************100%***********************]  1 of 1 completed"
     ]
    },
    {
     "name": "stderr",
     "output_type": "stream",
     "text": [
      " 41%|████▏     | 63/152 [03:47<05:48,  3.91s/it]"
     ]
    },
    {
     "name": "stdout",
     "output_type": "stream",
     "text": [
      "\n",
      "CSCO\n",
      "[*********************100%***********************]  1 of 1 completed\n",
      "[*********************100%***********************]  1 of 1 completed"
     ]
    },
    {
     "name": "stderr",
     "output_type": "stream",
     "text": [
      " 42%|████▏     | 64/152 [03:52<05:53,  4.02s/it]"
     ]
    },
    {
     "name": "stdout",
     "output_type": "stream",
     "text": [
      "\n",
      "PEP\n",
      "[*********************100%***********************]  1 of 1 completed\n",
      "[*********************100%***********************]  1 of 1 completed"
     ]
    },
    {
     "name": "stderr",
     "output_type": "stream",
     "text": [
      " 43%|████▎     | 65/152 [03:56<05:53,  4.07s/it]"
     ]
    },
    {
     "name": "stdout",
     "output_type": "stream",
     "text": [
      "\n",
      "AVGO\n",
      "[*********************100%***********************]  1 of 1 completed\n",
      "[*********************100%***********************]  1 of 1 completed"
     ]
    },
    {
     "name": "stderr",
     "output_type": "stream",
     "text": [
      " 43%|████▎     | 66/152 [03:59<05:30,  3.84s/it]"
     ]
    },
    {
     "name": "stdout",
     "output_type": "stream",
     "text": [
      "\n",
      "TXN\n",
      "[*********************100%***********************]  1 of 1 completed\n",
      "[*********************100%***********************]  1 of 1 completed"
     ]
    },
    {
     "name": "stderr",
     "output_type": "stream",
     "text": [
      " 44%|████▍     | 67/152 [04:04<05:41,  4.02s/it]"
     ]
    },
    {
     "name": "stdout",
     "output_type": "stream",
     "text": [
      "\n",
      "TMUS\n",
      "[*********************100%***********************]  1 of 1 completed\n",
      "[*********************100%***********************]  1 of 1 completed"
     ]
    },
    {
     "name": "stderr",
     "output_type": "stream",
     "text": [
      " 45%|████▍     | 68/152 [04:07<05:26,  3.89s/it]"
     ]
    },
    {
     "name": "stdout",
     "output_type": "stream",
     "text": [
      "\n",
      "COST\n",
      "[*********************100%***********************]  1 of 1 completed\n",
      "[*********************100%***********************]  1 of 1 completed"
     ]
    },
    {
     "name": "stderr",
     "output_type": "stream",
     "text": [
      " 45%|████▌     | 69/152 [04:11<05:20,  3.86s/it]"
     ]
    },
    {
     "name": "stdout",
     "output_type": "stream",
     "text": [
      "\n",
      "QCOM\n",
      "[*********************100%***********************]  1 of 1 completed\n",
      "[*********************100%***********************]  1 of 1 completed"
     ]
    },
    {
     "name": "stderr",
     "output_type": "stream",
     "text": [
      " 46%|████▌     | 70/152 [04:15<05:08,  3.76s/it]"
     ]
    },
    {
     "name": "stdout",
     "output_type": "stream",
     "text": [
      "\n",
      "AMGN\n",
      "[*********************100%***********************]  1 of 1 completed\n",
      "[*********************100%***********************]  1 of 1 completed"
     ]
    },
    {
     "name": "stderr",
     "output_type": "stream",
     "text": [
      " 47%|████▋     | 71/152 [04:19<05:10,  3.83s/it]"
     ]
    },
    {
     "name": "stdout",
     "output_type": "stream",
     "text": [
      "\n",
      "SBUX\n",
      "[*********************100%***********************]  1 of 1 completed\n",
      "[*********************100%***********************]  1 of 1 completed"
     ]
    },
    {
     "name": "stderr",
     "output_type": "stream",
     "text": [
      " 47%|████▋     | 72/152 [04:22<05:08,  3.86s/it]"
     ]
    },
    {
     "name": "stdout",
     "output_type": "stream",
     "text": [
      "\n",
      "AMAT\n",
      "[*********************100%***********************]  1 of 1 completed\n",
      "[*********************100%***********************]  1 of 1 completed"
     ]
    },
    {
     "name": "stderr",
     "output_type": "stream",
     "text": [
      " 48%|████▊     | 73/152 [04:27<05:10,  3.93s/it]"
     ]
    },
    {
     "name": "stdout",
     "output_type": "stream",
     "text": [
      "\n",
      "CHTR\n",
      "[*********************100%***********************]  1 of 1 completed\n",
      "[*********************100%***********************]  1 of 1 completed"
     ]
    },
    {
     "name": "stderr",
     "output_type": "stream",
     "text": [
      " 49%|████▊     | 74/152 [04:30<04:57,  3.81s/it]"
     ]
    },
    {
     "name": "stdout",
     "output_type": "stream",
     "text": [
      "\n",
      "INTU\n",
      "[*********************100%***********************]  1 of 1 completed\n",
      "[*********************100%***********************]  1 of 1 completed"
     ]
    },
    {
     "name": "stderr",
     "output_type": "stream",
     "text": [
      " 49%|████▉     | 75/152 [04:34<04:47,  3.74s/it]"
     ]
    },
    {
     "name": "stdout",
     "output_type": "stream",
     "text": [
      "\n",
      "MU\n",
      "[*********************100%***********************]  1 of 1 completed\n",
      "[*********************100%***********************]  1 of 1 completed"
     ]
    },
    {
     "name": "stderr",
     "output_type": "stream",
     "text": [
      " 50%|█████     | 76/152 [04:38<04:53,  3.86s/it]"
     ]
    },
    {
     "name": "stdout",
     "output_type": "stream",
     "text": [
      "\n",
      "BKNG\n",
      "[*********************100%***********************]  1 of 1 completed\n",
      "[*********************100%***********************]  1 of 1 completed"
     ]
    },
    {
     "name": "stderr",
     "output_type": "stream",
     "text": [
      " 51%|█████     | 77/152 [04:42<04:59,  4.00s/it]"
     ]
    },
    {
     "name": "stdout",
     "output_type": "stream",
     "text": [
      "\n",
      "AMD\n",
      "[*********************100%***********************]  1 of 1 completed\n",
      "[*********************100%***********************]  1 of 1 completed"
     ]
    },
    {
     "name": "stderr",
     "output_type": "stream",
     "text": [
      " 51%|█████▏    | 78/152 [04:46<04:53,  3.96s/it]"
     ]
    },
    {
     "name": "stdout",
     "output_type": "stream",
     "text": [
      "\n",
      "LRCX\n",
      "[*********************100%***********************]  1 of 1 completed\n",
      "[*********************100%***********************]  1 of 1 completed"
     ]
    },
    {
     "name": "stderr",
     "output_type": "stream",
     "text": [
      " 52%|█████▏    | 79/152 [04:50<04:56,  4.06s/it]"
     ]
    },
    {
     "name": "stdout",
     "output_type": "stream",
     "text": [
      "\n",
      "ISRG\n",
      "[*********************100%***********************]  1 of 1 completed\n",
      "[*********************100%***********************]  1 of 1 completed"
     ]
    },
    {
     "name": "stderr",
     "output_type": "stream",
     "text": [
      " 53%|█████▎    | 80/152 [04:53<04:28,  3.73s/it]"
     ]
    },
    {
     "name": "stdout",
     "output_type": "stream",
     "text": [
      "\n",
      "MDLZ\n",
      "[*********************100%***********************]  1 of 1 completed\n",
      "[*********************100%***********************]  1 of 1 completed"
     ]
    },
    {
     "name": "stderr",
     "output_type": "stream",
     "text": [
      " 53%|█████▎    | 81/152 [04:57<04:16,  3.61s/it]"
     ]
    },
    {
     "name": "stdout",
     "output_type": "stream",
     "text": [
      "\n",
      "GILD\n",
      "[*********************100%***********************]  1 of 1 completed\n",
      "[*********************100%***********************]  1 of 1 completed"
     ]
    },
    {
     "name": "stderr",
     "output_type": "stream",
     "text": [
      " 54%|█████▍    | 82/152 [05:00<04:11,  3.59s/it]"
     ]
    },
    {
     "name": "stdout",
     "output_type": "stream",
     "text": [
      "\n",
      "FISV\n",
      "[*********************100%***********************]  1 of 1 completed\n",
      "[*********************100%***********************]  1 of 1 completed"
     ]
    },
    {
     "name": "stderr",
     "output_type": "stream",
     "text": [
      " 55%|█████▍    | 83/152 [05:04<04:06,  3.57s/it]"
     ]
    },
    {
     "name": "stdout",
     "output_type": "stream",
     "text": [
      "\n",
      "ADP\n",
      "[*********************100%***********************]  1 of 1 completed\n",
      "[*********************100%***********************]  1 of 1 completed"
     ]
    },
    {
     "name": "stderr",
     "output_type": "stream",
     "text": [
      " 55%|█████▌    | 84/152 [05:08<04:14,  3.74s/it]"
     ]
    },
    {
     "name": "stdout",
     "output_type": "stream",
     "text": [
      "\n",
      "ZM\n",
      "[*********************100%***********************]  1 of 1 completed\n",
      "[*********************100%***********************]  1 of 1 completed"
     ]
    },
    {
     "name": "stderr",
     "output_type": "stream",
     "text": [
      " 56%|█████▌    | 85/152 [05:11<03:53,  3.48s/it]"
     ]
    },
    {
     "name": "stdout",
     "output_type": "stream",
     "text": [
      "\n",
      "MELI\n",
      "[*********************100%***********************]  1 of 1 completed\n",
      "[*********************100%***********************]  1 of 1 completed"
     ]
    },
    {
     "name": "stderr",
     "output_type": "stream",
     "text": [
      " 57%|█████▋    | 86/152 [05:14<03:43,  3.39s/it]"
     ]
    },
    {
     "name": "stdout",
     "output_type": "stream",
     "text": [
      "\n",
      "ATVI\n",
      "[*********************100%***********************]  1 of 1 completed\n",
      "[*********************100%***********************]  1 of 1 completed"
     ]
    },
    {
     "name": "stderr",
     "output_type": "stream",
     "text": [
      " 57%|█████▋    | 87/152 [05:17<03:40,  3.40s/it]"
     ]
    },
    {
     "name": "stdout",
     "output_type": "stream",
     "text": [
      "\n",
      "CSX\n",
      "[*********************100%***********************]  1 of 1 completed\n",
      "[*********************100%***********************]  1 of 1 completed"
     ]
    },
    {
     "name": "stderr",
     "output_type": "stream",
     "text": [
      " 58%|█████▊    | 88/152 [05:21<03:45,  3.52s/it]"
     ]
    },
    {
     "name": "stdout",
     "output_type": "stream",
     "text": [
      "\n",
      "JD\n",
      "[*********************100%***********************]  1 of 1 completed\n",
      "[*********************100%***********************]  1 of 1 completed"
     ]
    },
    {
     "name": "stderr",
     "output_type": "stream",
     "text": [
      " 59%|█████▊    | 89/152 [05:24<03:22,  3.22s/it]"
     ]
    },
    {
     "name": "stdout",
     "output_type": "stream",
     "text": [
      "\n",
      "ADSK\n",
      "[*********************100%***********************]  1 of 1 completed\n",
      "[*********************100%***********************]  1 of 1 completed"
     ]
    },
    {
     "name": "stderr",
     "output_type": "stream",
     "text": [
      " 59%|█████▉    | 90/152 [05:27<03:21,  3.24s/it]"
     ]
    },
    {
     "name": "stdout",
     "output_type": "stream",
     "text": [
      "\n",
      "BIDU\n",
      "[*********************100%***********************]  1 of 1 completed\n",
      "[*********************100%***********************]  1 of 1 completed"
     ]
    },
    {
     "name": "stderr",
     "output_type": "stream",
     "text": [
      " 60%|█████▉    | 91/152 [05:30<03:12,  3.15s/it]"
     ]
    },
    {
     "name": "stdout",
     "output_type": "stream",
     "text": [
      "\n",
      "ILMN\n",
      "[*********************100%***********************]  1 of 1 completed\n",
      "[*********************100%***********************]  1 of 1 completed"
     ]
    },
    {
     "name": "stderr",
     "output_type": "stream",
     "text": [
      " 61%|██████    | 92/152 [05:34<03:33,  3.55s/it]"
     ]
    },
    {
     "name": "stdout",
     "output_type": "stream",
     "text": [
      "\n",
      "ADI\n",
      "[*********************100%***********************]  1 of 1 completed\n",
      "[*********************100%***********************]  1 of 1 completed"
     ]
    },
    {
     "name": "stderr",
     "output_type": "stream",
     "text": [
      " 61%|██████    | 93/152 [05:39<03:43,  3.79s/it]"
     ]
    },
    {
     "name": "stdout",
     "output_type": "stream",
     "text": [
      "\n",
      "NXPI\n",
      "[*********************100%***********************]  1 of 1 completed\n",
      "[*********************100%***********************]  1 of 1 completed"
     ]
    },
    {
     "name": "stderr",
     "output_type": "stream",
     "text": [
      " 62%|██████▏   | 94/152 [05:42<03:28,  3.60s/it]"
     ]
    },
    {
     "name": "stdout",
     "output_type": "stream",
     "text": [
      "\n",
      "VRTX\n",
      "[*********************100%***********************]  1 of 1 completed\n",
      "[*********************100%***********************]  1 of 1 completed"
     ]
    },
    {
     "name": "stderr",
     "output_type": "stream",
     "text": [
      " 62%|██████▎   | 95/152 [05:45<03:21,  3.54s/it]"
     ]
    },
    {
     "name": "stdout",
     "output_type": "stream",
     "text": [
      "\n",
      "KLAC\n",
      "[*********************100%***********************]  1 of 1 completed\n",
      "[*********************100%***********************]  1 of 1 completed"
     ]
    },
    {
     "name": "stderr",
     "output_type": "stream",
     "text": [
      " 63%|██████▎   | 96/152 [05:50<03:32,  3.80s/it]"
     ]
    },
    {
     "name": "stdout",
     "output_type": "stream",
     "text": [
      "\n",
      "MRNA\n",
      "[*********************100%***********************]  1 of 1 completed\n",
      "[*********************100%***********************]  1 of 1 completed"
     ]
    },
    {
     "name": "stderr",
     "output_type": "stream",
     "text": [
      " 64%|██████▍   | 97/152 [05:52<03:12,  3.51s/it]"
     ]
    },
    {
     "name": "stdout",
     "output_type": "stream",
     "text": [
      "\n",
      "PDD\n",
      "[*********************100%***********************]  1 of 1 completed\n",
      "[*********************100%***********************]  1 of 1 completed"
     ]
    },
    {
     "name": "stderr",
     "output_type": "stream",
     "text": [
      " 64%|██████▍   | 98/152 [05:55<02:58,  3.30s/it]"
     ]
    },
    {
     "name": "stdout",
     "output_type": "stream",
     "text": [
      "\n",
      "REGN\n",
      "[*********************100%***********************]  1 of 1 completed\n",
      "[*********************100%***********************]  1 of 1 completed"
     ]
    },
    {
     "name": "stderr",
     "output_type": "stream",
     "text": [
      " 65%|██████▌   | 99/152 [05:59<02:59,  3.38s/it]"
     ]
    },
    {
     "name": "stdout",
     "output_type": "stream",
     "text": [
      "\n",
      "KHC\n",
      "[*********************100%***********************]  1 of 1 completed\n",
      "[*********************100%***********************]  1 of 1 completed"
     ]
    },
    {
     "name": "stderr",
     "output_type": "stream",
     "text": [
      " 66%|██████▌   | 100/152 [06:02<02:48,  3.24s/it]"
     ]
    },
    {
     "name": "stdout",
     "output_type": "stream",
     "text": [
      "\n",
      "MNST\n",
      "[*********************100%***********************]  1 of 1 completed\n",
      "[*********************100%***********************]  1 of 1 completed"
     ]
    },
    {
     "name": "stderr",
     "output_type": "stream",
     "text": [
      " 66%|██████▋   | 101/152 [06:05<02:46,  3.27s/it]"
     ]
    },
    {
     "name": "stdout",
     "output_type": "stream",
     "text": [
      "\n",
      "KDP\n",
      "[*********************100%***********************]  1 of 1 completed\n",
      "[*********************100%***********************]  1 of 1 completed"
     ]
    },
    {
     "name": "stderr",
     "output_type": "stream",
     "text": [
      " 67%|██████▋   | 102/152 [06:08<02:43,  3.27s/it]"
     ]
    },
    {
     "name": "stdout",
     "output_type": "stream",
     "text": [
      "\n",
      "MAR\n",
      "[*********************100%***********************]  1 of 1 completed\n",
      "[*********************100%***********************]  1 of 1 completed"
     ]
    },
    {
     "name": "stderr",
     "output_type": "stream",
     "text": [
      " 68%|██████▊   | 103/152 [06:12<02:41,  3.30s/it]"
     ]
    },
    {
     "name": "stdout",
     "output_type": "stream",
     "text": [
      "\n",
      "ASML\n",
      "[*********************100%***********************]  1 of 1 completed\n",
      "[*********************100%***********************]  1 of 1 completed"
     ]
    },
    {
     "name": "stderr",
     "output_type": "stream",
     "text": [
      " 68%|██████▊   | 104/152 [06:15<02:42,  3.38s/it]"
     ]
    },
    {
     "name": "stdout",
     "output_type": "stream",
     "text": [
      "\n",
      "WBA\n",
      "[*********************100%***********************]  1 of 1 completed\n",
      "[*********************100%***********************]  1 of 1 completed"
     ]
    },
    {
     "name": "stderr",
     "output_type": "stream",
     "text": [
      " 69%|██████▉   | 105/152 [06:19<02:42,  3.45s/it]"
     ]
    },
    {
     "name": "stdout",
     "output_type": "stream",
     "text": [
      "\n",
      "WDAY\n",
      "[*********************100%***********************]  1 of 1 completed\n",
      "[*********************100%***********************]  1 of 1 completed"
     ]
    },
    {
     "name": "stderr",
     "output_type": "stream",
     "text": [
      " 70%|██████▉   | 106/152 [06:22<02:29,  3.25s/it]"
     ]
    },
    {
     "name": "stdout",
     "output_type": "stream",
     "text": [
      "\n",
      "ROST\n",
      "[*********************100%***********************]  1 of 1 completed\n",
      "[*********************100%***********************]  1 of 1 completed"
     ]
    },
    {
     "name": "stderr",
     "output_type": "stream",
     "text": [
      " 70%|███████   | 107/152 [06:25<02:31,  3.36s/it]"
     ]
    },
    {
     "name": "stdout",
     "output_type": "stream",
     "text": [
      "\n",
      "ALGN\n",
      "[*********************100%***********************]  1 of 1 completed\n",
      "[*********************100%***********************]  1 of 1 completed"
     ]
    },
    {
     "name": "stderr",
     "output_type": "stream",
     "text": [
      " 71%|███████   | 108/152 [06:29<02:29,  3.40s/it]"
     ]
    },
    {
     "name": "stdout",
     "output_type": "stream",
     "text": [
      "\n",
      "EXC\n",
      "[*********************100%***********************]  1 of 1 completed\n",
      "[*********************100%***********************]  1 of 1 completed"
     ]
    },
    {
     "name": "stderr",
     "output_type": "stream",
     "text": [
      " 72%|███████▏  | 109/152 [06:33<02:32,  3.54s/it]"
     ]
    },
    {
     "name": "stdout",
     "output_type": "stream",
     "text": [
      "\n",
      "MCHP\n",
      "[*********************100%***********************]  1 of 1 completed\n",
      "[*********************100%***********************]  1 of 1 completed"
     ]
    },
    {
     "name": "stderr",
     "output_type": "stream",
     "text": [
      " 72%|███████▏  | 110/152 [06:36<02:23,  3.42s/it]"
     ]
    },
    {
     "name": "stdout",
     "output_type": "stream",
     "text": [
      "\n",
      "AEP\n",
      "[*********************100%***********************]  1 of 1 completed\n",
      "[*********************100%***********************]  1 of 1 completed"
     ]
    },
    {
     "name": "stderr",
     "output_type": "stream",
     "text": [
      " 73%|███████▎  | 111/152 [06:40<02:26,  3.56s/it]"
     ]
    },
    {
     "name": "stdout",
     "output_type": "stream",
     "text": [
      "\n",
      "EBAY\n",
      "[*********************100%***********************]  1 of 1 completed\n",
      "[*********************100%***********************]  1 of 1 completed"
     ]
    },
    {
     "name": "stderr",
     "output_type": "stream",
     "text": [
      " 74%|███████▎  | 112/152 [06:43<02:20,  3.52s/it]"
     ]
    },
    {
     "name": "stdout",
     "output_type": "stream",
     "text": [
      "\n",
      "CTSH\n",
      "[*********************100%***********************]  1 of 1 completed\n",
      "[*********************100%***********************]  1 of 1 completed"
     ]
    },
    {
     "name": "stderr",
     "output_type": "stream",
     "text": [
      " 74%|███████▍  | 113/152 [06:47<02:19,  3.58s/it]"
     ]
    },
    {
     "name": "stdout",
     "output_type": "stream",
     "text": [
      "\n",
      "IDXX\n",
      "[*********************100%***********************]  1 of 1 completed\n",
      "[*********************100%***********************]  1 of 1 completed"
     ]
    },
    {
     "name": "stderr",
     "output_type": "stream",
     "text": [
      " 75%|███████▌  | 114/152 [06:51<02:22,  3.74s/it]"
     ]
    },
    {
     "name": "stdout",
     "output_type": "stream",
     "text": [
      "\n",
      "BIIB\n",
      "[*********************100%***********************]  1 of 1 completed\n",
      "[*********************100%***********************]  1 of 1 completed"
     ]
    },
    {
     "name": "stderr",
     "output_type": "stream",
     "text": [
      " 76%|███████▌  | 115/152 [06:55<02:24,  3.91s/it]"
     ]
    },
    {
     "name": "stdout",
     "output_type": "stream",
     "text": [
      "\n",
      "EA\n",
      "[*********************100%***********************]  1 of 1 completed\n",
      "[*********************100%***********************]  1 of 1 completed"
     ]
    },
    {
     "name": "stderr",
     "output_type": "stream",
     "text": [
      " 76%|███████▋  | 116/152 [06:59<02:24,  4.02s/it]"
     ]
    },
    {
     "name": "stdout",
     "output_type": "stream",
     "text": [
      "\n",
      "CDNS\n",
      "[*********************100%***********************]  1 of 1 completed\n",
      "[*********************100%***********************]  1 of 1 completed"
     ]
    },
    {
     "name": "stderr",
     "output_type": "stream",
     "text": [
      " 77%|███████▋  | 117/152 [07:07<02:54,  4.99s/it]"
     ]
    },
    {
     "name": "stdout",
     "output_type": "stream",
     "text": [
      "\n",
      "SNPS\n",
      "[*********************100%***********************]  1 of 1 completed\n",
      "[*********************100%***********************]  1 of 1 completed"
     ]
    },
    {
     "name": "stderr",
     "output_type": "stream",
     "text": [
      " 78%|███████▊  | 118/152 [07:12<02:49,  4.98s/it]"
     ]
    },
    {
     "name": "stdout",
     "output_type": "stream",
     "text": [
      "\n",
      "LULU\n",
      "[*********************100%***********************]  1 of 1 completed\n",
      "[*********************100%***********************]  1 of 1 completed"
     ]
    },
    {
     "name": "stderr",
     "output_type": "stream",
     "text": [
      " 78%|███████▊  | 119/152 [07:15<02:30,  4.56s/it]"
     ]
    },
    {
     "name": "stdout",
     "output_type": "stream",
     "text": [
      "\n",
      "MTCH\n",
      "[*********************100%***********************]  1 of 1 completed\n",
      "[*********************100%***********************]  1 of 1 completed"
     ]
    },
    {
     "name": "stderr",
     "output_type": "stream",
     "text": [
      " 79%|███████▉  | 120/152 [07:19<02:19,  4.35s/it]"
     ]
    },
    {
     "name": "stdout",
     "output_type": "stream",
     "text": [
      "\n",
      "DOCU\n",
      "[*********************100%***********************]  1 of 1 completed\n",
      "[*********************100%***********************]  1 of 1 completed"
     ]
    },
    {
     "name": "stderr",
     "output_type": "stream",
     "text": [
      " 80%|███████▉  | 121/152 [07:22<02:00,  3.88s/it]"
     ]
    },
    {
     "name": "stdout",
     "output_type": "stream",
     "text": [
      "\n",
      "XEL\n",
      "[*********************100%***********************]  1 of 1 completed\n",
      "[*********************100%***********************]  1 of 1 completed"
     ]
    },
    {
     "name": "stderr",
     "output_type": "stream",
     "text": [
      " 80%|████████  | 122/152 [07:26<01:57,  3.93s/it]"
     ]
    },
    {
     "name": "stdout",
     "output_type": "stream",
     "text": [
      "\n",
      "CTAS\n",
      "[*********************100%***********************]  1 of 1 completed\n",
      "[*********************100%***********************]  1 of 1 completed"
     ]
    },
    {
     "name": "stderr",
     "output_type": "stream",
     "text": [
      " 81%|████████  | 123/152 [07:30<01:58,  4.09s/it]"
     ]
    },
    {
     "name": "stdout",
     "output_type": "stream",
     "text": [
      "\n",
      "ORLY\n",
      "[*********************100%***********************]  1 of 1 completed\n",
      "[*********************100%***********************]  1 of 1 completed"
     ]
    },
    {
     "name": "stderr",
     "output_type": "stream",
     "text": [
      " 82%|████████▏ | 124/152 [07:35<01:59,  4.25s/it]"
     ]
    },
    {
     "name": "stdout",
     "output_type": "stream",
     "text": [
      "\n",
      "DXCM\n",
      "[*********************100%***********************]  1 of 1 completed\n",
      "[*********************100%***********************]  1 of 1 completed"
     ]
    },
    {
     "name": "stderr",
     "output_type": "stream",
     "text": [
      " 82%|████████▏ | 125/152 [07:43<02:28,  5.51s/it]"
     ]
    },
    {
     "name": "stdout",
     "output_type": "stream",
     "text": [
      "\n",
      "PAYX\n",
      "[*********************100%***********************]  1 of 1 completed\n",
      "[*********************100%***********************]  1 of 1 completed"
     ]
    },
    {
     "name": "stderr",
     "output_type": "stream",
     "text": [
      " 83%|████████▎ | 126/152 [07:51<02:38,  6.11s/it]"
     ]
    },
    {
     "name": "stdout",
     "output_type": "stream",
     "text": [
      "\n",
      "MRVL\n",
      "[*********************100%***********************]  1 of 1 completed\n",
      "[*********************100%***********************]  1 of 1 completed"
     ]
    },
    {
     "name": "stderr",
     "output_type": "stream",
     "text": [
      " 84%|████████▎ | 127/152 [07:57<02:35,  6.21s/it]"
     ]
    },
    {
     "name": "stdout",
     "output_type": "stream",
     "text": [
      "\n",
      "ALXN\n",
      "[*********************100%***********************]  1 of 1 completed"
     ]
    },
    {
     "name": "stderr",
     "output_type": "stream",
     "text": [
      " 84%|████████▍ | 128/152 [07:58<01:48,  4.52s/it]"
     ]
    },
    {
     "name": "stdout",
     "output_type": "stream",
     "text": [
      "\n",
      "\n",
      "1 Failed download:\n",
      "- ALXN: No data found, symbol may be delisted\n",
      "PCAR\n",
      "[*********************100%***********************]  1 of 1 completed\n",
      "[*********************100%***********************]  1 of 1 completed"
     ]
    },
    {
     "name": "stderr",
     "output_type": "stream",
     "text": [
      " 85%|████████▍ | 129/152 [08:09<02:27,  6.41s/it]"
     ]
    },
    {
     "name": "stdout",
     "output_type": "stream",
     "text": [
      "\n",
      "NTES\n",
      "[*********************100%***********************]  1 of 1 completed\n",
      "[*********************100%***********************]  1 of 1 completed"
     ]
    },
    {
     "name": "stderr",
     "output_type": "stream",
     "text": [
      " 86%|████████▌ | 130/152 [08:15<02:22,  6.48s/it]"
     ]
    },
    {
     "name": "stdout",
     "output_type": "stream",
     "text": [
      "\n",
      "XLNX\n",
      "[*********************100%***********************]  1 of 1 completed\n",
      "[*********************100%***********************]  1 of 1 completed"
     ]
    },
    {
     "name": "stderr",
     "output_type": "stream",
     "text": [
      " 86%|████████▌ | 131/152 [08:21<02:12,  6.33s/it]"
     ]
    },
    {
     "name": "stdout",
     "output_type": "stream",
     "text": [
      "\n",
      "SWKS\n",
      "[*********************100%***********************]  1 of 1 completed\n",
      "[*********************100%***********************]  1 of 1 completed"
     ]
    },
    {
     "name": "stderr",
     "output_type": "stream",
     "text": [
      " 87%|████████▋ | 132/152 [08:28<02:07,  6.38s/it]"
     ]
    },
    {
     "name": "stdout",
     "output_type": "stream",
     "text": [
      "\n",
      "ANSS\n",
      "[*********************100%***********************]  1 of 1 completed\n",
      "[*********************100%***********************]  1 of 1 completed"
     ]
    },
    {
     "name": "stderr",
     "output_type": "stream",
     "text": [
      " 88%|████████▊ | 133/152 [08:33<01:50,  5.83s/it]"
     ]
    },
    {
     "name": "stdout",
     "output_type": "stream",
     "text": [
      "\n",
      "PTON\n",
      "[*********************100%***********************]  1 of 1 completed\n",
      "[*********************100%***********************]  1 of 1 completed"
     ]
    },
    {
     "name": "stderr",
     "output_type": "stream",
     "text": [
      " 88%|████████▊ | 134/152 [08:36<01:34,  5.24s/it]"
     ]
    },
    {
     "name": "stdout",
     "output_type": "stream",
     "text": [
      "\n",
      "TEAM\n",
      "[*********************100%***********************]  1 of 1 completed\n",
      "[*********************100%***********************]  1 of 1 completed"
     ]
    },
    {
     "name": "stderr",
     "output_type": "stream",
     "text": [
      " 89%|████████▉ | 135/152 [08:41<01:27,  5.14s/it]"
     ]
    },
    {
     "name": "stdout",
     "output_type": "stream",
     "text": [
      "\n",
      "VRSK\n",
      "[*********************100%***********************]  1 of 1 completed\n",
      "[*********************100%***********************]  1 of 1 completed"
     ]
    },
    {
     "name": "stderr",
     "output_type": "stream",
     "text": [
      " 89%|████████▉ | 136/152 [08:46<01:17,  4.86s/it]"
     ]
    },
    {
     "name": "stdout",
     "output_type": "stream",
     "text": [
      "\n",
      "FAST\n",
      "[*********************100%***********************]  1 of 1 completed\n",
      "[*********************100%***********************]  1 of 1 completed"
     ]
    },
    {
     "name": "stderr",
     "output_type": "stream",
     "text": [
      " 90%|█████████ | 137/152 [08:52<01:20,  5.36s/it]"
     ]
    },
    {
     "name": "stdout",
     "output_type": "stream",
     "text": [
      "\n",
      "OKTA\n",
      "[*********************100%***********************]  1 of 1 completed\n",
      "[*********************100%***********************]  1 of 1 completed"
     ]
    },
    {
     "name": "stderr",
     "output_type": "stream",
     "text": [
      " 91%|█████████ | 138/152 [08:57<01:13,  5.27s/it]"
     ]
    },
    {
     "name": "stdout",
     "output_type": "stream",
     "text": [
      "\n",
      "DLTR\n",
      "[*********************100%***********************]  1 of 1 completed\n",
      "[*********************100%***********************]  1 of 1 completed"
     ]
    },
    {
     "name": "stderr",
     "output_type": "stream",
     "text": [
      " 91%|█████████▏| 139/152 [09:03<01:09,  5.37s/it]"
     ]
    },
    {
     "name": "stdout",
     "output_type": "stream",
     "text": [
      "\n",
      "CPRT\n",
      "[*********************100%***********************]  1 of 1 completed\n",
      "[*********************100%***********************]  1 of 1 completed"
     ]
    },
    {
     "name": "stderr",
     "output_type": "stream",
     "text": [
      " 92%|█████████▏| 140/152 [09:08<01:04,  5.41s/it]"
     ]
    },
    {
     "name": "stdout",
     "output_type": "stream",
     "text": [
      "\n",
      "SGEN\n",
      "[*********************100%***********************]  1 of 1 completed\n",
      "[*********************100%***********************]  1 of 1 completed"
     ]
    },
    {
     "name": "stderr",
     "output_type": "stream",
     "text": [
      " 93%|█████████▎| 141/152 [09:13<00:56,  5.17s/it]"
     ]
    },
    {
     "name": "stdout",
     "output_type": "stream",
     "text": [
      "\n",
      "SIRI\n",
      "[*********************100%***********************]  1 of 1 completed\n",
      "[*********************100%***********************]  1 of 1 completed"
     ]
    },
    {
     "name": "stderr",
     "output_type": "stream",
     "text": [
      " 93%|█████████▎| 142/152 [09:18<00:52,  5.26s/it]"
     ]
    },
    {
     "name": "stdout",
     "output_type": "stream",
     "text": [
      "\n",
      "MXIM\n",
      "[*********************100%***********************]  1 of 1 completed"
     ]
    },
    {
     "name": "stderr",
     "output_type": "stream",
     "text": [
      " 94%|█████████▍| 143/152 [09:19<00:36,  4.04s/it]"
     ]
    },
    {
     "name": "stdout",
     "output_type": "stream",
     "text": [
      "\n",
      "\n",
      "1 Failed download:\n",
      "- MXIM: No data found, symbol may be delisted\n",
      "CDW\n",
      "[*********************100%***********************]  1 of 1 completed\n",
      "[*********************100%***********************]  1 of 1 completed"
     ]
    },
    {
     "name": "stderr",
     "output_type": "stream",
     "text": [
      " 95%|█████████▍| 144/152 [09:25<00:34,  4.37s/it]"
     ]
    },
    {
     "name": "stdout",
     "output_type": "stream",
     "text": [
      "\n",
      "VRSN\n",
      "[*********************100%***********************]  1 of 1 completed\n",
      "[*********************100%***********************]  1 of 1 completed"
     ]
    },
    {
     "name": "stderr",
     "output_type": "stream",
     "text": [
      " 95%|█████████▌| 145/152 [09:30<00:32,  4.63s/it]"
     ]
    },
    {
     "name": "stdout",
     "output_type": "stream",
     "text": [
      "\n",
      "SPLK\n",
      "[*********************100%***********************]  1 of 1 completed\n",
      "[*********************100%***********************]  1 of 1 completed"
     ]
    },
    {
     "name": "stderr",
     "output_type": "stream",
     "text": [
      " 96%|█████████▌| 146/152 [09:34<00:27,  4.59s/it]"
     ]
    },
    {
     "name": "stdout",
     "output_type": "stream",
     "text": [
      "\n",
      "CERN\n",
      "[*********************100%***********************]  1 of 1 completed\n",
      "[*********************100%***********************]  1 of 1 completed"
     ]
    },
    {
     "name": "stderr",
     "output_type": "stream",
     "text": [
      " 97%|█████████▋| 147/152 [09:40<00:24,  4.82s/it]"
     ]
    },
    {
     "name": "stdout",
     "output_type": "stream",
     "text": [
      "\n",
      "TCOM\n",
      "[*********************100%***********************]  1 of 1 completed\n",
      "[*********************100%***********************]  1 of 1 completed"
     ]
    },
    {
     "name": "stderr",
     "output_type": "stream",
     "text": [
      " 97%|█████████▋| 148/152 [09:45<00:19,  4.87s/it]"
     ]
    },
    {
     "name": "stdout",
     "output_type": "stream",
     "text": [
      "\n",
      "INCY\n",
      "[*********************100%***********************]  1 of 1 completed\n",
      "[*********************100%***********************]  1 of 1 completed"
     ]
    },
    {
     "name": "stderr",
     "output_type": "stream",
     "text": [
      " 98%|█████████▊| 149/152 [09:50<00:14,  5.00s/it]"
     ]
    },
    {
     "name": "stdout",
     "output_type": "stream",
     "text": [
      "\n",
      "CHKP\n",
      "[*********************100%***********************]  1 of 1 completed\n",
      "[*********************100%***********************]  1 of 1 completed"
     ]
    },
    {
     "name": "stderr",
     "output_type": "stream",
     "text": [
      " 99%|█████████▊| 150/152 [09:55<00:09,  4.88s/it]"
     ]
    },
    {
     "name": "stdout",
     "output_type": "stream",
     "text": [
      "\n",
      "FOXA\n",
      "[*********************100%***********************]  1 of 1 completed\n",
      "[*********************100%***********************]  1 of 1 completed"
     ]
    },
    {
     "name": "stderr",
     "output_type": "stream",
     "text": [
      " 99%|█████████▉| 151/152 [09:58<00:04,  4.56s/it]"
     ]
    },
    {
     "name": "stdout",
     "output_type": "stream",
     "text": [
      "\n",
      "FOX\n",
      "[*********************100%***********************]  1 of 1 completed\n",
      "[*********************100%***********************]  1 of 1 completed"
     ]
    },
    {
     "name": "stderr",
     "output_type": "stream",
     "text": [
      "100%|██████████| 152/152 [10:02<00:00,  3.96s/it]"
     ]
    },
    {
     "name": "stdout",
     "output_type": "stream",
     "text": [
      "\n",
      "['EURUSD=X', 'EURGBP=X', 'EURCHF=X', 'EURCAD=X', 'EURCNY=X', 'EURJPY=X', 'EURSEK=X', 'EURHUF=X', 'GBPUSD=X', 'GBPCNY=X', 'GBPJPY=X', 'USDCHF=X', 'USDCAD=X', 'USDCNY=X', 'USDHKD=X', 'USDSGD=X', 'USDINR=X', 'USDMXN=X', 'USDPHP=X', 'USDTHB=X', 'USDMYR=X', 'USDZAR=X', 'USDJPY=X', 'AUDJPY=X', 'NZDUSD=X', 'BTC-USD', 'ETH-USD', 'BNB-USD', 'USDT-USD', 'XRP-USD', 'ADA-USD', 'DOGE-USD', 'DOT1-USD', 'UNI3-USD', 'LTC-USD', 'BCH-USD', 'LINK-USD', 'VET-USD', 'USDC-USD', 'SOL1-USD', 'XLM-USD', 'FIL-USD', 'THETA-USD', 'TRX-USD', 'XMR-USD', 'LUNA1-USD', 'NEO-USD', 'EOS-USD', 'MIOTA-USD', 'BSV-USD', 'AAPL', 'MSFT', 'AMZN', 'TSLA', 'FB', 'GOOG', 'GOOGL', 'NVDA', 'PYPL', 'INTC', 'CMCSA', 'NFLX', 'ADBE', 'CSCO', 'PEP', 'AVGO', 'TXN', 'TMUS', 'COST', 'QCOM', 'AMGN', 'SBUX', 'AMAT', 'CHTR', 'INTU', 'MU', 'BKNG', 'AMD', 'LRCX', 'ISRG', 'MDLZ', 'GILD', 'FISV', 'ADP', 'ZM', 'MELI', 'ATVI', 'CSX', 'JD', 'ADSK', 'BIDU', 'ILMN', 'ADI', 'NXPI', 'VRTX', 'KLAC', 'MRNA', 'PDD', 'REGN', 'KHC', 'MNST', 'KDP', 'MAR', 'ASML', 'WBA', 'WDAY', 'ROST', 'ALGN', 'EXC', 'MCHP', 'AEP', 'EBAY', 'CTSH', 'IDXX', 'BIIB', 'EA', 'CDNS', 'SNPS', 'LULU', 'MTCH', 'DOCU', 'XEL', 'CTAS', 'ORLY', 'DXCM', 'PAYX', 'MRVL', 'PCAR', 'NTES', 'XLNX', 'SWKS', 'ANSS', 'PTON', 'TEAM', 'VRSK', 'FAST', 'OKTA', 'DLTR', 'CPRT', 'SGEN', 'SIRI', 'CDW', 'VRSN', 'SPLK', 'CERN', 'TCOM', 'INCY', 'CHKP', 'FOXA', 'FOX'] [[0.43851422654041533, 0.11696442351501332, 0.12784263193018947, -0.02571338395843765], [0.5141767775758844, 0.08268195063186941, -0.033825691417392556, -0.02663092904705945], [0.5409735187849821, 0.07866737638679945, 0.09537849685523646, -0.009357481053423667], [0.4533881748907926, 0.09217378068709586, -0.08607601234547463, -0.023110308938818373], [0.45958427436414967, 0.13030861830173732, 0.07050635634608222, -0.11837522232408233], [0.4959672602583164, 0.11564521600767368, 0.22043785306326072, -0.006955370284087687], [0.5028432450350909, 0.06979275116302934, -0.11251810083971571, -0.030829623288421173], [0.47031036473588433, 0.08735003416342506, -0.15698915057059235, -0.01416171281897649], [0.5153909847228839, 0.09413568947614415, 0.11394689445865079, -0.026131047468194238], [0.4888474316306255, 0.1394568185395458, 0.08677140544323471, -0.14672309302958572], [0.5470908140509944, 0.12674733134215588, 0.2552664964737304, 0.022024548527789598], [0.49245695662267475, 0.10865059315070702, -0.0005149933617376953, -0.021535531776313906], [0.5103615325776957, 0.08999160645095856, -0.1817954132752195, -0.02585421456134211], [0.6434030778394414, 0.041626926171925975, 0.0052439426664035805, -0.00012251672931444052], [0.39397540497423095, 0.010857113912746784, 0.0002011323591914719, -0.0034442683361978104], [0.5509027873730309, 0.052318474050132846, -0.06950856612887338, 0.004353888066392624], [0.5782356313245047, 0.07987348606580025, -0.03298334290154656, -0.024432092237454305], [0.5501756571420159, 0.1254088558169922, -0.421118159869464, -0.02653988636064263], [0.5196321373334303, 0.0823776327493447, -0.028978109403977013, -0.05186920479961308], [0.4795954233962502, 0.10578595535557993, -0.016767980436462018, -0.13304415427015936], [0.4976963185582452, 0.09513292664844877, -0.11322895814815134, -0.049732472717334664], [0.5562282996112285, 0.17402094690117392, -0.355710074616766, -0.009592623798589366], [0.4839160475988989, 0.1175529657850027, 0.15674137143060754, -0.02427456682208256], [0.45966867019489493, 0.15902516900605718, 0.4748462863637857, 0.015834530089296604], [0.4642249580836022, 0.12672592377228015, 0.2854526544387965, -0.004400447569090516], [0.5640203240267513, 0.6195966650070625, 0.7420931254735942, 0.4820811974668216], [0.5527498359247085, 1.011769564902287, 1.2219285325867948, 0.5506020572343435], [0.5217234121072274, 1.2252619041839303, 1.6620810818520169, 0.6779604606617756], [0.49230623618010916, 0.27241329656328556, -0.12694608215017497, -0.11516059261007776], [0.5402538795226643, 1.2070412849130394, 0.9950396500583306, 1.0801691258356099], [0.5463445629385719, 1.282548331091207, 2.0133921277390345, 0.8648805322516797], [0.5414230222053709, 1.4426781749275375, 0.6410892879701796, 0.7194303913868276], [0.5360399072469784, 1.2778034716777773, 1.8667693673580572, 0.4028744693707121], [0.4722232923651797, 8.420548998946959, 2.2118671807782624, 0.35921777491287576], [0.5197722880867416, 0.9269089768188904, 0.9509677722316178, 0.2503486401015243], [0.5107931635913227, 1.1870416100268009, 1.4282872951699224, 0.7988667623247283], [0.5012660144814567, 1.245978107990338, 2.0823017406119777, 0.6239368585420202], [0.5475883891008994, 1.112629458853631, 2.4175066276643573, 0.46491196895486564], [0.3977509350445438, 0.06955086543601355, -0.1203526486228341, -0.13962577996135128], [0.6392651186750387, 1.3643991620647604, 1.6488614165122093, 0.5094491768906615], [0.5020132999338275, 1.2663757531833162, 1.131582134623543, 0.7088482517651671], [0.48765902702808955, 2.6084124919771745, 0.6362966223597419, -1.2399400098382323], [0.5455603051206279, 1.2596475643795473, 2.1789287293128075, -0.490179204420897], [0.4955191727932588, 1.4567077064413225, 1.6179553597598975, 0.7545641571932372], [0.5020917299657788, 1.0369557955625175, 0.9985389024777851, 0.41120408356845006], [0.6122919539771805, 1.4124631682850612, 2.4764390268122107, 0.7971799685586654], [0.5247732614263219, 1.386786896991393, 1.3705871246150407, 0.7404559026971324], [0.4893460033087175, 1.3460191111300086, 1.4186209783723278, 0.25485458339787975], [0.5077474822526049, 1.163653700617382, 1.8857097702427532, 0.4364033186354228], [0.41344213314848655, 1.4554876457955117, 2.2549322164718095, 0.26135302298474045], [0.5825070822325268, 0.4510957868529839, 1.5879488923728873, 0.08648320275350642], [0.5957375934150301, 0.3383485569166584, 1.6191483084550198, -0.009039667967721553], [0.5836336968121286, 0.5776983170601645, 2.0387454150412565, 0.1276216330059633], [0.5845128390676877, 0.5618174685557762, 1.5319091060894978, 0.06088237308507155], [0.5959678265888266, 0.36714815934613604, 1.1996164349423497, 0.0020540616183277027], [0.6099587081531477, 0.3025071053817316, 1.4819340675758488, 0.08546140534332239], [0.6102631101795368, 0.30239355599304557, 1.4839230089930036, 0.09960417021318539], [0.5676937358220969, 0.605696512378952, 2.4412790788556684, 0.2097128861588083], [0.6173643975427331, 0.3465869677167949, 1.70784432576683, 0.027620608003420494], [0.5150933014091195, 0.39817256098150144, 1.7439958232783588, 0.003368978568773275], [0.5681052933402816, 0.35829047677532827, 1.3480492662609227, -0.007254636569831706], [0.5751595642406789, 0.5643513822895154, 1.4905637708455044, 0.00029750555909630126], [0.5328741423902734, 0.49118414636849816, 1.8400829639799394, -0.0035106164505921693], [0.5265853446687088, 0.40588557952067544, 1.7959259391068685, -0.01673469655806057], [0.5896622639542253, 0.24604169126421346, 0.8981670980531347, -0.04030802850315073], [0.6279479811074248, 0.35271674492357674, 1.5204870293537127, -0.07025960977340397], [0.5249616764064574, 0.37966890973920436, 1.5457747042899945, 0.041412721925733004], [0.5637870616949554, 0.43529077113163145, 1.7230552561140025, -0.05994612429592575], [0.5792697783916947, 0.3185434703935432, 1.199562919237071, -0.04048355775558508], [0.523849383562068, 0.4932847074642786, 1.7654447014283405, 0.0554144916684954], [0.540477967943122, 0.38740426727548616, 1.2326084446142238, -0.03225069907367831], [0.6161889298813382, 0.38066549647785414, 1.4528425130013904, -0.042312130146691065], [0.5348962989430489, 0.48343456121847717, 1.8463365417129827, 0.033225035592260505], [0.650398856945685, 0.2760870507123603, 0.949752838414057, 0.04000674141525183], [0.602301224638833, 0.46709626805459015, 1.6685688065896238, -0.12211556596811972], [0.5059529585438494, 0.6120421353163185, 2.1350867158621094, 0.12097209252585238], [0.5360636083420741, 0.6376014501443112, 2.025169286113609, 0.03404045071285229], [0.4924375237215009, 0.5952494042908109, 2.029126105516388, 0.20027672813003208], [0.5222671797419555, 0.5650985230069361, 1.9458685312375925, -0.0798484960526063], [0.582787585034281, 0.5046532222626121, 1.6446678289736973, 0.11343679766437657], [0.5591530435570338, 0.21492769785210097, 0.9272033843656384, -0.05066040449542005], [0.5818518610956968, 0.4877747573530188, 1.2838546737976992, -0.11863719281232166], [0.5625003743307517, 0.3357281892896121, 1.274173996444764, -0.16105501273824901], [0.6133069539352691, 0.26334528514029387, 1.189137403083274, -0.04810848167249258], [0.5758732550990139, 0.6847913006823757, 0.23804754700079886, 0.34303997307795125], [0.5743697038696162, 0.5566708931750411, 2.5299935228393835, 0.1993049866568732], [0.5788417545597337, 0.5299708191760476, 1.3288547209445414, -0.24945776640053693], [0.5655649452678105, 0.3095053039164477, 1.3560242473839834, -0.026620956893632742], [0.5453628600807553, 0.4301747656842539, 1.36374365386276, -0.06624985752957119], [0.5412046898246794, 0.46252016790470846, 1.729744775011752, 0.05101633567047721], [0.5261782555525366, 0.49935921895048807, 1.8571119540433376, 0.08960251119234909], [0.5487886934895134, 0.5809966606574672, 1.7354273473397879, 0.0909616176027159], [0.5370162450227903, 0.4419509742233911, 1.6219660511810226, -0.06588364965878213], [0.5691451548381116, 0.4324761067153708, 1.8029052747193732, -0.09550375517909793], [0.4974269047850024, 0.5768815405271517, 1.5406976518578581, -0.03401664360396495], [0.5397880238037285, 0.5158101994145518, 1.7831080201725218, -0.042609051113640536], [0.5817370275791669, 0.8284420912991013, 0.4449018842226169, 0.3346005608604299], [0.5923295748668843, 0.7196338804903611, 1.7200280654840252, 0.13690119476363563], [0.5530201582720065, 0.6632570892462438, 1.5829755001280015, -0.050753868761736175], [0.5885714663098569, 0.29369365991146723, 1.1452836345753583, -0.06301253658947309], [0.5688853945056211, 0.8108341319982938, 0.7359253870505358, -0.5571513642813466], [0.6407468818423578, 0.2609845813455424, 1.0398731037955566, -0.010117173956255535], [0.5433328410520937, 0.3493648294080655, 1.7584828251233109, -0.009761497607230411], [0.5837387628913773, 0.49295807073086806, 2.230281074942648, 0.10384548451692192], [0.5501815760467103, 0.2874610959823356, 1.0371996719488545, -0.018751706741955646], [0.5408833605322346, 0.3838400490487407, 1.357635425346016, -0.07972967983546131], [0.5562746290218458, 0.4226440491799872, 1.2505495266703095, 0.01618057391298755], [0.5495895390909349, 0.6106367628226337, 1.8929539401930902, 0.17207231640293588], [0.5630603016532632, 0.2376530639323361, 0.7593077349844243, -0.014155031431186712], [0.5467432489928366, 0.4827412594862621, 1.8551457662278448, -0.1278044194901884], [0.5750971663165895, 0.20782170895850893, 0.6421765654012297, 0.03580846179719532], [0.5540682366799959, 0.5145504928424592, 1.9227902642876948, 0.06866501114189542], [0.5616416407904692, 0.48942729733508195, 1.9802306686466493, -0.03341716610462468], [0.5925949612256283, 0.40111600409090337, 1.113390992490991, -0.04400189300090104], [0.5429660996138997, 0.5839480880017615, 1.45295318840436, -0.124918502590529], [0.5215008046731836, 0.48410415144970914, 1.5035404982420846, -0.20537370536328647], [0.5257725033506991, 0.47602037361215843, 1.6598081802726337, 0.04232635916158075], [0.5371565822246067, 0.4008803299588913, 1.384444949769086, -0.10895239683206553], [0.6019526458609465, 0.5055027117473342, 2.15296381026872, 0.048032633983781055], [0.5651631091884975, 0.5009043982504849, 1.4362767924704856, -0.08271597502876776], [0.604056718067008, 0.5680618363152835, 1.6619021132699638, -0.020342808669848746], [0.5944425400488847, 0.22275371221300413, 0.6707467891871138, 0.006973978959384776], [0.5755040877983322, 0.30483291088508996, 1.172625035504525, -0.09298011715997942], [0.6375733092959693, 0.3404469316619266, 1.1303764387084938, -0.018474861240046617], [0.5698377265051195, 0.5612699179302777, 1.8107780588807763, 0.08898435370062946], [0.5809531645822972, 0.34633747023840444, 1.1891313912317203, -0.029797527563524943], [0.546332340428132, 0.5468125483986721, 2.0881658803297523, 0.056788285415054575], [0.5451439169569964, 0.3269889639280857, 1.4010409638670478, -0.008759298056811438], [0.546453379198263, 0.5831133759283769, 1.4486407492667017, 0.08323033599682307], [0.5290855795918464, 0.4973664228612901, 1.8816034810019788, -0.16057179459030727], [0.5043775003880844, 0.6505844070956207, 1.82566074293031, -0.1352562589343151], [0.6000059751525489, 0.4215604850784134, 1.4503016069535621, -0.10303911882344594], [0.6063980772516735, 0.7459230501406953, 0.7979696767959615, 0.4488185024637057], [0.6316930399562322, 0.4503851559014368, 1.2342970436959504, -0.07429043518899023], [0.6051961694603935, 0.21831032467148742, 0.9129452952302156, -0.053178632843546715], [0.567212673121656, 0.3657705594539174, 1.3946433229464201, 0.018291617627446806], [0.6011432288877823, 0.4875618170440584, 1.6012137112757672, 0.07262200370846283], [0.5523726559877917, 0.41767073284906503, 1.2534997103093886, -0.053506787863249416], [0.6010115864777555, 0.387156693370423, 1.1118256566551312, -0.00291807634625034], [0.5549511797736632, 0.5354871430870056, 1.6671607254101681, -0.0854540105789109], [0.5146238017049773, 0.815799703939517, 1.579233281047942, 0.031019817361033035], [0.6215070180468997, 0.2825489907776758, 1.3085513559565258, -0.0034573739784193665], [0.49809326736038656, 0.5654028112254896, 2.232179491469507, 0.10821027084365556], [0.5111388241334305, 0.4590198672112795, 1.579890336614408, -0.09169543324538093], [0.5480218972719303, 0.4785947263969546, 1.1344578457670944, -0.07281986572545597], [0.5257688933023285, 0.5056457009045678, 1.6999155066751672, 0.027567112272207143], [0.5075056116296393, 0.6582049598872847, 1.956797333221582, 0.13618065654027983], [0.4877039513748957, 0.5206153174891124, 1.7585651087716014, -0.030040643180867126], [0.5197502335340921, 0.3864524360295736, 1.8862043957701942, -0.08592194128112825], [0.5072468964161287, 0.37414253440186335, 1.9434107773605782, -0.10621739271151934]]\n"
     ]
    },
    {
     "name": "stderr",
     "output_type": "stream",
     "text": [
      "\n"
     ]
    },
    {
     "data": {
      "text/plain": "             Hurst  Volatility      Beta       RSI\nEURUSD=X  0.438514    0.116964  0.127843 -0.025713\nEURGBP=X  0.514177    0.082682 -0.033826 -0.026631\nEURCHF=X  0.540974    0.078667  0.095378 -0.009357\nEURCAD=X  0.453388    0.092174 -0.086076 -0.023110\nEURCNY=X  0.459584    0.130309  0.070506 -0.118375\n...            ...         ...       ...       ...\nTCOM      0.525769    0.505646  1.699916  0.027567\nINCY      0.507506    0.658205  1.956797  0.136181\nCHKP      0.487704    0.520615  1.758565 -0.030041\nFOXA      0.519750    0.386452  1.886204 -0.085922\nFOX       0.507247    0.374143  1.943411 -0.106217\n\n[150 rows x 4 columns]",
      "text/html": "<div>\n<style scoped>\n    .dataframe tbody tr th:only-of-type {\n        vertical-align: middle;\n    }\n\n    .dataframe tbody tr th {\n        vertical-align: top;\n    }\n\n    .dataframe thead th {\n        text-align: right;\n    }\n</style>\n<table border=\"1\" class=\"dataframe\">\n  <thead>\n    <tr style=\"text-align: right;\">\n      <th></th>\n      <th>Hurst</th>\n      <th>Volatility</th>\n      <th>Beta</th>\n      <th>RSI</th>\n    </tr>\n  </thead>\n  <tbody>\n    <tr>\n      <th>EURUSD=X</th>\n      <td>0.438514</td>\n      <td>0.116964</td>\n      <td>0.127843</td>\n      <td>-0.025713</td>\n    </tr>\n    <tr>\n      <th>EURGBP=X</th>\n      <td>0.514177</td>\n      <td>0.082682</td>\n      <td>-0.033826</td>\n      <td>-0.026631</td>\n    </tr>\n    <tr>\n      <th>EURCHF=X</th>\n      <td>0.540974</td>\n      <td>0.078667</td>\n      <td>0.095378</td>\n      <td>-0.009357</td>\n    </tr>\n    <tr>\n      <th>EURCAD=X</th>\n      <td>0.453388</td>\n      <td>0.092174</td>\n      <td>-0.086076</td>\n      <td>-0.023110</td>\n    </tr>\n    <tr>\n      <th>EURCNY=X</th>\n      <td>0.459584</td>\n      <td>0.130309</td>\n      <td>0.070506</td>\n      <td>-0.118375</td>\n    </tr>\n    <tr>\n      <th>...</th>\n      <td>...</td>\n      <td>...</td>\n      <td>...</td>\n      <td>...</td>\n    </tr>\n    <tr>\n      <th>TCOM</th>\n      <td>0.525769</td>\n      <td>0.505646</td>\n      <td>1.699916</td>\n      <td>0.027567</td>\n    </tr>\n    <tr>\n      <th>INCY</th>\n      <td>0.507506</td>\n      <td>0.658205</td>\n      <td>1.956797</td>\n      <td>0.136181</td>\n    </tr>\n    <tr>\n      <th>CHKP</th>\n      <td>0.487704</td>\n      <td>0.520615</td>\n      <td>1.758565</td>\n      <td>-0.030041</td>\n    </tr>\n    <tr>\n      <th>FOXA</th>\n      <td>0.519750</td>\n      <td>0.386452</td>\n      <td>1.886204</td>\n      <td>-0.085922</td>\n    </tr>\n    <tr>\n      <th>FOX</th>\n      <td>0.507247</td>\n      <td>0.374143</td>\n      <td>1.943411</td>\n      <td>-0.106217</td>\n    </tr>\n  </tbody>\n</table>\n<p>150 rows × 4 columns</p>\n</div>"
     },
     "execution_count": 10,
     "metadata": {},
     "output_type": "execute_result"
    }
   ],
   "source": [
    "# using Names CSV file find the best asset\n",
    "asset = pd.read_csv('Names.csv')['Symbol']\n",
    "\n",
    "# Initialize the list\n",
    "Statistics = []\n",
    "col = []\n",
    "\n",
    "for fin in tqdm(asset):\n",
    "\t# check using yfinance\n",
    "\ttry:\n",
    "\t\tprint(fin)\n",
    "\n",
    "\t\t# Download the data of fin\n",
    "\t\tdataa = yf.download(fin).dropna()\n",
    "\t\t# Create a list of the statistics\n",
    "\t\tstatistics = list()\n",
    "\t\tstatistics.append(compute_Hc(dataa['Adj Close'])[0])  # Hurst Exponent\n",
    "\t\tstatistics.append(np.sqrt(252) * dataa['Adj Close'].pct_change(1).dropna().std())  # volatility\n",
    "\n",
    "\t\tstatistics.append(beta_function(dataa[\"Adj Close\"].pct_change(1).dropna()))  # beta\n",
    "\n",
    "\t\tstatistics.append(rsi(dataa, 5, 14).mean() * 252)  # RSI\n",
    "\t\tStatistics.append(statistics)\n",
    "\t\tcol.append(fin)\n",
    "\texcept Exception as e:\n",
    "\t\tpass\n",
    "\n",
    "# Create dataframe with all statistics\n",
    "dataframe = pd.DataFrame(Statistics, columns=['Hurst', 'Volatility', 'Beta', 'RSI'], index=col)\n",
    "print(col, Statistics)\n",
    "dataframe\n"
   ]
  },
  {
   "cell_type": "code",
   "execution_count": 11,
   "metadata": {
    "collapsed": false,
    "pycharm": {
     "name": "#%%\n"
    }
   },
   "outputs": [
    {
     "data": {
      "text/plain": "             dummy\nSymbol            \nEURUSD=X  Currency\nEURGBP=X  Currency\nEURCHF=X  Currency\nEURCAD=X  Currency\nEURCNY=X  Currency\n...            ...\nTCOM         Asset\nINCY         Asset\nCHKP         Asset\nFOXA         Asset\nFOX          Asset\n\n[152 rows x 1 columns]",
      "text/html": "<div>\n<style scoped>\n    .dataframe tbody tr th:only-of-type {\n        vertical-align: middle;\n    }\n\n    .dataframe tbody tr th {\n        vertical-align: top;\n    }\n\n    .dataframe thead th {\n        text-align: right;\n    }\n</style>\n<table border=\"1\" class=\"dataframe\">\n  <thead>\n    <tr style=\"text-align: right;\">\n      <th></th>\n      <th>dummy</th>\n    </tr>\n    <tr>\n      <th>Symbol</th>\n      <th></th>\n    </tr>\n  </thead>\n  <tbody>\n    <tr>\n      <th>EURUSD=X</th>\n      <td>Currency</td>\n    </tr>\n    <tr>\n      <th>EURGBP=X</th>\n      <td>Currency</td>\n    </tr>\n    <tr>\n      <th>EURCHF=X</th>\n      <td>Currency</td>\n    </tr>\n    <tr>\n      <th>EURCAD=X</th>\n      <td>Currency</td>\n    </tr>\n    <tr>\n      <th>EURCNY=X</th>\n      <td>Currency</td>\n    </tr>\n    <tr>\n      <th>...</th>\n      <td>...</td>\n    </tr>\n    <tr>\n      <th>TCOM</th>\n      <td>Asset</td>\n    </tr>\n    <tr>\n      <th>INCY</th>\n      <td>Asset</td>\n    </tr>\n    <tr>\n      <th>CHKP</th>\n      <td>Asset</td>\n    </tr>\n    <tr>\n      <th>FOXA</th>\n      <td>Asset</td>\n    </tr>\n    <tr>\n      <th>FOX</th>\n      <td>Asset</td>\n    </tr>\n  </tbody>\n</table>\n<p>152 rows × 1 columns</p>\n</div>"
     },
     "execution_count": 11,
     "metadata": {},
     "output_type": "execute_result"
    }
   ],
   "source": [
    "# Extract the class of the asset\n",
    "cluster = pd.read_csv('Names.csv',index_col='Symbol')\n",
    "del cluster['Unnamed: 0']\n",
    "cluster"
   ]
  },
  {
   "cell_type": "code",
   "execution_count": 12,
   "metadata": {
    "collapsed": false,
    "pycharm": {
     "name": "#%%\n"
    }
   },
   "outputs": [
    {
     "data": {
      "text/plain": "             dummy     Hurst  Volatility      Beta       RSI\nEURUSD=X  Currency  0.438514    0.116964  0.127843 -0.025713\nEURGBP=X  Currency  0.514177    0.082682 -0.033826 -0.026631\nEURCHF=X  Currency  0.540974    0.078667  0.095378 -0.009357\nEURCAD=X  Currency  0.453388    0.092174 -0.086076 -0.023110\nEURCNY=X  Currency  0.459584    0.130309  0.070506 -0.118375\n...            ...       ...         ...       ...       ...\nTCOM         Asset  0.525769    0.505646  1.699916  0.027567\nINCY         Asset  0.507506    0.658205  1.956797  0.136181\nCHKP         Asset  0.487704    0.520615  1.758565 -0.030041\nFOXA         Asset  0.519750    0.386452  1.886204 -0.085922\nFOX          Asset  0.507247    0.374143  1.943411 -0.106217\n\n[150 rows x 5 columns]",
      "text/html": "<div>\n<style scoped>\n    .dataframe tbody tr th:only-of-type {\n        vertical-align: middle;\n    }\n\n    .dataframe tbody tr th {\n        vertical-align: top;\n    }\n\n    .dataframe thead th {\n        text-align: right;\n    }\n</style>\n<table border=\"1\" class=\"dataframe\">\n  <thead>\n    <tr style=\"text-align: right;\">\n      <th></th>\n      <th>dummy</th>\n      <th>Hurst</th>\n      <th>Volatility</th>\n      <th>Beta</th>\n      <th>RSI</th>\n    </tr>\n  </thead>\n  <tbody>\n    <tr>\n      <th>EURUSD=X</th>\n      <td>Currency</td>\n      <td>0.438514</td>\n      <td>0.116964</td>\n      <td>0.127843</td>\n      <td>-0.025713</td>\n    </tr>\n    <tr>\n      <th>EURGBP=X</th>\n      <td>Currency</td>\n      <td>0.514177</td>\n      <td>0.082682</td>\n      <td>-0.033826</td>\n      <td>-0.026631</td>\n    </tr>\n    <tr>\n      <th>EURCHF=X</th>\n      <td>Currency</td>\n      <td>0.540974</td>\n      <td>0.078667</td>\n      <td>0.095378</td>\n      <td>-0.009357</td>\n    </tr>\n    <tr>\n      <th>EURCAD=X</th>\n      <td>Currency</td>\n      <td>0.453388</td>\n      <td>0.092174</td>\n      <td>-0.086076</td>\n      <td>-0.023110</td>\n    </tr>\n    <tr>\n      <th>EURCNY=X</th>\n      <td>Currency</td>\n      <td>0.459584</td>\n      <td>0.130309</td>\n      <td>0.070506</td>\n      <td>-0.118375</td>\n    </tr>\n    <tr>\n      <th>...</th>\n      <td>...</td>\n      <td>...</td>\n      <td>...</td>\n      <td>...</td>\n      <td>...</td>\n    </tr>\n    <tr>\n      <th>TCOM</th>\n      <td>Asset</td>\n      <td>0.525769</td>\n      <td>0.505646</td>\n      <td>1.699916</td>\n      <td>0.027567</td>\n    </tr>\n    <tr>\n      <th>INCY</th>\n      <td>Asset</td>\n      <td>0.507506</td>\n      <td>0.658205</td>\n      <td>1.956797</td>\n      <td>0.136181</td>\n    </tr>\n    <tr>\n      <th>CHKP</th>\n      <td>Asset</td>\n      <td>0.487704</td>\n      <td>0.520615</td>\n      <td>1.758565</td>\n      <td>-0.030041</td>\n    </tr>\n    <tr>\n      <th>FOXA</th>\n      <td>Asset</td>\n      <td>0.519750</td>\n      <td>0.386452</td>\n      <td>1.886204</td>\n      <td>-0.085922</td>\n    </tr>\n    <tr>\n      <th>FOX</th>\n      <td>Asset</td>\n      <td>0.507247</td>\n      <td>0.374143</td>\n      <td>1.943411</td>\n      <td>-0.106217</td>\n    </tr>\n  </tbody>\n</table>\n<p>150 rows × 5 columns</p>\n</div>"
     },
     "execution_count": 12,
     "metadata": {},
     "output_type": "execute_result"
    }
   ],
   "source": [
    "# Concat the type of asset and the statistics\n",
    "dataframe = pd.concat([cluster,dataframe],axis=1).dropna()\n",
    "dataframe"
   ]
  },
  {
   "cell_type": "code",
   "execution_count": 13,
   "outputs": [
    {
     "data": {
      "text/plain": "<Figure size 441x360 with 1 Axes>",
      "image/png": "[encoded data removed]"
     },
     "metadata": {},
     "output_type": "display_data"
    }
   ],
   "source": [
    "# Plot density distribution of the assest returns\n",
    "# Plot the densities\n",
    "sns.displot(data=dataframe, x=\"RSI\",kind='kde', hue=\"dummy\")\n",
    "\n",
    "# limit the axis\n",
    "plt.xlim((-1.15,1.15))\n",
    "plt.show()"
   ],
   "metadata": {
    "collapsed": false,
    "pycharm": {
     "name": "#%%\n"
    }
   }
  },
  {
   "cell_type": "code",
   "execution_count": 14,
   "outputs": [
    {
     "data": {
      "text/plain": "           Hurst  Volatility       Beta        RSI\ncount  25.000000   25.000000  25.000000  25.000000\nmean    0.504302    0.100131   0.011305  -0.030425\nstd     0.051162    0.035854   0.193184   0.042347\nmin     0.393975    0.010857  -0.421118  -0.146723\n25%     0.470310    0.082378  -0.086076  -0.026631\n50%     0.497696    0.095133  -0.000515  -0.024275\n75%     0.540974    0.125409   0.113947  -0.006955\nmax     0.643403    0.174021   0.474846   0.022025",
      "text/html": "<div>\n<style scoped>\n    .dataframe tbody tr th:only-of-type {\n        vertical-align: middle;\n    }\n\n    .dataframe tbody tr th {\n        vertical-align: top;\n    }\n\n    .dataframe thead th {\n        text-align: right;\n    }\n</style>\n<table border=\"1\" class=\"dataframe\">\n  <thead>\n    <tr style=\"text-align: right;\">\n      <th></th>\n      <th>Hurst</th>\n      <th>Volatility</th>\n      <th>Beta</th>\n      <th>RSI</th>\n    </tr>\n  </thead>\n  <tbody>\n    <tr>\n      <th>count</th>\n      <td>25.000000</td>\n      <td>25.000000</td>\n      <td>25.000000</td>\n      <td>25.000000</td>\n    </tr>\n    <tr>\n      <th>mean</th>\n      <td>0.504302</td>\n      <td>0.100131</td>\n      <td>0.011305</td>\n      <td>-0.030425</td>\n    </tr>\n    <tr>\n      <th>std</th>\n      <td>0.051162</td>\n      <td>0.035854</td>\n      <td>0.193184</td>\n      <td>0.042347</td>\n    </tr>\n    <tr>\n      <th>min</th>\n      <td>0.393975</td>\n      <td>0.010857</td>\n      <td>-0.421118</td>\n      <td>-0.146723</td>\n    </tr>\n    <tr>\n      <th>25%</th>\n      <td>0.470310</td>\n      <td>0.082378</td>\n      <td>-0.086076</td>\n      <td>-0.026631</td>\n    </tr>\n    <tr>\n      <th>50%</th>\n      <td>0.497696</td>\n      <td>0.095133</td>\n      <td>-0.000515</td>\n      <td>-0.024275</td>\n    </tr>\n    <tr>\n      <th>75%</th>\n      <td>0.540974</td>\n      <td>0.125409</td>\n      <td>0.113947</td>\n      <td>-0.006955</td>\n    </tr>\n    <tr>\n      <th>max</th>\n      <td>0.643403</td>\n      <td>0.174021</td>\n      <td>0.474846</td>\n      <td>0.022025</td>\n    </tr>\n  </tbody>\n</table>\n</div>"
     },
     "execution_count": 14,
     "metadata": {},
     "output_type": "execute_result"
    }
   ],
   "source": [
    "# Describe the curreny\n",
    "dataframe.loc[dataframe[\"dummy\"] == 'Currency'].describe()"
   ],
   "metadata": {
    "collapsed": false,
    "pycharm": {
     "name": "#%%\n"
    }
   }
  },
  {
   "cell_type": "code",
   "execution_count": 15,
   "outputs": [
    {
     "data": {
      "text/plain": "           Hurst  Volatility       Beta        RSI\ncount  25.000000   25.000000  25.000000  25.000000\nmean    0.518559    1.482347   1.424179   0.406587\nstd     0.050878    1.515063   0.722193   0.487801\nmin     0.397751    0.069551  -0.126946  -1.239940\n25%     0.495519    1.112629   0.995040   0.261353\n50%     0.519772    1.259648   1.428287   0.482081\n75%     0.545560    1.386787   2.013392   0.719430\nmax     0.639265    8.420549   2.476439   1.080169",
      "text/html": "<div>\n<style scoped>\n    .dataframe tbody tr th:only-of-type {\n        vertical-align: middle;\n    }\n\n    .dataframe tbody tr th {\n        vertical-align: top;\n    }\n\n    .dataframe thead th {\n        text-align: right;\n    }\n</style>\n<table border=\"1\" class=\"dataframe\">\n  <thead>\n    <tr style=\"text-align: right;\">\n      <th></th>\n      <th>Hurst</th>\n      <th>Volatility</th>\n      <th>Beta</th>\n      <th>RSI</th>\n    </tr>\n  </thead>\n  <tbody>\n    <tr>\n      <th>count</th>\n      <td>25.000000</td>\n      <td>25.000000</td>\n      <td>25.000000</td>\n      <td>25.000000</td>\n    </tr>\n    <tr>\n      <th>mean</th>\n      <td>0.518559</td>\n      <td>1.482347</td>\n      <td>1.424179</td>\n      <td>0.406587</td>\n    </tr>\n    <tr>\n      <th>std</th>\n      <td>0.050878</td>\n      <td>1.515063</td>\n      <td>0.722193</td>\n      <td>0.487801</td>\n    </tr>\n    <tr>\n      <th>min</th>\n      <td>0.397751</td>\n      <td>0.069551</td>\n      <td>-0.126946</td>\n      <td>-1.239940</td>\n    </tr>\n    <tr>\n      <th>25%</th>\n      <td>0.495519</td>\n      <td>1.112629</td>\n      <td>0.995040</td>\n      <td>0.261353</td>\n    </tr>\n    <tr>\n      <th>50%</th>\n      <td>0.519772</td>\n      <td>1.259648</td>\n      <td>1.428287</td>\n      <td>0.482081</td>\n    </tr>\n    <tr>\n      <th>75%</th>\n      <td>0.545560</td>\n      <td>1.386787</td>\n      <td>2.013392</td>\n      <td>0.719430</td>\n    </tr>\n    <tr>\n      <th>max</th>\n      <td>0.639265</td>\n      <td>8.420549</td>\n      <td>2.476439</td>\n      <td>1.080169</td>\n    </tr>\n  </tbody>\n</table>\n</div>"
     },
     "execution_count": 15,
     "metadata": {},
     "output_type": "execute_result"
    }
   ],
   "source": [
    "# Describe the crypto\n",
    "dataframe.loc[dataframe[\"dummy\"] == 'Crypto'].describe()"
   ],
   "metadata": {
    "collapsed": false,
    "pycharm": {
     "name": "#%%\n"
    }
   }
  },
  {
   "cell_type": "code",
   "execution_count": 16,
   "outputs": [
    {
     "data": {
      "text/plain": "            Hurst  Volatility        Beta         RSI\ncount  100.000000  100.000000  100.000000  100.000000\nmean     0.563072    0.459622    1.512983   -0.000893\nstd      0.036413    0.137305    0.419769    0.122365\nmin      0.487704    0.207822    0.238048   -0.557151\n25%      0.537121    0.356897    1.246486   -0.065975\n50%      0.563424    0.464808    1.543236   -0.009939\n75%      0.588844    0.557821    1.797671    0.055758\nmax      0.650399    0.828442    2.529994    0.448819",
      "text/html": "<div>\n<style scoped>\n    .dataframe tbody tr th:only-of-type {\n        vertical-align: middle;\n    }\n\n    .dataframe tbody tr th {\n        vertical-align: top;\n    }\n\n    .dataframe thead th {\n        text-align: right;\n    }\n</style>\n<table border=\"1\" class=\"dataframe\">\n  <thead>\n    <tr style=\"text-align: right;\">\n      <th></th>\n      <th>Hurst</th>\n      <th>Volatility</th>\n      <th>Beta</th>\n      <th>RSI</th>\n    </tr>\n  </thead>\n  <tbody>\n    <tr>\n      <th>count</th>\n      <td>100.000000</td>\n      <td>100.000000</td>\n      <td>100.000000</td>\n      <td>100.000000</td>\n    </tr>\n    <tr>\n      <th>mean</th>\n      <td>0.563072</td>\n      <td>0.459622</td>\n      <td>1.512983</td>\n      <td>-0.000893</td>\n    </tr>\n    <tr>\n      <th>std</th>\n      <td>0.036413</td>\n      <td>0.137305</td>\n      <td>0.419769</td>\n      <td>0.122365</td>\n    </tr>\n    <tr>\n      <th>min</th>\n      <td>0.487704</td>\n      <td>0.207822</td>\n      <td>0.238048</td>\n      <td>-0.557151</td>\n    </tr>\n    <tr>\n      <th>25%</th>\n      <td>0.537121</td>\n      <td>0.356897</td>\n      <td>1.246486</td>\n      <td>-0.065975</td>\n    </tr>\n    <tr>\n      <th>50%</th>\n      <td>0.563424</td>\n      <td>0.464808</td>\n      <td>1.543236</td>\n      <td>-0.009939</td>\n    </tr>\n    <tr>\n      <th>75%</th>\n      <td>0.588844</td>\n      <td>0.557821</td>\n      <td>1.797671</td>\n      <td>0.055758</td>\n    </tr>\n    <tr>\n      <th>max</th>\n      <td>0.650399</td>\n      <td>0.828442</td>\n      <td>2.529994</td>\n      <td>0.448819</td>\n    </tr>\n  </tbody>\n</table>\n</div>"
     },
     "execution_count": 16,
     "metadata": {},
     "output_type": "execute_result"
    }
   ],
   "source": [
    "# Describe the assest\n",
    "dataframe.loc[dataframe[\"dummy\"] == 'Asset'].describe()"
   ],
   "metadata": {
    "collapsed": false,
    "pycharm": {
     "name": "#%%\n"
    }
   }
  },
  {
   "cell_type": "code",
   "execution_count": 17,
   "outputs": [
    {
     "data": {
      "text/plain": "            Hurst  Volatility        Beta         RSI\ncount  150.000000  150.000000  150.000000  150.000000\nmean     0.545858    0.570161    1.247903    0.062099\nstd      0.048303    0.753223    0.718362    0.269399\nmin      0.393975    0.010857   -0.421118   -1.239940\n25%      0.514741    0.289019    0.901862   -0.051590\n50%      0.546598    0.455058    1.423454   -0.008007\n75%      0.579163    0.583739    1.758545    0.089448\nmax      0.650399    8.420549    2.529994    1.080169",
      "text/html": "<div>\n<style scoped>\n    .dataframe tbody tr th:only-of-type {\n        vertical-align: middle;\n    }\n\n    .dataframe tbody tr th {\n        vertical-align: top;\n    }\n\n    .dataframe thead th {\n        text-align: right;\n    }\n</style>\n<table border=\"1\" class=\"dataframe\">\n  <thead>\n    <tr style=\"text-align: right;\">\n      <th></th>\n      <th>Hurst</th>\n      <th>Volatility</th>\n      <th>Beta</th>\n      <th>RSI</th>\n    </tr>\n  </thead>\n  <tbody>\n    <tr>\n      <th>count</th>\n      <td>150.000000</td>\n      <td>150.000000</td>\n      <td>150.000000</td>\n      <td>150.000000</td>\n    </tr>\n    <tr>\n      <th>mean</th>\n      <td>0.545858</td>\n      <td>0.570161</td>\n      <td>1.247903</td>\n      <td>0.062099</td>\n    </tr>\n    <tr>\n      <th>std</th>\n      <td>0.048303</td>\n      <td>0.753223</td>\n      <td>0.718362</td>\n      <td>0.269399</td>\n    </tr>\n    <tr>\n      <th>min</th>\n      <td>0.393975</td>\n      <td>0.010857</td>\n      <td>-0.421118</td>\n      <td>-1.239940</td>\n    </tr>\n    <tr>\n      <th>25%</th>\n      <td>0.514741</td>\n      <td>0.289019</td>\n      <td>0.901862</td>\n      <td>-0.051590</td>\n    </tr>\n    <tr>\n      <th>50%</th>\n      <td>0.546598</td>\n      <td>0.455058</td>\n      <td>1.423454</td>\n      <td>-0.008007</td>\n    </tr>\n    <tr>\n      <th>75%</th>\n      <td>0.579163</td>\n      <td>0.583739</td>\n      <td>1.758545</td>\n      <td>0.089448</td>\n    </tr>\n    <tr>\n      <th>max</th>\n      <td>0.650399</td>\n      <td>8.420549</td>\n      <td>2.529994</td>\n      <td>1.080169</td>\n    </tr>\n  </tbody>\n</table>\n</div>"
     },
     "execution_count": 17,
     "metadata": {},
     "output_type": "execute_result"
    }
   ],
   "source": [
    "dataframe.describe()"
   ],
   "metadata": {
    "collapsed": false,
    "pycharm": {
     "name": "#%%\n"
    }
   }
  },
  {
   "cell_type": "code",
   "execution_count": 18,
   "outputs": [
    {
     "data": {
      "text/plain": "<Figure size 419.125x360 with 1 Axes>",
      "image/png": "[encoded data removed]"
     },
     "metadata": {},
     "output_type": "display_data"
    }
   ],
   "source": [
    "# We are going to plot density of startegy returns by Hurst\n",
    "dataframe['Hurst_den'] = \"Low\"\n",
    "dataframe.loc[dataframe['Hurst']>0.55, 'Hurst_den'] = \"High\"\n",
    "\n",
    "# Plot the density\n",
    "sns.displot(data=dataframe, x=\"RSI\", kind='kde', hue=\"Hurst_den\")\n",
    "# limit and plot the graph\n",
    "plt.xlim(-1.15,1.15)\n",
    "plt.show()"
   ],
   "metadata": {
    "collapsed": false,
    "pycharm": {
     "name": "#%%\n"
    }
   }
  },
  {
   "cell_type": "code",
   "execution_count": 20,
   "outputs": [
    {
     "data": {
      "text/plain": "<Figure size 419.125x360 with 1 Axes>",
      "image/png": "[encoded data removed]"
     },
     "metadata": {},
     "output_type": "display_data"
    }
   ],
   "source": [
    "# We are going to plot density of startegy returns by Volatility\n",
    "dataframe['vol_den'] = \"Low\"\n",
    "dataframe.loc[dataframe['Volatility']>0.57, 'vol_den'] = \"High\"\n",
    "\n",
    "# Plot the density\n",
    "sns.displot(data=dataframe, x=\"RSI\", kind='kde', hue=\"vol_den\")\n",
    "# limit and plot the graph\n",
    "plt.xlim(-1.15,1.15)\n",
    "plt.show()"
   ],
   "metadata": {
    "collapsed": false,
    "pycharm": {
     "name": "#%%\n"
    }
   }
  },
  {
   "cell_type": "code",
   "execution_count": 24,
   "outputs": [
    {
     "data": {
      "text/plain": "<Figure size 419.125x360 with 1 Axes>",
      "image/png": "[encoded data removed]"
     },
     "metadata": {},
     "output_type": "display_data"
    }
   ],
   "source": [
    "# We are going to plot density of startegy returns by class of asset\n",
    "dataframe['beta_den'] = \"Low\"\n",
    "dataframe.loc[dataframe['Beta']>1, 'beta_den'] = \"High\"\n",
    "\n",
    "# Plot the density\n",
    "sns.displot(data=dataframe, x=\"RSI\", kind='kde', hue=\"beta_den\")\n",
    "# limit and plot the graph\n",
    "plt.xlim((-1.15,1.15))\n",
    "plt.show()"
   ],
   "metadata": {
    "collapsed": false,
    "pycharm": {
     "name": "#%%\n"
    }
   }
  },
  {
   "cell_type": "code",
   "execution_count": null,
   "outputs": [],
   "source": [],
   "metadata": {
    "collapsed": false,
    "pycharm": {
     "name": "#%%\n"
    }
   }
  }
 ],
 "metadata": {
  "interpreter": {
   "hash": "8f30a824af870028011f0a6b0fcefc355cd23e22cf652a45bd87478a8047d7a0"
  },
  "kernelspec": {
   "name": "pycharm-c97baf35",
   "language": "python",
   "display_name": "PyCharm (Py_Trade)"
  },
  "language_info": {
   "codemirror_mode": {
    "name": "ipython",
    "version": 3
   },
   "file_extension": ".py",
   "mimetype": "text/x-python",
   "name": "python",
   "nbconvert_exporter": "python",
   "pygments_lexer": "ipython3",
   "version": "3.8.12"
  }
 },
 "nbformat": 4,
 "nbformat_minor": 0
}