{
 "cells": [
  {
   "cell_type": "code",
   "execution_count": 2,
   "metadata": {
    "collapsed": true
   },
   "outputs": [],
   "source": [
    "# importing the dependencies modules\n",
    "import numpy as np\n",
    "import pandas as pd\n",
    "import yfinance as yf\n",
    "import matplotlib as mpl\n",
    "import matplotlib.pyplot as plt\n",
    "import seaborn as sns\n",
    "import ta\n",
    "from tqdm import tqdm\n",
    "from scipy.optimize import minimize\n",
    "from hurst import compute_Hc\n",
    "import warnings\n",
    "warnings.filterwarnings(\"ignore\")"
   ]
  },
  {
   "cell_type": "code",
   "execution_count": 3,
   "metadata": {
    "collapsed": false,
    "pycharm": {
     "name": "#%%\n"
    }
   },
   "outputs": [],
   "source": [
    "# The code will allow you to switch between the dark and light mode in graphs\n",
    "\n",
    "from matplotlib import cycler\n",
    "colors = cycler('color',['#669FEE','#66EE91','#9988DD','#EECC55','#88BB44','#FFBBBB'])\n",
    "plt.rc('figure',facecolor='#313233')\n",
    "plt.rc('axes',facecolor='#313233',edgecolor='None',axisbelow=True,grid=True,prop_cycle=colors,labelcolor='gray')\n",
    "\n",
    "plt.rc('grid',color='#47a4a4') #, linestlye='solid')\n",
    "plt.rc('xtick',color='gray')\n",
    "plt.rc('ytick',direction='out',color='gray')\n",
    "plt.rc('legend',facecolor='#313233',edgecolor='#313233')\n",
    "plt.rc('text',color='#c9c9c9')"
   ]
  },
  {
   "cell_type": "code",
   "execution_count": 4,
   "metadata": {
    "collapsed": false,
    "pycharm": {
     "name": "#%%\n"
    }
   },
   "outputs": [],
   "source": [
    "def rsi(value, neutral, window):\n",
    "\t\"\"\"\n",
    "\n",
    "\tInput:\n",
    "\t:param value: (type dataframe pandas): Entry values of the stock\n",
    "\t:param neutral:(float) Value of the neutrality, i.e No Action Zone\n",
    "\t:param window: (float) rolling period for RSI calculation\n",
    "\n",
    "\tOutput: The function gives the returns of RSI strategy\n",
    "\t:return:\n",
    "\t\"\"\"\n",
    "\t# Print error is no Adj Close column is not present\n",
    "\tif \"Adj Close\" not in value.columns:\n",
    "\t\tValueError(\"Error: No Adj Close column is present\")\n",
    "\n",
    "\tvalue['rsi'] = ta.momentum.RSIIndicator(value['Adj Close'], window=window).rsi()\n",
    "\n",
    "\t\"\"\"Long Buy signal\"\"\"\n",
    "\toverbuy = 70\n",
    "\tneutral_buy = 50 + neutral\n",
    "\n",
    "\t# Put nan values for te signal long columns\n",
    "\tvalue['signal_long'] = np.nan\n",
    "\tvalue['yesterday_rsi'] = value['rsi'].shift(1)\n",
    "\t# We need to define open long signal (Rsi yes>55 and RSI today>55)\n",
    "\tvalue.loc[(value['rsi'] > neutral_buy) & (value['yesterday_rsi'] < neutral_buy), 'signal_long'] = 1\n",
    "\t# open long signal for false positive (Rsi yes>55 and RSI today<55)\n",
    "\tvalue.loc[(value['rsi'] < neutral_buy) & (value['yesterday_rsi'] > neutral_buy), 'signal_long'] = 0\n",
    "\t# open long signal for overbuy (Rsi yes>70 and RSI today<70)\n",
    "\tvalue.loc[(value['rsi'] < overbuy) & (value['yesterday_rsi'] > overbuy), 'signal_long'] = 0\n",
    "\n",
    "\t\"\"\"Short Sell signal\"\"\"\n",
    "\toversell = 30\n",
    "\tneutral_sell = 50 - neutral\n",
    "\n",
    "\t# Put the values for the short signal columns\n",
    "\tvalue['signal_short'] = np.nan\n",
    "\n",
    "\t# We define the Open short signal (RSI yes>45 and RSI today<45)\n",
    "\tvalue.loc[(value['rsi'] < neutral_sell) & (value['yesterday_rsi'] > neutral_sell), 'signal_short'] = -1\n",
    "\n",
    "\t# We define the Close short signal(Rsi yes<45 and RSI today>45) False signal\n",
    "\tvalue.loc[(value['rsi'] > neutral_sell) & (value['yesterday_rsi'] < neutral_sell), 'signal_short'] = 0\n",
    "\n",
    "\t# We define the Close short signal (RSI yes<30 and RSI today>30) Oversell\n",
    "\tvalue.loc[(value['rsi'] < oversell) & (value['yesterday_rsi'] > oversell), 'signal_short'] = 0\n",
    "\n",
    "\t\"\"\"Compute the returns\"\"\"\n",
    "\t# Compute the percentage of the variation of the stock\n",
    "\tvalue['pct'] = value['Adj Close'].pct_change(1)\n",
    "\n",
    "\t# Calculate the position\n",
    "\tvalue['Position'] = (value['signal_short'].fillna(method='ffill') + value['signal_long'].fillna(method='ffill'))\n",
    "\n",
    "\t# Compute the returns\n",
    "\tvalue['return'] = value['pct'] * (value['Position'].shift(1))\n",
    "\n",
    "\treturn value['return']"
   ]
  },
  {
   "cell_type": "code",
   "execution_count": 5,
   "metadata": {},
   "outputs": [],
   "source": [
    "def beta_function(series):\n",
    "\tsp500 = yf.download('^GSPC')[['Adj Close']].pct_change(1)\n",
    "\tsp500.columns = ['SP500']\n",
    "\n",
    "\t# We concatenate the two dataframe\n",
    "\tvalue = pd.concat((series, sp500), axis=1)\n",
    "\n",
    "\t# We compute the beta\n",
    "\tbeta = np.cov(value[[series.name, \"SP500\"]].dropna().values,rowvar=False)[0][1] / np.var(value[\"SP500\"].dropna().values)\n",
    "\treturn beta\n"
   ]
  },
  {
   "cell_type": "code",
   "execution_count": 6,
   "metadata": {},
   "outputs": [],
   "source": [
    "\n",
    "def drawdown_function(series):\n",
    "\tcumulative_sum = series.dropna().cumsum() + 1  # multiplication coefficient\n",
    "\t# compute the max of the cumulative_sum\n",
    "\t# (1,3,1,1,7,1,2,) -> (1,3,3,3,7,7,7)\n",
    "\trunning_max = np.maximum.accumulate(cumulative_sum)\n",
    "\tdrawdowned = cumulative_sum / running_max - 1\n",
    "\treturn drawdowned\n"
   ]
  },
  {
   "cell_type": "code",
   "execution_count": 7,
   "metadata": {},
   "outputs": [],
   "source": [
    "\n",
    "def backTest(series):\n",
    "\t# Import the Bechmark\n",
    "\tsp500 = yf.download('^GSPC')['Adj Close'].pct_change(1)\n",
    "\tsp500.name = 'SP500'\n",
    "\n",
    "\t# We concatenate the two dataframe\n",
    "\tvalue = pd.concat((return_series, sp500), axis=1).dropna()\n",
    "\n",
    "\t# compute the drawdown and max drawdown\n",
    "\tdrawdown = drawdown_function(series)\n",
    "\tmax_drawdown = -np.min(drawdown)\n",
    "\n",
    "\t\"\"\"Plot the Graph\"\"\"\n",
    "\tfig, (cum, draw) = plt.subplots(1, 2, figsize=(20, 6))\n",
    "\tfig.suptitle(\"Backtesting\", size=20)\n",
    "\n",
    "\tcum.plot(series.cumsum(), color='#39B3C7')\n",
    "\tcum.plot(value['SP500'].cumsum(), color='#B85A0F')\n",
    "\n",
    "\tcum.legend([\"Portfolio\", \"Benchmark\"])\n",
    "\tcum.set_title(\"Cumulative Returns\", size=13)\n",
    "\tcum.set_ylabel(\"Cumulative Return in %\", size=13)\n",
    "\n",
    "\t# Plot the drawdown\n",
    "\tdraw.fill_between(drawdown.index, 0, drawdown * 100, color='#C73954', alpha=0.65)\n",
    "\n",
    "\tdraw.set_title(\"Drawdown\", size=15)\n",
    "\tdraw.set_ylabel(\"Drawdown in %\", size=13)\n",
    "\n",
    "\t# plot the graph\n",
    "\tplt.show()\n",
    "\n",
    "\t\"\"\"Compute the statistics\"\"\"\n",
    "\t# compute the sortino\n",
    "\tsortino = np.sqrt(252) * series.mean() / series.loc[series < 0].std()\n",
    "\n",
    "\t# compute the beta\n",
    "\tbeta = np.cov(value[['return', 'SP500']].values, rowvar=False)[0][1] / np.var(value['SP500'].values)\n",
    "\n",
    "\t# compute the alpha\n",
    "\talpha = 252 * (series.mean() - beta * series.mean())\n",
    "\n",
    "\t# Print the statistics\n",
    "\n",
    "\tprint(f'Sortino: {np.round(sortino, 3)}')\n",
    "\tprint(f'Beta: {np.round(beta, 3)}')\n",
    "\tprint(f'Alpha: {np.round(alpha, 3)}')\n",
    "\tprint(f'MaxDrawdown: {np.round(max_drawdown, 3)}')"
   ]
  },
  {
   "cell_type": "code",
   "execution_count": 8,
   "metadata": {
    "collapsed": false,
    "pycharm": {
     "name": "#%%\n"
    }
   },
   "outputs": [
    {
     "data": {
      "text/plain": "<Figure size 432x288 with 1 Axes>",
      "image/png": "[encoded data removed]"
     },
     "metadata": {},
     "output_type": "display_data"
    }
   ],
   "source": [
    "# Hurst Exponent\n",
    "# It is a statistics that helps in understanding the TimeSeries\n",
    "# 0.5<Hurst<1 -> Trending movement; 0.5 = Hurst -> Random Walk; 0<Hurst<0.5 -> Anti-persistent movement\n",
    "\n",
    "# compute Hurst Exponent\n",
    "array = np.linspace(0, 300, 150) + 100\n",
    "hurst = compute_Hc(array)\n",
    "hurst[0]\n",
    "plt.plot(array)\n",
    "plt.title(f\"{'%.2f' %hurst[0]}\")\n",
    "plt.show()"
   ]
  },
  {
   "cell_type": "code",
   "execution_count": 9,
   "metadata": {
    "collapsed": false,
    "pycharm": {
     "name": "#%%\n"
    }
   },
   "outputs": [
    {
     "data": {
      "text/plain": "<Figure size 432x288 with 1 Axes>",
      "image/png": "[encoded data removed]"
     },
     "metadata": {},
     "output_type": "display_data"
    }
   ],
   "source": [
    "# Anti-persistent\n",
    "array = np.cos(np.linspace(0,300,150))\n",
    "hurst = compute_Hc(array)\n",
    "hurst[0]\n",
    "plt.plot(array)\n",
    "plt.title(f\"{'%.2f' %hurst[0]}\")\n",
    "plt.show()"
   ]
  },
  {
   "cell_type": "code",
   "execution_count": 10,
   "metadata": {
    "collapsed": false,
    "pycharm": {
     "name": "#%%\n"
    }
   },
   "outputs": [
    {
     "data": {
      "text/plain": "<Figure size 432x288 with 1 Axes>",
      "image/png": "[encoded data removed]"
     },
     "metadata": {},
     "output_type": "display_data"
    }
   ],
   "source": [
    "# Random Walk\n",
    "np.random.seed(56)\n",
    "array = np.cumsum(np.random.rand(150))\n",
    "hurst = compute_Hc(array)[0]\n",
    "plt.plot(array)\n",
    "plt.title(f\"{'%.2f' %hurst}\")\n",
    "plt.show()"
   ]
  },
  {
   "cell_type": "code",
   "execution_count": 11,
   "metadata": {
    "collapsed": false,
    "pycharm": {
     "name": "#%%\n"
    }
   },
   "outputs": [
    {
     "name": "stderr",
     "output_type": "stream",
     "text": [
      "  0%|          | 0/152 [00:00<?, ?it/s]"
     ]
    },
    {
     "name": "stdout",
     "output_type": "stream",
     "text": [
      "EURUSD=X\n",
      "[*********************100%***********************]  1 of 1 completed\n",
      "[*********************100%***********************]  1 of 1 completed"
     ]
    },
    {
     "name": "stderr",
     "output_type": "stream",
     "text": [
      "  1%|          | 1/152 [00:06<17:11,  6.83s/it]"
     ]
    },
    {
     "name": "stdout",
     "output_type": "stream",
     "text": [
      "\n",
      "EURGBP=X\n",
      "[*********************100%***********************]  1 of 1 completed\n",
      "[*********************100%***********************]  1 of 1 completed"
     ]
    },
    {
     "name": "stderr",
     "output_type": "stream",
     "text": [
      "  1%|▏         | 2/152 [00:10<12:26,  4.98s/it]"
     ]
    },
    {
     "name": "stdout",
     "output_type": "stream",
     "text": [
      "\n",
      "EURCHF=X\n",
      "[*********************100%***********************]  1 of 1 completed\n",
      "[*********************100%***********************]  1 of 1 completed"
     ]
    },
    {
     "name": "stderr",
     "output_type": "stream",
     "text": [
      "  2%|▏         | 3/152 [00:13<10:32,  4.25s/it]"
     ]
    },
    {
     "name": "stdout",
     "output_type": "stream",
     "text": [
      "\n",
      "EURCAD=X\n",
      "[*********************100%***********************]  1 of 1 completed\n",
      "[*********************100%***********************]  1 of 1 completed"
     ]
    },
    {
     "name": "stderr",
     "output_type": "stream",
     "text": [
      "  3%|▎         | 4/152 [00:17<10:02,  4.07s/it]"
     ]
    },
    {
     "name": "stdout",
     "output_type": "stream",
     "text": [
      "\n",
      "EURCNY=X\n",
      "[*********************100%***********************]  1 of 1 completed\n",
      "[*********************100%***********************]  1 of 1 completed"
     ]
    },
    {
     "name": "stderr",
     "output_type": "stream",
     "text": [
      "  3%|▎         | 5/152 [00:21<09:32,  3.90s/it]"
     ]
    },
    {
     "name": "stdout",
     "output_type": "stream",
     "text": [
      "\n",
      "EURJPY=X\n",
      "[*********************100%***********************]  1 of 1 completed\n",
      "[*********************100%***********************]  1 of 1 completed"
     ]
    },
    {
     "name": "stderr",
     "output_type": "stream",
     "text": [
      "  4%|▍         | 6/152 [00:24<09:07,  3.75s/it]"
     ]
    },
    {
     "name": "stdout",
     "output_type": "stream",
     "text": [
      "\n",
      "EURSEK=X\n",
      "[*********************100%***********************]  1 of 1 completed\n",
      "[*********************100%***********************]  1 of 1 completed"
     ]
    },
    {
     "name": "stderr",
     "output_type": "stream",
     "text": [
      "  5%|▍         | 7/152 [00:29<09:43,  4.02s/it]"
     ]
    },
    {
     "name": "stdout",
     "output_type": "stream",
     "text": [
      "\n",
      "EURHUF=X\n",
      "[*********************100%***********************]  1 of 1 completed\n",
      "[*********************100%***********************]  1 of 1 completed"
     ]
    },
    {
     "name": "stderr",
     "output_type": "stream",
     "text": [
      "  5%|▌         | 8/152 [00:32<08:59,  3.75s/it]"
     ]
    },
    {
     "name": "stdout",
     "output_type": "stream",
     "text": [
      "\n",
      "GBPUSD=X\n",
      "[*********************100%***********************]  1 of 1 completed\n",
      "[*********************100%***********************]  1 of 1 completed"
     ]
    },
    {
     "name": "stderr",
     "output_type": "stream",
     "text": [
      "  6%|▌         | 9/152 [00:35<08:34,  3.60s/it]"
     ]
    },
    {
     "name": "stdout",
     "output_type": "stream",
     "text": [
      "\n",
      "GBPCNY=X\n",
      "[*********************100%***********************]  1 of 1 completed\n",
      "[*********************100%***********************]  1 of 1 completed"
     ]
    },
    {
     "name": "stderr",
     "output_type": "stream",
     "text": [
      "  7%|▋         | 10/152 [00:39<08:29,  3.59s/it]"
     ]
    },
    {
     "name": "stdout",
     "output_type": "stream",
     "text": [
      "\n",
      "GBPJPY=X\n",
      "[*********************100%***********************]  1 of 1 completed\n",
      "[*********************100%***********************]  1 of 1 completed"
     ]
    },
    {
     "name": "stderr",
     "output_type": "stream",
     "text": [
      "  7%|▋         | 11/152 [00:42<08:11,  3.48s/it]"
     ]
    },
    {
     "name": "stdout",
     "output_type": "stream",
     "text": [
      "\n",
      "USDCHF=X\n",
      "[*********************100%***********************]  1 of 1 completed\n",
      "[*********************100%***********************]  1 of 1 completed"
     ]
    },
    {
     "name": "stderr",
     "output_type": "stream",
     "text": [
      "  8%|▊         | 12/152 [00:46<08:08,  3.49s/it]"
     ]
    },
    {
     "name": "stdout",
     "output_type": "stream",
     "text": [
      "\n",
      "USDCAD=X\n",
      "[*********************100%***********************]  1 of 1 completed\n",
      "[*********************100%***********************]  1 of 1 completed"
     ]
    },
    {
     "name": "stderr",
     "output_type": "stream",
     "text": [
      "  9%|▊         | 13/152 [00:49<07:51,  3.40s/it]"
     ]
    },
    {
     "name": "stdout",
     "output_type": "stream",
     "text": [
      "\n",
      "USDCNY=X\n",
      "[*********************100%***********************]  1 of 1 completed\n",
      "[*********************100%***********************]  1 of 1 completed"
     ]
    },
    {
     "name": "stderr",
     "output_type": "stream",
     "text": [
      "  9%|▉         | 14/152 [00:52<08:03,  3.50s/it]"
     ]
    },
    {
     "name": "stdout",
     "output_type": "stream",
     "text": [
      "\n",
      "USDHKD=X\n",
      "[*********************100%***********************]  1 of 1 completed\n",
      "[*********************100%***********************]  1 of 1 completed"
     ]
    },
    {
     "name": "stderr",
     "output_type": "stream",
     "text": [
      " 10%|▉         | 15/152 [00:57<08:26,  3.70s/it]"
     ]
    },
    {
     "name": "stdout",
     "output_type": "stream",
     "text": [
      "\n",
      "USDSGD=X\n",
      "[*********************100%***********************]  1 of 1 completed\n",
      "[*********************100%***********************]  1 of 1 completed"
     ]
    },
    {
     "name": "stderr",
     "output_type": "stream",
     "text": [
      " 11%|█         | 16/152 [01:01<08:50,  3.90s/it]"
     ]
    },
    {
     "name": "stdout",
     "output_type": "stream",
     "text": [
      "\n",
      "USDINR=X\n",
      "[*********************100%***********************]  1 of 1 completed\n",
      "[*********************100%***********************]  1 of 1 completed"
     ]
    },
    {
     "name": "stderr",
     "output_type": "stream",
     "text": [
      " 11%|█         | 17/152 [01:04<08:15,  3.67s/it]"
     ]
    },
    {
     "name": "stdout",
     "output_type": "stream",
     "text": [
      "\n",
      "USDMXN=X\n",
      "[*********************100%***********************]  1 of 1 completed\n",
      "[*********************100%***********************]  1 of 1 completed"
     ]
    },
    {
     "name": "stderr",
     "output_type": "stream",
     "text": [
      " 12%|█▏        | 18/152 [01:07<07:40,  3.43s/it]"
     ]
    },
    {
     "name": "stdout",
     "output_type": "stream",
     "text": [
      "\n",
      "USDPHP=X\n",
      "[*********************100%***********************]  1 of 1 completed\n",
      "[*********************100%***********************]  1 of 1 completed"
     ]
    },
    {
     "name": "stderr",
     "output_type": "stream",
     "text": [
      " 12%|█▎        | 19/152 [01:10<07:27,  3.37s/it]"
     ]
    },
    {
     "name": "stdout",
     "output_type": "stream",
     "text": [
      "\n",
      "USDTHB=X\n",
      "[*********************100%***********************]  1 of 1 completed\n",
      "[*********************100%***********************]  1 of 1 completed"
     ]
    },
    {
     "name": "stderr",
     "output_type": "stream",
     "text": [
      " 13%|█▎        | 20/152 [01:13<07:12,  3.28s/it]"
     ]
    },
    {
     "name": "stdout",
     "output_type": "stream",
     "text": [
      "\n",
      "USDMYR=X\n",
      "[*********************100%***********************]  1 of 1 completed\n",
      "[*********************100%***********************]  1 of 1 completed"
     ]
    },
    {
     "name": "stderr",
     "output_type": "stream",
     "text": [
      " 14%|█▍        | 21/152 [01:17<07:20,  3.36s/it]"
     ]
    },
    {
     "name": "stdout",
     "output_type": "stream",
     "text": [
      "\n",
      "USDZAR=X\n",
      "[*********************100%***********************]  1 of 1 completed\n",
      "[*********************100%***********************]  1 of 1 completed"
     ]
    },
    {
     "name": "stderr",
     "output_type": "stream",
     "text": [
      " 14%|█▍        | 22/152 [01:21<07:31,  3.48s/it]"
     ]
    },
    {
     "name": "stdout",
     "output_type": "stream",
     "text": [
      "\n",
      "USDJPY=X\n",
      "[*********************100%***********************]  1 of 1 completed\n",
      "[*********************100%***********************]  1 of 1 completed"
     ]
    },
    {
     "name": "stderr",
     "output_type": "stream",
     "text": [
      " 15%|█▌        | 23/152 [01:24<07:21,  3.42s/it]"
     ]
    },
    {
     "name": "stdout",
     "output_type": "stream",
     "text": [
      "\n",
      "AUDJPY=X\n",
      "[*********************100%***********************]  1 of 1 completed\n",
      "[*********************100%***********************]  1 of 1 completed"
     ]
    },
    {
     "name": "stderr",
     "output_type": "stream",
     "text": [
      " 16%|█▌        | 24/152 [01:28<07:45,  3.63s/it]"
     ]
    },
    {
     "name": "stdout",
     "output_type": "stream",
     "text": [
      "\n",
      "NZDUSD=X\n",
      "[*********************100%***********************]  1 of 1 completed\n",
      "[*********************100%***********************]  1 of 1 completed"
     ]
    },
    {
     "name": "stderr",
     "output_type": "stream",
     "text": [
      " 16%|█▋        | 25/152 [01:31<07:34,  3.58s/it]"
     ]
    },
    {
     "name": "stdout",
     "output_type": "stream",
     "text": [
      "\n",
      "BTC-USD\n",
      "[*********************100%***********************]  1 of 1 completed\n",
      "[*********************100%***********************]  1 of 1 completed"
     ]
    },
    {
     "name": "stderr",
     "output_type": "stream",
     "text": [
      " 17%|█▋        | 26/152 [01:34<07:03,  3.36s/it]"
     ]
    },
    {
     "name": "stdout",
     "output_type": "stream",
     "text": [
      "\n",
      "ETH-USD\n",
      "[*********************100%***********************]  1 of 1 completed\n",
      "[*********************100%***********************]  1 of 1 completed"
     ]
    },
    {
     "name": "stderr",
     "output_type": "stream",
     "text": [
      " 18%|█▊        | 27/152 [01:38<07:03,  3.38s/it]"
     ]
    },
    {
     "name": "stdout",
     "output_type": "stream",
     "text": [
      "\n",
      "BNB-USD\n",
      "[*********************100%***********************]  1 of 1 completed\n",
      "[*********************100%***********************]  1 of 1 completed"
     ]
    },
    {
     "name": "stderr",
     "output_type": "stream",
     "text": [
      " 18%|█▊        | 28/152 [01:41<07:07,  3.44s/it]"
     ]
    },
    {
     "name": "stdout",
     "output_type": "stream",
     "text": [
      "\n",
      "USDT-USD\n",
      "[*********************100%***********************]  1 of 1 completed\n",
      "[*********************100%***********************]  1 of 1 completed"
     ]
    },
    {
     "name": "stderr",
     "output_type": "stream",
     "text": [
      " 19%|█▉        | 29/152 [01:45<07:00,  3.41s/it]"
     ]
    },
    {
     "name": "stdout",
     "output_type": "stream",
     "text": [
      "\n",
      "XRP-USD\n",
      "[*********************100%***********************]  1 of 1 completed\n",
      "[*********************100%***********************]  1 of 1 completed"
     ]
    },
    {
     "name": "stderr",
     "output_type": "stream",
     "text": [
      " 20%|█▉        | 30/152 [01:48<06:52,  3.38s/it]"
     ]
    },
    {
     "name": "stdout",
     "output_type": "stream",
     "text": [
      "\n",
      "ADA-USD\n",
      "[*********************100%***********************]  1 of 1 completed\n",
      "[*********************100%***********************]  1 of 1 completed"
     ]
    },
    {
     "name": "stderr",
     "output_type": "stream",
     "text": [
      " 20%|██        | 31/152 [01:51<06:26,  3.20s/it]"
     ]
    },
    {
     "name": "stdout",
     "output_type": "stream",
     "text": [
      "\n",
      "DOGE-USD\n",
      "[*********************100%***********************]  1 of 1 completed\n",
      "[*********************100%***********************]  1 of 1 completed"
     ]
    },
    {
     "name": "stderr",
     "output_type": "stream",
     "text": [
      " 21%|██        | 32/152 [01:54<06:15,  3.13s/it]"
     ]
    },
    {
     "name": "stdout",
     "output_type": "stream",
     "text": [
      "\n",
      "DOT1-USD\n",
      "[*********************100%***********************]  1 of 1 completed\n",
      "[*********************100%***********************]  1 of 1 completed"
     ]
    },
    {
     "name": "stderr",
     "output_type": "stream",
     "text": [
      " 22%|██▏       | 33/152 [01:56<05:56,  3.00s/it]"
     ]
    },
    {
     "name": "stdout",
     "output_type": "stream",
     "text": [
      "\n",
      "UNI3-USD\n",
      "[*********************100%***********************]  1 of 1 completed\n",
      "[*********************100%***********************]  1 of 1 completed"
     ]
    },
    {
     "name": "stderr",
     "output_type": "stream",
     "text": [
      " 22%|██▏       | 34/152 [01:59<05:47,  2.94s/it]"
     ]
    },
    {
     "name": "stdout",
     "output_type": "stream",
     "text": [
      "\n",
      "LTC-USD\n",
      "[*********************100%***********************]  1 of 1 completed\n",
      "[*********************100%***********************]  1 of 1 completed"
     ]
    },
    {
     "name": "stderr",
     "output_type": "stream",
     "text": [
      " 23%|██▎       | 35/152 [02:03<06:21,  3.26s/it]"
     ]
    },
    {
     "name": "stdout",
     "output_type": "stream",
     "text": [
      "\n",
      "BCH-USD\n",
      "[*********************100%***********************]  1 of 1 completed\n",
      "[*********************100%***********************]  1 of 1 completed"
     ]
    },
    {
     "name": "stderr",
     "output_type": "stream",
     "text": [
      " 24%|██▎       | 36/152 [02:06<06:13,  3.22s/it]"
     ]
    },
    {
     "name": "stdout",
     "output_type": "stream",
     "text": [
      "\n",
      "LINK-USD\n",
      "[*********************100%***********************]  1 of 1 completed\n",
      "[*********************100%***********************]  1 of 1 completed"
     ]
    },
    {
     "name": "stderr",
     "output_type": "stream",
     "text": [
      " 24%|██▍       | 37/152 [02:12<07:40,  4.00s/it]"
     ]
    },
    {
     "name": "stdout",
     "output_type": "stream",
     "text": [
      "\n",
      "VET-USD\n",
      "[*********************100%***********************]  1 of 1 completed\n",
      "[*********************100%***********************]  1 of 1 completed"
     ]
    },
    {
     "name": "stderr",
     "output_type": "stream",
     "text": [
      " 25%|██▌       | 38/152 [02:15<06:53,  3.63s/it]"
     ]
    },
    {
     "name": "stdout",
     "output_type": "stream",
     "text": [
      "\n",
      "USDC-USD\n",
      "[*********************100%***********************]  1 of 1 completed\n",
      "[*********************100%***********************]  1 of 1 completed"
     ]
    },
    {
     "name": "stderr",
     "output_type": "stream",
     "text": [
      " 26%|██▌       | 39/152 [02:19<06:51,  3.64s/it]"
     ]
    },
    {
     "name": "stdout",
     "output_type": "stream",
     "text": [
      "\n",
      "SOL1-USD\n",
      "[*********************100%***********************]  1 of 1 completed\n",
      "[*********************100%***********************]  1 of 1 completed"
     ]
    },
    {
     "name": "stderr",
     "output_type": "stream",
     "text": [
      " 26%|██▋       | 40/152 [02:21<06:19,  3.39s/it]"
     ]
    },
    {
     "name": "stdout",
     "output_type": "stream",
     "text": [
      "\n",
      "XLM-USD\n",
      "[*********************100%***********************]  1 of 1 completed\n",
      "[*********************100%***********************]  1 of 1 completed"
     ]
    },
    {
     "name": "stderr",
     "output_type": "stream",
     "text": [
      " 27%|██▋       | 41/152 [02:25<06:14,  3.37s/it]"
     ]
    },
    {
     "name": "stdout",
     "output_type": "stream",
     "text": [
      "\n",
      "FIL-USD\n",
      "[*********************100%***********************]  1 of 1 completed\n",
      "[*********************100%***********************]  1 of 1 completed"
     ]
    },
    {
     "name": "stderr",
     "output_type": "stream",
     "text": [
      " 28%|██▊       | 42/152 [02:28<06:03,  3.31s/it]"
     ]
    },
    {
     "name": "stdout",
     "output_type": "stream",
     "text": [
      "\n",
      "THETA-USD\n",
      "[*********************100%***********************]  1 of 1 completed\n",
      "[*********************100%***********************]  1 of 1 completed"
     ]
    },
    {
     "name": "stderr",
     "output_type": "stream",
     "text": [
      " 28%|██▊       | 43/152 [02:31<05:54,  3.25s/it]"
     ]
    },
    {
     "name": "stdout",
     "output_type": "stream",
     "text": [
      "\n",
      "TRX-USD\n",
      "[*********************100%***********************]  1 of 1 completed\n",
      "[*********************100%***********************]  1 of 1 completed"
     ]
    },
    {
     "name": "stderr",
     "output_type": "stream",
     "text": [
      " 29%|██▉       | 44/152 [02:34<05:46,  3.20s/it]"
     ]
    },
    {
     "name": "stdout",
     "output_type": "stream",
     "text": [
      "\n",
      "XMR-USD\n",
      "[*********************100%***********************]  1 of 1 completed\n",
      "[*********************100%***********************]  1 of 1 completed"
     ]
    },
    {
     "name": "stderr",
     "output_type": "stream",
     "text": [
      " 30%|██▉       | 45/152 [02:38<06:16,  3.52s/it]"
     ]
    },
    {
     "name": "stdout",
     "output_type": "stream",
     "text": [
      "\n",
      "LUNA1-USD\n",
      "[*********************100%***********************]  1 of 1 completed\n",
      "[*********************100%***********************]  1 of 1 completed"
     ]
    },
    {
     "name": "stderr",
     "output_type": "stream",
     "text": [
      " 30%|███       | 46/152 [02:42<06:01,  3.41s/it]"
     ]
    },
    {
     "name": "stdout",
     "output_type": "stream",
     "text": [
      "\n",
      "NEO-USD\n",
      "[*********************100%***********************]  1 of 1 completed\n",
      "[*********************100%***********************]  1 of 1 completed"
     ]
    },
    {
     "name": "stderr",
     "output_type": "stream",
     "text": [
      " 31%|███       | 47/152 [02:45<05:46,  3.30s/it]"
     ]
    },
    {
     "name": "stdout",
     "output_type": "stream",
     "text": [
      "\n",
      "EOS-USD\n",
      "[*********************100%***********************]  1 of 1 completed\n",
      "[*********************100%***********************]  1 of 1 completed"
     ]
    },
    {
     "name": "stderr",
     "output_type": "stream",
     "text": [
      " 32%|███▏      | 48/152 [02:49<06:04,  3.51s/it]"
     ]
    },
    {
     "name": "stdout",
     "output_type": "stream",
     "text": [
      "\n",
      "MIOTA-USD\n",
      "[*********************100%***********************]  1 of 1 completed\n",
      "[*********************100%***********************]  1 of 1 completed"
     ]
    },
    {
     "name": "stderr",
     "output_type": "stream",
     "text": [
      " 32%|███▏      | 49/152 [02:53<06:30,  3.80s/it]"
     ]
    },
    {
     "name": "stdout",
     "output_type": "stream",
     "text": [
      "\n",
      "BSV-USD\n",
      "[*********************100%***********************]  1 of 1 completed\n",
      "[*********************100%***********************]  1 of 1 completed"
     ]
    },
    {
     "name": "stderr",
     "output_type": "stream",
     "text": [
      " 33%|███▎      | 50/152 [02:56<06:01,  3.55s/it]"
     ]
    },
    {
     "name": "stdout",
     "output_type": "stream",
     "text": [
      "\n",
      "AAPL\n",
      "[*********************100%***********************]  1 of 1 completed\n",
      "[*********************100%***********************]  1 of 1 completed"
     ]
    },
    {
     "name": "stderr",
     "output_type": "stream",
     "text": [
      " 34%|███▎      | 51/152 [03:00<06:13,  3.70s/it]"
     ]
    },
    {
     "name": "stdout",
     "output_type": "stream",
     "text": [
      "\n",
      "MSFT\n",
      "[*********************100%***********************]  1 of 1 completed\n",
      "[*********************100%***********************]  1 of 1 completed"
     ]
    },
    {
     "name": "stderr",
     "output_type": "stream",
     "text": [
      " 34%|███▍      | 52/152 [03:03<05:54,  3.54s/it]"
     ]
    },
    {
     "name": "stdout",
     "output_type": "stream",
     "text": [
      "\n",
      "AMZN\n",
      "[*********************100%***********************]  1 of 1 completed\n",
      "[*********************100%***********************]  1 of 1 completed"
     ]
    },
    {
     "name": "stderr",
     "output_type": "stream",
     "text": [
      " 35%|███▍      | 53/152 [03:07<05:56,  3.60s/it]"
     ]
    },
    {
     "name": "stdout",
     "output_type": "stream",
     "text": [
      "\n",
      "TSLA\n",
      "[*********************100%***********************]  1 of 1 completed\n",
      "[*********************100%***********************]  1 of 1 completed"
     ]
    },
    {
     "name": "stderr",
     "output_type": "stream",
     "text": [
      " 36%|███▌      | 54/152 [03:10<05:30,  3.37s/it]"
     ]
    },
    {
     "name": "stdout",
     "output_type": "stream",
     "text": [
      "\n",
      "FB\n",
      "[*********************100%***********************]  1 of 1 completed\n",
      "[*********************100%***********************]  1 of 1 completed"
     ]
    },
    {
     "name": "stderr",
     "output_type": "stream",
     "text": [
      " 36%|███▌      | 55/152 [03:13<05:14,  3.24s/it]"
     ]
    },
    {
     "name": "stdout",
     "output_type": "stream",
     "text": [
      "\n",
      "GOOG\n",
      "[*********************100%***********************]  1 of 1 completed\n",
      "[*********************100%***********************]  1 of 1 completed"
     ]
    },
    {
     "name": "stderr",
     "output_type": "stream",
     "text": [
      " 37%|███▋      | 56/152 [03:18<06:08,  3.84s/it]"
     ]
    },
    {
     "name": "stdout",
     "output_type": "stream",
     "text": [
      "\n",
      "GOOGL\n",
      "[*********************100%***********************]  1 of 1 completed\n",
      "[*********************100%***********************]  1 of 1 completed"
     ]
    },
    {
     "name": "stderr",
     "output_type": "stream",
     "text": [
      " 38%|███▊      | 57/152 [03:21<05:54,  3.73s/it]"
     ]
    },
    {
     "name": "stdout",
     "output_type": "stream",
     "text": [
      "\n",
      "NVDA\n",
      "[*********************100%***********************]  1 of 1 completed\n",
      "[*********************100%***********************]  1 of 1 completed"
     ]
    },
    {
     "name": "stderr",
     "output_type": "stream",
     "text": [
      " 38%|███▊      | 58/152 [03:25<05:35,  3.57s/it]"
     ]
    },
    {
     "name": "stdout",
     "output_type": "stream",
     "text": [
      "\n",
      "PYPL\n",
      "[*********************100%***********************]  1 of 1 completed\n",
      "[*********************100%***********************]  1 of 1 completed"
     ]
    },
    {
     "name": "stderr",
     "output_type": "stream",
     "text": [
      " 39%|███▉      | 59/152 [03:28<05:11,  3.34s/it]"
     ]
    },
    {
     "name": "stdout",
     "output_type": "stream",
     "text": [
      "\n",
      "INTC\n",
      "[*********************100%***********************]  1 of 1 completed\n",
      "[*********************100%***********************]  1 of 1 completed"
     ]
    },
    {
     "name": "stderr",
     "output_type": "stream",
     "text": [
      " 39%|███▉      | 60/152 [03:31<05:11,  3.38s/it]"
     ]
    },
    {
     "name": "stdout",
     "output_type": "stream",
     "text": [
      "\n",
      "CMCSA\n",
      "[*********************100%***********************]  1 of 1 completed\n",
      "[*********************100%***********************]  1 of 1 completed"
     ]
    },
    {
     "name": "stderr",
     "output_type": "stream",
     "text": [
      " 40%|████      | 61/152 [03:34<05:09,  3.40s/it]"
     ]
    },
    {
     "name": "stdout",
     "output_type": "stream",
     "text": [
      "\n",
      "NFLX\n",
      "[*********************100%***********************]  1 of 1 completed\n",
      "[*********************100%***********************]  1 of 1 completed"
     ]
    },
    {
     "name": "stderr",
     "output_type": "stream",
     "text": [
      " 41%|████      | 62/152 [03:38<05:23,  3.60s/it]"
     ]
    },
    {
     "name": "stdout",
     "output_type": "stream",
     "text": [
      "\n",
      "ADBE\n",
      "[*********************100%***********************]  1 of 1 completed\n",
      "[*********************100%***********************]  1 of 1 completed"
     ]
    },
    {
     "name": "stderr",
     "output_type": "stream",
     "text": [
      " 41%|████▏     | 63/152 [03:42<05:17,  3.56s/it]"
     ]
    },
    {
     "name": "stdout",
     "output_type": "stream",
     "text": [
      "\n",
      "CSCO\n",
      "[*********************100%***********************]  1 of 1 completed\n",
      "[*********************100%***********************]  1 of 1 completed"
     ]
    },
    {
     "name": "stderr",
     "output_type": "stream",
     "text": [
      " 42%|████▏     | 64/152 [03:46<05:26,  3.71s/it]"
     ]
    },
    {
     "name": "stdout",
     "output_type": "stream",
     "text": [
      "\n",
      "PEP\n",
      "[*********************100%***********************]  1 of 1 completed\n",
      "[*********************100%***********************]  1 of 1 completed"
     ]
    },
    {
     "name": "stderr",
     "output_type": "stream",
     "text": [
      " 43%|████▎     | 65/152 [03:50<05:31,  3.81s/it]"
     ]
    },
    {
     "name": "stdout",
     "output_type": "stream",
     "text": [
      "\n",
      "AVGO\n",
      "[*********************100%***********************]  1 of 1 completed\n",
      "[*********************100%***********************]  1 of 1 completed"
     ]
    },
    {
     "name": "stderr",
     "output_type": "stream",
     "text": [
      " 43%|████▎     | 66/152 [03:53<05:03,  3.53s/it]"
     ]
    },
    {
     "name": "stdout",
     "output_type": "stream",
     "text": [
      "\n",
      "TXN\n",
      "[*********************100%***********************]  1 of 1 completed\n",
      "[*********************100%***********************]  1 of 1 completed"
     ]
    },
    {
     "name": "stderr",
     "output_type": "stream",
     "text": [
      " 44%|████▍     | 67/152 [03:57<05:09,  3.65s/it]"
     ]
    },
    {
     "name": "stdout",
     "output_type": "stream",
     "text": [
      "\n",
      "TMUS\n",
      "[*********************100%***********************]  1 of 1 completed\n",
      "[*********************100%***********************]  1 of 1 completed"
     ]
    },
    {
     "name": "stderr",
     "output_type": "stream",
     "text": [
      " 45%|████▍     | 68/152 [04:00<04:55,  3.51s/it]"
     ]
    },
    {
     "name": "stdout",
     "output_type": "stream",
     "text": [
      "\n",
      "COST\n",
      "[*********************100%***********************]  1 of 1 completed\n",
      "[*********************100%***********************]  1 of 1 completed"
     ]
    },
    {
     "name": "stderr",
     "output_type": "stream",
     "text": [
      " 45%|████▌     | 69/152 [04:04<04:52,  3.52s/it]"
     ]
    },
    {
     "name": "stdout",
     "output_type": "stream",
     "text": [
      "\n",
      "QCOM\n",
      "[*********************100%***********************]  1 of 1 completed\n",
      "[*********************100%***********************]  1 of 1 completed"
     ]
    },
    {
     "name": "stderr",
     "output_type": "stream",
     "text": [
      " 46%|████▌     | 70/152 [04:07<04:46,  3.49s/it]"
     ]
    },
    {
     "name": "stdout",
     "output_type": "stream",
     "text": [
      "\n",
      "AMGN\n",
      "[*********************100%***********************]  1 of 1 completed\n",
      "[*********************100%***********************]  1 of 1 completed"
     ]
    },
    {
     "name": "stderr",
     "output_type": "stream",
     "text": [
      " 47%|████▋     | 71/152 [04:10<04:39,  3.45s/it]"
     ]
    },
    {
     "name": "stdout",
     "output_type": "stream",
     "text": [
      "\n",
      "SBUX\n",
      "[*********************100%***********************]  1 of 1 completed\n",
      "[*********************100%***********************]  1 of 1 completed"
     ]
    },
    {
     "name": "stderr",
     "output_type": "stream",
     "text": [
      " 47%|████▋     | 72/152 [04:13<04:27,  3.35s/it]"
     ]
    },
    {
     "name": "stdout",
     "output_type": "stream",
     "text": [
      "\n",
      "AMAT\n",
      "[*********************100%***********************]  1 of 1 completed\n",
      "[*********************100%***********************]  1 of 1 completed"
     ]
    },
    {
     "name": "stderr",
     "output_type": "stream",
     "text": [
      " 48%|████▊     | 73/152 [04:17<04:34,  3.47s/it]"
     ]
    },
    {
     "name": "stdout",
     "output_type": "stream",
     "text": [
      "\n",
      "CHTR\n",
      "[*********************100%***********************]  1 of 1 completed\n",
      "[*********************100%***********************]  1 of 1 completed"
     ]
    },
    {
     "name": "stderr",
     "output_type": "stream",
     "text": [
      " 49%|████▊     | 74/152 [04:20<04:10,  3.21s/it]"
     ]
    },
    {
     "name": "stdout",
     "output_type": "stream",
     "text": [
      "\n",
      "INTU\n",
      "[*********************100%***********************]  1 of 1 completed\n",
      "[*********************100%***********************]  1 of 1 completed"
     ]
    },
    {
     "name": "stderr",
     "output_type": "stream",
     "text": [
      " 49%|████▉     | 75/152 [04:23<04:13,  3.29s/it]"
     ]
    },
    {
     "name": "stdout",
     "output_type": "stream",
     "text": [
      "\n",
      "MU\n",
      "[*********************100%***********************]  1 of 1 completed\n",
      "[*********************100%***********************]  1 of 1 completed"
     ]
    },
    {
     "name": "stderr",
     "output_type": "stream",
     "text": [
      " 50%|█████     | 76/152 [04:27<04:21,  3.44s/it]"
     ]
    },
    {
     "name": "stdout",
     "output_type": "stream",
     "text": [
      "\n",
      "BKNG\n",
      "[*********************100%***********************]  1 of 1 completed\n",
      "[*********************100%***********************]  1 of 1 completed"
     ]
    },
    {
     "name": "stderr",
     "output_type": "stream",
     "text": [
      " 51%|█████     | 77/152 [04:30<04:15,  3.41s/it]"
     ]
    },
    {
     "name": "stdout",
     "output_type": "stream",
     "text": [
      "\n",
      "AMD\n",
      "[*********************100%***********************]  1 of 1 completed\n",
      "[*********************100%***********************]  1 of 1 completed"
     ]
    },
    {
     "name": "stderr",
     "output_type": "stream",
     "text": [
      " 51%|█████▏    | 78/152 [04:34<04:17,  3.48s/it]"
     ]
    },
    {
     "name": "stdout",
     "output_type": "stream",
     "text": [
      "\n",
      "LRCX\n",
      "[*********************100%***********************]  1 of 1 completed\n",
      "[*********************100%***********************]  1 of 1 completed"
     ]
    },
    {
     "name": "stderr",
     "output_type": "stream",
     "text": [
      " 52%|█████▏    | 79/152 [04:38<04:15,  3.51s/it]"
     ]
    },
    {
     "name": "stdout",
     "output_type": "stream",
     "text": [
      "\n",
      "ISRG\n",
      "[*********************100%***********************]  1 of 1 completed\n",
      "[*********************100%***********************]  1 of 1 completed"
     ]
    },
    {
     "name": "stderr",
     "output_type": "stream",
     "text": [
      " 53%|█████▎    | 80/152 [04:41<04:09,  3.47s/it]"
     ]
    },
    {
     "name": "stdout",
     "output_type": "stream",
     "text": [
      "\n",
      "MDLZ\n",
      "[*********************100%***********************]  1 of 1 completed\n",
      "[*********************100%***********************]  1 of 1 completed"
     ]
    },
    {
     "name": "stderr",
     "output_type": "stream",
     "text": [
      " 53%|█████▎    | 81/152 [04:44<04:00,  3.38s/it]"
     ]
    },
    {
     "name": "stdout",
     "output_type": "stream",
     "text": [
      "\n",
      "GILD\n",
      "[*********************100%***********************]  1 of 1 completed\n",
      "[*********************100%***********************]  1 of 1 completed"
     ]
    },
    {
     "name": "stderr",
     "output_type": "stream",
     "text": [
      " 54%|█████▍    | 82/152 [04:48<04:03,  3.47s/it]"
     ]
    },
    {
     "name": "stdout",
     "output_type": "stream",
     "text": [
      "\n",
      "FISV\n",
      "[*********************100%***********************]  1 of 1 completed\n",
      "[*********************100%***********************]  1 of 1 completed"
     ]
    },
    {
     "name": "stderr",
     "output_type": "stream",
     "text": [
      " 55%|█████▍    | 83/152 [04:52<04:07,  3.59s/it]"
     ]
    },
    {
     "name": "stdout",
     "output_type": "stream",
     "text": [
      "\n",
      "ADP\n",
      "[*********************100%***********************]  1 of 1 completed\n",
      "[*********************100%***********************]  1 of 1 completed"
     ]
    },
    {
     "name": "stderr",
     "output_type": "stream",
     "text": [
      " 55%|█████▌    | 84/152 [04:56<04:08,  3.66s/it]"
     ]
    },
    {
     "name": "stdout",
     "output_type": "stream",
     "text": [
      "\n",
      "ZM\n",
      "[*********************100%***********************]  1 of 1 completed\n",
      "[*********************100%***********************]  1 of 1 completed"
     ]
    },
    {
     "name": "stderr",
     "output_type": "stream",
     "text": [
      " 56%|█████▌    | 85/152 [04:59<04:06,  3.68s/it]"
     ]
    },
    {
     "name": "stdout",
     "output_type": "stream",
     "text": [
      "\n",
      "MELI\n",
      "[*********************100%***********************]  1 of 1 completed\n",
      "[*********************100%***********************]  1 of 1 completed"
     ]
    },
    {
     "name": "stderr",
     "output_type": "stream",
     "text": [
      " 57%|█████▋    | 86/152 [05:03<03:58,  3.61s/it]"
     ]
    },
    {
     "name": "stdout",
     "output_type": "stream",
     "text": [
      "\n",
      "ATVI\n",
      "[*********************100%***********************]  1 of 1 completed\n",
      "[*********************100%***********************]  1 of 1 completed"
     ]
    },
    {
     "name": "stderr",
     "output_type": "stream",
     "text": [
      " 57%|█████▋    | 87/152 [05:07<04:10,  3.85s/it]"
     ]
    },
    {
     "name": "stdout",
     "output_type": "stream",
     "text": [
      "\n",
      "CSX\n",
      "[*********************100%***********************]  1 of 1 completed\n",
      "[*********************100%***********************]  1 of 1 completed"
     ]
    },
    {
     "name": "stderr",
     "output_type": "stream",
     "text": [
      " 58%|█████▊    | 88/152 [05:11<04:05,  3.83s/it]"
     ]
    },
    {
     "name": "stdout",
     "output_type": "stream",
     "text": [
      "\n",
      "JD\n",
      "[*********************100%***********************]  1 of 1 completed\n",
      "[*********************100%***********************]  1 of 1 completed"
     ]
    },
    {
     "name": "stderr",
     "output_type": "stream",
     "text": [
      " 59%|█████▊    | 89/152 [05:14<03:40,  3.49s/it]"
     ]
    },
    {
     "name": "stdout",
     "output_type": "stream",
     "text": [
      "\n",
      "ADSK\n",
      "[*********************100%***********************]  1 of 1 completed\n",
      "[*********************100%***********************]  1 of 1 completed"
     ]
    },
    {
     "name": "stderr",
     "output_type": "stream",
     "text": [
      " 59%|█████▉    | 90/152 [05:17<03:40,  3.56s/it]"
     ]
    },
    {
     "name": "stdout",
     "output_type": "stream",
     "text": [
      "\n",
      "BIDU\n",
      "[*********************100%***********************]  1 of 1 completed\n",
      "[*********************100%***********************]  1 of 1 completed"
     ]
    },
    {
     "name": "stderr",
     "output_type": "stream",
     "text": [
      " 60%|█████▉    | 91/152 [05:24<04:26,  4.37s/it]"
     ]
    },
    {
     "name": "stdout",
     "output_type": "stream",
     "text": [
      "\n",
      "ILMN\n",
      "[*********************100%***********************]  1 of 1 completed\n",
      "[*********************100%***********************]  1 of 1 completed"
     ]
    },
    {
     "name": "stderr",
     "output_type": "stream",
     "text": [
      " 61%|██████    | 92/152 [05:27<03:57,  3.96s/it]"
     ]
    },
    {
     "name": "stdout",
     "output_type": "stream",
     "text": [
      "\n",
      "ADI\n",
      "[*********************100%***********************]  1 of 1 completed\n",
      "[*********************100%***********************]  1 of 1 completed"
     ]
    },
    {
     "name": "stderr",
     "output_type": "stream",
     "text": [
      " 61%|██████    | 93/152 [05:31<03:52,  3.94s/it]"
     ]
    },
    {
     "name": "stdout",
     "output_type": "stream",
     "text": [
      "\n",
      "NXPI\n",
      "[*********************100%***********************]  1 of 1 completed\n",
      "[*********************100%***********************]  1 of 1 completed"
     ]
    },
    {
     "name": "stderr",
     "output_type": "stream",
     "text": [
      " 62%|██████▏   | 94/152 [05:34<03:38,  3.77s/it]"
     ]
    },
    {
     "name": "stdout",
     "output_type": "stream",
     "text": [
      "\n",
      "VRTX\n",
      "[*********************100%***********************]  1 of 1 completed\n",
      "[*********************100%***********************]  1 of 1 completed"
     ]
    },
    {
     "name": "stderr",
     "output_type": "stream",
     "text": [
      " 62%|██████▎   | 95/152 [05:37<03:23,  3.57s/it]"
     ]
    },
    {
     "name": "stdout",
     "output_type": "stream",
     "text": [
      "\n",
      "KLAC\n",
      "[*********************100%***********************]  1 of 1 completed\n",
      "[*********************100%***********************]  1 of 1 completed\n"
     ]
    },
    {
     "name": "stderr",
     "output_type": "stream",
     "text": [
      " 63%|██████▎   | 96/152 [05:43<04:04,  4.36s/it]"
     ]
    },
    {
     "name": "stdout",
     "output_type": "stream",
     "text": [
      "MRNA\n",
      "[*********************100%***********************]  1 of 1 completed\n",
      "[*********************100%***********************]  1 of 1 completed"
     ]
    },
    {
     "name": "stderr",
     "output_type": "stream",
     "text": [
      " 64%|██████▍   | 97/152 [05:48<03:59,  4.35s/it]"
     ]
    },
    {
     "name": "stdout",
     "output_type": "stream",
     "text": [
      "\n",
      "PDD\n",
      "[*********************100%***********************]  1 of 1 completed\n",
      "[*********************100%***********************]  1 of 1 completed"
     ]
    },
    {
     "name": "stderr",
     "output_type": "stream",
     "text": [
      " 64%|██████▍   | 98/152 [05:52<04:02,  4.50s/it]"
     ]
    },
    {
     "name": "stdout",
     "output_type": "stream",
     "text": [
      "\n",
      "REGN\n",
      "[*********************100%***********************]  1 of 1 completed\n",
      "[*********************100%***********************]  1 of 1 completed"
     ]
    },
    {
     "name": "stderr",
     "output_type": "stream",
     "text": [
      " 65%|██████▌   | 99/152 [05:58<04:08,  4.68s/it]"
     ]
    },
    {
     "name": "stdout",
     "output_type": "stream",
     "text": [
      "\n",
      "KHC\n",
      "[*********************100%***********************]  1 of 1 completed\n",
      "[*********************100%***********************]  1 of 1 completed"
     ]
    },
    {
     "name": "stderr",
     "output_type": "stream",
     "text": [
      " 66%|██████▌   | 100/152 [06:02<04:01,  4.65s/it]"
     ]
    },
    {
     "name": "stdout",
     "output_type": "stream",
     "text": [
      "\n",
      "MNST\n",
      "[*********************100%***********************]  1 of 1 completed\n",
      "[*********************100%***********************]  1 of 1 completed"
     ]
    },
    {
     "name": "stderr",
     "output_type": "stream",
     "text": [
      " 66%|██████▋   | 101/152 [06:06<03:46,  4.45s/it]"
     ]
    },
    {
     "name": "stdout",
     "output_type": "stream",
     "text": [
      "\n",
      "KDP\n",
      "[*********************100%***********************]  1 of 1 completed\n",
      "[*********************100%***********************]  1 of 1 completed"
     ]
    },
    {
     "name": "stderr",
     "output_type": "stream",
     "text": [
      " 67%|██████▋   | 102/152 [06:10<03:37,  4.35s/it]"
     ]
    },
    {
     "name": "stdout",
     "output_type": "stream",
     "text": [
      "\n",
      "MAR\n",
      "[*********************100%***********************]  1 of 1 completed\n",
      "[*********************100%***********************]  1 of 1 completed"
     ]
    },
    {
     "name": "stderr",
     "output_type": "stream",
     "text": [
      " 68%|██████▊   | 103/152 [06:16<03:49,  4.68s/it]"
     ]
    },
    {
     "name": "stdout",
     "output_type": "stream",
     "text": [
      "\n",
      "ASML\n",
      "[*********************100%***********************]  1 of 1 completed\n",
      "[*********************100%***********************]  1 of 1 completed"
     ]
    },
    {
     "name": "stderr",
     "output_type": "stream",
     "text": [
      " 68%|██████▊   | 104/152 [06:21<03:51,  4.82s/it]"
     ]
    },
    {
     "name": "stdout",
     "output_type": "stream",
     "text": [
      "\n",
      "WBA\n",
      "[*********************100%***********************]  1 of 1 completed\n",
      "[*********************100%***********************]  1 of 1 completed"
     ]
    },
    {
     "name": "stderr",
     "output_type": "stream",
     "text": [
      " 69%|██████▉   | 105/152 [06:26<03:48,  4.85s/it]"
     ]
    },
    {
     "name": "stdout",
     "output_type": "stream",
     "text": [
      "\n",
      "WDAY\n",
      "[*********************100%***********************]  1 of 1 completed\n",
      "[*********************100%***********************]  1 of 1 completed"
     ]
    },
    {
     "name": "stderr",
     "output_type": "stream",
     "text": [
      " 70%|██████▉   | 106/152 [06:29<03:21,  4.39s/it]"
     ]
    },
    {
     "name": "stdout",
     "output_type": "stream",
     "text": [
      "\n",
      "ROST\n",
      "[*********************100%***********************]  1 of 1 completed\n",
      "[*********************100%***********************]  1 of 1 completed"
     ]
    },
    {
     "name": "stderr",
     "output_type": "stream",
     "text": [
      " 70%|███████   | 107/152 [06:33<03:08,  4.20s/it]"
     ]
    },
    {
     "name": "stdout",
     "output_type": "stream",
     "text": [
      "\n",
      "ALGN\n",
      "[*********************100%***********************]  1 of 1 completed\n",
      "[*********************100%***********************]  1 of 1 completed"
     ]
    },
    {
     "name": "stderr",
     "output_type": "stream",
     "text": [
      " 71%|███████   | 108/152 [06:37<02:59,  4.07s/it]"
     ]
    },
    {
     "name": "stdout",
     "output_type": "stream",
     "text": [
      "\n",
      "EXC\n",
      "[*********************100%***********************]  1 of 1 completed\n",
      "[*********************100%***********************]  1 of 1 completed"
     ]
    },
    {
     "name": "stderr",
     "output_type": "stream",
     "text": [
      " 72%|███████▏  | 109/152 [06:41<03:02,  4.24s/it]"
     ]
    },
    {
     "name": "stdout",
     "output_type": "stream",
     "text": [
      "\n",
      "MCHP\n",
      "[*********************100%***********************]  1 of 1 completed\n",
      "[*********************100%***********************]  1 of 1 completed"
     ]
    },
    {
     "name": "stderr",
     "output_type": "stream",
     "text": [
      " 72%|███████▏  | 110/152 [06:45<02:47,  3.98s/it]"
     ]
    },
    {
     "name": "stdout",
     "output_type": "stream",
     "text": [
      "\n",
      "AEP\n",
      "[*********************100%***********************]  1 of 1 completed\n",
      "[*********************100%***********************]  1 of 1 completed"
     ]
    },
    {
     "name": "stderr",
     "output_type": "stream",
     "text": [
      " 73%|███████▎  | 111/152 [06:48<02:42,  3.96s/it]"
     ]
    },
    {
     "name": "stdout",
     "output_type": "stream",
     "text": [
      "\n",
      "EBAY\n",
      "[*********************100%***********************]  1 of 1 completed\n",
      "[*********************100%***********************]  1 of 1 completed"
     ]
    },
    {
     "name": "stderr",
     "output_type": "stream",
     "text": [
      " 74%|███████▎  | 112/152 [06:52<02:32,  3.81s/it]"
     ]
    },
    {
     "name": "stdout",
     "output_type": "stream",
     "text": [
      "\n",
      "CTSH\n",
      "[*********************100%***********************]  1 of 1 completed\n",
      "[*********************100%***********************]  1 of 1 completed"
     ]
    },
    {
     "name": "stderr",
     "output_type": "stream",
     "text": [
      " 74%|███████▍  | 113/152 [06:55<02:24,  3.71s/it]"
     ]
    },
    {
     "name": "stdout",
     "output_type": "stream",
     "text": [
      "\n",
      "IDXX\n",
      "[*********************100%***********************]  1 of 1 completed\n",
      "[*********************100%***********************]  1 of 1 completed"
     ]
    },
    {
     "name": "stderr",
     "output_type": "stream",
     "text": [
      " 75%|███████▌  | 114/152 [06:59<02:24,  3.80s/it]"
     ]
    },
    {
     "name": "stdout",
     "output_type": "stream",
     "text": [
      "\n",
      "BIIB\n",
      "[*********************100%***********************]  1 of 1 completed\n",
      "[*********************100%***********************]  1 of 1 completed"
     ]
    },
    {
     "name": "stderr",
     "output_type": "stream",
     "text": [
      " 76%|███████▌  | 115/152 [07:03<02:16,  3.69s/it]"
     ]
    },
    {
     "name": "stdout",
     "output_type": "stream",
     "text": [
      "\n",
      "EA\n",
      "[*********************100%***********************]  1 of 1 completed\n",
      "[*********************100%***********************]  1 of 1 completed"
     ]
    },
    {
     "name": "stderr",
     "output_type": "stream",
     "text": [
      " 76%|███████▋  | 116/152 [07:06<02:09,  3.59s/it]"
     ]
    },
    {
     "name": "stdout",
     "output_type": "stream",
     "text": [
      "\n",
      "CDNS\n",
      "[*********************100%***********************]  1 of 1 completed\n",
      "[*********************100%***********************]  1 of 1 completed"
     ]
    },
    {
     "name": "stderr",
     "output_type": "stream",
     "text": [
      " 77%|███████▋  | 117/152 [07:11<02:17,  3.94s/it]"
     ]
    },
    {
     "name": "stdout",
     "output_type": "stream",
     "text": [
      "\n",
      "SNPS\n",
      "[*********************100%***********************]  1 of 1 completed\n",
      "[*********************100%***********************]  1 of 1 completed"
     ]
    },
    {
     "name": "stderr",
     "output_type": "stream",
     "text": [
      " 78%|███████▊  | 118/152 [07:15<02:16,  4.01s/it]"
     ]
    },
    {
     "name": "stdout",
     "output_type": "stream",
     "text": [
      "\n",
      "LULU\n",
      "[*********************100%***********************]  1 of 1 completed\n",
      "[*********************100%***********************]  1 of 1 completed"
     ]
    },
    {
     "name": "stderr",
     "output_type": "stream",
     "text": [
      " 78%|███████▊  | 119/152 [07:18<02:04,  3.78s/it]"
     ]
    },
    {
     "name": "stdout",
     "output_type": "stream",
     "text": [
      "\n",
      "MTCH\n",
      "[*********************100%***********************]  1 of 1 completed\n",
      "[*********************100%***********************]  1 of 1 completed"
     ]
    },
    {
     "name": "stderr",
     "output_type": "stream",
     "text": [
      " 79%|███████▉  | 120/152 [07:22<01:59,  3.73s/it]"
     ]
    },
    {
     "name": "stdout",
     "output_type": "stream",
     "text": [
      "\n",
      "DOCU\n",
      "[*********************100%***********************]  1 of 1 completed\n",
      "[*********************100%***********************]  1 of 1 completed"
     ]
    },
    {
     "name": "stderr",
     "output_type": "stream",
     "text": [
      " 80%|███████▉  | 121/152 [07:25<01:45,  3.39s/it]"
     ]
    },
    {
     "name": "stdout",
     "output_type": "stream",
     "text": [
      "\n",
      "XEL\n",
      "[*********************100%***********************]  1 of 1 completed\n",
      "[*********************100%***********************]  1 of 1 completed"
     ]
    },
    {
     "name": "stderr",
     "output_type": "stream",
     "text": [
      " 80%|████████  | 122/152 [07:29<01:48,  3.61s/it]"
     ]
    },
    {
     "name": "stdout",
     "output_type": "stream",
     "text": [
      "\n",
      "CTAS\n",
      "[*********************100%***********************]  1 of 1 completed\n",
      "[*********************100%***********************]  1 of 1 completed"
     ]
    },
    {
     "name": "stderr",
     "output_type": "stream",
     "text": [
      " 81%|████████  | 123/152 [07:32<01:45,  3.65s/it]"
     ]
    },
    {
     "name": "stdout",
     "output_type": "stream",
     "text": [
      "\n",
      "ORLY\n",
      "[*********************100%***********************]  1 of 1 completed\n",
      "[*********************100%***********************]  1 of 1 completed"
     ]
    },
    {
     "name": "stderr",
     "output_type": "stream",
     "text": [
      " 82%|████████▏ | 124/152 [07:36<01:38,  3.53s/it]"
     ]
    },
    {
     "name": "stdout",
     "output_type": "stream",
     "text": [
      "\n",
      "DXCM\n",
      "[*********************100%***********************]  1 of 1 completed\n",
      "[*********************100%***********************]  1 of 1 completed"
     ]
    },
    {
     "name": "stderr",
     "output_type": "stream",
     "text": [
      " 82%|████████▏ | 125/152 [07:39<01:33,  3.47s/it]"
     ]
    },
    {
     "name": "stdout",
     "output_type": "stream",
     "text": [
      "\n",
      "PAYX\n",
      "[*********************100%***********************]  1 of 1 completed\n",
      "[*********************100%***********************]  1 of 1 completed"
     ]
    },
    {
     "name": "stderr",
     "output_type": "stream",
     "text": [
      " 83%|████████▎ | 126/152 [07:43<01:36,  3.72s/it]"
     ]
    },
    {
     "name": "stdout",
     "output_type": "stream",
     "text": [
      "\n",
      "MRVL\n",
      "[*********************100%***********************]  1 of 1 completed\n",
      "[*********************100%***********************]  1 of 1 completed"
     ]
    },
    {
     "name": "stderr",
     "output_type": "stream",
     "text": [
      " 84%|████████▎ | 127/152 [07:47<01:31,  3.67s/it]"
     ]
    },
    {
     "name": "stdout",
     "output_type": "stream",
     "text": [
      "\n",
      "ALXN\n",
      "[*********************100%***********************]  1 of 1 completed"
     ]
    },
    {
     "name": "stderr",
     "output_type": "stream",
     "text": [
      " 84%|████████▍ | 128/152 [07:47<01:06,  2.76s/it]"
     ]
    },
    {
     "name": "stdout",
     "output_type": "stream",
     "text": [
      "\n",
      "\n",
      "1 Failed download:\n",
      "- ALXN: No data found, symbol may be delisted\n",
      "PCAR\n",
      "[*********************100%***********************]  1 of 1 completed\n",
      "[*********************100%***********************]  1 of 1 completed"
     ]
    },
    {
     "name": "stderr",
     "output_type": "stream",
     "text": [
      " 85%|████████▍ | 129/152 [07:51<01:09,  3.00s/it]"
     ]
    },
    {
     "name": "stdout",
     "output_type": "stream",
     "text": [
      "\n",
      "NTES\n",
      "[*********************100%***********************]  1 of 1 completed\n",
      "[*********************100%***********************]  1 of 1 completed"
     ]
    },
    {
     "name": "stderr",
     "output_type": "stream",
     "text": [
      " 86%|████████▌ | 130/152 [07:54<01:08,  3.09s/it]"
     ]
    },
    {
     "name": "stdout",
     "output_type": "stream",
     "text": [
      "\n",
      "XLNX\n",
      "[*********************100%***********************]  1 of 1 completed\n",
      "[*********************100%***********************]  1 of 1 completed"
     ]
    },
    {
     "name": "stderr",
     "output_type": "stream",
     "text": [
      " 86%|████████▌ | 131/152 [07:58<01:08,  3.25s/it]"
     ]
    },
    {
     "name": "stdout",
     "output_type": "stream",
     "text": [
      "\n",
      "SWKS\n",
      "[*********************100%***********************]  1 of 1 completed\n",
      "[*********************100%***********************]  1 of 1 completed"
     ]
    },
    {
     "name": "stderr",
     "output_type": "stream",
     "text": [
      " 87%|████████▋ | 132/152 [08:02<01:06,  3.34s/it]"
     ]
    },
    {
     "name": "stdout",
     "output_type": "stream",
     "text": [
      "\n",
      "ANSS\n",
      "[*********************100%***********************]  1 of 1 completed\n",
      "[*********************100%***********************]  1 of 1 completed"
     ]
    },
    {
     "name": "stderr",
     "output_type": "stream",
     "text": [
      " 88%|████████▊ | 133/152 [08:05<01:03,  3.33s/it]"
     ]
    },
    {
     "name": "stdout",
     "output_type": "stream",
     "text": [
      "\n",
      "PTON\n",
      "[*********************100%***********************]  1 of 1 completed\n",
      "[*********************100%***********************]  1 of 1 completed"
     ]
    },
    {
     "name": "stderr",
     "output_type": "stream",
     "text": [
      " 88%|████████▊ | 134/152 [08:09<01:03,  3.51s/it]"
     ]
    },
    {
     "name": "stdout",
     "output_type": "stream",
     "text": [
      "\n",
      "TEAM\n",
      "[*********************100%***********************]  1 of 1 completed\n",
      "[*********************100%***********************]  1 of 1 completed"
     ]
    },
    {
     "name": "stderr",
     "output_type": "stream",
     "text": [
      " 89%|████████▉ | 135/152 [08:12<00:58,  3.41s/it]"
     ]
    },
    {
     "name": "stdout",
     "output_type": "stream",
     "text": [
      "\n",
      "VRSK\n",
      "[*********************100%***********************]  1 of 1 completed\n",
      "[*********************100%***********************]  1 of 1 completed"
     ]
    },
    {
     "name": "stderr",
     "output_type": "stream",
     "text": [
      " 89%|████████▉ | 136/152 [08:15<00:53,  3.32s/it]"
     ]
    },
    {
     "name": "stdout",
     "output_type": "stream",
     "text": [
      "\n",
      "FAST\n",
      "[*********************100%***********************]  1 of 1 completed\n",
      "[*********************100%***********************]  1 of 1 completed"
     ]
    },
    {
     "name": "stderr",
     "output_type": "stream",
     "text": [
      " 90%|█████████ | 137/152 [08:19<00:52,  3.50s/it]"
     ]
    },
    {
     "name": "stdout",
     "output_type": "stream",
     "text": [
      "\n",
      "OKTA\n",
      "[*********************100%***********************]  1 of 1 completed\n",
      "[*********************100%***********************]  1 of 1 completed"
     ]
    },
    {
     "name": "stderr",
     "output_type": "stream",
     "text": [
      " 91%|█████████ | 138/152 [08:22<00:47,  3.40s/it]"
     ]
    },
    {
     "name": "stdout",
     "output_type": "stream",
     "text": [
      "\n",
      "DLTR\n",
      "[*********************100%***********************]  1 of 1 completed\n",
      "[*********************100%***********************]  1 of 1 completed"
     ]
    },
    {
     "name": "stderr",
     "output_type": "stream",
     "text": [
      " 91%|█████████▏| 139/152 [08:25<00:43,  3.34s/it]"
     ]
    },
    {
     "name": "stdout",
     "output_type": "stream",
     "text": [
      "\n",
      "CPRT\n",
      "[*********************100%***********************]  1 of 1 completed\n",
      "[*********************100%***********************]  1 of 1 completed"
     ]
    },
    {
     "name": "stderr",
     "output_type": "stream",
     "text": [
      " 92%|█████████▏| 140/152 [08:30<00:44,  3.67s/it]"
     ]
    },
    {
     "name": "stdout",
     "output_type": "stream",
     "text": [
      "\n",
      "SGEN\n",
      "[*********************100%***********************]  1 of 1 completed\n",
      "[*********************100%***********************]  1 of 1 completed"
     ]
    },
    {
     "name": "stderr",
     "output_type": "stream",
     "text": [
      " 93%|█████████▎| 141/152 [08:33<00:39,  3.59s/it]"
     ]
    },
    {
     "name": "stdout",
     "output_type": "stream",
     "text": [
      "\n",
      "SIRI\n",
      "[*********************100%***********************]  1 of 1 completed\n",
      "[*********************100%***********************]  1 of 1 completed"
     ]
    },
    {
     "name": "stderr",
     "output_type": "stream",
     "text": [
      " 93%|█████████▎| 142/152 [08:36<00:34,  3.49s/it]"
     ]
    },
    {
     "name": "stdout",
     "output_type": "stream",
     "text": [
      "\n",
      "MXIM\n",
      "[*********************100%***********************]  1 of 1 completed"
     ]
    },
    {
     "name": "stderr",
     "output_type": "stream",
     "text": [
      " 94%|█████████▍| 143/152 [08:37<00:23,  2.59s/it]"
     ]
    },
    {
     "name": "stdout",
     "output_type": "stream",
     "text": [
      "\n",
      "\n",
      "1 Failed download:\n",
      "- MXIM: No data found, symbol may be delisted\n",
      "CDW\n",
      "[*********************100%***********************]  1 of 1 completed\n",
      "[*********************100%***********************]  1 of 1 completed"
     ]
    },
    {
     "name": "stderr",
     "output_type": "stream",
     "text": [
      " 95%|█████████▍| 144/152 [08:41<00:23,  2.99s/it]"
     ]
    },
    {
     "name": "stdout",
     "output_type": "stream",
     "text": [
      "\n",
      "VRSN\n",
      "[*********************100%***********************]  1 of 1 completed\n",
      "[*********************100%***********************]  1 of 1 completed"
     ]
    },
    {
     "name": "stderr",
     "output_type": "stream",
     "text": [
      " 95%|█████████▌| 145/152 [08:44<00:21,  3.02s/it]"
     ]
    },
    {
     "name": "stdout",
     "output_type": "stream",
     "text": [
      "\n",
      "SPLK\n",
      "[*********************100%***********************]  1 of 1 completed\n",
      "[*********************100%***********************]  1 of 1 completed"
     ]
    },
    {
     "name": "stderr",
     "output_type": "stream",
     "text": [
      " 96%|█████████▌| 146/152 [08:47<00:18,  3.04s/it]"
     ]
    },
    {
     "name": "stdout",
     "output_type": "stream",
     "text": [
      "\n",
      "CERN\n",
      "[*********************100%***********************]  1 of 1 completed\n",
      "[*********************100%***********************]  1 of 1 completed"
     ]
    },
    {
     "name": "stderr",
     "output_type": "stream",
     "text": [
      " 97%|█████████▋| 147/152 [08:50<00:15,  3.15s/it]"
     ]
    },
    {
     "name": "stdout",
     "output_type": "stream",
     "text": [
      "\n",
      "TCOM\n",
      "[*********************100%***********************]  1 of 1 completed\n",
      "[*********************100%***********************]  1 of 1 completed"
     ]
    },
    {
     "name": "stderr",
     "output_type": "stream",
     "text": [
      " 97%|█████████▋| 148/152 [08:54<00:13,  3.25s/it]"
     ]
    },
    {
     "name": "stdout",
     "output_type": "stream",
     "text": [
      "\n",
      "INCY\n",
      "[*********************100%***********************]  1 of 1 completed\n",
      "[*********************100%***********************]  1 of 1 completed"
     ]
    },
    {
     "name": "stderr",
     "output_type": "stream",
     "text": [
      " 98%|█████████▊| 149/152 [08:57<00:09,  3.22s/it]"
     ]
    },
    {
     "name": "stdout",
     "output_type": "stream",
     "text": [
      "\n",
      "CHKP\n",
      "[*********************100%***********************]  1 of 1 completed\n",
      "[*********************100%***********************]  1 of 1 completed"
     ]
    },
    {
     "name": "stderr",
     "output_type": "stream",
     "text": [
      " 99%|█████████▊| 150/152 [09:01<00:06,  3.37s/it]"
     ]
    },
    {
     "name": "stdout",
     "output_type": "stream",
     "text": [
      "\n",
      "FOXA\n",
      "[*********************100%***********************]  1 of 1 completed\n",
      "[*********************100%***********************]  1 of 1 completed"
     ]
    },
    {
     "name": "stderr",
     "output_type": "stream",
     "text": [
      " 99%|█████████▉| 151/152 [09:04<00:03,  3.17s/it]"
     ]
    },
    {
     "name": "stdout",
     "output_type": "stream",
     "text": [
      "\n",
      "FOX\n",
      "[*********************100%***********************]  1 of 1 completed\n",
      "[*********************100%***********************]  1 of 1 completed"
     ]
    },
    {
     "name": "stderr",
     "output_type": "stream",
     "text": [
      "100%|██████████| 152/152 [09:06<00:00,  3.60s/it]"
     ]
    },
    {
     "name": "stdout",
     "output_type": "stream",
     "text": [
      "\n",
      "['EURUSD=X', 'EURGBP=X', 'EURCHF=X', 'EURCAD=X', 'EURCNY=X', 'EURJPY=X', 'EURSEK=X', 'EURHUF=X', 'GBPUSD=X', 'GBPCNY=X', 'GBPJPY=X', 'USDCHF=X', 'USDCAD=X', 'USDCNY=X', 'USDHKD=X', 'USDSGD=X', 'USDINR=X', 'USDMXN=X', 'USDPHP=X', 'USDTHB=X', 'USDMYR=X', 'USDZAR=X', 'USDJPY=X', 'AUDJPY=X', 'NZDUSD=X', 'BTC-USD', 'ETH-USD', 'BNB-USD', 'USDT-USD', 'XRP-USD', 'ADA-USD', 'DOGE-USD', 'DOT1-USD', 'UNI3-USD', 'LTC-USD', 'BCH-USD', 'LINK-USD', 'VET-USD', 'USDC-USD', 'SOL1-USD', 'XLM-USD', 'FIL-USD', 'THETA-USD', 'TRX-USD', 'XMR-USD', 'LUNA1-USD', 'NEO-USD', 'EOS-USD', 'MIOTA-USD', 'BSV-USD', 'AAPL', 'MSFT', 'AMZN', 'TSLA', 'FB', 'GOOG', 'GOOGL', 'NVDA', 'PYPL', 'INTC', 'CMCSA', 'NFLX', 'ADBE', 'CSCO', 'PEP', 'AVGO', 'TXN', 'TMUS', 'COST', 'QCOM', 'AMGN', 'SBUX', 'AMAT', 'CHTR', 'INTU', 'MU', 'BKNG', 'AMD', 'LRCX', 'ISRG', 'MDLZ', 'GILD', 'FISV', 'ADP', 'ZM', 'MELI', 'ATVI', 'CSX', 'JD', 'ADSK', 'BIDU', 'ILMN', 'ADI', 'NXPI', 'VRTX', 'KLAC', 'MRNA', 'PDD', 'REGN', 'KHC', 'MNST', 'KDP', 'MAR', 'ASML', 'WBA', 'WDAY', 'ROST', 'ALGN', 'EXC', 'MCHP', 'AEP', 'EBAY', 'CTSH', 'IDXX', 'BIIB', 'EA', 'CDNS', 'SNPS', 'LULU', 'MTCH', 'DOCU', 'XEL', 'CTAS', 'ORLY', 'DXCM', 'PAYX', 'MRVL', 'PCAR', 'NTES', 'XLNX', 'SWKS', 'ANSS', 'PTON', 'TEAM', 'VRSK', 'FAST', 'OKTA', 'DLTR', 'CPRT', 'SGEN', 'SIRI', 'CDW', 'VRSN', 'SPLK', 'CERN', 'TCOM', 'INCY', 'CHKP', 'FOXA', 'FOX'] [[0.438500205449099, 0.11693280083505869, 0.1275163788150587, -0.025937316646170293], [0.5142147176868832, 0.08266476978771353, -0.033917380649979186, -0.026767627017257205], [0.5409694253916038, 0.07864857112476085, 0.09529125686322636, -0.009351729682155429], [0.4533877713873647, 0.09213725856311732, -0.08586750028552327, -0.022970463926658188], [0.4596572984952928, 0.13026940339449983, 0.0702520711707958, -0.11829891685202126], [0.4959600165154223, 0.11561997933344419, 0.22016248939002475, -0.007186079888700641], [0.5028859778472569, 0.0697734666319427, -0.11223509865390084, -0.030814115429624186], [0.4703083598818777, 0.08734371954321077, -0.15698574448949082, -0.014108051178864326], [0.515398794382796, 0.09411576178677286, 0.11376501841195207, -0.026501262512683782], [0.48878985488371074, 0.13940933074907094, 0.08664203623178304, -0.14662859554588267], [0.547082174073378, 0.1267173739835554, 0.25508419547854766, 0.022010246872901422], [0.49245421241688486, 0.10862473636535828, -0.00029234730675266503, -0.02152182360841046], [0.5103583363174584, 0.08996288221115364, -0.1812752420384065, -0.02610643508858432], [0.6434439872922673, 0.04161436536919711, 0.005248202841772844, -0.00012321626395469628], [0.3939765756779614, 0.010854099959091323, 0.0001928971238001685, -0.0034311332390400233], [0.5509667654827626, 0.05230577273291372, -0.06927286630753063, 0.004261932033202073], [0.5782537548148811, 0.07984890078381847, -0.032843806475811956, -0.024278474995397262], [0.5500176863087642, 0.12540562013766965, -0.4198445628989393, -0.026996264153045894], [0.519566168210926, 0.08242249719395428, -0.028873407561290736, -0.0518357263972037], [0.4796002168435825, 0.10575356263906845, -0.016733573380798387, -0.132977776846314], [0.49776759050579383, 0.09510913038836204, -0.11287441606054369, -0.04970057929746464], [0.5562238993815417, 0.1739634547209871, -0.35491086648067727, -0.010230435478962865], [0.4839132184593809, 0.11753054720867563, 0.15672886138729455, -0.024424075658344528], [0.4596111998397261, 0.15900118718661574, 0.47421640662999354, 0.015272124527847868], [0.46406317720506923, 0.1266957366688456, 0.2849513474408464, -0.004397617092523777], [0.5638350958484357, 0.6194904412157455, 0.7474988014564635, 0.48152856330847216], [0.5524756812159536, 1.011396426999022, 1.2293038906107998, 0.5441705550677072], [0.5214176542953106, 1.224400116615772, 1.670864394907172, 0.6737501252760968], [0.4922845825790296, 0.2722483501737213, -0.1268387348577027, -0.1150033410043289], [0.5402352448222619, 1.2064472149592234, 0.9987961070130897, 1.0789280276443012], [0.5461773049216818, 1.2818086626161145, 2.0267276056420576, 0.8631542238040715], [0.5414782664356087, 1.4412916825929998, 0.645514181347965, 0.7186088111911061], [0.5372575286201864, 1.2757014603130141, 1.8831873745793488, 0.4010597195086818], [0.47253277080443273, 8.391750959391842, 2.2019959216713794, 0.36821700087122844], [0.5197452991135366, 0.9265057808929205, 0.9569854376114437, 0.250408310291529], [0.5107854923410464, 1.1860980537677235, 1.4371320507596175, 0.7973489660695198], [0.5011011001677843, 1.2459041896426608, 2.1035102807803816, 0.6227021549960927], [0.5476868757164318, 1.1118302613058657, 2.4334001100778364, 0.4637309902022284], [0.3978290736619437, 0.06946036814223061, -0.11990754567602482, -0.13942898978253024], [0.56059284067623, 1.5102455420347403, 1.8590947127497253, -0.010175731518998771], [0.5019832196646452, 1.2658834788303992, 1.1380114668575745, 0.7086218326363836], [0.4869081935455175, 2.6055244195340146, 0.6460348899612711, -1.2369641538146203], [0.5454104365764737, 1.259838867178563, 2.2031714471679815, -0.4891135974547646], [0.4954699315173211, 1.45552385154426, 1.6213917831846252, 0.7638262869440233], [0.5020681834668407, 1.036486800177479, 1.0018483301495438, 0.41173640781897247], [0.6104507434769099, 1.410941673979683, 2.4836772943522023, 0.8310383334314865], [0.5243276190111597, 1.3858836070246898, 1.3786757438471413, 0.7392673699480198], [0.48932893192918875, 1.3448854658519358, 1.4253491771925224, 0.2543469049448959], [0.5079773609721152, 1.1628883017172904, 1.8922096002925852, 0.4267672672535539], [0.4134367849960334, 1.4539676945671725, 2.267035840267855, 0.25966953690225], [0.5820067626461521, 0.45109567023004005, 1.5882204759639644, 0.08645811169663803], [0.595362231907932, 0.3383423103775621, 1.6191431551652473, -0.009013985191632956], [0.5835207546269188, 0.5776000493123564, 2.0384146069444298, 0.12594526488340774], [0.5841043977390399, 0.5617499480523073, 1.5324877708204836, 0.06259527652552539], [0.5957991321396999, 0.36702155432605665, 1.200096968275768, -3.64655246405873e-05], [0.6099097871678465, 0.30241934870850046, 1.481823194815809, 0.08540116469105971], [0.6102143480976083, 0.3023064980163424, 1.4838763310203082, 0.09953396050673813], [0.5659170041178548, 0.6059257176945295, 2.4433162181020625, 0.20592152216652282], [0.6172829709678174, 0.3464076999668337, 1.7086579012240888, 0.02756910904505489], [0.5150937581431946, 0.39812736576688157, 1.7436702994422306, 0.0033679934676972547], [0.5680884812025617, 0.35824709582324354, 1.3472887527027908, -0.007196372830090752], [0.5751315130304219, 0.5642042130161925, 1.4903878971232518, 0.0008501802190409974], [0.5311699111746316, 0.4914411705280214, 1.8410380331022136, -0.0037544213454950427], [0.5276467664919511, 0.40585934864617945, 1.7957349400781768, -0.015221321033548011], [0.5901112426468449, 0.24603610238538753, 0.8982031483152279, -0.0403965871320364], [0.6281305002558026, 0.3528636053067924, 1.5209126633202534, -0.06962674038623769], [0.5248782585686376, 0.37965242151045, 1.5457674355754671, 0.04161063228929587], [0.5637563983305892, 0.4351385239197999, 1.7217723437040169, -0.05907243157946457], [0.5794152445873811, 0.318550474482045, 1.1999652705662145, -0.04001748675804755], [0.5243007221737929, 0.49336079277923944, 1.7662782474142094, 0.05539252652903649], [0.5403647859284635, 0.38737408031017545, 1.2323936975551968, -0.031068554677139527], [0.6159116703897021, 0.3806816548987197, 1.4528739620329505, -0.04224491430156471], [0.5345868236814078, 0.4834569081754587, 1.8466664768798342, 0.03212874776701168], [0.6502272985854606, 0.27605448929544124, 0.9469750807483283, 0.03996634416710449], [0.6021681958364136, 0.4670249948796982, 1.6685018039387083, -0.12189784851398748], [0.5058686040863062, 0.6119933703680953, 2.135131634781765, 0.12093365160602247], [0.5360259181564657, 0.6374613268842373, 2.0235302246308042, 0.03280147419060657], [0.4917671139250924, 0.5953542723657376, 2.030165371719071, 0.19817969036767957], [0.5220147416594346, 0.5650554319851772, 1.9458828958264418, -0.0798236378228297], [0.5827767073444484, 0.5045217599991292, 1.6435421043971035, 0.11247839472773948], [0.560009953895733, 0.2149543496228936, 0.9271832282007828, -0.049116365200722274], [0.5817875776874917, 0.48768794169768703, 1.283123401300813, -0.11730366494263782], [0.5624692477871729, 0.3356835736237018, 1.2736127142570288, -0.16127583399879625], [0.6132262583245365, 0.26333849254199443, 1.189181944693244, -0.048389999801554076], [0.574865638761775, 0.6856278547376764, 0.22372957884859004, 0.3413219097737211], [0.5743130810803122, 0.5565077657486481, 2.5286236750845412, 0.19913842031207882], [0.5787623061025537, 0.5298771939944297, 1.3282563982473916, -0.24935172398934902], [0.565495930651087, 0.3094915580333216, 1.3560572288270862, -0.02711237894140961], [0.5451320227579013, 0.4303673874239285, 1.3588817152182253, -0.054616531285229086], [0.5410458441613767, 0.4625076085176085, 1.7293840719009743, 0.050999861433781775], [0.5262459819630935, 0.4992087769605632, 1.8551644682762092, 0.08953690037136373], [0.5486664386652054, 0.580906509312484, 1.7348763247898247, 0.09001654824905302], [0.5368719497050697, 0.44194357412582624, 1.6221305430612172, -0.06600988676767743], [0.5685805651513794, 0.43267334684043596, 1.804541683345345, -0.0998318363065013], [0.49727899835319306, 0.5767734842628708, 1.5398976203216526, -0.03400328977894377], [0.5396154739048431, 0.5157798910041058, 1.7832931598921489, -0.04259649687590227], [0.5815070080550837, 0.8272217564889907, 0.4385949851418902, 0.3332198157674708], [0.5922314115162688, 0.7190574917135326, 1.7083460187764414, 0.1364027680836709], [0.5528741995334236, 0.6631949249010676, 1.5825644790480742, -0.05248969885951626], [0.5884850895500595, 0.2937388877266663, 1.1426179617923427, -0.06503900910343921], [0.5687740868540238, 0.810701643014759, 0.7357230723408763, -0.5564679232760903], [0.6407108640204171, 0.260914859551204, 1.0398845893920756, -0.01004486785587437], [0.5433077660739473, 0.3493003569074332, 1.7571231320028768, -0.009597126674670175], [0.5830218894364709, 0.49301892265134467, 2.2309655082065922, 0.10184957220185487], [0.5501666503299565, 0.287422255733809, 1.037198513276335, -0.019203183121029355], [0.5408359087821167, 0.38379489891435326, 1.3580778545083694, -0.08266171889282257], [0.5562671190976869, 0.4225784415522423, 1.2501531875496183, 0.016899016641807617], [0.5494402785732154, 0.6105224248857609, 1.8913406078092496, 0.1722740252590008], [0.563031379737558, 0.23764752675159023, 0.7594706710082986, -0.01463297088864253], [0.546560928129381, 0.4827394832688482, 1.8555046131772757, -0.12911136328643014], [0.5749956475362333, 0.20783899833947683, 0.642317654068501, 0.03596754131716332], [0.5539364414686365, 0.5144437333689622, 1.921874477050251, 0.06973730512929008], [0.5632955717955213, 0.48932573462990003, 1.9790638649957817, -0.03186884607641254], [0.5924843157808396, 0.40105753495949886, 1.1131286772868874, -0.04511776715863365], [0.5429602119292689, 0.5838554307575043, 1.4528277021793565, -0.12486920562818074], [0.521470250432363, 0.48403001654644556, 1.5033776326377255, -0.20529770115709736], [0.5256659279176771, 0.4759614709807191, 1.6599841687685608, 0.04231170152825687], [0.5364691897420273, 0.40094562667151024, 1.385265126580179, -0.11000891336519894], [0.6017707981037649, 0.5053923009949514, 2.152931844328954, 0.04785164687593332], [0.5651154821182468, 0.5008307291584987, 1.4355236167727978, -0.08268209564946491], [0.6041890902600825, 0.5678994429568954, 1.661474127325149, -0.020273141516869812], [0.5943191105607724, 0.22278047089102745, 0.670990121900769, 0.007030726640654975], [0.575142610207296, 0.30486359179534617, 1.1729644008075824, -0.0935573925576042], [0.6377539007086205, 0.34043183981310776, 1.1306950121617914, -0.017890871405930944], [0.5695655533600504, 0.5612348801977654, 1.8089507880701277, 0.08684078599110817], [0.5808366774152861, 0.34630882696589693, 1.18918787086702, -0.03014850765070078], [0.5455553994037834, 0.5468449650861492, 2.088752765850029, 0.05675727871047759], [0.5450988322294462, 0.326973162434822, 1.401013123538279, -0.008757191830467187], [0.546365821446166, 0.583101355977351, 1.4483144268133985, 0.08636427962609776], [0.5282429522243882, 0.4975373400615857, 1.882435721602742, -0.16056856896095784], [0.5039846954401378, 0.6506580934287316, 1.8254482194982404, -0.13618968894108274], [0.6000154261798489, 0.4214965613665925, 1.4503685751706243, -0.10344081924254778], [0.607465276103242, 0.7464423633516061, 0.7772239184256251, 0.4463064586066327], [0.6305625325310825, 0.4508679887571262, 1.2375257968399722, -0.07280830310839195], [0.6049237862415064, 0.21846143843856283, 0.91390438370326, -0.05574027512781399], [0.5670935619872781, 0.3657343024190258, 1.394539245513615, 0.018285812822608376], [0.6007636637068147, 0.4877702744464307, 1.6012118850238182, 0.06126394377229593], [0.5522773134987313, 0.41760246863853445, 1.25345142264658, -0.05348279378797442], [0.6008036239830628, 0.3871297109852371, 1.112200519646761, -0.0030903170007615982], [0.5548743444251449, 0.5353918728956434, 1.667649138482322, -0.08540465323741366], [0.5146217390381664, 0.8156258282931748, 1.578802813994931, 0.030774996357254163], [0.6213128730463617, 0.2825200423838204, 1.3078684773427807, -0.004889948536060084], [0.4981453331019278, 0.5652561854497468, 2.231041137375308, 0.10784303423535196], [0.511052345942626, 0.4590669470321079, 1.58044185746179, -0.09158124217035556], [0.5513243636927299, 0.4790178784459379, 1.1326345982189805, -0.06804334219038424], [0.5257059627986208, 0.5058349913107617, 1.6994111921273798, 0.03489604710062362], [0.5074946945390275, 0.6581307599224124, 1.9568617130837136, 0.13834107227728432], [0.48769620436660727, 0.520497111073908, 1.7577009950193223, -0.030784440451921913], [0.5202031514458014, 0.38588155423413184, 1.8787447941701154, -0.08553977134516415], [0.5076935468939486, 0.373560905458355, 1.9362973807530521, -0.10574489659862478]]\n"
     ]
    },
    {
     "name": "stderr",
     "output_type": "stream",
     "text": [
      "\n"
     ]
    },
    {
     "data": {
      "text/plain": "             Hurst  Volatility      Beta       RSI\nEURUSD=X  0.438500    0.116933  0.127516 -0.025937\nEURGBP=X  0.514215    0.082665 -0.033917 -0.026768\nEURCHF=X  0.540969    0.078649  0.095291 -0.009352\nEURCAD=X  0.453388    0.092137 -0.085868 -0.022970\nEURCNY=X  0.459657    0.130269  0.070252 -0.118299\n...            ...         ...       ...       ...\nTCOM      0.525706    0.505835  1.699411  0.034896\nINCY      0.507495    0.658131  1.956862  0.138341\nCHKP      0.487696    0.520497  1.757701 -0.030784\nFOXA      0.520203    0.385882  1.878745 -0.085540\nFOX       0.507694    0.373561  1.936297 -0.105745\n\n[150 rows x 4 columns]",
      "text/html": "<div>\n<style scoped>\n    .dataframe tbody tr th:only-of-type {\n        vertical-align: middle;\n    }\n\n    .dataframe tbody tr th {\n        vertical-align: top;\n    }\n\n    .dataframe thead th {\n        text-align: right;\n    }\n</style>\n<table border=\"1\" class=\"dataframe\">\n  <thead>\n    <tr style=\"text-align: right;\">\n      <th></th>\n      <th>Hurst</th>\n      <th>Volatility</th>\n      <th>Beta</th>\n      <th>RSI</th>\n    </tr>\n  </thead>\n  <tbody>\n    <tr>\n      <th>EURUSD=X</th>\n      <td>0.438500</td>\n      <td>0.116933</td>\n      <td>0.127516</td>\n      <td>-0.025937</td>\n    </tr>\n    <tr>\n      <th>EURGBP=X</th>\n      <td>0.514215</td>\n      <td>0.082665</td>\n      <td>-0.033917</td>\n      <td>-0.026768</td>\n    </tr>\n    <tr>\n      <th>EURCHF=X</th>\n      <td>0.540969</td>\n      <td>0.078649</td>\n      <td>0.095291</td>\n      <td>-0.009352</td>\n    </tr>\n    <tr>\n      <th>EURCAD=X</th>\n      <td>0.453388</td>\n      <td>0.092137</td>\n      <td>-0.085868</td>\n      <td>-0.022970</td>\n    </tr>\n    <tr>\n      <th>EURCNY=X</th>\n      <td>0.459657</td>\n      <td>0.130269</td>\n      <td>0.070252</td>\n      <td>-0.118299</td>\n    </tr>\n    <tr>\n      <th>...</th>\n      <td>...</td>\n      <td>...</td>\n      <td>...</td>\n      <td>...</td>\n    </tr>\n    <tr>\n      <th>TCOM</th>\n      <td>0.525706</td>\n      <td>0.505835</td>\n      <td>1.699411</td>\n      <td>0.034896</td>\n    </tr>\n    <tr>\n      <th>INCY</th>\n      <td>0.507495</td>\n      <td>0.658131</td>\n      <td>1.956862</td>\n      <td>0.138341</td>\n    </tr>\n    <tr>\n      <th>CHKP</th>\n      <td>0.487696</td>\n      <td>0.520497</td>\n      <td>1.757701</td>\n      <td>-0.030784</td>\n    </tr>\n    <tr>\n      <th>FOXA</th>\n      <td>0.520203</td>\n      <td>0.385882</td>\n      <td>1.878745</td>\n      <td>-0.085540</td>\n    </tr>\n    <tr>\n      <th>FOX</th>\n      <td>0.507694</td>\n      <td>0.373561</td>\n      <td>1.936297</td>\n      <td>-0.105745</td>\n    </tr>\n  </tbody>\n</table>\n<p>150 rows × 4 columns</p>\n</div>"
     },
     "execution_count": 11,
     "metadata": {},
     "output_type": "execute_result"
    }
   ],
   "source": [
    "# using Names CSV file find the best asset\n",
    "asset = pd.read_csv('Names.csv')['Symbol']\n",
    "\n",
    "# Initialize the list\n",
    "Statistics = []\n",
    "col = []\n",
    "\n",
    "for fin in tqdm(asset):\n",
    "\t# check using yfinance\n",
    "\ttry:\n",
    "\t\tprint(fin)\n",
    "\n",
    "\t\t# Download the data of fin\n",
    "\t\tdataa = yf.download(fin).dropna()\n",
    "\t\t# Create a list of the statistics\n",
    "\t\tstatistics = list()\n",
    "\t\tstatistics.append(compute_Hc(dataa['Adj Close'])[0])  # Hurst Exponent\n",
    "\t\tstatistics.append(np.sqrt(252) * dataa['Adj Close'].pct_change(1).dropna().std())  # volatility\n",
    "\n",
    "\t\tstatistics.append(beta_function(dataa[\"Adj Close\"].pct_change(1).dropna()))  # beta\n",
    "\n",
    "\t\tstatistics.append(rsi(dataa, 5, 14).mean() * 252)  # RSI\n",
    "\t\tStatistics.append(statistics)\n",
    "\t\tcol.append(fin)\n",
    "\texcept Exception as e:\n",
    "\t\tpass\n",
    "\n",
    "# Create dataframe with all statistics\n",
    "dataframe = pd.DataFrame(Statistics, columns=['Hurst', 'Volatility', 'Beta', 'RSI'], index=col)\n",
    "print(col, Statistics)\n",
    "dataframe\n"
   ]
  },
  {
   "cell_type": "code",
   "execution_count": 12,
   "metadata": {
    "collapsed": false,
    "pycharm": {
     "name": "#%%\n"
    }
   },
   "outputs": [
    {
     "data": {
      "text/plain": "             dummy\nSymbol            \nEURUSD=X  Currency\nEURGBP=X  Currency\nEURCHF=X  Currency\nEURCAD=X  Currency\nEURCNY=X  Currency\n...            ...\nTCOM         Asset\nINCY         Asset\nCHKP         Asset\nFOXA         Asset\nFOX          Asset\n\n[152 rows x 1 columns]",
      "text/html": "<div>\n<style scoped>\n    .dataframe tbody tr th:only-of-type {\n        vertical-align: middle;\n    }\n\n    .dataframe tbody tr th {\n        vertical-align: top;\n    }\n\n    .dataframe thead th {\n        text-align: right;\n    }\n</style>\n<table border=\"1\" class=\"dataframe\">\n  <thead>\n    <tr style=\"text-align: right;\">\n      <th></th>\n      <th>dummy</th>\n    </tr>\n    <tr>\n      <th>Symbol</th>\n      <th></th>\n    </tr>\n  </thead>\n  <tbody>\n    <tr>\n      <th>EURUSD=X</th>\n      <td>Currency</td>\n    </tr>\n    <tr>\n      <th>EURGBP=X</th>\n      <td>Currency</td>\n    </tr>\n    <tr>\n      <th>EURCHF=X</th>\n      <td>Currency</td>\n    </tr>\n    <tr>\n      <th>EURCAD=X</th>\n      <td>Currency</td>\n    </tr>\n    <tr>\n      <th>EURCNY=X</th>\n      <td>Currency</td>\n    </tr>\n    <tr>\n      <th>...</th>\n      <td>...</td>\n    </tr>\n    <tr>\n      <th>TCOM</th>\n      <td>Asset</td>\n    </tr>\n    <tr>\n      <th>INCY</th>\n      <td>Asset</td>\n    </tr>\n    <tr>\n      <th>CHKP</th>\n      <td>Asset</td>\n    </tr>\n    <tr>\n      <th>FOXA</th>\n      <td>Asset</td>\n    </tr>\n    <tr>\n      <th>FOX</th>\n      <td>Asset</td>\n    </tr>\n  </tbody>\n</table>\n<p>152 rows × 1 columns</p>\n</div>"
     },
     "execution_count": 12,
     "metadata": {},
     "output_type": "execute_result"
    }
   ],
   "source": [
    "# Extract the class of the asset\n",
    "cluster = pd.read_csv('Names.csv',index_col='Symbol')\n",
    "del cluster['Unnamed: 0']\n",
    "cluster"
   ]
  },
  {
   "cell_type": "code",
   "execution_count": 13,
   "metadata": {
    "collapsed": false,
    "pycharm": {
     "name": "#%%\n"
    }
   },
   "outputs": [
    {
     "data": {
      "text/plain": "             dummy     Hurst  Volatility      Beta       RSI\nEURUSD=X  Currency  0.438500    0.116933  0.127516 -0.025937\nEURGBP=X  Currency  0.514215    0.082665 -0.033917 -0.026768\nEURCHF=X  Currency  0.540969    0.078649  0.095291 -0.009352\nEURCAD=X  Currency  0.453388    0.092137 -0.085868 -0.022970\nEURCNY=X  Currency  0.459657    0.130269  0.070252 -0.118299\n...            ...       ...         ...       ...       ...\nTCOM         Asset  0.525706    0.505835  1.699411  0.034896\nINCY         Asset  0.507495    0.658131  1.956862  0.138341\nCHKP         Asset  0.487696    0.520497  1.757701 -0.030784\nFOXA         Asset  0.520203    0.385882  1.878745 -0.085540\nFOX          Asset  0.507694    0.373561  1.936297 -0.105745\n\n[150 rows x 5 columns]",
      "text/html": "<div>\n<style scoped>\n    .dataframe tbody tr th:only-of-type {\n        vertical-align: middle;\n    }\n\n    .dataframe tbody tr th {\n        vertical-align: top;\n    }\n\n    .dataframe thead th {\n        text-align: right;\n    }\n</style>\n<table border=\"1\" class=\"dataframe\">\n  <thead>\n    <tr style=\"text-align: right;\">\n      <th></th>\n      <th>dummy</th>\n      <th>Hurst</th>\n      <th>Volatility</th>\n      <th>Beta</th>\n      <th>RSI</th>\n    </tr>\n  </thead>\n  <tbody>\n    <tr>\n      <th>EURUSD=X</th>\n      <td>Currency</td>\n      <td>0.438500</td>\n      <td>0.116933</td>\n      <td>0.127516</td>\n      <td>-0.025937</td>\n    </tr>\n    <tr>\n      <th>EURGBP=X</th>\n      <td>Currency</td>\n      <td>0.514215</td>\n      <td>0.082665</td>\n      <td>-0.033917</td>\n      <td>-0.026768</td>\n    </tr>\n    <tr>\n      <th>EURCHF=X</th>\n      <td>Currency</td>\n      <td>0.540969</td>\n      <td>0.078649</td>\n      <td>0.095291</td>\n      <td>-0.009352</td>\n    </tr>\n    <tr>\n      <th>EURCAD=X</th>\n      <td>Currency</td>\n      <td>0.453388</td>\n      <td>0.092137</td>\n      <td>-0.085868</td>\n      <td>-0.022970</td>\n    </tr>\n    <tr>\n      <th>EURCNY=X</th>\n      <td>Currency</td>\n      <td>0.459657</td>\n      <td>0.130269</td>\n      <td>0.070252</td>\n      <td>-0.118299</td>\n    </tr>\n    <tr>\n      <th>...</th>\n      <td>...</td>\n      <td>...</td>\n      <td>...</td>\n      <td>...</td>\n      <td>...</td>\n    </tr>\n    <tr>\n      <th>TCOM</th>\n      <td>Asset</td>\n      <td>0.525706</td>\n      <td>0.505835</td>\n      <td>1.699411</td>\n      <td>0.034896</td>\n    </tr>\n    <tr>\n      <th>INCY</th>\n      <td>Asset</td>\n      <td>0.507495</td>\n      <td>0.658131</td>\n      <td>1.956862</td>\n      <td>0.138341</td>\n    </tr>\n    <tr>\n      <th>CHKP</th>\n      <td>Asset</td>\n      <td>0.487696</td>\n      <td>0.520497</td>\n      <td>1.757701</td>\n      <td>-0.030784</td>\n    </tr>\n    <tr>\n      <th>FOXA</th>\n      <td>Asset</td>\n      <td>0.520203</td>\n      <td>0.385882</td>\n      <td>1.878745</td>\n      <td>-0.085540</td>\n    </tr>\n    <tr>\n      <th>FOX</th>\n      <td>Asset</td>\n      <td>0.507694</td>\n      <td>0.373561</td>\n      <td>1.936297</td>\n      <td>-0.105745</td>\n    </tr>\n  </tbody>\n</table>\n<p>150 rows × 5 columns</p>\n</div>"
     },
     "execution_count": 13,
     "metadata": {},
     "output_type": "execute_result"
    }
   ],
   "source": [
    "# Concat the type of asset and the statistics\n",
    "dataframe = pd.concat([cluster,dataframe],axis=1).dropna()\n",
    "dataframe"
   ]
  },
  {
   "cell_type": "code",
   "execution_count": 14,
   "outputs": [
    {
     "data": {
      "text/plain": "<Figure size 441x360 with 1 Axes>",
      "image/png": "[encoded data removed]"
     },
     "metadata": {},
     "output_type": "display_data"
    }
   ],
   "source": [
    "# Plot density distribution of the assest returns\n",
    "# Plot the densities\n",
    "sns.displot(data=dataframe, x=\"RSI\",kind='kde', hue=\"dummy\")\n",
    "\n",
    "# limit the axis\n",
    "plt.xlim((-1.15,1.15))\n",
    "plt.show()"
   ],
   "metadata": {
    "collapsed": false,
    "pycharm": {
     "name": "#%%\n"
    }
   }
  },
  {
   "cell_type": "code",
   "execution_count": 15,
   "outputs": [
    {
     "data": {
      "text/plain": "           Hurst  Volatility       Beta        RSI\ncount  25.000000   25.000000  25.000000  25.000000\nmean    0.504295    0.100109   0.011365  -0.030522\nstd     0.051169    0.035844   0.192818   0.042271\nmin     0.393977    0.010854  -0.419845  -0.146629\n25%     0.470308    0.082422  -0.085868  -0.026996\n50%     0.497768    0.095109  -0.000292  -0.024278\n75%     0.540969    0.125406   0.113765  -0.007186\nmax     0.643444    0.173963   0.474216   0.022010",
      "text/html": "<div>\n<style scoped>\n    .dataframe tbody tr th:only-of-type {\n        vertical-align: middle;\n    }\n\n    .dataframe tbody tr th {\n        vertical-align: top;\n    }\n\n    .dataframe thead th {\n        text-align: right;\n    }\n</style>\n<table border=\"1\" class=\"dataframe\">\n  <thead>\n    <tr style=\"text-align: right;\">\n      <th></th>\n      <th>Hurst</th>\n      <th>Volatility</th>\n      <th>Beta</th>\n      <th>RSI</th>\n    </tr>\n  </thead>\n  <tbody>\n    <tr>\n      <th>count</th>\n      <td>25.000000</td>\n      <td>25.000000</td>\n      <td>25.000000</td>\n      <td>25.000000</td>\n    </tr>\n    <tr>\n      <th>mean</th>\n      <td>0.504295</td>\n      <td>0.100109</td>\n      <td>0.011365</td>\n      <td>-0.030522</td>\n    </tr>\n    <tr>\n      <th>std</th>\n      <td>0.051169</td>\n      <td>0.035844</td>\n      <td>0.192818</td>\n      <td>0.042271</td>\n    </tr>\n    <tr>\n      <th>min</th>\n      <td>0.393977</td>\n      <td>0.010854</td>\n      <td>-0.419845</td>\n      <td>-0.146629</td>\n    </tr>\n    <tr>\n      <th>25%</th>\n      <td>0.470308</td>\n      <td>0.082422</td>\n      <td>-0.085868</td>\n      <td>-0.026996</td>\n    </tr>\n    <tr>\n      <th>50%</th>\n      <td>0.497768</td>\n      <td>0.095109</td>\n      <td>-0.000292</td>\n      <td>-0.024278</td>\n    </tr>\n    <tr>\n      <th>75%</th>\n      <td>0.540969</td>\n      <td>0.125406</td>\n      <td>0.113765</td>\n      <td>-0.007186</td>\n    </tr>\n    <tr>\n      <th>max</th>\n      <td>0.643444</td>\n      <td>0.173963</td>\n      <td>0.474216</td>\n      <td>0.022010</td>\n    </tr>\n  </tbody>\n</table>\n</div>"
     },
     "execution_count": 15,
     "metadata": {},
     "output_type": "execute_result"
    }
   ],
   "source": [
    "# Describe the curreny\n",
    "dataframe.loc[dataframe[\"dummy\"] == 'Currency'].describe()"
   ],
   "metadata": {
    "collapsed": false,
    "pycharm": {
     "name": "#%%\n"
    }
   }
  },
  {
   "cell_type": "code",
   "execution_count": 16,
   "outputs": [
    {
     "data": {
      "text/plain": "           Hurst  Volatility       Beta        RSI\ncount  25.000000   25.000000  25.000000  25.000000\nmean    0.515312    1.486256   1.440187   0.386728\nstd     0.045054    1.509386   0.729137   0.494755\nmin     0.397829    0.069460  -0.126839  -1.236964\n25%     0.495470    1.111830   0.998796   0.254347\n50%     0.519745    1.259839   1.437132   0.463731\n75%     0.545410    1.410942   2.026728   0.718609\nmax     0.610451    8.391751   2.483677   1.078928",
      "text/html": "<div>\n<style scoped>\n    .dataframe tbody tr th:only-of-type {\n        vertical-align: middle;\n    }\n\n    .dataframe tbody tr th {\n        vertical-align: top;\n    }\n\n    .dataframe thead th {\n        text-align: right;\n    }\n</style>\n<table border=\"1\" class=\"dataframe\">\n  <thead>\n    <tr style=\"text-align: right;\">\n      <th></th>\n      <th>Hurst</th>\n      <th>Volatility</th>\n      <th>Beta</th>\n      <th>RSI</th>\n    </tr>\n  </thead>\n  <tbody>\n    <tr>\n      <th>count</th>\n      <td>25.000000</td>\n      <td>25.000000</td>\n      <td>25.000000</td>\n      <td>25.000000</td>\n    </tr>\n    <tr>\n      <th>mean</th>\n      <td>0.515312</td>\n      <td>1.486256</td>\n      <td>1.440187</td>\n      <td>0.386728</td>\n    </tr>\n    <tr>\n      <th>std</th>\n      <td>0.045054</td>\n      <td>1.509386</td>\n      <td>0.729137</td>\n      <td>0.494755</td>\n    </tr>\n    <tr>\n      <th>min</th>\n      <td>0.397829</td>\n      <td>0.069460</td>\n      <td>-0.126839</td>\n      <td>-1.236964</td>\n    </tr>\n    <tr>\n      <th>25%</th>\n      <td>0.495470</td>\n      <td>1.111830</td>\n      <td>0.998796</td>\n      <td>0.254347</td>\n    </tr>\n    <tr>\n      <th>50%</th>\n      <td>0.519745</td>\n      <td>1.259839</td>\n      <td>1.437132</td>\n      <td>0.463731</td>\n    </tr>\n    <tr>\n      <th>75%</th>\n      <td>0.545410</td>\n      <td>1.410942</td>\n      <td>2.026728</td>\n      <td>0.718609</td>\n    </tr>\n    <tr>\n      <th>max</th>\n      <td>0.610451</td>\n      <td>8.391751</td>\n      <td>2.483677</td>\n      <td>1.078928</td>\n    </tr>\n  </tbody>\n</table>\n</div>"
     },
     "execution_count": 16,
     "metadata": {},
     "output_type": "execute_result"
    }
   ],
   "source": [
    "# Describe the crypto\n",
    "dataframe.loc[dataframe[\"dummy\"] == 'Crypto'].describe()"
   ],
   "metadata": {
    "collapsed": false,
    "pycharm": {
     "name": "#%%\n"
    }
   }
  },
  {
   "cell_type": "code",
   "execution_count": 17,
   "outputs": [
    {
     "data": {
      "text/plain": "            Hurst  Volatility        Beta         RSI\ncount  100.000000  100.000000  100.000000  100.000000\nmean     0.562984    0.459591    1.512126   -0.001026\nstd      0.036391    0.137277    0.420539    0.121979\nmin      0.487696    0.207839    0.223730   -0.556468\n25%      0.536771    0.356901    1.246996   -0.065282\n50%      0.563526    0.464766    1.542833   -0.009821\n75%      0.588892    0.557690    1.797937    0.055734\nmax      0.650227    0.827222    2.528624    0.446306",
      "text/html": "<div>\n<style scoped>\n    .dataframe tbody tr th:only-of-type {\n        vertical-align: middle;\n    }\n\n    .dataframe tbody tr th {\n        vertical-align: top;\n    }\n\n    .dataframe thead th {\n        text-align: right;\n    }\n</style>\n<table border=\"1\" class=\"dataframe\">\n  <thead>\n    <tr style=\"text-align: right;\">\n      <th></th>\n      <th>Hurst</th>\n      <th>Volatility</th>\n      <th>Beta</th>\n      <th>RSI</th>\n    </tr>\n  </thead>\n  <tbody>\n    <tr>\n      <th>count</th>\n      <td>100.000000</td>\n      <td>100.000000</td>\n      <td>100.000000</td>\n      <td>100.000000</td>\n    </tr>\n    <tr>\n      <th>mean</th>\n      <td>0.562984</td>\n      <td>0.459591</td>\n      <td>1.512126</td>\n      <td>-0.001026</td>\n    </tr>\n    <tr>\n      <th>std</th>\n      <td>0.036391</td>\n      <td>0.137277</td>\n      <td>0.420539</td>\n      <td>0.121979</td>\n    </tr>\n    <tr>\n      <th>min</th>\n      <td>0.487696</td>\n      <td>0.207839</td>\n      <td>0.223730</td>\n      <td>-0.556468</td>\n    </tr>\n    <tr>\n      <th>25%</th>\n      <td>0.536771</td>\n      <td>0.356901</td>\n      <td>1.246996</td>\n      <td>-0.065282</td>\n    </tr>\n    <tr>\n      <th>50%</th>\n      <td>0.563526</td>\n      <td>0.464766</td>\n      <td>1.542833</td>\n      <td>-0.009821</td>\n    </tr>\n    <tr>\n      <th>75%</th>\n      <td>0.588892</td>\n      <td>0.557690</td>\n      <td>1.797937</td>\n      <td>0.055734</td>\n    </tr>\n    <tr>\n      <th>max</th>\n      <td>0.650227</td>\n      <td>0.827222</td>\n      <td>2.528624</td>\n      <td>0.446306</td>\n    </tr>\n  </tbody>\n</table>\n</div>"
     },
     "execution_count": 17,
     "metadata": {},
     "output_type": "execute_result"
    }
   ],
   "source": [
    "# Describe the assest\n",
    "dataframe.loc[dataframe[\"dummy\"] == 'Asset'].describe()"
   ],
   "metadata": {
    "collapsed": false,
    "pycharm": {
     "name": "#%%\n"
    }
   }
  },
  {
   "cell_type": "code",
   "execution_count": 18,
   "outputs": [
    {
     "data": {
      "text/plain": "            Hurst  Volatility        Beta         RSI\ncount  150.000000  150.000000  150.000000  150.000000\nmean     0.545257    0.570788    1.250009    0.058683\nstd      0.047660    0.752184    0.720229    0.267181\nmin      0.393977    0.010854   -0.419845   -1.236964\n25%      0.514740    0.289001    0.902128   -0.052326\n50%      0.546463    0.455081    1.430436   -0.008886\n75%      0.578635    0.583667    1.764134    0.086745\nmax      0.650227    8.391751    2.528624    1.078928",
      "text/html": "<div>\n<style scoped>\n    .dataframe tbody tr th:only-of-type {\n        vertical-align: middle;\n    }\n\n    .dataframe tbody tr th {\n        vertical-align: top;\n    }\n\n    .dataframe thead th {\n        text-align: right;\n    }\n</style>\n<table border=\"1\" class=\"dataframe\">\n  <thead>\n    <tr style=\"text-align: right;\">\n      <th></th>\n      <th>Hurst</th>\n      <th>Volatility</th>\n      <th>Beta</th>\n      <th>RSI</th>\n    </tr>\n  </thead>\n  <tbody>\n    <tr>\n      <th>count</th>\n      <td>150.000000</td>\n      <td>150.000000</td>\n      <td>150.000000</td>\n      <td>150.000000</td>\n    </tr>\n    <tr>\n      <th>mean</th>\n      <td>0.545257</td>\n      <td>0.570788</td>\n      <td>1.250009</td>\n      <td>0.058683</td>\n    </tr>\n    <tr>\n      <th>std</th>\n      <td>0.047660</td>\n      <td>0.752184</td>\n      <td>0.720229</td>\n      <td>0.267181</td>\n    </tr>\n    <tr>\n      <th>min</th>\n      <td>0.393977</td>\n      <td>0.010854</td>\n      <td>-0.419845</td>\n      <td>-1.236964</td>\n    </tr>\n    <tr>\n      <th>25%</th>\n      <td>0.514740</td>\n      <td>0.289001</td>\n      <td>0.902128</td>\n      <td>-0.052326</td>\n    </tr>\n    <tr>\n      <th>50%</th>\n      <td>0.546463</td>\n      <td>0.455081</td>\n      <td>1.430436</td>\n      <td>-0.008886</td>\n    </tr>\n    <tr>\n      <th>75%</th>\n      <td>0.578635</td>\n      <td>0.583667</td>\n      <td>1.764134</td>\n      <td>0.086745</td>\n    </tr>\n    <tr>\n      <th>max</th>\n      <td>0.650227</td>\n      <td>8.391751</td>\n      <td>2.528624</td>\n      <td>1.078928</td>\n    </tr>\n  </tbody>\n</table>\n</div>"
     },
     "execution_count": 18,
     "metadata": {},
     "output_type": "execute_result"
    }
   ],
   "source": [
    "dataframe.describe()"
   ],
   "metadata": {
    "collapsed": false,
    "pycharm": {
     "name": "#%%\n"
    }
   }
  },
  {
   "cell_type": "code",
   "execution_count": 19,
   "outputs": [
    {
     "data": {
      "text/plain": "<Figure size 419.125x360 with 1 Axes>",
      "image/png": "[encoded data removed]"
     },
     "metadata": {},
     "output_type": "display_data"
    }
   ],
   "source": [
    "# We are going to plot density of startegy returns by Hurst\n",
    "dataframe['Hurst_den'] = \"Low\"\n",
    "dataframe.loc[dataframe['Hurst']>0.55, 'Hurst_den'] = \"High\"\n",
    "\n",
    "# Plot the density\n",
    "sns.displot(data=dataframe, x=\"RSI\", kind='kde', hue=\"Hurst_den\")\n",
    "# limit and plot the graph\n",
    "plt.xlim(-1.15,1.15)\n",
    "plt.show()"
   ],
   "metadata": {
    "collapsed": false,
    "pycharm": {
     "name": "#%%\n"
    }
   }
  },
  {
   "cell_type": "code",
   "execution_count": 20,
   "outputs": [
    {
     "data": {
      "text/plain": "<Figure size 419.125x360 with 1 Axes>",
      "image/png": "[encoded data removed]"
     },
     "metadata": {},
     "output_type": "display_data"
    }
   ],
   "source": [
    "# We are going to plot density of startegy returns by Volatility\n",
    "dataframe['vol_den'] = \"Low\"\n",
    "dataframe.loc[dataframe['Volatility']>0.57, 'vol_den'] = \"High\"\n",
    "\n",
    "# Plot the density\n",
    "sns.displot(data=dataframe, x=\"RSI\", kind='kde', hue=\"vol_den\")\n",
    "# limit and plot the graph\n",
    "plt.xlim(-1.15,1.15)\n",
    "plt.show()"
   ],
   "metadata": {
    "collapsed": false,
    "pycharm": {
     "name": "#%%\n"
    }
   }
  },
  {
   "cell_type": "code",
   "execution_count": 21,
   "outputs": [
    {
     "data": {
      "text/plain": "<Figure size 419.125x360 with 1 Axes>",
      "image/png": "[encoded data removed]"
     },
     "metadata": {},
     "output_type": "display_data"
    }
   ],
   "source": [
    "# We are going to plot density of startegy returns by class of asset\n",
    "dataframe['beta_den'] = \"Low\"\n",
    "dataframe.loc[dataframe['Beta']>1, 'beta_den'] = \"High\"\n",
    "\n",
    "# Plot the density\n",
    "sns.displot(data=dataframe, x=\"RSI\", kind='kde', hue=\"beta_den\")\n",
    "# limit and plot the graph\n",
    "plt.xlim((-1.15,1.15))\n",
    "plt.show()"
   ],
   "metadata": {
    "collapsed": false,
    "pycharm": {
     "name": "#%%\n"
    }
   }
  },
  {
   "cell_type": "code",
   "execution_count": 23,
   "outputs": [],
   "source": [],
   "metadata": {
    "collapsed": false,
    "pycharm": {
     "name": "#%%\n"
    }
   }
  },
  {
   "cell_type": "code",
   "execution_count": 22,
   "outputs": [],
   "source": [],
   "metadata": {
    "collapsed": false,
    "pycharm": {
     "name": "#%%\n"
    }
   }
  }
 ],
 "metadata": {
  "interpreter": {
   "hash": "8f30a824af870028011f0a6b0fcefc355cd23e22cf652a45bd87478a8047d7a0"
  },
  "kernelspec": {
   "name": "pycharm-c97baf35",
   "language": "python",
   "display_name": "PyCharm (Py_Trade)"
  },
  "language_info": {
   "codemirror_mode": {
    "name": "ipython",
    "version": 3
   },
   "file_extension": ".py",
   "mimetype": "text/x-python",
   "name": "python",
   "nbconvert_exporter": "python",
   "pygments_lexer": "ipython3",
   "version": "3.8.12"
  }
 },
 "nbformat": 4,
 "nbformat_minor": 0
}