{
 "cells": [
  {
   "cell_type": "code",
   "execution_count": 4,
   "outputs": [],
   "source": [
    "import matplotlib as mpl\n",
    "import matplotlib.pyplot as plt\n",
    "\n",
    "from matplotlib import cycler\n",
    "colors = cycler('color',\n",
    "                ['#669FEE', '#66EE91', '#9988DD',\n",
    "                 '#EECC55', '#88BB44', '#FFBBBB'])\n",
    "plt.rc('figure', facecolor='#313233')\n",
    "plt.rc('axes', facecolor=\"#313233\", edgecolor='none',\n",
    "       axisbelow=True, grid=True, prop_cycle=colors,\n",
    "       labelcolor='gray')\n",
    "plt.rc('grid', color='474A4A', linestyle='solid')\n",
    "plt.rc('xtick', color='gray')\n",
    "plt.rc('ytick', direction='out', color='gray')\n",
    "plt.rc('legend', facecolor=\"#313233\", edgecolor=\"#313233\")\n",
    "plt.rc(\"text\", color=\"#C9C9C9\")\n",
    "plt.rc('figure', facecolor='#313233')\n",
    "import numpy as np\n",
    "import pandas as pd\n",
    "\n",
    "import yfinance as yf\n",
    "from hurst import compute_Hc\n",
    "import seaborn as sns\n",
    "\n",
    "import ta\n",
    "import warnings\n",
    "from tqdm import tqdm"
   ],
   "metadata": {
    "collapsed": false,
    "pycharm": {
     "name": "#%%\n"
    }
   }
  },
  {
   "cell_type": "code",
   "execution_count": 50,
   "metadata": {
    "collapsed": true
   },
   "outputs": [],
   "source": [
    "def RSI(val,neutral, window):\n",
    "  \"\"\"\n",
    "        ------------------------------------------------------------------------------\n",
    "        | Output: The function gives the returns of RSI strategy                     |\n",
    "        ------------------------------------------------------------------------------\n",
    "        | Inputs: -val (type dataframe pandas): Entry values of the stock            |\n",
    "        |         -neutral (float): Value of neutrality, i.e. no action zone         |\n",
    "        |         -window (float): rolling period for RSI                            |\n",
    "        ------------------------------------------------------------------------------\n",
    "  \"\"\"\n",
    "\n",
    "  # Print Error if there is no column Adj Close in the dataframe\n",
    "  if \"Adj Close\" not in val.columns:\n",
    "    ValueError(\"We need have a columns name Adj Close because all computation are about this column\")\n",
    "\n",
    "  val[\"rsi\"] = ta.momentum.RSIIndicator(val[\"Adj Close\"], window=window).rsi()\n",
    "\n",
    "\n",
    "\n",
    "  \"\"\" Long buy Signal \"\"\"\n",
    "  # We put threshold\n",
    "  overbuy = 70\n",
    "  neutral_buy = 50 + neutral\n",
    "\n",
    "  # Put nan values for the signal long columns\n",
    "  val[\"signal_long\"] = np.nan\n",
    "  val[\"yersteday_rsi\"] = val[\"rsi\"].shift(1)\n",
    "  # We need define the Open Long signal (RSI yersteday<55 and RSI today>55)\n",
    "  val.loc[(val[\"rsi\"]>neutral_buy) & (val[\"yersteday_rsi\"]<neutral_buy), \"signal_long\"] = 1\n",
    "\n",
    "  # We need define the Close Long signal (RSI yersteday>55 and RSI today<55) False signal\n",
    "  val.loc[(val[\"rsi\"]<neutral_buy)&(val[\"yersteday_rsi\"]>neutral_buy), \"signal_long\"] = 0\n",
    "\n",
    "  # We need define the Close Long signal (RSI yersteday>70 and RSI today<70) Over buy signal\n",
    "  val.loc[(val[\"rsi\"]<overbuy)&(val[\"yersteday_rsi\"]>overbuy), \"signal_long\"] = 0\n",
    "\n",
    "\n",
    "\n",
    "  \"\"\"Short sell signal \"\"\"\n",
    "  # We put threshold\n",
    "  oversell = 30\n",
    "  neutral_buy = 50 - neutral\n",
    "\n",
    "  # Put nan values for the signal short columns\n",
    "  val[\"signal_short\"] = np.nan\n",
    "  val[\"yersteday_rsi\"] = val[\"rsi\"].shift(1)\n",
    "  # We need define the Open Short signal (RSI yersteday>45 and RSI today<45)\n",
    "  val.loc[(val[\"rsi\"]<neutral_buy) & (val[\"yersteday_rsi\"]>neutral_buy), \"signal_short\"] = -1\n",
    "\n",
    "  # We need define the Close Short signal (RSI yersteday<45 and RSI today>45) False signal\n",
    "  val.loc[(val[\"rsi\"]>neutral_buy)&(val[\"yersteday_rsi\"]<neutral_buy), \"signal_short\"] = 0\n",
    "\n",
    "  # We need define the Close Short signal (RSI yersteday<30 and RSI today>30) Over sell signal\n",
    "  val.loc[(val[\"rsi\"]>oversell)&(val[\"yersteday_rsi\"]<oversell), \"signal_short\"] = 0\n",
    "\n",
    "\n",
    "  \"\"\" Compute the returns \"\"\"\n",
    "  # Compute the percentage of variation of the asset\n",
    "  val[\"pct\"] = val[\"Adj Close\"].pct_change(1)\n",
    "\n",
    "  # Compute the positions\n",
    "  val[\"Position\"] = (val[\"signal_short\"].fillna(method=\"ffill\")+ val[\"signal_long\"].fillna(method=\"ffill\"))\n",
    "\n",
    "  # Compute the return of the strategy\n",
    "  val[\"return\"] = val[\"pct\"]*(val[\"Position\"].shift(1))\n",
    "  return val[\"return\"]"
   ]
  },
  {
   "cell_type": "code",
   "execution_count": 14,
   "outputs": [
    {
     "name": "stdout",
     "output_type": "stream",
     "text": [
      "[*********************100%***********************]  1 of 1 completed\n"
     ]
    }
   ],
   "source": [
    "data = yf.download('GOOG')"
   ],
   "metadata": {
    "collapsed": false,
    "pycharm": {
     "name": "#%%\n"
    }
   }
  },
  {
   "cell_type": "code",
   "execution_count": 51,
   "outputs": [
    {
     "name": "stdout",
     "output_type": "stream",
     "text": [
      "45\n"
     ]
    },
    {
     "name": "stderr",
     "output_type": "stream",
     "text": [
      "C:\\Users\\ksmur\\AppData\\Local\\Temp/ipykernel_15348/261229309.py:1: FutureWarning: Indexing a DataFrame with a datetimelike index using a single string to slice the rows, like `frame[string]`, is deprecated and will be removed in a future version. Use `frame.loc[string]` instead.\n",
      "  RSI(data['2010'],5,14).dropna()\n",
      "C:\\Users\\ksmur\\AppData\\Local\\Temp/ipykernel_15348/4211405084.py:16: SettingWithCopyWarning: \n",
      "A value is trying to be set on a copy of a slice from a DataFrame.\n",
      "Try using .loc[row_indexer,col_indexer] = value instead\n",
      "\n",
      "See the caveats in the documentation: https://pandas.pydata.org/pandas-docs/stable/user_guide/indexing.html#returning-a-view-versus-a-copy\n",
      "  val[\"rsi\"] = ta.momentum.RSIIndicator(val[\"Adj Close\"], window=window).rsi()\n",
      "C:\\Users\\ksmur\\AppData\\Local\\Temp/ipykernel_15348/4211405084.py:26: SettingWithCopyWarning: \n",
      "A value is trying to be set on a copy of a slice from a DataFrame.\n",
      "Try using .loc[row_indexer,col_indexer] = value instead\n",
      "\n",
      "See the caveats in the documentation: https://pandas.pydata.org/pandas-docs/stable/user_guide/indexing.html#returning-a-view-versus-a-copy\n",
      "  val[\"signal_long\"] = np.nan\n",
      "C:\\Users\\ksmur\\AppData\\Local\\Temp/ipykernel_15348/4211405084.py:27: SettingWithCopyWarning: \n",
      "A value is trying to be set on a copy of a slice from a DataFrame.\n",
      "Try using .loc[row_indexer,col_indexer] = value instead\n",
      "\n",
      "See the caveats in the documentation: https://pandas.pydata.org/pandas-docs/stable/user_guide/indexing.html#returning-a-view-versus-a-copy\n",
      "  val[\"yersteday_rsi\"] = val[\"rsi\"].shift(1)\n",
      "C:\\ProgramData\\Anaconda3\\envs\\Py_Trade\\lib\\site-packages\\pandas\\core\\indexing.py:1817: SettingWithCopyWarning: \n",
      "A value is trying to be set on a copy of a slice from a DataFrame.\n",
      "Try using .loc[row_indexer,col_indexer] = value instead\n",
      "\n",
      "See the caveats in the documentation: https://pandas.pydata.org/pandas-docs/stable/user_guide/indexing.html#returning-a-view-versus-a-copy\n",
      "  self._setitem_single_column(loc, value, pi)\n",
      "C:\\Users\\ksmur\\AppData\\Local\\Temp/ipykernel_15348/4211405084.py:45: SettingWithCopyWarning: \n",
      "A value is trying to be set on a copy of a slice from a DataFrame.\n",
      "Try using .loc[row_indexer,col_indexer] = value instead\n",
      "\n",
      "See the caveats in the documentation: https://pandas.pydata.org/pandas-docs/stable/user_guide/indexing.html#returning-a-view-versus-a-copy\n",
      "  val[\"signal_short\"] = np.nan\n",
      "C:\\Users\\ksmur\\AppData\\Local\\Temp/ipykernel_15348/4211405084.py:46: SettingWithCopyWarning: \n",
      "A value is trying to be set on a copy of a slice from a DataFrame.\n",
      "Try using .loc[row_indexer,col_indexer] = value instead\n",
      "\n",
      "See the caveats in the documentation: https://pandas.pydata.org/pandas-docs/stable/user_guide/indexing.html#returning-a-view-versus-a-copy\n",
      "  val[\"yersteday_rsi\"] = val[\"rsi\"].shift(1)\n",
      "C:\\Users\\ksmur\\AppData\\Local\\Temp/ipykernel_15348/4211405084.py:59: SettingWithCopyWarning: \n",
      "A value is trying to be set on a copy of a slice from a DataFrame.\n",
      "Try using .loc[row_indexer,col_indexer] = value instead\n",
      "\n",
      "See the caveats in the documentation: https://pandas.pydata.org/pandas-docs/stable/user_guide/indexing.html#returning-a-view-versus-a-copy\n",
      "  val[\"pct\"] = val[\"Adj Close\"].pct_change(1)\n",
      "C:\\Users\\ksmur\\AppData\\Local\\Temp/ipykernel_15348/4211405084.py:62: SettingWithCopyWarning: \n",
      "A value is trying to be set on a copy of a slice from a DataFrame.\n",
      "Try using .loc[row_indexer,col_indexer] = value instead\n",
      "\n",
      "See the caveats in the documentation: https://pandas.pydata.org/pandas-docs/stable/user_guide/indexing.html#returning-a-view-versus-a-copy\n",
      "  val[\"Position\"] = (val[\"signal_short\"].fillna(method=\"ffill\")+ val[\"signal_long\"].fillna(method=\"ffill\"))\n",
      "C:\\Users\\ksmur\\AppData\\Local\\Temp/ipykernel_15348/4211405084.py:65: SettingWithCopyWarning: \n",
      "A value is trying to be set on a copy of a slice from a DataFrame.\n",
      "Try using .loc[row_indexer,col_indexer] = value instead\n",
      "\n",
      "See the caveats in the documentation: https://pandas.pydata.org/pandas-docs/stable/user_guide/indexing.html#returning-a-view-versus-a-copy\n",
      "  val[\"return\"] = val[\"pct\"]*(val[\"Position\"].shift(1))\n"
     ]
    },
    {
     "data": {
      "text/plain": "Date\n2010-03-05    0.017346\n2010-03-08   -0.003066\n2010-03-09   -0.004071\n2010-03-10    0.029026\n2010-03-11    0.008136\n                ...   \n2010-12-27   -0.003062\n2010-12-28   -0.005744\n2010-12-29    0.003473\n2010-12-30   -0.003561\n2010-12-31   -0.000000\nName: return, Length: 210, dtype: float64"
     },
     "execution_count": 51,
     "metadata": {},
     "output_type": "execute_result"
    }
   ],
   "source": [
    "RSI(data['2010'],5,14).dropna()"
   ],
   "metadata": {
    "collapsed": false,
    "pycharm": {
     "name": "#%%\n"
    }
   }
  },
  {
   "cell_type": "code",
   "execution_count": 19,
   "outputs": [],
   "source": [
    "def beta_function(serie):\n",
    "\n",
    "  # Get SP500 data\n",
    "  sp500 = yf.download(\"^GSPC\")[[\"Adj Close\"]].pct_change(1)\n",
    "\n",
    "  # Change column name\n",
    "  sp500.columns = [\"SP500\"]\n",
    "\n",
    "  # Concatenate\n",
    "  g = pd.concat((serie,sp500), axis=1)\n",
    "\n",
    "  # Compute the beta\n",
    "  beta = np.cov(g[[serie.name, \"SP500\"]].dropna().values,rowvar=False)[0][1] / np.var(g[\"SP500\"].dropna().values)\n",
    "  return beta"
   ],
   "metadata": {
    "collapsed": false,
    "pycharm": {
     "name": "#%%\n"
    }
   }
  },
  {
   "cell_type": "code",
   "execution_count": 20,
   "outputs": [],
   "source": [
    "def drawdown_function(serie):\n",
    "\n",
    "  # We compute Cumsum of the returns\n",
    "  cum = serie.dropna().cumsum()+1\n",
    "\n",
    "  # We compute max of the cumsum on the period (accumulate max)\n",
    "  running_max = np.maximum.accumulate(cum)\n",
    "\n",
    "  # We compute drawdown\n",
    "  drawdown  = cum/running_max - 1\n",
    "  return drawdown"
   ],
   "metadata": {
    "collapsed": false,
    "pycharm": {
     "name": "#%%\n"
    }
   }
  },
  {
   "cell_type": "code",
   "execution_count": 40,
   "outputs": [],
   "source": [
    "def BackTest(serie):\n",
    "\n",
    "  # Import the benchmark\n",
    "  sp500 = yf.download(\"^GSPC\")[\"Adj Close\"].pct_change(1)\n",
    "  print(sp500.head(),serie.dropna().head())\n",
    "  # Change the name\n",
    "  sp500.name = \"SP500\"\n",
    "\n",
    "  # Concat the returns and the sp500\n",
    "  val = pd.concat((serie,sp500), axis=1).dropna()\n",
    "\n",
    "  # Compute the drawdown\n",
    "  drawdown = drawdown_function(serie)\n",
    "\n",
    "  # Compute max drawdown\n",
    "  max_drawdown = -np.min(drawdown)\n",
    "\n",
    "\n",
    "\n",
    "\n",
    "  # Put a subplots\n",
    "  fig, (cum, dra) = plt.subplots(1,2, figsize=(15,6))\n",
    "\n",
    "  # Put a Suptitle\n",
    "  fig.suptitle(\"Backtesting\", size=20)\n",
    "\n",
    "  # Returns cumsum chart\n",
    "  cum.plot(serie.cumsum(), color=\"#39B3C7\")\n",
    "\n",
    "  # SP500 cumsum chart\n",
    "  cum.plot(val[\"SP500\"].cumsum(), color=\"#B85A0F\")\n",
    "\n",
    "  # Put a legend\n",
    "  cum.legend([\"Portfolio\", \"SP500\"])\n",
    "\n",
    "  # Set individual title\n",
    "  cum.set_title(\"Cumulative Return\", size=13)\n",
    "\n",
    "  # Put the drawdown\n",
    "  dra.fill_between(drawdown.index,0,drawdown, color=\"#C73954\", alpha=0.65)\n",
    "\n",
    "  # Set individual title\n",
    "  dra.set_title(\"Drawdown\", size=13)\n",
    "\n",
    "  # Plot the graph\n",
    "  plt.show()\n",
    "\n",
    "\n",
    "\n",
    "\n",
    "  # Compute the sortino\n",
    "  sortino = np.sqrt(252) * serie.mean()/serie.loc[serie<0].std()\n",
    "\n",
    "  # Compute the beta\n",
    "  # beta = np.cov(val[[\"return\", \"SP500\"]].values,rowvar=False)[0][1] / np.var(val[\"SP500\"].values)\n",
    "  beta = beta_function(serie)\n",
    "  print(serie)\n",
    "  # Compute the alpha\n",
    "  alpha = 252*serie.mean() - 252*beta*serie.mean()\n",
    "\n",
    "  # Print the statistics\n",
    "  print(f\"Sortino: {np.round(sortino,3)}\")\n",
    "  print(f\"Beta: {np.round(beta,3)}\")\n",
    "  print(f\"Alpha: {np.round(alpha,3)}\")\n",
    "  print(f\"MaxDrawdown: {np.round(max_drawdown*100,3)} %\")"
   ],
   "metadata": {
    "collapsed": false,
    "pycharm": {
     "name": "#%%\n"
    }
   }
  },
  {
   "cell_type": "code",
   "execution_count": 48,
   "outputs": [
    {
     "data": {
      "text/plain": "Date\n2004-08-31   -0.003529\n2004-09-01    0.020709\n2004-09-02   -0.012569\n2004-09-03   -0.000000\n2004-09-07    0.000000\n                ...   \n2022-01-03   -0.002730\n2022-01-04   -0.000000\n2022-01-05   -0.000000\n2022-01-06   -0.000000\n2022-01-07   -0.000000\nName: return, Length: 4371, dtype: float64"
     },
     "execution_count": 48,
     "metadata": {},
     "output_type": "execute_result"
    }
   ],
   "source": [
    "RSI(data,10,3).dropna()"
   ],
   "metadata": {
    "collapsed": false,
    "pycharm": {
     "name": "#%%\n"
    }
   }
  },
  {
   "cell_type": "code",
   "execution_count": 49,
   "outputs": [
    {
     "name": "stdout",
     "output_type": "stream",
     "text": [
      "[*********************100%***********************]  1 of 1 completed\n",
      "Date\n",
      "1950-01-03         NaN\n",
      "1950-01-04    0.011405\n",
      "1950-01-05    0.004748\n",
      "1950-01-06    0.002953\n",
      "1950-01-09    0.005889\n",
      "Name: Adj Close, dtype: float64 Date\n",
      "2004-08-31   -0.003529\n",
      "2004-09-01    0.020709\n",
      "2004-09-02   -0.012569\n",
      "2004-09-03   -0.000000\n",
      "2004-09-07    0.000000\n",
      "Name: return, dtype: float64\n"
     ]
    },
    {
     "data": {
      "text/plain": "<Figure size 1080x432 with 2 Axes>",
      "image/png": "[encoded data removed]"
     },
     "metadata": {},
     "output_type": "display_data"
    },
    {
     "name": "stdout",
     "output_type": "stream",
     "text": [
      "[*********************100%***********************]  1 of 1 completed\n",
      "Date\n",
      "2004-08-19        NaN\n",
      "2004-08-20        NaN\n",
      "2004-08-23        NaN\n",
      "2004-08-24        NaN\n",
      "2004-08-25        NaN\n",
      "               ...   \n",
      "2022-01-03   -0.00273\n",
      "2022-01-04   -0.00000\n",
      "2022-01-05   -0.00000\n",
      "2022-01-06   -0.00000\n",
      "2022-01-07   -0.00000\n",
      "Name: return, Length: 4379, dtype: float64\n",
      "Sortino: 0.148\n",
      "Beta: -0.318\n",
      "Alpha: 0.048\n",
      "MaxDrawdown: 42.03 %\n"
     ]
    }
   ],
   "source": [
    "BackTest(RSI(data,10,3))"
   ],
   "metadata": {
    "collapsed": false,
    "pycharm": {
     "name": "#%%\n"
    }
   }
  },
  {
   "cell_type": "code",
   "execution_count": null,
   "outputs": [],
   "source": [],
   "metadata": {
    "collapsed": false,
    "pycharm": {
     "name": "#%%\n"
    }
   }
  }
 ],
 "metadata": {
  "kernelspec": {
   "display_name": "Python 3",
   "language": "python",
   "name": "python3"
  },
  "language_info": {
   "codemirror_mode": {
    "name": "ipython",
    "version": 2
   },
   "file_extension": ".py",
   "mimetype": "text/x-python",
   "name": "python",
   "nbconvert_exporter": "python",
   "pygments_lexer": "ipython2",
   "version": "2.7.6"
  }
 },
 "nbformat": 4,
 "nbformat_minor": 0
}